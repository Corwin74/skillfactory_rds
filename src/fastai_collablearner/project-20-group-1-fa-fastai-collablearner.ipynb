{
 "cells": [
  {
   "cell_type": "markdown",
   "execution_count": null,
   "metadata": {
    "papermill": {
     "duration": 0.00712,
     "end_time": "2020-09-08T18:09:02.708270",
     "exception": false,
     "start_time": "2020-09-08T18:09:02.701150",
     "status": "completed"
    },
    "tags": []
   },
   "source": [
    "# Рекомендательная система с использованием collab learner от fast.ai"
   ]
  },
  {
   "cell_type": "markdown",
   "execution_count": null,
   "metadata": {
    "papermill": {
     "duration": 0.005365,
     "end_time": "2020-09-08T18:09:02.719318",
     "exception": false,
     "start_time": "2020-09-08T18:09:02.713953",
     "status": "completed"
    },
    "tags": []
   },
   "source": [
    "Потренируемся работать с библиотекой грубокого обучения fast.ai. Перед запуском ноутбука рекомендуется подключить gpu для увеличения скорости обучения."
   ]
  },
  {
   "cell_type": "markdown",
   "execution_count": null,
   "metadata": {
    "papermill": {
     "duration": 0.005453,
     "end_time": "2020-09-08T18:09:02.730747",
     "exception": false,
     "start_time": "2020-09-08T18:09:02.725294",
     "status": "completed"
    },
    "tags": []
   },
   "source": [
    "Основной ноутбук с EDA и LightFM: https://www.kaggle.com/fedorazarov/project-20-group-1-fa"
   ]
  },
  {
   "cell_type": "markdown",
   "execution_count": null,
   "metadata": {
    "papermill": {
     "duration": 0.006942,
     "end_time": "2020-09-08T18:09:02.743623",
     "exception": false,
     "start_time": "2020-09-08T18:09:02.736681",
     "status": "completed"
    },
    "tags": []
   },
   "source": [
    "Подготовка данных"
   ]
  },
  {
   "cell_type": "code",
   "execution_count": 1,
   "metadata": {
    "_cell_guid": "b1076dfc-b9ad-4769-8c92-a6c4dae69d19",
    "_uuid": "8f2839f25d086af736a60e9eeb907d3b93b6e0e5",
    "execution": {
     "iopub.execute_input": "2020-09-08T18:09:02.764220Z",
     "iopub.status.busy": "2020-09-08T18:09:02.763487Z",
     "iopub.status.idle": "2020-09-08T18:09:11.393790Z",
     "shell.execute_reply": "2020-09-08T18:09:11.394871Z"
    },
    "papermill": {
     "duration": 8.645907,
     "end_time": "2020-09-08T18:09:11.395093",
     "exception": false,
     "start_time": "2020-09-08T18:09:02.749186",
     "status": "completed"
    },
    "tags": []
   },
   "outputs": [
    {
     "name": "stdout",
     "output_type": "stream",
     "text": [
      "/kaggle/input/recommendationsv4/train.csv\n",
      "/kaggle/input/recommendationsv4/test.csv\n",
      "/kaggle/input/recommendationsv4/meta_Grocery_and_Gourmet_Food.json\n",
      "/kaggle/input/recommendationsv4/sample_submission.csv\n"
     ]
    },
    {
     "name": "stderr",
     "output_type": "stream",
     "text": [
      "/opt/conda/lib/python3.7/site-packages/IPython/core/interactiveshell.py:3063: DtypeWarning: Columns (8) have mixed types.Specify dtype option on import or set low_memory=False.\n",
      "  interactivity=interactivity, compiler=compiler, result=result)\n",
      "/opt/conda/lib/python3.7/site-packages/IPython/core/interactiveshell.py:3063: DtypeWarning: Columns (5) have mixed types.Specify dtype option on import or set low_memory=False.\n",
      "  interactivity=interactivity, compiler=compiler, result=result)\n"
     ]
    }
   ],
   "source": [
    "import numpy as np\n",
    "import pandas as pd\n",
    "\n",
    "from fastai.tabular import *\n",
    "from fastai.collab import *\n",
    "\n",
    "import os\n",
    "for dirname, _, filenames in os.walk('/kaggle/input'):\n",
    "    for filename in filenames:\n",
    "        print(os.path.join(dirname, filename))\n",
    "\n",
    "# Загружаем датасеты\n",
    "data_reduced = pd.read_csv('/kaggle/input/recommendationsv4/train.csv')\n",
    "data_reduced = data_reduced[['userid','itemid','rating']]\n",
    "data_reduced.columns = ['user_id','item_id','rating']\n",
    "# Удалим дубликаты из тренировочного датасета\n",
    "data_reduced.drop_duplicates(inplace = True)\n",
    "\n",
    "test_data = pd.read_csv('/kaggle/input/recommendationsv4/test.csv')\n",
    "test_data = test_data[['userid', 'itemid']]\n",
    "test_data.columns = ['user_id','item_id']\n",
    "\n",
    "submission = pd.read_csv('/kaggle/input/recommendationsv4/sample_submission.csv')\n",
    "\n"
   ]
  },
  {
   "cell_type": "code",
   "execution_count": 2,
   "metadata": {
    "execution": {
     "iopub.execute_input": "2020-09-08T18:09:11.422343Z",
     "iopub.status.busy": "2020-09-08T18:09:11.421284Z",
     "iopub.status.idle": "2020-09-08T18:09:17.512492Z",
     "shell.execute_reply": "2020-09-08T18:09:17.512972Z"
    },
    "papermill": {
     "duration": 6.10883,
     "end_time": "2020-09-08T18:09:17.513114",
     "exception": false,
     "start_time": "2020-09-08T18:09:11.404284",
     "status": "completed"
    },
    "tags": []
   },
   "outputs": [
    {
     "data": {
      "text/html": [
       "<table border=\"1\" class=\"dataframe\">\n",
       "  <thead>\n",
       "    <tr style=\"text-align: right;\">\n",
       "      <th>user_id</th>\n",
       "      <th>item_id</th>\n",
       "      <th>target</th>\n",
       "    </tr>\n",
       "  </thead>\n",
       "  <tbody>\n",
       "    <tr>\n",
       "      <td>30417</td>\n",
       "      <td>39281</td>\n",
       "      <td>1.0</td>\n",
       "    </tr>\n",
       "    <tr>\n",
       "      <td>70600</td>\n",
       "      <td>8217</td>\n",
       "      <td>1.0</td>\n",
       "    </tr>\n",
       "    <tr>\n",
       "      <td>56076</td>\n",
       "      <td>22677</td>\n",
       "      <td>1.0</td>\n",
       "    </tr>\n",
       "    <tr>\n",
       "      <td>14065</td>\n",
       "      <td>5568</td>\n",
       "      <td>1.0</td>\n",
       "    </tr>\n",
       "    <tr>\n",
       "      <td>74725</td>\n",
       "      <td>4278</td>\n",
       "      <td>1.0</td>\n",
       "    </tr>\n",
       "  </tbody>\n",
       "</table>"
      ],
      "text/plain": [
       "<IPython.core.display.HTML object>"
      ]
     },
     "metadata": {},
     "output_type": "display_data"
    }
   ],
   "source": [
    "data_collab = CollabDataBunch.from_df(\n",
    "    data_reduced,\n",
    "    seed=42,\n",
    "    user_name='user_id',\n",
    "    item_name='item_id',\n",
    "    rating_name='rating',\n",
    "    )\n",
    "data_collab.show_batch()"
   ]
  },
  {
   "cell_type": "code",
   "execution_count": 3,
   "metadata": {
    "execution": {
     "iopub.execute_input": "2020-09-08T18:09:17.530607Z",
     "iopub.status.busy": "2020-09-08T18:09:17.529895Z",
     "iopub.status.idle": "2020-09-08T18:09:17.759440Z",
     "shell.execute_reply": "2020-09-08T18:09:17.758827Z"
    },
    "papermill": {
     "duration": 0.239944,
     "end_time": "2020-09-08T18:09:17.759562",
     "exception": false,
     "start_time": "2020-09-08T18:09:17.519618",
     "status": "completed"
    },
    "tags": []
   },
   "outputs": [],
   "source": [
    "learn = collab_learner(data_collab, n_factors=50, y_range=(0, 1), wd=1e-2)"
   ]
  },
  {
   "cell_type": "markdown",
   "execution_count": null,
   "metadata": {
    "papermill": {
     "duration": 0.005977,
     "end_time": "2020-09-08T18:09:17.772341",
     "exception": false,
     "start_time": "2020-09-08T18:09:17.766364",
     "status": "completed"
    },
    "tags": []
   },
   "source": [
    "Подберем learning rate"
   ]
  },
  {
   "cell_type": "code",
   "execution_count": 4,
   "metadata": {
    "execution": {
     "iopub.execute_input": "2020-09-08T18:09:17.790023Z",
     "iopub.status.busy": "2020-09-08T18:09:17.789374Z",
     "iopub.status.idle": "2020-09-08T18:09:18.899584Z",
     "shell.execute_reply": "2020-09-08T18:09:18.900274Z"
    },
    "papermill": {
     "duration": 1.12193,
     "end_time": "2020-09-08T18:09:18.900456",
     "exception": false,
     "start_time": "2020-09-08T18:09:17.778526",
     "status": "completed"
    },
    "tags": []
   },
   "outputs": [
    {
     "data": {
      "text/html": [
       "\n",
       "    <div>\n",
       "        <style>\n",
       "            /* Turns off some styling */\n",
       "            progress {\n",
       "                /* gets rid of default border in Firefox and Opera. */\n",
       "                border: none;\n",
       "                /* Needs to be in here for Safari polyfill so background images work as expected. */\n",
       "                background-size: auto;\n",
       "            }\n",
       "            .progress-bar-interrupted, .progress-bar-interrupted::-webkit-progress-bar {\n",
       "                background: #F44336;\n",
       "            }\n",
       "        </style>\n",
       "      <progress value='0' class='' max='1' style='width:300px; height:20px; vertical-align: middle;'></progress>\n",
       "      0.00% [0/1 00:00<00:00]\n",
       "    </div>\n",
       "    \n",
       "<table border=\"1\" class=\"dataframe\">\n",
       "  <thead>\n",
       "    <tr style=\"text-align: left;\">\n",
       "      <th>epoch</th>\n",
       "      <th>train_loss</th>\n",
       "      <th>valid_loss</th>\n",
       "      <th>time</th>\n",
       "    </tr>\n",
       "  </thead>\n",
       "  <tbody>\n",
       "  </tbody>\n",
       "</table><p>\n",
       "\n",
       "    <div>\n",
       "        <style>\n",
       "            /* Turns off some styling */\n",
       "            progress {\n",
       "                /* gets rid of default border in Firefox and Opera. */\n",
       "                border: none;\n",
       "                /* Needs to be in here for Safari polyfill so background images work as expected. */\n",
       "                background-size: auto;\n",
       "            }\n",
       "            .progress-bar-interrupted, .progress-bar-interrupted::-webkit-progress-bar {\n",
       "                background: #F44336;\n",
       "            }\n",
       "        </style>\n",
       "      <progress value='87' class='' max='10176' style='width:300px; height:20px; vertical-align: middle;'></progress>\n",
       "      0.85% [87/10176 00:00<01:37 0.2471]\n",
       "    </div>\n",
       "    "
      ],
      "text/plain": [
       "<IPython.core.display.HTML object>"
      ]
     },
     "metadata": {},
     "output_type": "display_data"
    },
    {
     "name": "stdout",
     "output_type": "stream",
     "text": [
      "LR Finder is complete, type {learner_name}.recorder.plot() to see the graph.\n"
     ]
    }
   ],
   "source": [
    "learn.lr_find()"
   ]
  },
  {
   "cell_type": "code",
   "execution_count": 5,
   "metadata": {
    "execution": {
     "iopub.execute_input": "2020-09-08T18:09:18.918703Z",
     "iopub.status.busy": "2020-09-08T18:09:18.918028Z",
     "iopub.status.idle": "2020-09-08T18:09:19.418200Z",
     "shell.execute_reply": "2020-09-08T18:09:19.418824Z"
    },
    "papermill": {
     "duration": 0.511225,
     "end_time": "2020-09-08T18:09:19.418975",
     "exception": false,
     "start_time": "2020-09-08T18:09:18.907750",
     "status": "completed"
    },
    "tags": []
   },
   "outputs": [
    {
     "data": {
      "image/png": "[encoded data removed]",
      "text/plain": [
       "<Figure size 432x288 with 1 Axes>"
      ]
     },
     "metadata": {
      "needs_background": "light"
     },
     "output_type": "display_data"
    }
   ],
   "source": [
    "learn.recorder.plot()"
   ]
  },
  {
   "cell_type": "markdown",
   "execution_count": null,
   "metadata": {
    "papermill": {
     "duration": 0.007243,
     "end_time": "2020-09-08T18:09:19.433749",
     "exception": false,
     "start_time": "2020-09-08T18:09:19.426506",
     "status": "completed"
    },
    "tags": []
   },
   "source": [
    "Обучим модель"
   ]
  },
  {
   "cell_type": "code",
   "execution_count": 6,
   "metadata": {
    "execution": {
     "iopub.execute_input": "2020-09-08T18:09:19.456318Z",
     "iopub.status.busy": "2020-09-08T18:09:19.454448Z",
     "iopub.status.idle": "2020-09-08T18:17:08.625762Z",
     "shell.execute_reply": "2020-09-08T18:17:08.626869Z"
    },
    "papermill": {
     "duration": 469.185374,
     "end_time": "2020-09-08T18:17:08.627084",
     "exception": false,
     "start_time": "2020-09-08T18:09:19.441710",
     "status": "completed"
    },
    "tags": []
   },
   "outputs": [
    {
     "data": {
      "text/html": [
       "<table border=\"1\" class=\"dataframe\">\n",
       "  <thead>\n",
       "    <tr style=\"text-align: left;\">\n",
       "      <th>epoch</th>\n",
       "      <th>train_loss</th>\n",
       "      <th>valid_loss</th>\n",
       "      <th>time</th>\n",
       "    </tr>\n",
       "  </thead>\n",
       "  <tbody>\n",
       "    <tr>\n",
       "      <td>0</td>\n",
       "      <td>0.149332</td>\n",
       "      <td>0.151160</td>\n",
       "      <td>01:33</td>\n",
       "    </tr>\n",
       "    <tr>\n",
       "      <td>1</td>\n",
       "      <td>0.115654</td>\n",
       "      <td>0.126323</td>\n",
       "      <td>01:33</td>\n",
       "    </tr>\n",
       "    <tr>\n",
       "      <td>2</td>\n",
       "      <td>0.081994</td>\n",
       "      <td>0.126440</td>\n",
       "      <td>01:33</td>\n",
       "    </tr>\n",
       "    <tr>\n",
       "      <td>3</td>\n",
       "      <td>0.048011</td>\n",
       "      <td>0.128336</td>\n",
       "      <td>01:34</td>\n",
       "    </tr>\n",
       "    <tr>\n",
       "      <td>4</td>\n",
       "      <td>0.030411</td>\n",
       "      <td>0.128912</td>\n",
       "      <td>01:33</td>\n",
       "    </tr>\n",
       "  </tbody>\n",
       "</table>"
      ],
      "text/plain": [
       "<IPython.core.display.HTML object>"
      ]
     },
     "metadata": {},
     "output_type": "display_data"
    }
   ],
   "source": [
    "learn.fit_one_cycle(5, 1e-2)"
   ]
  },
  {
   "cell_type": "markdown",
   "execution_count": null,
   "metadata": {
    "papermill": {
     "duration": 0.012658,
     "end_time": "2020-09-08T18:17:08.651382",
     "exception": false,
     "start_time": "2020-09-08T18:17:08.638724",
     "status": "completed"
    },
    "tags": []
   },
   "source": [
    "Сохраним модель"
   ]
  },
  {
   "cell_type": "code",
   "execution_count": 7,
   "metadata": {
    "execution": {
     "iopub.execute_input": "2020-09-08T18:17:08.680302Z",
     "iopub.status.busy": "2020-09-08T18:17:08.679379Z",
     "iopub.status.idle": "2020-09-08T18:17:08.824971Z",
     "shell.execute_reply": "2020-09-08T18:17:08.826150Z"
    },
    "papermill": {
     "duration": 0.165092,
     "end_time": "2020-09-08T18:17:08.826386",
     "exception": false,
     "start_time": "2020-09-08T18:17:08.661294",
     "status": "completed"
    },
    "tags": []
   },
   "outputs": [
    {
     "data": {
      "text/plain": [
       "PosixPath('models/trained_model.pth')"
      ]
     },
     "execution_count": 7,
     "metadata": {},
     "output_type": "execute_result"
    }
   ],
   "source": [
    "learn.save(\"trained_model\", return_path=True)"
   ]
  },
  {
   "cell_type": "markdown",
   "execution_count": null,
   "metadata": {
    "papermill": {
     "duration": 0.010081,
     "end_time": "2020-09-08T18:17:08.848202",
     "exception": false,
     "start_time": "2020-09-08T18:17:08.838121",
     "status": "completed"
    },
    "tags": []
   },
   "source": [
    "Укажем тестовый датасет"
   ]
  },
  {
   "cell_type": "code",
   "execution_count": 8,
   "metadata": {
    "execution": {
     "iopub.execute_input": "2020-09-08T18:17:08.882409Z",
     "iopub.status.busy": "2020-09-08T18:17:08.881458Z",
     "iopub.status.idle": "2020-09-08T18:17:10.890740Z",
     "shell.execute_reply": "2020-09-08T18:17:10.889785Z"
    },
    "papermill": {
     "duration": 2.032649,
     "end_time": "2020-09-08T18:17:10.890865",
     "exception": false,
     "start_time": "2020-09-08T18:17:08.858216",
     "status": "completed"
    },
    "tags": []
   },
   "outputs": [],
   "source": [
    "data_collab = CollabDataBunch.from_df(data_reduced, test=test_data, seed=42, valid_pct=0.2, user_name='user_id', item_name='item_id', rating_name='rating')\n",
    "learn = collab_learner(data_collab, n_factors=50, y_range=(0, 1), wd=1e-2)"
   ]
  },
  {
   "cell_type": "markdown",
   "execution_count": null,
   "metadata": {
    "papermill": {
     "duration": 0.007101,
     "end_time": "2020-09-08T18:17:10.906644",
     "exception": false,
     "start_time": "2020-09-08T18:17:10.899543",
     "status": "completed"
    },
    "tags": []
   },
   "source": [
    "Загрузим ранее сохраненную модель"
   ]
  },
  {
   "cell_type": "code",
   "execution_count": 9,
   "metadata": {
    "execution": {
     "iopub.execute_input": "2020-09-08T18:17:10.929394Z",
     "iopub.status.busy": "2020-09-08T18:17:10.928355Z",
     "iopub.status.idle": "2020-09-08T18:17:11.082228Z",
     "shell.execute_reply": "2020-09-08T18:17:11.081130Z"
    },
    "papermill": {
     "duration": 0.168514,
     "end_time": "2020-09-08T18:17:11.082359",
     "exception": false,
     "start_time": "2020-09-08T18:17:10.913845",
     "status": "completed"
    },
    "tags": []
   },
   "outputs": [],
   "source": [
    "learn_loaded = learn.load(Path('trained_model'))"
   ]
  },
  {
   "cell_type": "markdown",
   "execution_count": null,
   "metadata": {
    "papermill": {
     "duration": 0.008021,
     "end_time": "2020-09-08T18:17:11.099123",
     "exception": false,
     "start_time": "2020-09-08T18:17:11.091102",
     "status": "completed"
    },
    "tags": []
   },
   "source": [
    "Получим предсказания"
   ]
  },
  {
   "cell_type": "code",
   "execution_count": 10,
   "metadata": {
    "execution": {
     "iopub.execute_input": "2020-09-08T18:17:11.121337Z",
     "iopub.status.busy": "2020-09-08T18:17:11.119205Z",
     "iopub.status.idle": "2020-09-08T18:17:35.669330Z",
     "shell.execute_reply": "2020-09-08T18:17:35.668767Z"
    },
    "papermill": {
     "duration": 24.56274,
     "end_time": "2020-09-08T18:17:35.669460",
     "exception": false,
     "start_time": "2020-09-08T18:17:11.106720",
     "status": "completed"
    },
    "tags": []
   },
   "outputs": [
    {
     "data": {
      "text/html": [],
      "text/plain": [
       "<IPython.core.display.HTML object>"
      ]
     },
     "metadata": {},
     "output_type": "display_data"
    }
   ],
   "source": [
    "preds, y = learn_loaded.get_preds(DatasetType.Test)"
   ]
  },
  {
   "cell_type": "code",
   "execution_count": 11,
   "metadata": {
    "execution": {
     "iopub.execute_input": "2020-09-08T18:17:35.691164Z",
     "iopub.status.busy": "2020-09-08T18:17:35.690545Z",
     "iopub.status.idle": "2020-09-08T18:17:36.695717Z",
     "shell.execute_reply": "2020-09-08T18:17:36.694637Z"
    },
    "papermill": {
     "duration": 1.018395,
     "end_time": "2020-09-08T18:17:36.695844",
     "exception": false,
     "start_time": "2020-09-08T18:17:35.677449",
     "status": "completed"
    },
    "tags": []
   },
   "outputs": [],
   "source": [
    "submission['rating']= preds\n",
    "submission.to_csv('submission_fastai.csv', index=False)"
   ]
  },
  {
   "cell_type": "code",
   "execution_count": 12,
   "metadata": {
    "execution": {
     "iopub.execute_input": "2020-09-08T18:17:36.717463Z",
     "iopub.status.busy": "2020-09-08T18:17:36.715309Z",
     "iopub.status.idle": "2020-09-08T18:17:36.720628Z",
     "shell.execute_reply": "2020-09-08T18:17:36.721134Z"
    },
    "papermill": {
     "duration": 0.017644,
     "end_time": "2020-09-08T18:17:36.721275",
     "exception": false,
     "start_time": "2020-09-08T18:17:36.703631",
     "status": "completed"
    },
    "tags": []
   },
   "outputs": [
    {
     "data": {
      "text/plain": [
       "0.8381931185722351"
      ]
     },
     "execution_count": 12,
     "metadata": {},
     "output_type": "execute_result"
    }
   ],
   "source": [
    "submission['rating'].mean()"
   ]
  },
  {
   "cell_type": "markdown",
   "execution_count": null,
   "metadata": {
    "papermill": {
     "duration": 0.007264,
     "end_time": "2020-09-08T18:17:36.736652",
     "exception": false,
     "start_time": "2020-09-08T18:17:36.729388",
     "status": "completed"
    },
    "tags": []
   },
   "source": [
    "В результате получили результат 0.73 на лидерборде, что близко к базовому решению."
   ]
  }
 ],
 "metadata": {
  "kernelspec": {
   "display_name": "Python 3",
   "language": "python",
   "name": "python3"
  },
  "language_info": {
   "codemirror_mode": {
    "name": "ipython",
    "version": 3
   },
   "file_extension": ".py",
   "mimetype": "text/x-python",
   "name": "python",
   "nbconvert_exporter": "python",
   "pygments_lexer": "ipython3",
   "version": "3.7.6"
  },
  "papermill": {
   "duration": 518.636152,
   "end_time": "2020-09-08T18:17:37.151509",
   "environment_variables": {},
   "exception": null,
   "input_path": "__notebook__.ipynb",
   "output_path": "__notebook__.ipynb",
   "parameters": {},
   "start_time": "2020-09-08T18:08:58.515357",
   "version": "2.1.0"
  }
 },
 "nbformat": 4,
 "nbformat_minor": 4
}
