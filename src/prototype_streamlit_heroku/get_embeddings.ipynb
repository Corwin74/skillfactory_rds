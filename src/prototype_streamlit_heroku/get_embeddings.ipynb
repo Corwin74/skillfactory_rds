{
 "cells": [
  {
   "cell_type": "code",
   "execution_count": 1,
   "metadata": {
    "_cell_guid": "b1076dfc-b9ad-4769-8c92-a6c4dae69d19",
    "_uuid": "8f2839f25d086af736a60e9eeb907d3b93b6e0e5",
    "execution": {
     "iopub.execute_input": "2020-09-04T22:02:54.712919Z",
     "iopub.status.busy": "2020-09-04T22:02:54.711989Z",
     "iopub.status.idle": "2020-09-04T22:03:52.175719Z",
     "shell.execute_reply": "2020-09-04T22:03:52.174965Z"
    },
    "papermill": {
     "duration": 57.495169,
     "end_time": "2020-09-04T22:03:52.175890",
     "exception": false,
     "start_time": "2020-09-04T22:02:54.680721",
     "status": "completed"
    },
    "tags": []
   },
   "outputs": [],
   "source": [
    "import numpy as np\n",
    "import pandas as pd\n",
    "\n",
    "import nmslib\n",
    "import json\n",
    "\n",
    "import scipy.sparse as sparse\n",
    "from lightfm import LightFM\n",
    "\n",
    "import os\n",
    "for dirname, _, filenames in os.walk('/kaggle/input'):\n",
    "    for filename in filenames:\n",
    "        print(os.path.join(dirname, filename))\n",
    "\n",
    "# Загружаем датасеты\n",
    "train = pd.read_csv('train.csv')\n",
    "meta = pd.read_csv('meta.csv')\n",
    "\n",
    "# Удалим дубликаты из тренировочного датасета\n",
    "train.drop_duplicates(inplace = True)\n",
    "\n",
    "# Объединим тренировочный датасет и данные из meta по идентификатору asin (Amazon Standard Identification Number)\n",
    "df = pd.merge(train, meta, on='asin')\n",
    "#df_new_test = pd.merge(test, meta, on='asin')"
   ]
  },
  {
   "cell_type": "code",
   "execution_count": 2,
   "metadata": {
    "execution": {
     "iopub.execute_input": "2020-09-04T22:03:52.213094Z",
     "iopub.status.busy": "2020-09-04T22:03:52.212210Z",
     "iopub.status.idle": "2020-09-04T22:03:53.763348Z",
     "shell.execute_reply": "2020-09-04T22:03:53.762595Z"
    },
    "papermill": {
     "duration": 1.57239,
     "end_time": "2020-09-04T22:03:53.763488",
     "exception": false,
     "start_time": "2020-09-04T22:03:52.191098",
     "status": "completed"
    },
    "tags": []
   },
   "outputs": [],
   "source": [
    "df = df[['userid','itemid','rating','main_cat', 'title']]"
   ]
  },
  {
   "cell_type": "code",
   "execution_count": 3,
   "metadata": {
    "execution": {
     "iopub.execute_input": "2020-09-04T22:03:53.895882Z",
     "iopub.status.busy": "2020-09-04T22:03:53.894960Z",
     "iopub.status.idle": "2020-09-04T22:03:53.941652Z",
     "shell.execute_reply": "2020-09-04T22:03:53.940967Z"
    },
    "papermill": {
     "duration": 0.163914,
     "end_time": "2020-09-04T22:03:53.941823",
     "exception": false,
     "start_time": "2020-09-04T22:03:53.777909",
     "status": "completed"
    },
    "tags": []
   },
   "outputs": [],
   "source": [
    "df.main_cat = df.main_cat.fillna('Other')"
   ]
  },
  {
   "cell_type": "code",
   "execution_count": 4,
   "metadata": {
    "execution": {
     "iopub.execute_input": "2020-09-04T22:03:54.124412Z",
     "iopub.status.busy": "2020-09-04T22:03:54.123545Z",
     "iopub.status.idle": "2020-09-04T22:03:54.154700Z",
     "shell.execute_reply": "2020-09-04T22:03:54.153927Z"
    },
    "papermill": {
     "duration": 0.198686,
     "end_time": "2020-09-04T22:03:54.154852",
     "exception": false,
     "start_time": "2020-09-04T22:03:53.956166",
     "status": "completed"
    },
    "tags": []
   },
   "outputs": [],
   "source": [
    "dic_main_cat = {\n",
    "    'Grocery':1,\n",
    "    'Health & Personal Care':2,\n",
    "    'Amazon Home':3,\n",
    "    'All Beauty':4,\n",
    "    'Sports & Outdoors':5,\n",
    "    'Other':6,\n",
    "    'Industrial & Scientific':7,\n",
    "    'Office Products':8,\n",
    "    'Toys & Games':9,\n",
    "    'Pet Supplies':10,\n",
    "    'Tools & Home Improvement':11,\n",
    "    'Baby':12,\n",
    "    'Arts, Crafts & Sewing':13,\n",
    "    'Home Audio & Theater':14,\n",
    "    'Camera & Photo':15,\n",
    "    'Musical Instruments':16,\n",
    "    'Software':17,\n",
    "    'Cell Phones & Accessories':18,\n",
    "}\n",
    "df['main_cat'] = df['main_cat'].map(dic_main_cat)"
   ]
  },
  {
   "cell_type": "code",
   "execution_count": 5,
   "metadata": {
    "execution": {
     "iopub.execute_input": "2020-09-04T22:03:54.189209Z",
     "iopub.status.busy": "2020-09-04T22:03:54.188417Z",
     "iopub.status.idle": "2020-09-04T22:03:54.192452Z",
     "shell.execute_reply": "2020-09-04T22:03:54.191710Z"
    },
    "papermill": {
     "duration": 0.023148,
     "end_time": "2020-09-04T22:03:54.192588",
     "exception": false,
     "start_time": "2020-09-04T22:03:54.169440",
     "status": "completed"
    },
    "tags": []
   },
   "outputs": [],
   "source": [
    "ratings_coo = sparse.coo_matrix((df.rating,(df.userid,df.itemid)))\n",
    "feature_ratings  = sparse.coo_matrix(([1]*len(df),(df.itemid,df.main_cat)))"
   ]
  },
  {
   "cell_type": "code",
   "execution_count": 6,
   "metadata": {
    "execution": {
     "iopub.execute_input": "2020-09-04T22:03:54.228012Z",
     "iopub.status.busy": "2020-09-04T22:03:54.226927Z",
     "iopub.status.idle": "2020-09-04T22:03:54.230409Z",
     "shell.execute_reply": "2020-09-04T22:03:54.229747Z"
    },
    "papermill": {
     "duration": 0.023461,
     "end_time": "2020-09-04T22:03:54.230539",
     "exception": false,
     "start_time": "2020-09-04T22:03:54.207078",
     "status": "completed"
    },
    "tags": []
   },
   "outputs": [],
   "source": [
    "LR = 0.01\n",
    "NUM_THREADS = 6 #число потоков\n",
    "NUM_COMPONENTS = 50 #число параметров вектора \n",
    "NUM_EPOCHS = 10 #число эпох обучения\n",
    "LOSS_FUNCTION = 'logistic'\n",
    "LEARNING_SCHEDULE = 'adagrad'\n",
    "RANDOM_STATE = 42\n",
    "\n",
    "model = LightFM(\n",
    "    learning_rate=LR,\n",
    "    loss=LOSS_FUNCTION,\n",
    "    no_components=NUM_COMPONENTS,\n",
    "    learning_schedule = LEARNING_SCHEDULE,\n",
    "    random_state = RANDOM_STATE\n",
    ")\n",
    "\n",
    "#Обучаем модель на всем тренировочном датасете т.к. на данном этапе нам важно быстрее получить модель и эмбеддинги для прототипа\n",
    "model = model.fit(\n",
    "    ratings_coo,\n",
    "    epochs=NUM_EPOCHS,\n",
    "    num_threads=NUM_THREADS,\n",
    "    item_features=feature_ratings\n",
    ")"
   ]
  },
  {
   "cell_type": "code",
   "execution_count": 7,
   "metadata": {
    "execution": {
     "iopub.execute_input": "2020-09-04T22:03:54.265478Z",
     "iopub.status.busy": "2020-09-04T22:03:54.264441Z",
     "iopub.status.idle": "2020-09-04T22:03:54.268045Z",
     "shell.execute_reply": "2020-09-04T22:03:54.267299Z"
    },
    "papermill": {
     "duration": 0.023027,
     "end_time": "2020-09-04T22:03:54.268174",
     "exception": false,
     "start_time": "2020-09-04T22:03:54.245147",
     "status": "completed"
    },
    "tags": []
   },
   "outputs": [],
   "source": [
    "# Достаём эбмеддинги\n",
    "item_biases, item_embeddings = model.get_item_representations(features=feature_ratings)"
   ]
  },
  {
   "cell_type": "code",
   "execution_count": 8,
   "metadata": {
    "execution": {
     "iopub.execute_input": "2020-09-04T22:03:54.303943Z",
     "iopub.status.busy": "2020-09-04T22:03:54.303090Z",
     "iopub.status.idle": "2020-09-04T22:03:54.306022Z",
     "shell.execute_reply": "2020-09-04T22:03:54.306588Z"
    },
    "papermill": {
     "duration": 0.023284,
     "end_time": "2020-09-04T22:03:54.306763",
     "exception": false,
     "start_time": "2020-09-04T22:03:54.283479",
     "status": "completed"
    },
    "tags": []
   },
   "outputs": [],
   "source": [
    "#Создаём наш граф для поиска\n",
    "nms_idx = nmslib.init(method='hnsw', space='cosinesimil')\n",
    " \n",
    "#Начинаем добавлять наши книги в граф\n",
    "nms_idx.addDataPointBatch(item_embeddings)\n",
    "nms_idx.createIndex(print_progress=True)"
   ]
  },
  {
   "cell_type": "code",
   "execution_count": 9,
   "metadata": {
    "execution": {
     "iopub.execute_input": "2020-09-04T22:03:54.342323Z",
     "iopub.status.busy": "2020-09-04T22:03:54.341489Z",
     "iopub.status.idle": "2020-09-04T22:03:54.345255Z",
     "shell.execute_reply": "2020-09-04T22:03:54.344645Z"
    },
    "papermill": {
     "duration": 0.023507,
     "end_time": "2020-09-04T22:03:54.345418",
     "exception": false,
     "start_time": "2020-09-04T22:03:54.321911",
     "status": "completed"
    },
    "tags": []
   },
   "outputs": [],
   "source": [
    "#Вспомогательная функция для поиска по графу\n",
    "def nearest_items_nms(itemid, index, n=10):\n",
    "    nn = index.knnQuery(item_embeddings[itemid], k=n)\n",
    "    return nn"
   ]
  },
  {
   "cell_type": "code",
   "execution_count": 10,
   "metadata": {
    "execution": {
     "iopub.execute_input": "2020-09-04T22:03:54.422518Z",
     "iopub.status.busy": "2020-09-04T22:03:54.421587Z",
     "iopub.status.idle": "2020-09-04T22:03:54.425141Z",
     "shell.execute_reply": "2020-09-04T22:03:54.424392Z"
    },
    "papermill": {
     "duration": 0.023554,
     "end_time": "2020-09-04T22:03:54.425315",
     "exception": false,
     "start_time": "2020-09-04T22:03:54.401761",
     "status": "completed"
    },
    "tags": []
   },
   "outputs": [
    {
     "output_type": "execute_result",
     "data": {
      "text/plain": "array(['Lipton Yellow Label Tea Bags 100ct, 1 pack',\n       'Lipton Yellow Label Tea (loose tea) - 450g',\n       'Lipton Yellow Label Tea (loose tea)'], dtype=object)"
     },
     "metadata": {},
     "execution_count": 10
    }
   ],
   "source": [
    "#Давайте попробуем написать рекомендации к продукту. Например, к  «1984».\n",
    "df[df.title.str.find('Lipton Yellow Label Tea')>=0].title.unique()"
   ]
  },
  {
   "cell_type": "code",
   "execution_count": 11,
   "metadata": {
    "execution": {
     "iopub.execute_input": "2020-09-04T22:03:54.462140Z",
     "iopub.status.busy": "2020-09-04T22:03:54.461347Z",
     "iopub.status.idle": "2020-09-04T22:03:54.465496Z",
     "shell.execute_reply": "2020-09-04T22:03:54.464687Z"
    },
    "papermill": {
     "duration": 0.024491,
     "end_time": "2020-09-04T22:03:54.465631",
     "exception": false,
     "start_time": "2020-09-04T22:03:54.441140",
     "status": "completed"
    },
    "tags": []
   },
   "outputs": [],
   "source": [
    "#Видим, что у книги id — 846.\n",
    "#Ищем похожие книги.\n",
    "nbm = nearest_items_nms(846,nms_idx)[0]"
   ]
  },
  {
   "cell_type": "code",
   "execution_count": 12,
   "metadata": {
    "execution": {
     "iopub.execute_input": "2020-09-04T22:03:54.504488Z",
     "iopub.status.busy": "2020-09-04T22:03:54.503641Z",
     "iopub.status.idle": "2020-09-04T22:03:54.510443Z",
     "shell.execute_reply": "2020-09-04T22:03:54.506696Z"
    },
    "papermill": {
     "duration": 0.029161,
     "end_time": "2020-09-04T22:03:54.510633",
     "exception": false,
     "start_time": "2020-09-04T22:03:54.481472",
     "status": "completed"
    },
    "tags": []
   },
   "outputs": [
    {
     "output_type": "execute_result",
     "data": {
      "text/plain": "array(['SNICKERS Almond Sharing Size Chocolate Candy Bars 3.23-Ounce Bar 24-Count Box',\n       'NOW Foods Beef Gelatin Powder,16-Ounce(Pack of 2)',\n       'Green Mountain Coffee Hazelnut Decaf K-Cups for Keurig Brewers - 18 K-Cups',\n       'Zsweet All Natural Zero Calorie Sweetener, 1.5-Pound Pouches (Pack of 2)'],\n      dtype=object)"
     },
     "metadata": {},
     "execution_count": 12
    }
   ],
   "source": [
    "#Выводим похожие книги.\n",
    "df[df.itemid.isin(nbm)].title.unique()[0:4]"
   ]
  },
  {
   "cell_type": "code",
   "execution_count": 13,
   "metadata": {
    "execution": {
     "iopub.execute_input": "2020-09-04T22:03:54.548681Z",
     "iopub.status.busy": "2020-09-04T22:03:54.547644Z",
     "iopub.status.idle": "2020-09-04T22:03:54.551021Z",
     "shell.execute_reply": "2020-09-04T22:03:54.550162Z"
    },
    "papermill": {
     "duration": 0.02429,
     "end_time": "2020-09-04T22:03:54.551169",
     "exception": false,
     "start_time": "2020-09-04T22:03:54.526879",
     "status": "completed"
    },
    "tags": []
   },
   "outputs": [],
   "source": [
    "import pickle\n",
    "with open('item_embeddings.pickle', 'wb') as file:\n",
    "   pickle.dump(item_embeddings, file, protocol=3)"
   ]
  },
  {
   "cell_type": "code",
   "execution_count": 14,
   "metadata": {},
   "outputs": [],
   "source": [
    "df = df[['itemid','title']]"
   ]
  },
  {
   "cell_type": "code",
   "execution_count": 15,
   "metadata": {},
   "outputs": [],
   "source": [
    "df.drop_duplicates(inplace = True)"
   ]
  },
  {
   "cell_type": "code",
   "execution_count": 16,
   "metadata": {},
   "outputs": [],
   "source": [
    "df.to_csv('df_items.csv', index=False)"
   ]
  }
 ],
 "metadata": {
  "kernelspec": {
   "display_name": "Python 3",
   "language": "python",
   "name": "python3"
  },
  "language_info": {
   "codemirror_mode": {
    "name": "ipython",
    "version": 3
   },
   "file_extension": ".py",
   "mimetype": "text/x-python",
   "name": "python",
   "nbconvert_exporter": "python",
   "pygments_lexer": "ipython3",
   "version": "3.8.3-final"
  },
  "papermill": {
   "duration": 139.337374,
   "end_time": "2020-09-04T22:05:07.337213",
   "environment_variables": {},
   "exception": null,
   "input_path": "__notebook__.ipynb",
   "output_path": "__notebook__.ipynb",
   "parameters": {},
   "start_time": "2020-09-04T22:02:47.999839",
   "version": "2.1.0"
  }
 },
 "nbformat": 4,
 "nbformat_minor": 4
}