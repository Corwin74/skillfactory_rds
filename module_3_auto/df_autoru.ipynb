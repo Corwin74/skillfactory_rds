{
 "cells": [
  {
   "cell_type": "markdown",
   "metadata": {},
   "source": [
    "# Подготовка датасета для соревнования [SF-DST] Car Price prediction\n",
    "В данном ноутбуке мы преобразуем ранее выгруженные с авто.ру json-файлы в датасет, который подгрузим на kaggle"
   ]
  },
  {
   "cell_type": "code",
   "execution_count": 1,
   "metadata": {},
   "outputs": [],
   "source": [
    "import json\n",
    "import pandas as pd"
   ]
  },
  {
   "cell_type": "markdown",
   "metadata": {},
   "source": [
    "Откроем 2 ранее выгруженных json-файла и сделаем из них один."
   ]
  },
  {
   "cell_type": "code",
   "execution_count": 2,
   "metadata": {},
   "outputs": [],
   "source": [
    "with open(\"data.json\", \"r\", encoding=\"utf8\") as f:\n",
    "    data = json.load(f)\n",
    "df = pd.DataFrame(data)\n",
    "\n",
    "with open(\"data2.json\", \"r\", encoding=\"utf8\") as f:\n",
    "    data = json.load(f)\n",
    "df2 = pd.DataFrame(data)\n",
    "\n",
    "df = df.append(df2, sort=True, ignore_index=True)"
   ]
  },
  {
   "cell_type": "markdown",
   "metadata": {},
   "source": [
    "Посмотрим на получившийся датасет. Также нам поможет JSON Viewer: http://jsonviewer.stack.hu/"
   ]
  },
  {
   "cell_type": "code",
   "execution_count": 3,
   "metadata": {
    "scrolled": true
   },
   "outputs": [
    {
     "name": "stdout",
     "output_type": "stream",
     "text": [
      "<class 'pandas.core.frame.DataFrame'>\n",
      "RangeIndex: 6753 entries, 0 to 6752\n",
      "Data columns (total 39 columns):\n",
      "additional_info      6753 non-null object\n",
      "autostrategies       6753 non-null object\n",
      "availability         6753 non-null object\n",
      "badges               41 non-null object\n",
      "brand_cert_info      6753 non-null object\n",
      "category             6753 non-null object\n",
      "color_hex            6753 non-null object\n",
      "counters             6753 non-null object\n",
      "credit_info          6753 non-null object\n",
      "daily_counters       6753 non-null object\n",
      "delivery_info        6753 non-null object\n",
      "description          6563 non-null object\n",
      "discount_options     147 non-null object\n",
      "discount_price       35 non-null object\n",
      "documents            6753 non-null object\n",
      "grouping_info        0 non-null object\n",
      "hash                 6753 non-null object\n",
      "id                   6753 non-null object\n",
      "is_favorite          6753 non-null bool\n",
      "lk_summary           6753 non-null object\n",
      "old_category_id      6753 non-null int64\n",
      "owner_expenses       6753 non-null object\n",
      "price_history        6753 non-null object\n",
      "price_info           6753 non-null object\n",
      "recall_info          6753 non-null object\n",
      "saleId               6753 non-null object\n",
      "salon                1159 non-null object\n",
      "section              6753 non-null object\n",
      "seller               6753 non-null object\n",
      "seller_type          6753 non-null object\n",
      "service_prices       6753 non-null object\n",
      "service_schedules    6753 non-null object\n",
      "services             6753 non-null object\n",
      "soldMinutes          16 non-null float64\n",
      "state                6753 non-null object\n",
      "status               6753 non-null object\n",
      "sub_category         6753 non-null object\n",
      "tags                 6753 non-null object\n",
      "vehicle_info         6753 non-null object\n",
      "dtypes: bool(1), float64(1), int64(1), object(36)\n",
      "memory usage: 2.0+ MB\n"
     ]
    },
    {
     "data": {
      "text/html": [
       "<div>\n",
       "<style scoped>\n",
       "    .dataframe tbody tr th:only-of-type {\n",
       "        vertical-align: middle;\n",
       "    }\n",
       "\n",
       "    .dataframe tbody tr th {\n",
       "        vertical-align: top;\n",
       "    }\n",
       "\n",
       "    .dataframe thead th {\n",
       "        text-align: right;\n",
       "    }\n",
       "</style>\n",
       "<table border=\"1\" class=\"dataframe\">\n",
       "  <thead>\n",
       "    <tr style=\"text-align: right;\">\n",
       "      <th></th>\n",
       "      <th>additional_info</th>\n",
       "      <th>autostrategies</th>\n",
       "      <th>availability</th>\n",
       "      <th>badges</th>\n",
       "      <th>brand_cert_info</th>\n",
       "      <th>category</th>\n",
       "      <th>color_hex</th>\n",
       "      <th>counters</th>\n",
       "      <th>credit_info</th>\n",
       "      <th>daily_counters</th>\n",
       "      <th>...</th>\n",
       "      <th>seller_type</th>\n",
       "      <th>service_prices</th>\n",
       "      <th>service_schedules</th>\n",
       "      <th>services</th>\n",
       "      <th>soldMinutes</th>\n",
       "      <th>state</th>\n",
       "      <th>status</th>\n",
       "      <th>sub_category</th>\n",
       "      <th>tags</th>\n",
       "      <th>vehicle_info</th>\n",
       "    </tr>\n",
       "  </thead>\n",
       "  <tbody>\n",
       "    <tr>\n",
       "      <td>0</td>\n",
       "      <td>{'hidden': False, 'is_on_moderation': False, '...</td>\n",
       "      <td>[]</td>\n",
       "      <td>IN_STOCK</td>\n",
       "      <td>NaN</td>\n",
       "      <td>{}</td>\n",
       "      <td>cars</td>\n",
       "      <td>040001</td>\n",
       "      <td>{}</td>\n",
       "      <td>{'state': 'NOT_AVALIABLE'}</td>\n",
       "      <td>[]</td>\n",
       "      <td>...</td>\n",
       "      <td>PRIVATE</td>\n",
       "      <td>[]</td>\n",
       "      <td>{}</td>\n",
       "      <td>[{'service': 'all_sale_special', 'is_active': ...</td>\n",
       "      <td>NaN</td>\n",
       "      <td>{'mileage': 195000, 'state_not_beaten': True, ...</td>\n",
       "      <td>ACTIVE</td>\n",
       "      <td>cars</td>\n",
       "      <td>[good_price, oversize, medium, fivestars, pres...</td>\n",
       "      <td>{'configuration': {'id': '4601199', 'body_type...</td>\n",
       "    </tr>\n",
       "    <tr>\n",
       "      <td>1</td>\n",
       "      <td>{'hidden': False, 'is_on_moderation': False, '...</td>\n",
       "      <td>[]</td>\n",
       "      <td>IN_STOCK</td>\n",
       "      <td>NaN</td>\n",
       "      <td>{}</td>\n",
       "      <td>cars</td>\n",
       "      <td>040001</td>\n",
       "      <td>{}</td>\n",
       "      <td>{'state': 'NOT_AVALIABLE'}</td>\n",
       "      <td>[]</td>\n",
       "      <td>...</td>\n",
       "      <td>PRIVATE</td>\n",
       "      <td>[]</td>\n",
       "      <td>{}</td>\n",
       "      <td>[{'service': 'all_sale_special', 'is_active': ...</td>\n",
       "      <td>NaN</td>\n",
       "      <td>{'mileage': 219000, 'state_not_beaten': True, ...</td>\n",
       "      <td>ACTIVE</td>\n",
       "      <td>cars</td>\n",
       "      <td>[good_price, big, medium, fivestars, prestige,...</td>\n",
       "      <td>{'configuration': {'id': '6088623', 'body_type...</td>\n",
       "    </tr>\n",
       "    <tr>\n",
       "      <td>2</td>\n",
       "      <td>{'hidden': False, 'is_on_moderation': False, '...</td>\n",
       "      <td>[]</td>\n",
       "      <td>IN_STOCK</td>\n",
       "      <td>[Обслуживалась у дилера, Оригинальный пробег, ...</td>\n",
       "      <td>{}</td>\n",
       "      <td>cars</td>\n",
       "      <td>97948F</td>\n",
       "      <td>{}</td>\n",
       "      <td>{'state': 'NOT_AVALIABLE'}</td>\n",
       "      <td>[]</td>\n",
       "      <td>...</td>\n",
       "      <td>PRIVATE</td>\n",
       "      <td>[]</td>\n",
       "      <td>{}</td>\n",
       "      <td>[{'service': 'all_sale_special', 'is_active': ...</td>\n",
       "      <td>NaN</td>\n",
       "      <td>{'mileage': 155000, 'state_not_beaten': True, ...</td>\n",
       "      <td>ACTIVE</td>\n",
       "      <td>cars</td>\n",
       "      <td>[good_price, big, oversize, discount, medium, ...</td>\n",
       "      <td>{'configuration': {'id': '2305680', 'body_type...</td>\n",
       "    </tr>\n",
       "    <tr>\n",
       "      <td>3</td>\n",
       "      <td>{'hidden': False, 'is_on_moderation': False, '...</td>\n",
       "      <td>[]</td>\n",
       "      <td>IN_STOCK</td>\n",
       "      <td>NaN</td>\n",
       "      <td>{}</td>\n",
       "      <td>cars</td>\n",
       "      <td>200204</td>\n",
       "      <td>{}</td>\n",
       "      <td>{'state': 'NOT_AVALIABLE'}</td>\n",
       "      <td>[]</td>\n",
       "      <td>...</td>\n",
       "      <td>PRIVATE</td>\n",
       "      <td>[]</td>\n",
       "      <td>{}</td>\n",
       "      <td>[]</td>\n",
       "      <td>NaN</td>\n",
       "      <td>{'mileage': 348000, 'state_not_beaten': True, ...</td>\n",
       "      <td>ACTIVE</td>\n",
       "      <td>cars</td>\n",
       "      <td>[oversize, medium, fivestars, prestige, comfor...</td>\n",
       "      <td>{'configuration': {'id': '4601199', 'body_type...</td>\n",
       "    </tr>\n",
       "    <tr>\n",
       "      <td>4</td>\n",
       "      <td>{'hidden': False, 'is_on_moderation': False, '...</td>\n",
       "      <td>[]</td>\n",
       "      <td>IN_STOCK</td>\n",
       "      <td>[Один владелец, Максимальная комплектация, В и...</td>\n",
       "      <td>{}</td>\n",
       "      <td>cars</td>\n",
       "      <td>040001</td>\n",
       "      <td>{}</td>\n",
       "      <td>{'state': 'NOT_AVALIABLE'}</td>\n",
       "      <td>[]</td>\n",
       "      <td>...</td>\n",
       "      <td>PRIVATE</td>\n",
       "      <td>[]</td>\n",
       "      <td>{}</td>\n",
       "      <td>[{'service': 'all_sale_special', 'is_active': ...</td>\n",
       "      <td>NaN</td>\n",
       "      <td>{'mileage': 150000, 'state_not_beaten': True, ...</td>\n",
       "      <td>ACTIVE</td>\n",
       "      <td>cars</td>\n",
       "      <td>[proven_owner, big, prestige, comfort, badge, ...</td>\n",
       "      <td>{'configuration': {'id': '3619826', 'body_type...</td>\n",
       "    </tr>\n",
       "  </tbody>\n",
       "</table>\n",
       "<p>5 rows × 39 columns</p>\n",
       "</div>"
      ],
      "text/plain": [
       "                                     additional_info autostrategies  \\\n",
       "0  {'hidden': False, 'is_on_moderation': False, '...             []   \n",
       "1  {'hidden': False, 'is_on_moderation': False, '...             []   \n",
       "2  {'hidden': False, 'is_on_moderation': False, '...             []   \n",
       "3  {'hidden': False, 'is_on_moderation': False, '...             []   \n",
       "4  {'hidden': False, 'is_on_moderation': False, '...             []   \n",
       "\n",
       "  availability                                             badges  \\\n",
       "0     IN_STOCK                                                NaN   \n",
       "1     IN_STOCK                                                NaN   \n",
       "2     IN_STOCK  [Обслуживалась у дилера, Оригинальный пробег, ...   \n",
       "3     IN_STOCK                                                NaN   \n",
       "4     IN_STOCK  [Один владелец, Максимальная комплектация, В и...   \n",
       "\n",
       "  brand_cert_info category color_hex counters                 credit_info  \\\n",
       "0              {}     cars    040001       {}  {'state': 'NOT_AVALIABLE'}   \n",
       "1              {}     cars    040001       {}  {'state': 'NOT_AVALIABLE'}   \n",
       "2              {}     cars    97948F       {}  {'state': 'NOT_AVALIABLE'}   \n",
       "3              {}     cars    200204       {}  {'state': 'NOT_AVALIABLE'}   \n",
       "4              {}     cars    040001       {}  {'state': 'NOT_AVALIABLE'}   \n",
       "\n",
       "  daily_counters  ... seller_type service_prices service_schedules  \\\n",
       "0             []  ...     PRIVATE             []                {}   \n",
       "1             []  ...     PRIVATE             []                {}   \n",
       "2             []  ...     PRIVATE             []                {}   \n",
       "3             []  ...     PRIVATE             []                {}   \n",
       "4             []  ...     PRIVATE             []                {}   \n",
       "\n",
       "                                            services soldMinutes  \\\n",
       "0  [{'service': 'all_sale_special', 'is_active': ...         NaN   \n",
       "1  [{'service': 'all_sale_special', 'is_active': ...         NaN   \n",
       "2  [{'service': 'all_sale_special', 'is_active': ...         NaN   \n",
       "3                                                 []         NaN   \n",
       "4  [{'service': 'all_sale_special', 'is_active': ...         NaN   \n",
       "\n",
       "                                               state  status sub_category  \\\n",
       "0  {'mileage': 195000, 'state_not_beaten': True, ...  ACTIVE         cars   \n",
       "1  {'mileage': 219000, 'state_not_beaten': True, ...  ACTIVE         cars   \n",
       "2  {'mileage': 155000, 'state_not_beaten': True, ...  ACTIVE         cars   \n",
       "3  {'mileage': 348000, 'state_not_beaten': True, ...  ACTIVE         cars   \n",
       "4  {'mileage': 150000, 'state_not_beaten': True, ...  ACTIVE         cars   \n",
       "\n",
       "                                                tags  \\\n",
       "0  [good_price, oversize, medium, fivestars, pres...   \n",
       "1  [good_price, big, medium, fivestars, prestige,...   \n",
       "2  [good_price, big, oversize, discount, medium, ...   \n",
       "3  [oversize, medium, fivestars, prestige, comfor...   \n",
       "4  [proven_owner, big, prestige, comfort, badge, ...   \n",
       "\n",
       "                                        vehicle_info  \n",
       "0  {'configuration': {'id': '4601199', 'body_type...  \n",
       "1  {'configuration': {'id': '6088623', 'body_type...  \n",
       "2  {'configuration': {'id': '2305680', 'body_type...  \n",
       "3  {'configuration': {'id': '4601199', 'body_type...  \n",
       "4  {'configuration': {'id': '3619826', 'body_type...  \n",
       "\n",
       "[5 rows x 39 columns]"
      ]
     },
     "execution_count": 3,
     "metadata": {},
     "output_type": "execute_result"
    }
   ],
   "source": [
    "df.info()\n",
    "df.head()"
   ]
  },
  {
   "cell_type": "markdown",
   "metadata": {},
   "source": [
    "Посмотрим, какие данные мы сможем забрать. Начнем по порядку."
   ]
  },
  {
   "cell_type": "markdown",
   "metadata": {},
   "source": [
    "## Additional Info"
   ]
  },
  {
   "cell_type": "code",
   "execution_count": 4,
   "metadata": {},
   "outputs": [
    {
     "data": {
      "text/plain": [
       "{'hidden': False,\n",
       " 'is_on_moderation': False,\n",
       " 'not_disturb': True,\n",
       " 'update_date': '1594724311000',\n",
       " 'creation_date': '1594289299898',\n",
       " 'mobile_autoservices_url': 'https://m.auto.ru/autoservice/all_works/BMW/?geo_id=213',\n",
       " 'hot_info': {'is_hot': False,\n",
       "  'start_time': '2020-07-09T10:05:52Z',\n",
       "  'end_time': '2020-07-09T10:05:52Z'},\n",
       " 'fresh_date': '1594724292980',\n",
       " 'counters_start_date': '1594289299898',\n",
       " 'chat_only': False,\n",
       " 'dealer_card_promo': 'DONT_SHOW',\n",
       " 'review_summary': {'avg_rating': 4.599999904632568, 'counter': 62},\n",
       " 'price_stats': {'last_year_price_percentage_diff': -14},\n",
       " 'booking': {}}"
      ]
     },
     "execution_count": 4,
     "metadata": {},
     "output_type": "execute_result"
    }
   ],
   "source": [
    "df.additional_info[0]"
   ]
  },
  {
   "cell_type": "markdown",
   "metadata": {},
   "source": [
    "Здесь может пригодиться рейтинг авто. Сделаем такой признак."
   ]
  },
  {
   "cell_type": "code",
   "execution_count": 5,
   "metadata": {},
   "outputs": [],
   "source": [
    "df['rating'] = df['additional_info'].apply(lambda x: x.get('review_summary').get('avg_rating'))"
   ]
  },
  {
   "cell_type": "code",
   "execution_count": 6,
   "metadata": {},
   "outputs": [],
   "source": [
    "df = df.drop('additional_info', axis=1)"
   ]
  },
  {
   "cell_type": "markdown",
   "metadata": {},
   "source": [
    "## Autostrategies\n",
    "Тут пусто, удалим"
   ]
  },
  {
   "cell_type": "code",
   "execution_count": 7,
   "metadata": {},
   "outputs": [],
   "source": [
    "df = df.drop('autostrategies', axis=1)"
   ]
  },
  {
   "cell_type": "markdown",
   "metadata": {},
   "source": [
    "## Availability"
   ]
  },
  {
   "cell_type": "code",
   "execution_count": 8,
   "metadata": {},
   "outputs": [
    {
     "data": {
      "text/plain": [
       "IN_STOCK    6751\n",
       "ON_ORDER       2\n",
       "Name: availability, dtype: int64"
      ]
     },
     "execution_count": 8,
     "metadata": {},
     "output_type": "execute_result"
    }
   ],
   "source": [
    "df.availability.value_counts()"
   ]
  },
  {
   "cell_type": "markdown",
   "metadata": {},
   "source": [
    "Видимо, некоторые салоны привозят авто под заказ. Не думаю, что это сильно повлияет на цену. Удалим этот признак."
   ]
  },
  {
   "cell_type": "code",
   "execution_count": 9,
   "metadata": {},
   "outputs": [],
   "source": [
    "df = df.drop('availability', axis=1)"
   ]
  },
  {
   "cell_type": "markdown",
   "metadata": {},
   "source": [
    "## Badges, brand_cert_info, category\n",
    "Ничего интересного, удалаяем"
   ]
  },
  {
   "cell_type": "code",
   "execution_count": 10,
   "metadata": {},
   "outputs": [],
   "source": [
    "df = df.drop('badges', axis=1)\n",
    "df = df.drop('brand_cert_info', axis=1)\n",
    "df = df.drop('category', axis=1)"
   ]
  },
  {
   "cell_type": "markdown",
   "metadata": {},
   "source": [
    "## Color_hex\n",
    "Цвет машины, записан в виде кодировки RGB. Переделаем в название цветов на английском."
   ]
  },
  {
   "cell_type": "code",
   "execution_count": 11,
   "metadata": {},
   "outputs": [
    {
     "data": {
      "text/plain": [
       "040001    2733\n",
       "FAFBFB    1134\n",
       "0000CC     845\n",
       "97948F     788\n",
       "CACECB     424\n",
       "200204     257\n",
       "EE1D19     200\n",
       "007F00     106\n",
       "22A0F8      72\n",
       "C49648      61\n",
       "660099      40\n",
       "DEA522      38\n",
       "FF8649      29\n",
       "4A2197      20\n",
       "FFD600       5\n",
       "FFC0CB       1\n",
       "Name: color_hex, dtype: int64"
      ]
     },
     "execution_count": 11,
     "metadata": {},
     "output_type": "execute_result"
    }
   ],
   "source": [
    "df.color_hex.value_counts()"
   ]
  },
  {
   "cell_type": "code",
   "execution_count": 12,
   "metadata": {},
   "outputs": [],
   "source": [
    "dic_color = {\n",
    "    '040001': 'black',\n",
    "    'FAFBFB': 'white',\n",
    "    '97948F': 'grey',\n",
    "    '0000CC': 'dark_blue',\n",
    "    'CACECB': 'silver', \n",
    "    'EE1D19': 'red',\n",
    "    '200204': 'brown',\n",
    "    '007F00': 'green',\n",
    "    'C49648': 'biege',\n",
    "    '22A0F8': 'blue',\n",
    "    '660099': 'purple',\n",
    "    'FF8649': 'orange',\n",
    "    'DEA522': 'golden',\n",
    "    '4A2197': 'violet',\n",
    "    'FFD600': 'yellow', \n",
    "}\n",
    "df['color_hex'] = df['color_hex'].map(dic_color)\n",
    "df.rename(columns = {'color_hex':'color'}, inplace = True) "
   ]
  },
  {
   "cell_type": "markdown",
   "metadata": {},
   "source": [
    "## Counters, credit_info, daily_counters, delivery_info \n",
    "Удаляем"
   ]
  },
  {
   "cell_type": "code",
   "execution_count": 13,
   "metadata": {},
   "outputs": [],
   "source": [
    "df = df.drop('counters', axis=1)\n",
    "df = df.drop('credit_info', axis=1)\n",
    "df = df.drop('daily_counters', axis=1)\n",
    "df = df.drop('delivery_info', axis=1)"
   ]
  },
  {
   "cell_type": "markdown",
   "metadata": {},
   "source": [
    "## Description"
   ]
  },
  {
   "cell_type": "code",
   "execution_count": 14,
   "metadata": {},
   "outputs": [
    {
     "data": {
      "text/plain": [
       "'Автомобиль в отличном состоянии. Ни каких нареканий по лакокрасочному покрытию. Салон чистый и ухоженный, не прокурен. Двигатель работает в штатном режиме, не дымит и не троит. Коробка переключает плавно и без рывков. Отсутствуют посторонние шумы в ходовой части. Машина прошла предпродажную диагностику ДВС и АКПП, в результате которой, не выявлено никаких  отклонений. \\n-А также вы можете приобрести данный автомобиль в кредит!!!\\n-Рассмотрим вариант обмена!!!\\n-Гарантируем юридическую чистоту автомобиля!!!'"
      ]
     },
     "execution_count": 14,
     "metadata": {},
     "output_type": "execute_result"
    }
   ],
   "source": [
    "df.description[0]"
   ]
  },
  {
   "cell_type": "markdown",
   "metadata": {},
   "source": [
    "Интересно было бы проанализировать, но вряд ли успеем в срок. Удаляем."
   ]
  },
  {
   "cell_type": "code",
   "execution_count": 15,
   "metadata": {},
   "outputs": [],
   "source": [
    "df = df.drop('description', axis=1)"
   ]
  },
  {
   "cell_type": "markdown",
   "metadata": {},
   "source": [
    "## Discount_options, discount_price\n",
    "Не очень интересно и много пропусков. Удаляем."
   ]
  },
  {
   "cell_type": "code",
   "execution_count": 16,
   "metadata": {},
   "outputs": [],
   "source": [
    "df = df.drop('discount_options', axis=1)\n",
    "df = df.drop('discount_price', axis=1)"
   ]
  },
  {
   "cell_type": "markdown",
   "metadata": {},
   "source": [
    "## Documents"
   ]
  },
  {
   "cell_type": "code",
   "execution_count": 17,
   "metadata": {},
   "outputs": [
    {
     "data": {
      "text/plain": [
       "{'owners_number': 3,\n",
       " 'pts_original': True,\n",
       " 'custom_cleared': True,\n",
       " 'year': 2004,\n",
       " 'vin': 'WBA**************',\n",
       " 'pts': 'ORIGINAL',\n",
       " 'license_plate': '******|152',\n",
       " 'vin_resolution': 'OK'}"
      ]
     },
     "execution_count": 17,
     "metadata": {},
     "output_type": "execute_result"
    }
   ],
   "source": [
    "df.documents[0]"
   ]
  },
  {
   "cell_type": "markdown",
   "metadata": {},
   "source": [
    "Отсюда мы можем взять количество владельцев, ПТС оригинал или дубликат и год выпуска."
   ]
  },
  {
   "cell_type": "markdown",
   "metadata": {},
   "source": [
    "### Количество владельцев - owners"
   ]
  },
  {
   "cell_type": "markdown",
   "metadata": {},
   "source": [
    "Забираем данные о количестве владельцев:"
   ]
  },
  {
   "cell_type": "code",
   "execution_count": 18,
   "metadata": {
    "scrolled": true
   },
   "outputs": [],
   "source": [
    "df['owners'] = df['documents'].apply(lambda x: x.get('owners_number'))"
   ]
  },
  {
   "cell_type": "code",
   "execution_count": 19,
   "metadata": {
    "scrolled": false
   },
   "outputs": [
    {
     "data": {
      "text/plain": [
       "3.0    3313\n",
       "2.0    1758\n",
       "1.0    1532\n",
       "Name: owners, dtype: int64"
      ]
     },
     "execution_count": 19,
     "metadata": {},
     "output_type": "execute_result"
    }
   ],
   "source": [
    "df.owners.value_counts()"
   ]
  },
  {
   "cell_type": "code",
   "execution_count": 20,
   "metadata": {
    "scrolled": true
   },
   "outputs": [
    {
     "name": "stdout",
     "output_type": "stream",
     "text": [
      "Количество пропусков: 150,\n"
     ]
    }
   ],
   "source": [
    "print('Количество пропусков: {},'.format(df.owners.isnull().sum()))"
   ]
  },
  {
   "cell_type": "markdown",
   "metadata": {},
   "source": [
    "Видим, что довольно много пропусков. Пока что оставим как есть."
   ]
  },
  {
   "cell_type": "markdown",
   "metadata": {},
   "source": [
    "### Данные о ПТС - technicalPassport"
   ]
  },
  {
   "cell_type": "markdown",
   "metadata": {},
   "source": [
    "Забираем данные о ПТС:"
   ]
  },
  {
   "cell_type": "code",
   "execution_count": 21,
   "metadata": {},
   "outputs": [],
   "source": [
    "df['technicalPassport'] = df['documents'].apply(lambda x: x.get('pts'))"
   ]
  },
  {
   "cell_type": "code",
   "execution_count": 22,
   "metadata": {
    "scrolled": false
   },
   "outputs": [
    {
     "data": {
      "text/plain": [
       "ORIGINAL     5741\n",
       "DUPLICATE    1010\n",
       "Name: technicalPassport, dtype: int64"
      ]
     },
     "execution_count": 22,
     "metadata": {},
     "output_type": "execute_result"
    }
   ],
   "source": [
    "df.technicalPassport.value_counts()"
   ]
  },
  {
   "cell_type": "code",
   "execution_count": 23,
   "metadata": {
    "scrolled": true
   },
   "outputs": [
    {
     "name": "stdout",
     "output_type": "stream",
     "text": [
      "Количество пропусков: 2,\n"
     ]
    }
   ],
   "source": [
    "print('Количество пропусков: {},'.format(df.technicalPassport.isnull().sum()))"
   ]
  },
  {
   "cell_type": "markdown",
   "metadata": {},
   "source": [
    "Отлично, всего 2 пропуска. Приведем значения к виду как на kaggle."
   ]
  },
  {
   "cell_type": "code",
   "execution_count": 24,
   "metadata": {},
   "outputs": [],
   "source": [
    "dic_technicalPassport = {'ORIGINAL': 1, 'DUPLICATE': 0}\n",
    "df['technicalPassport'] = df['technicalPassport'].map(dic_technicalPassport)"
   ]
  },
  {
   "cell_type": "markdown",
   "metadata": {},
   "source": [
    "### Возраст машины - age"
   ]
  },
  {
   "cell_type": "markdown",
   "metadata": {},
   "source": [
    "Забираем данные о годе выпуска машины по документам:"
   ]
  },
  {
   "cell_type": "code",
   "execution_count": 25,
   "metadata": {},
   "outputs": [],
   "source": [
    "df['age'] = df['documents'].apply(lambda x: x.get('year'))"
   ]
  },
  {
   "cell_type": "code",
   "execution_count": 26,
   "metadata": {},
   "outputs": [
    {
     "data": {
      "text/plain": [
       "2013    599\n",
       "2011    566\n",
       "2012    561\n",
       "2008    486\n",
       "2019    444\n",
       "2010    381\n",
       "2018    366\n",
       "2014    345\n",
       "2017    341\n",
       "2009    325\n",
       "2016    309\n",
       "2007    308\n",
       "2015    262\n",
       "2004    175\n",
       "2005    158\n",
       "2006    149\n",
       "2003    136\n",
       "2001    126\n",
       "2002    122\n",
       "1998     90\n",
       "1999     81\n",
       "1997     79\n",
       "2000     75\n",
       "1996     37\n",
       "1991     31\n",
       "1993     31\n",
       "1990     27\n",
       "1992     25\n",
       "1994     23\n",
       "1995     20\n",
       "1988     14\n",
       "1989     12\n",
       "1987      8\n",
       "1984      6\n",
       "1985      5\n",
       "1986      4\n",
       "1937      4\n",
       "1980      3\n",
       "1983      3\n",
       "1982      3\n",
       "1950      2\n",
       "1972      1\n",
       "1968      1\n",
       "1953      1\n",
       "1975      1\n",
       "1949      1\n",
       "1978      1\n",
       "1969      1\n",
       "1981      1\n",
       "1947      1\n",
       "1938      1\n",
       "1948      1\n",
       "Name: age, dtype: int64"
      ]
     },
     "execution_count": 26,
     "metadata": {},
     "output_type": "execute_result"
    }
   ],
   "source": [
    "df.age.value_counts()"
   ]
  },
  {
   "cell_type": "code",
   "execution_count": 27,
   "metadata": {},
   "outputs": [],
   "source": [
    "df['age']= 2020-df['age']"
   ]
  },
  {
   "cell_type": "markdown",
   "metadata": {},
   "source": [
    "Здесь мы все что нужно забрали. Удалим столбец."
   ]
  },
  {
   "cell_type": "code",
   "execution_count": 28,
   "metadata": {},
   "outputs": [],
   "source": [
    "df = df.drop('documents', axis=1)"
   ]
  },
  {
   "cell_type": "markdown",
   "metadata": {},
   "source": [
    "## grouping_info, hash, id, is_favorite, lk_summary, lk_summary, old_category_id, owner_expenses, price_history\n",
    "\n",
    "Удаляем т.к.:\n",
    "* grouping_info - пусто\n",
    "* hash - не интересно\n",
    "* id - не интересно\n",
    "* is_favorite - не интересно\n",
    "* lk_summary - содержит информацию, которая есть в других столбцах\n",
    "* old_category_id - не интересно\n",
    "* owner_expenses - данные о налогах и страховках. Налоги коррелируют с мощностью, страховка не интересно\n",
    "* price_history - нас интересует только последняя цена"
   ]
  },
  {
   "cell_type": "code",
   "execution_count": 29,
   "metadata": {},
   "outputs": [],
   "source": [
    "for columns in [\n",
    "    'grouping_info',\n",
    "    'hash',\n",
    "    'id',\n",
    "    'is_favorite',\n",
    "    'lk_summary',\n",
    "    'old_category_id',\n",
    "    'owner_expenses',\n",
    "    'price_history',\n",
    "]:\n",
    "    df = df.drop(columns, axis=1)"
   ]
  },
  {
   "cell_type": "markdown",
   "metadata": {},
   "source": [
    "## Price_info\n",
    "Цена в разных валютах"
   ]
  },
  {
   "cell_type": "markdown",
   "metadata": {},
   "source": [
    "Добавим информацию в наш датафрейм."
   ]
  },
  {
   "cell_type": "code",
   "execution_count": 30,
   "metadata": {},
   "outputs": [],
   "source": [
    "df['price_rur'] = df['price_info'].apply(lambda x: x.get('RUR'))\n",
    "df['price_usd'] = df['price_info'].apply(lambda x: x.get('USD'))\n",
    "df['price_eur'] = df['price_info'].apply(lambda x: x.get('EUR'))"
   ]
  },
  {
   "cell_type": "code",
   "execution_count": 31,
   "metadata": {},
   "outputs": [
    {
     "data": {
      "text/plain": [
       "71.1275414960321"
      ]
     },
     "execution_count": 31,
     "metadata": {},
     "output_type": "execute_result"
    }
   ],
   "source": [
    "df['price_rur'].mean()/df['price_usd'].mean()"
   ]
  },
  {
   "cell_type": "markdown",
   "metadata": {},
   "source": [
    "Похоже на сегодняшний курс. Логично, что авто.ру сам переводит рублевые цены в доллары.\n",
    "Удалим цены в зарубежных валютах и price_info."
   ]
  },
  {
   "cell_type": "code",
   "execution_count": 32,
   "metadata": {},
   "outputs": [],
   "source": [
    "for columns in [\n",
    "    'price_info',\n",
    "    'price_usd',\n",
    "    'price_eur',\n",
    "]:\n",
    "    df = df.drop(columns, axis=1)"
   ]
  },
  {
   "cell_type": "markdown",
   "metadata": {},
   "source": [
    "### recall_info, saleId, salon, section, seller, seller_type, service_prices, service_schedules, services, soldMinutes, status, sub_category\n",
    "Либо пусто, либо ничего полезного"
   ]
  },
  {
   "cell_type": "code",
   "execution_count": 33,
   "metadata": {},
   "outputs": [],
   "source": [
    "for columns in [\n",
    "    'recall_info',\n",
    "    'saleId',\n",
    "    'salon',\n",
    "    'section',\n",
    "    'seller',\n",
    "    'seller_type',\n",
    "    'service_prices',\n",
    "    'service_schedules',\n",
    "    'services',\n",
    "    'soldMinutes',\n",
    "    'status',\n",
    "    'sub_category',\n",
    "]:\n",
    "    df = df.drop(columns, axis=1)"
   ]
  },
  {
   "cell_type": "markdown",
   "metadata": {},
   "source": [
    "## State\n",
    "Состояние. Отсюда мы можем взять пробег."
   ]
  },
  {
   "cell_type": "code",
   "execution_count": 34,
   "metadata": {},
   "outputs": [],
   "source": [
    "df['mileage'] = df['state'].apply(lambda x: x.get('mileage'))"
   ]
  },
  {
   "cell_type": "markdown",
   "metadata": {},
   "source": [
    "Здесь ещё есть информация о том, является ли автомобиль новым или с пробегом. Но в тестовой выборке все авто с пробегом."
   ]
  },
  {
   "cell_type": "code",
   "execution_count": 35,
   "metadata": {},
   "outputs": [],
   "source": [
    "df = df.drop('state', axis=1)"
   ]
  },
  {
   "cell_type": "markdown",
   "metadata": {},
   "source": [
    "## tags\n",
    "Тэги. Думаю, что тэги будут неплохими дополнительными параметрами для нашей модели."
   ]
  },
  {
   "cell_type": "code",
   "execution_count": 36,
   "metadata": {},
   "outputs": [
    {
     "data": {
      "text/plain": [
       "['good_price',\n",
       " 'oversize',\n",
       " 'medium',\n",
       " 'fivestars',\n",
       " 'prestige',\n",
       " 'comfort',\n",
       " 'allowed_for_credit',\n",
       " 'autoru_exclusive',\n",
       " 'wide-back-seats',\n",
       " 'big-trunk',\n",
       " 'all-terrain',\n",
       " 'vin_offers_history',\n",
       " 'options',\n",
       " 'available_for_checkup',\n",
       " 'handling',\n",
       " 'vin_resolution_ok',\n",
       " 'vin_checked',\n",
       " 'pts_original',\n",
       " 'equitable_price',\n",
       " 'high_reviews_mark']"
      ]
     },
     "execution_count": 36,
     "metadata": {},
     "output_type": "execute_result"
    }
   ],
   "source": [
    "df.tags[0]"
   ]
  },
  {
   "cell_type": "markdown",
   "metadata": {},
   "source": [
    "Вот только непонятно, как мы обогатим этими парметрами данные из тестовой выборки. Удалим столбец, но в будущем подумаем о возможных тэгах."
   ]
  },
  {
   "cell_type": "code",
   "execution_count": 37,
   "metadata": {},
   "outputs": [],
   "source": [
    "df = df.drop('tags', axis=1)"
   ]
  },
  {
   "cell_type": "markdown",
   "metadata": {},
   "source": [
    "## vehicle_info\n",
    "Информация об автомобиле"
   ]
  },
  {
   "cell_type": "code",
   "execution_count": 38,
   "metadata": {},
   "outputs": [
    {
     "data": {
      "text/plain": [
       "{'configuration': {'id': '2305608',\n",
       "  'body_type': 'SEDAN',\n",
       "  'doors_count': 4,\n",
       "  'auto_class': 'E',\n",
       "  'human_name': 'Седан',\n",
       "  'trunk_volume_min': 520,\n",
       "  'body_type_group': 'SEDAN',\n",
       "  'main_photo': {'sizes': {'orig': '//avatars.mds.yandex.net/get-verba/787013/2a000001609cfc38f5dc8d47523a92d90eca/orig',\n",
       "    'wizardv3mr': '//avatars.mds.yandex.net/get-verba/787013/2a000001609cfc38f5dc8d47523a92d90eca/wizardv3mr',\n",
       "    'cattouch': '//avatars.mds.yandex.net/get-verba/787013/2a000001609cfc38f5dc8d47523a92d90eca/cattouch'}},\n",
       "  'tags': ['big', 'big-trunk', 'wide-back-seats', 'medium']},\n",
       " 'complectation': {'id': '4720222',\n",
       "  'name': '535',\n",
       "  'available_options': ['cruise-control',\n",
       "   'airbag-passenger',\n",
       "   'lock',\n",
       "   'electro-mirrors',\n",
       "   'mirrors-heat',\n",
       "   'leather',\n",
       "   'computer',\n",
       "   'wheel-power',\n",
       "   'airbag-side',\n",
       "   'abs',\n",
       "   'climate-control-1',\n",
       "   'esp',\n",
       "   'audiopreparation',\n",
       "   'electro-window-back',\n",
       "   'condition',\n",
       "   'airbag-driver',\n",
       "   'electro-window-front',\n",
       "   'ptf',\n",
       "   'audiosystem-cd',\n",
       "   'wheel-configuration2',\n",
       "   'wheel-configuration1',\n",
       "   'immo']},\n",
       " 'equipment': {'cruise-control': True,\n",
       "  'asr': True,\n",
       "  'tinted-glass': True,\n",
       "  'esp': True,\n",
       "  'adaptive-light': True,\n",
       "  'usb': True,\n",
       "  'sport-seats': True,\n",
       "  'e-adjustment-wheel': True,\n",
       "  'multi-wheel': True,\n",
       "  'xenon': True,\n",
       "  'audiosystem-tv': True,\n",
       "  'ashtray-and-cigarette-lighter': True,\n",
       "  'airbag-passenger': True,\n",
       "  'front-centre-armrest': True,\n",
       "  'navigation': True,\n",
       "  'front-seat-support': True,\n",
       "  'decorative-interior-lighting': True,\n",
       "  'isofix-front': True,\n",
       "  'lock': True,\n",
       "  'door-sill-panel': True,\n",
       "  'electro-mirrors': True,\n",
       "  'drl': True,\n",
       "  'electro-window-back': True,\n",
       "  'reduce-spare-wheel': True,\n",
       "  'multizone-climate-control': True,\n",
       "  'mirrors-heat': True,\n",
       "  'power-latching-doors': True,\n",
       "  'hatch': True,\n",
       "  'volume-sensor': True,\n",
       "  'dark-interior': True,\n",
       "  'sport-suspension': True,\n",
       "  'folding-front-passenger-seat': True,\n",
       "  'leather': True,\n",
       "  '19-inch-wheels': True,\n",
       "  'driver-seat-memory': True,\n",
       "  'sport-pedals': True,\n",
       "  'engine-proof': True,\n",
       "  'front-seats-heat-vent': True,\n",
       "  'start-stop-function': True,\n",
       "  'airbag-driver': True,\n",
       "  'aux': True,\n",
       "  'isofix': True,\n",
       "  'electro-window-front': True,\n",
       "  'projection-display': True,\n",
       "  'light-sensor': True,\n",
       "  'automatic-lighting-control': True,\n",
       "  'passenger-seat-updown': True,\n",
       "  'computer': True,\n",
       "  'high-beam-assist': True,\n",
       "  'keyless-entry': True,\n",
       "  'seat-transformation': True,\n",
       "  'wheel-power': True,\n",
       "  'alarm': True,\n",
       "  'passenger-seat-electric': True,\n",
       "  'light-cleaner': True,\n",
       "  'alloy-wheel-disks': True,\n",
       "  'ptf': True,\n",
       "  'start-button': True,\n",
       "  'leather-gear-stick': True,\n",
       "  'rain-sensor': True,\n",
       "  'airbag-side': True,\n",
       "  'tyre-pressure': True,\n",
       "  'audiosystem-cd': True,\n",
       "  'electronic-gage-panel': True,\n",
       "  'abs': True,\n",
       "  'front-seats-heat': True,\n",
       "  'bluetooth': True,\n",
       "  'power-child-locks-rear-doors': True,\n",
       "  'wheel-leather': True,\n",
       "  'immo': True,\n",
       "  'auto-mirrors': True,\n",
       "  '12v-socket': True,\n",
       "  'third-rear-headrest': True,\n",
       "  'black-roof': True},\n",
       " 'mark_info': {'code': 'BMW',\n",
       "  'name': 'BMW',\n",
       "  'ru_name': 'БМВ',\n",
       "  'logo': {'name': 'mark-logo',\n",
       "   'sizes': {'logo': '//avatars.mds.yandex.net/get-verba/997355/2a00000170a99124c3a521a92b8cd4846660/logo',\n",
       "    'big-logo': '//avatars.mds.yandex.net/get-verba/997355/2a00000170a99124c3a521a92b8cd4846660/dealer_logo'}}},\n",
       " 'model_info': {'code': '5ER',\n",
       "  'name': '5 серия',\n",
       "  'ru_name': '5 серия',\n",
       "  'morphology': {},\n",
       "  'nameplate': {'code': '9265067', 'name': '535', 'semantic_url': '535'}},\n",
       " 'steering_wheel': 'LEFT',\n",
       " 'super_gen': {'id': '2305607',\n",
       "  'name': 'V (E60/E61) Рестайлинг',\n",
       "  'year_from': 2007,\n",
       "  'year_to': 2010,\n",
       "  'price_segment': 'PREMIUM'},\n",
       " 'tech_param': {'id': '2305626',\n",
       "  'name': '535',\n",
       "  'nameplate': '535d',\n",
       "  'displacement': 2993,\n",
       "  'engine_type': 'DIESEL',\n",
       "  'gear_type': 'REAR_DRIVE',\n",
       "  'transmission': 'AUTOMATIC',\n",
       "  'power': 286,\n",
       "  'power_kvt': 210,\n",
       "  'human_name': '535d 3.0d AT (286 л.с.)',\n",
       "  'acceleration': 6.4,\n",
       "  'clearance_min': 142,\n",
       "  'fuel_rate': 6.7},\n",
       " 'vendor': 'EUROPEAN'}"
      ]
     },
     "execution_count": 38,
     "metadata": {},
     "output_type": "execute_result"
    }
   ],
   "source": [
    "df.vehicle_info[25]"
   ]
  },
  {
   "cell_type": "markdown",
   "metadata": {},
   "source": [
    "Пойдем по порядку"
   ]
  },
  {
   "cell_type": "markdown",
   "metadata": {},
   "source": [
    "### body_Type\n",
    "Тип кузова. Приведем в вид, аналогичный тестовому датасету на Kaggle."
   ]
  },
  {
   "cell_type": "code",
   "execution_count": 39,
   "metadata": {},
   "outputs": [],
   "source": [
    "df['bodyType'] = df['vehicle_info'].apply(lambda x: x.get('configuration').get('body_type'))"
   ]
  },
  {
   "cell_type": "code",
   "execution_count": 40,
   "metadata": {
    "scrolled": true
   },
   "outputs": [
    {
     "data": {
      "text/plain": [
       "SEDAN                3053\n",
       "ALLROAD_5_DOORS      2704\n",
       "COUPE                 341\n",
       "HATCHBACK_5_DOORS     240\n",
       "LIFTBACK              159\n",
       "WAGON_5_DOORS          83\n",
       "HATCHBACK_3_DOORS      72\n",
       "CABRIO                 58\n",
       "ROADSTER               27\n",
       "SEDAN_2_DOORS           9\n",
       "COMPACTVAN              5\n",
       "COUPE_HARDTOP           2\n",
       "Name: bodyType, dtype: int64"
      ]
     },
     "execution_count": 40,
     "metadata": {},
     "output_type": "execute_result"
    }
   ],
   "source": [
    "df.bodyType.value_counts()"
   ]
  },
  {
   "cell_type": "code",
   "execution_count": 41,
   "metadata": {},
   "outputs": [],
   "source": [
    "dic_bodyType = {\n",
    "    'SEDAN': 'sedan',\n",
    "    'SEDAN_2_DOORS': 'sedan',\n",
    "    'ALLROAD_5_DOORS': 'SUV',\n",
    "    'HATCHBACK_5_DOORS': 'hatchback',\n",
    "    'HATCHBACK_3_DOORS': 'hatchback',\n",
    "    'COUPE': 'coupe',\n",
    "    'COUPE_HARDTOP': 'coupe',    \n",
    "    'ROADSTER': 'roadster',\n",
    "    'LIFTBACK': 'liftback',\n",
    "    'WAGON_5_DOORS': 'wagon',\n",
    "    'CABRIO': 'cabriolet',\n",
    "    'COMPACTVAN': 'van'\n",
    "}\n",
    "df['bodyType'] = df['bodyType'].map(dic_bodyType)"
   ]
  },
  {
   "cell_type": "markdown",
   "metadata": {},
   "source": [
    "### doors_count\n",
    "Количество дверей"
   ]
  },
  {
   "cell_type": "code",
   "execution_count": 42,
   "metadata": {},
   "outputs": [],
   "source": [
    "df['numberOfDoors'] = df['vehicle_info'].apply(lambda x: x.get('configuration').get('doors_count'))"
   ]
  },
  {
   "cell_type": "code",
   "execution_count": 43,
   "metadata": {},
   "outputs": [
    {
     "data": {
      "text/plain": [
       "5    3191\n",
       "4    3053\n",
       "2     437\n",
       "3      72\n",
       "Name: numberOfDoors, dtype: int64"
      ]
     },
     "execution_count": 43,
     "metadata": {},
     "output_type": "execute_result"
    }
   ],
   "source": [
    "df.numberOfDoors.value_counts()"
   ]
  },
  {
   "cell_type": "markdown",
   "metadata": {},
   "source": [
    "### Auto_class\n",
    "Класс автомобиля. Добавим этот признак."
   ]
  },
  {
   "cell_type": "code",
   "execution_count": 44,
   "metadata": {},
   "outputs": [],
   "source": [
    "df['autoClass'] = df['vehicle_info'].apply(lambda x: x.get('configuration').get('auto_class'))"
   ]
  },
  {
   "cell_type": "markdown",
   "metadata": {},
   "source": [
    "### Complectation\n",
    "Комплектация"
   ]
  },
  {
   "cell_type": "code",
   "execution_count": 45,
   "metadata": {
    "scrolled": false
   },
   "outputs": [
    {
     "data": {
      "text/plain": [
       "{'id': '4720222',\n",
       " 'name': '535',\n",
       " 'available_options': ['cruise-control',\n",
       "  'airbag-passenger',\n",
       "  'lock',\n",
       "  'electro-mirrors',\n",
       "  'mirrors-heat',\n",
       "  'leather',\n",
       "  'computer',\n",
       "  'wheel-power',\n",
       "  'airbag-side',\n",
       "  'abs',\n",
       "  'climate-control-1',\n",
       "  'esp',\n",
       "  'audiopreparation',\n",
       "  'electro-window-back',\n",
       "  'condition',\n",
       "  'airbag-driver',\n",
       "  'electro-window-front',\n",
       "  'ptf',\n",
       "  'audiosystem-cd',\n",
       "  'wheel-configuration2',\n",
       "  'wheel-configuration1',\n",
       "  'immo']}"
      ]
     },
     "execution_count": 45,
     "metadata": {},
     "output_type": "execute_result"
    }
   ],
   "source": [
    "df.vehicle_info[25].get('complectation')"
   ]
  },
  {
   "cell_type": "markdown",
   "metadata": {},
   "source": [
    "Заберем список опций (available_options) в виде списка. Далее сделаем dummy-переменные."
   ]
  },
  {
   "cell_type": "code",
   "execution_count": 46,
   "metadata": {},
   "outputs": [],
   "source": [
    "df['complectation'] = df['vehicle_info'].apply(lambda x: x.get('complectation').get('available_options'))"
   ]
  },
  {
   "cell_type": "code",
   "execution_count": 47,
   "metadata": {},
   "outputs": [
    {
     "data": {
      "text/plain": [
       "['cruise-control',\n",
       " 'airbag-passenger',\n",
       " 'lock',\n",
       " 'electro-mirrors',\n",
       " 'mirrors-heat',\n",
       " 'leather',\n",
       " 'computer',\n",
       " 'wheel-power',\n",
       " 'airbag-side',\n",
       " 'abs',\n",
       " 'climate-control-1',\n",
       " 'esp',\n",
       " 'audiopreparation',\n",
       " 'electro-window-back',\n",
       " 'condition',\n",
       " 'airbag-driver',\n",
       " 'electro-window-front',\n",
       " 'ptf',\n",
       " 'audiosystem-cd',\n",
       " 'wheel-configuration2',\n",
       " 'wheel-configuration1',\n",
       " 'immo']"
      ]
     },
     "execution_count": 47,
     "metadata": {},
     "output_type": "execute_result"
    }
   ],
   "source": [
    "df['complectation'][25]"
   ]
  },
  {
   "cell_type": "markdown",
   "metadata": {},
   "source": [
    "Проверим количество пропусков"
   ]
  },
  {
   "cell_type": "code",
   "execution_count": 48,
   "metadata": {},
   "outputs": [
    {
     "name": "stdout",
     "output_type": "stream",
     "text": [
      "Количество пропусков: 4626,\n"
     ]
    }
   ],
   "source": [
    "print('Количество пропусков: {},'.format(df['complectation'].isnull().sum()))"
   ]
  },
  {
   "cell_type": "markdown",
   "metadata": {},
   "source": [
    "Очень много пропусков. Удалим этот признак т.к. в признаке 'equipment' также будут перечислены различные опции."
   ]
  },
  {
   "cell_type": "code",
   "execution_count": 49,
   "metadata": {},
   "outputs": [],
   "source": [
    "df = df.drop('complectation', axis=1)"
   ]
  },
  {
   "cell_type": "markdown",
   "metadata": {},
   "source": [
    "### Equipment\n",
    "Оборудование"
   ]
  },
  {
   "cell_type": "code",
   "execution_count": 50,
   "metadata": {},
   "outputs": [
    {
     "data": {
      "text/plain": [
       "{'cruise-control': True,\n",
       " 'asr': True,\n",
       " 'tinted-glass': True,\n",
       " 'esp': True,\n",
       " 'adaptive-light': True,\n",
       " 'usb': True,\n",
       " 'sport-seats': True,\n",
       " 'e-adjustment-wheel': True,\n",
       " 'multi-wheel': True,\n",
       " 'xenon': True,\n",
       " 'audiosystem-tv': True,\n",
       " 'ashtray-and-cigarette-lighter': True,\n",
       " 'airbag-passenger': True,\n",
       " 'front-centre-armrest': True,\n",
       " 'navigation': True,\n",
       " 'front-seat-support': True,\n",
       " 'decorative-interior-lighting': True,\n",
       " 'isofix-front': True,\n",
       " 'lock': True,\n",
       " 'door-sill-panel': True,\n",
       " 'electro-mirrors': True,\n",
       " 'drl': True,\n",
       " 'electro-window-back': True,\n",
       " 'reduce-spare-wheel': True,\n",
       " 'multizone-climate-control': True,\n",
       " 'mirrors-heat': True,\n",
       " 'power-latching-doors': True,\n",
       " 'hatch': True,\n",
       " 'volume-sensor': True,\n",
       " 'dark-interior': True,\n",
       " 'sport-suspension': True,\n",
       " 'folding-front-passenger-seat': True,\n",
       " 'leather': True,\n",
       " '19-inch-wheels': True,\n",
       " 'driver-seat-memory': True,\n",
       " 'sport-pedals': True,\n",
       " 'engine-proof': True,\n",
       " 'front-seats-heat-vent': True,\n",
       " 'start-stop-function': True,\n",
       " 'airbag-driver': True,\n",
       " 'aux': True,\n",
       " 'isofix': True,\n",
       " 'electro-window-front': True,\n",
       " 'projection-display': True,\n",
       " 'light-sensor': True,\n",
       " 'automatic-lighting-control': True,\n",
       " 'passenger-seat-updown': True,\n",
       " 'computer': True,\n",
       " 'high-beam-assist': True,\n",
       " 'keyless-entry': True,\n",
       " 'seat-transformation': True,\n",
       " 'wheel-power': True,\n",
       " 'alarm': True,\n",
       " 'passenger-seat-electric': True,\n",
       " 'light-cleaner': True,\n",
       " 'alloy-wheel-disks': True,\n",
       " 'ptf': True,\n",
       " 'start-button': True,\n",
       " 'leather-gear-stick': True,\n",
       " 'rain-sensor': True,\n",
       " 'airbag-side': True,\n",
       " 'tyre-pressure': True,\n",
       " 'audiosystem-cd': True,\n",
       " 'electronic-gage-panel': True,\n",
       " 'abs': True,\n",
       " 'front-seats-heat': True,\n",
       " 'bluetooth': True,\n",
       " 'power-child-locks-rear-doors': True,\n",
       " 'wheel-leather': True,\n",
       " 'immo': True,\n",
       " 'auto-mirrors': True,\n",
       " '12v-socket': True,\n",
       " 'third-rear-headrest': True,\n",
       " 'black-roof': True}"
      ]
     },
     "execution_count": 50,
     "metadata": {},
     "output_type": "execute_result"
    }
   ],
   "source": [
    "df.vehicle_info[25].get('equipment')"
   ]
  },
  {
   "cell_type": "markdown",
   "metadata": {},
   "source": [
    "Преобразуем словарь в список ключей и запишем в переменную equioment."
   ]
  },
  {
   "cell_type": "code",
   "execution_count": 51,
   "metadata": {},
   "outputs": [],
   "source": [
    "df['equipment'] = df['vehicle_info'].apply(lambda x: list(x.get('equipment').keys()))"
   ]
  },
  {
   "cell_type": "code",
   "execution_count": 52,
   "metadata": {},
   "outputs": [
    {
     "data": {
      "text/plain": [
       "['cruise-control',\n",
       " 'asr',\n",
       " 'tinted-glass',\n",
       " 'esp',\n",
       " 'adaptive-light',\n",
       " 'usb',\n",
       " 'sport-seats',\n",
       " 'e-adjustment-wheel',\n",
       " 'multi-wheel',\n",
       " 'xenon',\n",
       " 'audiosystem-tv',\n",
       " 'ashtray-and-cigarette-lighter',\n",
       " 'airbag-passenger',\n",
       " 'front-centre-armrest',\n",
       " 'navigation',\n",
       " 'front-seat-support',\n",
       " 'decorative-interior-lighting',\n",
       " 'isofix-front',\n",
       " 'lock',\n",
       " 'door-sill-panel',\n",
       " 'electro-mirrors',\n",
       " 'drl',\n",
       " 'electro-window-back',\n",
       " 'reduce-spare-wheel',\n",
       " 'multizone-climate-control',\n",
       " 'mirrors-heat',\n",
       " 'power-latching-doors',\n",
       " 'hatch',\n",
       " 'volume-sensor',\n",
       " 'dark-interior',\n",
       " 'sport-suspension',\n",
       " 'folding-front-passenger-seat',\n",
       " 'leather',\n",
       " '19-inch-wheels',\n",
       " 'driver-seat-memory',\n",
       " 'sport-pedals',\n",
       " 'engine-proof',\n",
       " 'front-seats-heat-vent',\n",
       " 'start-stop-function',\n",
       " 'airbag-driver',\n",
       " 'aux',\n",
       " 'isofix',\n",
       " 'electro-window-front',\n",
       " 'projection-display',\n",
       " 'light-sensor',\n",
       " 'automatic-lighting-control',\n",
       " 'passenger-seat-updown',\n",
       " 'computer',\n",
       " 'high-beam-assist',\n",
       " 'keyless-entry',\n",
       " 'seat-transformation',\n",
       " 'wheel-power',\n",
       " 'alarm',\n",
       " 'passenger-seat-electric',\n",
       " 'light-cleaner',\n",
       " 'alloy-wheel-disks',\n",
       " 'ptf',\n",
       " 'start-button',\n",
       " 'leather-gear-stick',\n",
       " 'rain-sensor',\n",
       " 'airbag-side',\n",
       " 'tyre-pressure',\n",
       " 'audiosystem-cd',\n",
       " 'electronic-gage-panel',\n",
       " 'abs',\n",
       " 'front-seats-heat',\n",
       " 'bluetooth',\n",
       " 'power-child-locks-rear-doors',\n",
       " 'wheel-leather',\n",
       " 'immo',\n",
       " 'auto-mirrors',\n",
       " '12v-socket',\n",
       " 'third-rear-headrest',\n",
       " 'black-roof']"
      ]
     },
     "execution_count": 52,
     "metadata": {},
     "output_type": "execute_result"
    }
   ],
   "source": [
    "df.equipment[25]"
   ]
  },
  {
   "cell_type": "markdown",
   "metadata": {},
   "source": [
    "### Tags\n",
    "Эти тэги нам уже больше подойдут т.к. относятся к модели машины."
   ]
  },
  {
   "cell_type": "code",
   "execution_count": 53,
   "metadata": {},
   "outputs": [],
   "source": [
    "df['tags'] = df['vehicle_info'].apply(lambda x: x.get('configuration').get('tags'))"
   ]
  },
  {
   "cell_type": "markdown",
   "metadata": {},
   "source": [
    "В дальнейшем сделаем их тэгов dummy-переменные"
   ]
  },
  {
   "cell_type": "markdown",
   "metadata": {},
   "source": [
    "### model_info\n",
    "Название модели"
   ]
  },
  {
   "cell_type": "code",
   "execution_count": 54,
   "metadata": {},
   "outputs": [],
   "source": [
    "df['model'] = df['vehicle_info'].apply(lambda x: x.get('model_info').get('code'))"
   ]
  },
  {
   "cell_type": "code",
   "execution_count": 55,
   "metadata": {},
   "outputs": [
    {
     "data": {
      "text/plain": [
       "5ER              1658\n",
       "3ER              1145\n",
       "X5               1052\n",
       "7ER               553\n",
       "X6                521\n",
       "X3                446\n",
       "X1                319\n",
       "1ER               309\n",
       "6ER               141\n",
       "X4                106\n",
       "X6_M               97\n",
       "X7                 80\n",
       "4                  78\n",
       "X5_M               61\n",
       "M5                 39\n",
       "Z4                 22\n",
       "M3                 19\n",
       "X2                 18\n",
       "M6                 15\n",
       "2ER                10\n",
       "M4                  9\n",
       "8ER                 8\n",
       "321                 6\n",
       "I3                  6\n",
       "I8                  5\n",
       "Z3                  4\n",
       "2GRANDTOURER        4\n",
       "M2                  4\n",
       "340                 3\n",
       "X4_M                2\n",
       "X3_M                2\n",
       "M8                  2\n",
       "326                 2\n",
       "E3                  1\n",
       "02                  1\n",
       "2ACTIVETOURER       1\n",
       "Z4_M                1\n",
       "Z1                  1\n",
       "2000_C_CS           1\n",
       "Z8                  1\n",
       "Name: model, dtype: int64"
      ]
     },
     "execution_count": 55,
     "metadata": {},
     "output_type": "execute_result"
    }
   ],
   "source": [
    "df.model.value_counts()"
   ]
  },
  {
   "cell_type": "markdown",
   "metadata": {},
   "source": [
    "Возможно, в дальнейшем сократим количество моделей путем объединения или удаления."
   ]
  },
  {
   "cell_type": "markdown",
   "metadata": {},
   "source": [
    "### super_gen\n",
    "Поколение. Думаю, что будет сильно коррелировать с годом производства. Думаю, что от поколения цена сильно зависит. Заберем отсюда год как в тестовой выборке."
   ]
  },
  {
   "cell_type": "code",
   "execution_count": null,
   "metadata": {},
   "outputs": [],
   "source": [
    "df['model'] = df['vehicle_info'].apply(lambda x: x.get('super_gen').get('code'))"
   ]
  },
  {
   "cell_type": "markdown",
   "metadata": {},
   "source": [
    "### tech_param\n",
    "Здесь много полезной информации"
   ]
  },
  {
   "cell_type": "code",
   "execution_count": 56,
   "metadata": {},
   "outputs": [
    {
     "data": {
      "text/plain": [
       "{'id': '2305626',\n",
       " 'name': '535',\n",
       " 'nameplate': '535d',\n",
       " 'displacement': 2993,\n",
       " 'engine_type': 'DIESEL',\n",
       " 'gear_type': 'REAR_DRIVE',\n",
       " 'transmission': 'AUTOMATIC',\n",
       " 'power': 286,\n",
       " 'power_kvt': 210,\n",
       " 'human_name': '535d 3.0d AT (286 л.с.)',\n",
       " 'acceleration': 6.4,\n",
       " 'clearance_min': 142,\n",
       " 'fuel_rate': 6.7}"
      ]
     },
     "execution_count": 56,
     "metadata": {},
     "output_type": "execute_result"
    }
   ],
   "source": [
    "df.vehicle_info[25].get('tech_param')"
   ]
  },
  {
   "cell_type": "markdown",
   "metadata": {},
   "source": [
    "#### name"
   ]
  },
  {
   "cell_type": "code",
   "execution_count": 57,
   "metadata": {},
   "outputs": [],
   "source": [
    "df['name'] = df['vehicle_info'].apply(lambda x: x.get('tech_param').get('name'))"
   ]
  },
  {
   "cell_type": "markdown",
   "metadata": {},
   "source": [
    "#### dispacement\n",
    "Объем двигателя"
   ]
  },
  {
   "cell_type": "code",
   "execution_count": 58,
   "metadata": {},
   "outputs": [],
   "source": [
    "df['engineDisplacement'] = df['vehicle_info'].apply(lambda x: x.get('tech_param').get('displacement'))"
   ]
  },
  {
   "cell_type": "code",
   "execution_count": 59,
   "metadata": {},
   "outputs": [
    {
     "data": {
      "text/plain": [
       "2993    1234\n",
       "1995    1232\n",
       "2979     748\n",
       "1997     686\n",
       "4395     475\n",
       "        ... \n",
       "2495       1\n",
       "2693       1\n",
       "2479       1\n",
       "2443       1\n",
       "1665       1\n",
       "Name: engineDisplacement, Length: 62, dtype: int64"
      ]
     },
     "execution_count": 59,
     "metadata": {},
     "output_type": "execute_result"
    }
   ],
   "source": [
    "df['engineDisplacement'].value_counts()"
   ]
  },
  {
   "cell_type": "markdown",
   "metadata": {},
   "source": [
    "Довольно много значений, скорее всего будем разделять на категории по литрам с точностью до 0.5 (2,2.5,3л.)"
   ]
  },
  {
   "cell_type": "markdown",
   "metadata": {},
   "source": [
    "#### engine_type\n",
    "Тип топлива"
   ]
  },
  {
   "cell_type": "code",
   "execution_count": 60,
   "metadata": {},
   "outputs": [],
   "source": [
    "df['fuelType'] = df['vehicle_info'].apply(lambda x: x.get('tech_param').get('engine_type'))"
   ]
  },
  {
   "cell_type": "markdown",
   "metadata": {},
   "source": [
    "Приведем значения к уже имеющимся на kaggle."
   ]
  },
  {
   "cell_type": "code",
   "execution_count": 61,
   "metadata": {},
   "outputs": [
    {
     "data": {
      "text/plain": [
       "GASOLINE    4621\n",
       "DIESEL      2113\n",
       "HYBRID        15\n",
       "ELECTRO        4\n",
       "Name: fuelType, dtype: int64"
      ]
     },
     "execution_count": 61,
     "metadata": {},
     "output_type": "execute_result"
    }
   ],
   "source": [
    "df['fuelType'].value_counts()"
   ]
  },
  {
   "cell_type": "code",
   "execution_count": 62,
   "metadata": {},
   "outputs": [],
   "source": [
    "dic_fuelType = {'DIESEL': 'diesel', 'GASOLINE': 'petrol', 'HYBRID': 'hybrid', 'ELECTRO': 'electro'}\n",
    "df['fuelType'] = df['fuelType'].map(dic_fuelType)"
   ]
  },
  {
   "cell_type": "markdown",
   "metadata": {},
   "source": [
    "#### gear_type\n",
    "Привод"
   ]
  },
  {
   "cell_type": "code",
   "execution_count": 63,
   "metadata": {},
   "outputs": [],
   "source": [
    "df['drive'] = df['vehicle_info'].apply(lambda x: x.get('tech_param').get('gear_type'))"
   ]
  },
  {
   "cell_type": "code",
   "execution_count": 64,
   "metadata": {
    "scrolled": true
   },
   "outputs": [
    {
     "data": {
      "text/plain": [
       "ALL_WHEEL_DRIVE    3881\n",
       "REAR_DRIVE         2851\n",
       "FORWARD_CONTROL      21\n",
       "Name: drive, dtype: int64"
      ]
     },
     "execution_count": 64,
     "metadata": {},
     "output_type": "execute_result"
    }
   ],
   "source": [
    "df.drive.value_counts()"
   ]
  },
  {
   "cell_type": "markdown",
   "metadata": {},
   "source": [
    "Приведем значения к уже имеющимся на kaggle."
   ]
  },
  {
   "cell_type": "code",
   "execution_count": 65,
   "metadata": {},
   "outputs": [],
   "source": [
    "dic_drive = {'ALL_WHEEL_DRIVE': '4wd', 'REAR_DRIVE': 'rwd', 'FORWARD_CONTROL': 'fwd'}\n",
    "df['drive'] = df['drive'].map(dic_drive)"
   ]
  },
  {
   "cell_type": "markdown",
   "metadata": {},
   "source": [
    "#### transmission\n",
    "Тип коробки передач"
   ]
  },
  {
   "cell_type": "code",
   "execution_count": 66,
   "metadata": {},
   "outputs": [],
   "source": [
    "df['vehicleTransmission'] = df['vehicle_info'].apply(lambda x: x.get('tech_param').get('transmission'))"
   ]
  },
  {
   "cell_type": "code",
   "execution_count": 67,
   "metadata": {
    "scrolled": true
   },
   "outputs": [
    {
     "data": {
      "text/plain": [
       "AUTOMATIC     6196\n",
       "MECHANICAL     481\n",
       "ROBOT           76\n",
       "Name: vehicleTransmission, dtype: int64"
      ]
     },
     "execution_count": 67,
     "metadata": {},
     "output_type": "execute_result"
    }
   ],
   "source": [
    "df.vehicleTransmission.value_counts()"
   ]
  },
  {
   "cell_type": "markdown",
   "metadata": {},
   "source": [
    "Приведем значения к уже имеющимся на kaggle."
   ]
  },
  {
   "cell_type": "code",
   "execution_count": 68,
   "metadata": {},
   "outputs": [],
   "source": [
    "dic_vehicleTransmission = {'AUTOMATIC': 'AT', 'MECHANICAL': 'MT', 'ROBOT': 'AM'}\n",
    "df['vehicleTransmission'] = df['vehicleTransmission'].map(dic_vehicleTransmission)"
   ]
  },
  {
   "cell_type": "markdown",
   "metadata": {},
   "source": [
    "#### power\n",
    "Мощность двигателя"
   ]
  },
  {
   "cell_type": "code",
   "execution_count": 69,
   "metadata": {},
   "outputs": [],
   "source": [
    "df['enginePower'] = df['vehicle_info'].apply(lambda x: x.get('tech_param').get('power'))"
   ]
  },
  {
   "cell_type": "code",
   "execution_count": 70,
   "metadata": {},
   "outputs": [
    {
     "data": {
      "text/plain": [
       "184    818\n",
       "306    459\n",
       "249    443\n",
       "218    434\n",
       "245    415\n",
       "      ... \n",
       "610      1\n",
       "480      1\n",
       "230      1\n",
       "109      1\n",
       "449      1\n",
       "Name: enginePower, Length: 83, dtype: int64"
      ]
     },
     "execution_count": 70,
     "metadata": {},
     "output_type": "execute_result"
    }
   ],
   "source": [
    "df['enginePower'].value_counts()"
   ]
  },
  {
   "cell_type": "markdown",
   "metadata": {},
   "source": [
    "Тут видимо будем тоже на категории делить."
   ]
  },
  {
   "cell_type": "markdown",
   "metadata": {},
   "source": [
    "#### acceleration\n",
    "Разгон до 100 км/ч"
   ]
  },
  {
   "cell_type": "code",
   "execution_count": 71,
   "metadata": {},
   "outputs": [],
   "source": [
    "df['acceleration'] = df['vehicle_info'].apply(lambda x: x.get('tech_param').get('acceleration'))"
   ]
  },
  {
   "cell_type": "code",
   "execution_count": 72,
   "metadata": {},
   "outputs": [
    {
     "data": {
      "text/plain": [
       "8.1     405\n",
       "7.6     353\n",
       "6.7     317\n",
       "7.5     312\n",
       "6.5     256\n",
       "       ... \n",
       "14.5      1\n",
       "13.0      1\n",
       "12.8      1\n",
       "11.1      1\n",
       "11.4      1\n",
       "Name: acceleration, Length: 98, dtype: int64"
      ]
     },
     "execution_count": 72,
     "metadata": {},
     "output_type": "execute_result"
    }
   ],
   "source": [
    "df['acceleration'].value_counts()"
   ]
  },
  {
   "cell_type": "markdown",
   "metadata": {},
   "source": [
    "Здесь можно будет сократить количество параметров, например, округлив до целого."
   ]
  },
  {
   "cell_type": "markdown",
   "metadata": {},
   "source": [
    "#### fuel_rate\n",
    "Расход топлива"
   ]
  },
  {
   "cell_type": "code",
   "execution_count": 73,
   "metadata": {},
   "outputs": [],
   "source": [
    "df['fuel_rate'] = df['vehicle_info'].apply(lambda x: x.get('tech_param').get('fuel_rate'))"
   ]
  },
  {
   "cell_type": "code",
   "execution_count": 74,
   "metadata": {},
   "outputs": [
    {
     "data": {
      "text/plain": [
       "6.2     319\n",
       "10.1    250\n",
       "6.0     227\n",
       "5.6     203\n",
       "10.3    179\n",
       "       ... \n",
       "12.3      2\n",
       "11.6      2\n",
       "11.5      2\n",
       "13.4      1\n",
       "3.3       1\n",
       "Name: fuel_rate, Length: 101, dtype: int64"
      ]
     },
     "execution_count": 74,
     "metadata": {},
     "output_type": "execute_result"
    }
   ],
   "source": [
    "df['fuel_rate'].value_counts()"
   ]
  },
  {
   "cell_type": "markdown",
   "metadata": {},
   "source": [
    "Здесь можно будет сократить количество параметров, например, округлив до целого."
   ]
  },
  {
   "cell_type": "markdown",
   "metadata": {},
   "source": [
    "Удалим 'vehicle_info' т.к. все необходимое забрали. Возможно стоило что-то ещё вытянуть, подумаем над этим, если останется время."
   ]
  },
  {
   "cell_type": "code",
   "execution_count": 75,
   "metadata": {},
   "outputs": [],
   "source": [
    "df = df.drop('vehicle_info', axis=1)"
   ]
  },
  {
   "cell_type": "markdown",
   "metadata": {},
   "source": [
    "# Итоги\n",
    "Посмотрим на получившийся датасет"
   ]
  },
  {
   "cell_type": "code",
   "execution_count": 76,
   "metadata": {},
   "outputs": [
    {
     "name": "stdout",
     "output_type": "stream",
     "text": [
      "<class 'pandas.core.frame.DataFrame'>\n",
      "RangeIndex: 6753 entries, 0 to 6752\n",
      "Data columns (total 21 columns):\n",
      "color                  6752 non-null object\n",
      "rating                 6491 non-null float64\n",
      "owners                 6603 non-null float64\n",
      "technicalPassport      6751 non-null float64\n",
      "age                    6753 non-null int64\n",
      "price_rur              6737 non-null float64\n",
      "mileage                6753 non-null int64\n",
      "bodyType               6753 non-null object\n",
      "numberOfDoors          6753 non-null int64\n",
      "autoClass              6740 non-null object\n",
      "equipment              6753 non-null object\n",
      "tags                   6749 non-null object\n",
      "model                  6753 non-null object\n",
      "name                   6475 non-null object\n",
      "engineDisplacement     6753 non-null int64\n",
      "fuelType               6753 non-null object\n",
      "drive                  6753 non-null object\n",
      "vehicleTransmission    6753 non-null object\n",
      "enginePower            6753 non-null int64\n",
      "acceleration           6717 non-null float64\n",
      "fuel_rate              6268 non-null float64\n",
      "dtypes: float64(6), int64(5), object(10)\n",
      "memory usage: 1.1+ MB\n"
     ]
    },
    {
     "data": {
      "text/html": [
       "<div>\n",
       "<style scoped>\n",
       "    .dataframe tbody tr th:only-of-type {\n",
       "        vertical-align: middle;\n",
       "    }\n",
       "\n",
       "    .dataframe tbody tr th {\n",
       "        vertical-align: top;\n",
       "    }\n",
       "\n",
       "    .dataframe thead th {\n",
       "        text-align: right;\n",
       "    }\n",
       "</style>\n",
       "<table border=\"1\" class=\"dataframe\">\n",
       "  <thead>\n",
       "    <tr style=\"text-align: right;\">\n",
       "      <th></th>\n",
       "      <th>color</th>\n",
       "      <th>rating</th>\n",
       "      <th>owners</th>\n",
       "      <th>technicalPassport</th>\n",
       "      <th>age</th>\n",
       "      <th>price_rur</th>\n",
       "      <th>mileage</th>\n",
       "      <th>bodyType</th>\n",
       "      <th>numberOfDoors</th>\n",
       "      <th>autoClass</th>\n",
       "      <th>...</th>\n",
       "      <th>tags</th>\n",
       "      <th>model</th>\n",
       "      <th>name</th>\n",
       "      <th>engineDisplacement</th>\n",
       "      <th>fuelType</th>\n",
       "      <th>drive</th>\n",
       "      <th>vehicleTransmission</th>\n",
       "      <th>enginePower</th>\n",
       "      <th>acceleration</th>\n",
       "      <th>fuel_rate</th>\n",
       "    </tr>\n",
       "  </thead>\n",
       "  <tbody>\n",
       "    <tr>\n",
       "      <td>0</td>\n",
       "      <td>black</td>\n",
       "      <td>4.6</td>\n",
       "      <td>3.0</td>\n",
       "      <td>1.0</td>\n",
       "      <td>16</td>\n",
       "      <td>665000.0</td>\n",
       "      <td>195000</td>\n",
       "      <td>SUV</td>\n",
       "      <td>5</td>\n",
       "      <td>J</td>\n",
       "      <td>...</td>\n",
       "      <td>[big-trunk, oversize, wide-back-seats, all-ter...</td>\n",
       "      <td>X5</td>\n",
       "      <td>3.0d</td>\n",
       "      <td>2993</td>\n",
       "      <td>diesel</td>\n",
       "      <td>4wd</td>\n",
       "      <td>AT</td>\n",
       "      <td>218</td>\n",
       "      <td>8.8</td>\n",
       "      <td>NaN</td>\n",
       "    </tr>\n",
       "    <tr>\n",
       "      <td>1</td>\n",
       "      <td>black</td>\n",
       "      <td>4.8</td>\n",
       "      <td>3.0</td>\n",
       "      <td>1.0</td>\n",
       "      <td>9</td>\n",
       "      <td>899000.0</td>\n",
       "      <td>219000</td>\n",
       "      <td>sedan</td>\n",
       "      <td>4</td>\n",
       "      <td>E</td>\n",
       "      <td>...</td>\n",
       "      <td>[big, big-trunk, wide-back-seats, medium, five...</td>\n",
       "      <td>5ER</td>\n",
       "      <td>520</td>\n",
       "      <td>1995</td>\n",
       "      <td>diesel</td>\n",
       "      <td>rwd</td>\n",
       "      <td>AT</td>\n",
       "      <td>184</td>\n",
       "      <td>8.1</td>\n",
       "      <td>5.2</td>\n",
       "    </tr>\n",
       "    <tr>\n",
       "      <td>2</td>\n",
       "      <td>grey</td>\n",
       "      <td>4.6</td>\n",
       "      <td>3.0</td>\n",
       "      <td>1.0</td>\n",
       "      <td>13</td>\n",
       "      <td>790000.0</td>\n",
       "      <td>155000</td>\n",
       "      <td>SUV</td>\n",
       "      <td>5</td>\n",
       "      <td>J</td>\n",
       "      <td>...</td>\n",
       "      <td>[big, big-trunk, oversize, wide-back-seats, al...</td>\n",
       "      <td>X5</td>\n",
       "      <td>48i</td>\n",
       "      <td>4799</td>\n",
       "      <td>petrol</td>\n",
       "      <td>4wd</td>\n",
       "      <td>AT</td>\n",
       "      <td>355</td>\n",
       "      <td>6.5</td>\n",
       "      <td>12.0</td>\n",
       "    </tr>\n",
       "    <tr>\n",
       "      <td>3</td>\n",
       "      <td>brown</td>\n",
       "      <td>4.6</td>\n",
       "      <td>3.0</td>\n",
       "      <td>1.0</td>\n",
       "      <td>16</td>\n",
       "      <td>530000.0</td>\n",
       "      <td>348000</td>\n",
       "      <td>SUV</td>\n",
       "      <td>5</td>\n",
       "      <td>J</td>\n",
       "      <td>...</td>\n",
       "      <td>[big-trunk, oversize, wide-back-seats, all-ter...</td>\n",
       "      <td>X5</td>\n",
       "      <td>3.0d</td>\n",
       "      <td>2993</td>\n",
       "      <td>diesel</td>\n",
       "      <td>4wd</td>\n",
       "      <td>AT</td>\n",
       "      <td>218</td>\n",
       "      <td>8.8</td>\n",
       "      <td>NaN</td>\n",
       "    </tr>\n",
       "    <tr>\n",
       "      <td>4</td>\n",
       "      <td>black</td>\n",
       "      <td>4.6</td>\n",
       "      <td>2.0</td>\n",
       "      <td>1.0</td>\n",
       "      <td>10</td>\n",
       "      <td>1100000.0</td>\n",
       "      <td>150000</td>\n",
       "      <td>sedan</td>\n",
       "      <td>4</td>\n",
       "      <td>F</td>\n",
       "      <td>...</td>\n",
       "      <td>[big, big-trunk, wide-back-seats]</td>\n",
       "      <td>7ER</td>\n",
       "      <td>730L</td>\n",
       "      <td>2996</td>\n",
       "      <td>petrol</td>\n",
       "      <td>rwd</td>\n",
       "      <td>AT</td>\n",
       "      <td>258</td>\n",
       "      <td>7.8</td>\n",
       "      <td>9.8</td>\n",
       "    </tr>\n",
       "  </tbody>\n",
       "</table>\n",
       "<p>5 rows × 21 columns</p>\n",
       "</div>"
      ],
      "text/plain": [
       "   color  rating  owners  technicalPassport  age  price_rur  mileage bodyType  \\\n",
       "0  black     4.6     3.0                1.0   16   665000.0   195000      SUV   \n",
       "1  black     4.8     3.0                1.0    9   899000.0   219000    sedan   \n",
       "2   grey     4.6     3.0                1.0   13   790000.0   155000      SUV   \n",
       "3  brown     4.6     3.0                1.0   16   530000.0   348000      SUV   \n",
       "4  black     4.6     2.0                1.0   10  1100000.0   150000    sedan   \n",
       "\n",
       "   numberOfDoors autoClass  ...  \\\n",
       "0              5         J  ...   \n",
       "1              4         E  ...   \n",
       "2              5         J  ...   \n",
       "3              5         J  ...   \n",
       "4              4         F  ...   \n",
       "\n",
       "                                                tags model  name  \\\n",
       "0  [big-trunk, oversize, wide-back-seats, all-ter...    X5  3.0d   \n",
       "1  [big, big-trunk, wide-back-seats, medium, five...   5ER   520   \n",
       "2  [big, big-trunk, oversize, wide-back-seats, al...    X5   48i   \n",
       "3  [big-trunk, oversize, wide-back-seats, all-ter...    X5  3.0d   \n",
       "4                  [big, big-trunk, wide-back-seats]   7ER  730L   \n",
       "\n",
       "  engineDisplacement  fuelType drive vehicleTransmission enginePower  \\\n",
       "0               2993    diesel   4wd                  AT         218   \n",
       "1               1995    diesel   rwd                  AT         184   \n",
       "2               4799    petrol   4wd                  AT         355   \n",
       "3               2993    diesel   4wd                  AT         218   \n",
       "4               2996    petrol   rwd                  AT         258   \n",
       "\n",
       "   acceleration  fuel_rate  \n",
       "0           8.8        NaN  \n",
       "1           8.1        5.2  \n",
       "2           6.5       12.0  \n",
       "3           8.8        NaN  \n",
       "4           7.8        9.8  \n",
       "\n",
       "[5 rows x 21 columns]"
      ]
     },
     "execution_count": 76,
     "metadata": {},
     "output_type": "execute_result"
    }
   ],
   "source": [
    "df.info()\n",
    "df.head()"
   ]
  },
  {
   "cell_type": "markdown",
   "metadata": {},
   "source": [
    "Итого у нас остался 21 признак, включая целевой. Продолжим работу с пропусками, выбрасами и созданием новых признаков в ноутбуке на kaggle."
   ]
  },
  {
   "cell_type": "code",
   "execution_count": 79,
   "metadata": {},
   "outputs": [],
   "source": [
    "df.to_csv('autoru.csv')"
   ]
  },
  {
   "cell_type": "code",
   "execution_count": null,
   "metadata": {},
   "outputs": [],
   "source": []
  }
 ],
 "metadata": {
  "kernelspec": {
   "display_name": "Python 3",
   "language": "python",
   "name": "python3"
  },
  "language_info": {
   "codemirror_mode": {
    "name": "ipython",
    "version": 3
   },
   "file_extension": ".py",
   "mimetype": "text/x-python",
   "name": "python",
   "nbconvert_exporter": "python",
   "pygments_lexer": "ipython3",
   "version": "3.7.4"
  }
 },
 "nbformat": 4,
 "nbformat_minor": 2
}
