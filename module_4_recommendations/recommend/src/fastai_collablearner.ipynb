{
 "cells": [
  {
   "cell_type": "code",
   "execution_count": 19,
   "metadata": {
    "_cell_guid": "b1076dfc-b9ad-4769-8c92-a6c4dae69d19",
    "_uuid": "8f2839f25d086af736a60e9eeb907d3b93b6e0e5"
   },
   "outputs": [],
   "source": [
    "import numpy as np\n",
    "import pandas as pd\n",
    "from fastai2.collab import *\n",
    "from fastai2.tabular.all import *"
   ]
  },
  {
   "cell_type": "code",
   "execution_count": 20,
   "metadata": {
    "_cell_guid": "79c7e3d0-c299-4dcb-8224-4455121ee9b0",
    "_uuid": "d629ff2d2480ee46fbb7e2d37f6b5fab8052498a"
   },
   "outputs": [],
   "source": [
    "ratings = pd.read_csv('train.csv')\n",
    "ratings.overall = ratings.overall.astype('int32')"
   ]
  },
  {
   "cell_type": "code",
   "execution_count": 21,
   "metadata": {},
   "outputs": [],
   "source": [
    "ratings = ratings[['userid','itemid','overall','unixReviewTime']]\n",
    "ratings.columns = ['user','item','rating','timestamp']"
   ]
  },
  {
   "cell_type": "code",
   "execution_count": 22,
   "metadata": {},
   "outputs": [
    {
     "output_type": "execute_result",
     "data": {
      "text/plain": "     user   item  rating   timestamp\n0  102179  37138       5  1475539200\n1    3625  17322       5  1456790400\n2   39495   5600       5  1466899200\n3   72854  30249       5  1378339200\n4   74859   4349       5  1473811200",
      "text/html": "<div>\n<style scoped>\n    .dataframe tbody tr th:only-of-type {\n        vertical-align: middle;\n    }\n\n    .dataframe tbody tr th {\n        vertical-align: top;\n    }\n\n    .dataframe thead th {\n        text-align: right;\n    }\n</style>\n<table border=\"1\" class=\"dataframe\">\n  <thead>\n    <tr style=\"text-align: right;\">\n      <th></th>\n      <th>user</th>\n      <th>item</th>\n      <th>rating</th>\n      <th>timestamp</th>\n    </tr>\n  </thead>\n  <tbody>\n    <tr>\n      <th>0</th>\n      <td>102179</td>\n      <td>37138</td>\n      <td>5</td>\n      <td>1475539200</td>\n    </tr>\n    <tr>\n      <th>1</th>\n      <td>3625</td>\n      <td>17322</td>\n      <td>5</td>\n      <td>1456790400</td>\n    </tr>\n    <tr>\n      <th>2</th>\n      <td>39495</td>\n      <td>5600</td>\n      <td>5</td>\n      <td>1466899200</td>\n    </tr>\n    <tr>\n      <th>3</th>\n      <td>72854</td>\n      <td>30249</td>\n      <td>5</td>\n      <td>1378339200</td>\n    </tr>\n    <tr>\n      <th>4</th>\n      <td>74859</td>\n      <td>4349</td>\n      <td>5</td>\n      <td>1473811200</td>\n    </tr>\n  </tbody>\n</table>\n</div>"
     },
     "metadata": {},
     "execution_count": 22
    }
   ],
   "source": [
    "ratings.head()"
   ]
  },
  {
   "cell_type": "code",
   "execution_count": 23,
   "metadata": {
    "scrolled": true
   },
   "outputs": [
    {
     "output_type": "display_data",
     "data": {
      "text/plain": "<IPython.core.display.HTML object>",
      "text/html": "<table border=\"1\" class=\"dataframe\">\n  <thead>\n    <tr style=\"text-align: right;\">\n      <th></th>\n      <th>user</th>\n      <th>item</th>\n      <th>rating</th>\n    </tr>\n  </thead>\n  <tbody>\n    <tr>\n      <th>0</th>\n      <td>16963</td>\n      <td>13420</td>\n      <td>2</td>\n    </tr>\n    <tr>\n      <th>1</th>\n      <td>14538</td>\n      <td>24686</td>\n      <td>5</td>\n    </tr>\n    <tr>\n      <th>2</th>\n      <td>88256</td>\n      <td>6113</td>\n      <td>5</td>\n    </tr>\n    <tr>\n      <th>3</th>\n      <td>125235</td>\n      <td>27000</td>\n      <td>3</td>\n    </tr>\n    <tr>\n      <th>4</th>\n      <td>88295</td>\n      <td>37933</td>\n      <td>5</td>\n    </tr>\n    <tr>\n      <th>5</th>\n      <td>66963</td>\n      <td>29757</td>\n      <td>5</td>\n    </tr>\n    <tr>\n      <th>6</th>\n      <td>44211</td>\n      <td>7558</td>\n      <td>5</td>\n    </tr>\n    <tr>\n      <th>7</th>\n      <td>100406</td>\n      <td>27500</td>\n      <td>5</td>\n    </tr>\n    <tr>\n      <th>8</th>\n      <td>21559</td>\n      <td>6271</td>\n      <td>5</td>\n    </tr>\n    <tr>\n      <th>9</th>\n      <td>85962</td>\n      <td>5767</td>\n      <td>5</td>\n    </tr>\n  </tbody>\n</table>"
     },
     "metadata": {}
    }
   ],
   "source": [
    "dls = CollabDataLoaders.from_df(ratings, item_name='item', bs=64)\n",
    "dls.show_batch()"
   ]
  },
  {
   "cell_type": "code",
   "execution_count": 24,
   "metadata": {},
   "outputs": [
    {
     "output_type": "execute_result",
     "data": {
      "text/plain": "{'user': (#126967) ['#na#',0,1,2,3,4,5,6,7,8...],\n 'item': (#41223) ['#na#',0,1,2,3,4,5,6,7,8...]}"
     },
     "metadata": {},
     "execution_count": 24
    }
   ],
   "source": [
    "dls.classes"
   ]
  },
  {
   "cell_type": "code",
   "execution_count": 25,
   "metadata": {},
   "outputs": [],
   "source": [
    "n_users = len(dls.classes['user'])\n",
    "n_items = len(dls.classes['item'])\n",
    "n_factors = 5\n",
    "\n",
    "user_factors = torch.randn(n_users, n_factors)\n",
    "item_factors = torch.randn(n_items, n_factors)"
   ]
  },
  {
   "cell_type": "code",
   "execution_count": 26,
   "metadata": {},
   "outputs": [],
   "source": [
    "learn = collab_learner(dls, n_factors=50, y_range=(0,5.5))"
   ]
  },
  {
   "cell_type": "code",
   "execution_count": 27,
   "metadata": {
    "scrolled": true
   },
   "outputs": [
    {
     "data": {
      "text/html": "<table border=\"1\" class=\"dataframe\">\n  <thead>\n    <tr style=\"text-align: left;\">\n      <th>epoch</th>\n      <th>train_loss</th>\n      <th>valid_loss</th>\n      <th>time</th>\n    </tr>\n  </thead>\n  <tbody>\n    <tr>\n      <td>0</td>\n      <td>4.009976</td>\n      <td>00:12</td>\n    </tr>\n  </tbody>\n</table>",
      "text/plain": "<IPython.core.display.HTML object>"
     },
     "metadata": {},
     "output_type": "display_data"
    }
   ],
   "source": [
    "learn.fit_one_cycle(5, 1e-3, wd=0.1)"
   ]
  },
  {
   "cell_type": "code",
   "execution_count": 15,
   "metadata": {
    "scrolled": true
   },
   "outputs": [
    {
     "output_type": "execute_result",
     "data": {
      "text/plain": "EmbeddingDotBias(\n  (u_weight): Embedding(126949, 50)\n  (i_weight): Embedding(41217, 50)\n  (u_bias): Embedding(126949, 1)\n  (i_bias): Embedding(41217, 1)\n)"
     },
     "metadata": {},
     "execution_count": 15
    }
   ],
   "source": [
    "learn.model"
   ]
  },
  {
   "cell_type": "markdown",
   "metadata": {},
   "source": [
    "находим самые высокооцененные"
   ]
  },
  {
   "cell_type": "code",
   "execution_count": 16,
   "metadata": {
    "scrolled": true
   },
   "outputs": [
    {
     "output_type": "execute_result",
     "data": {
      "text/plain": "[5195, 24556, 22208, 23540, 1919]"
     },
     "metadata": {},
     "execution_count": 16
    }
   ],
   "source": [
    "movie_bias = learn.model.i_bias.weight.squeeze()\n",
    "idxs = movie_bias.argsort(descending=True)[:5]\n",
    "[dls.classes['movie'][i] for i in idxs]"
   ]
  },
  {
   "cell_type": "markdown",
   "metadata": {},
   "source": [
    "находим ближайшего похожего"
   ]
  },
  {
   "cell_type": "code",
   "execution_count": 31,
   "metadata": {},
   "outputs": [
    {
     "output_type": "execute_result",
     "data": {
      "text/plain": "(#1) ['#na#']"
     },
     "metadata": {},
     "execution_count": 31
    }
   ],
   "source": [
    "movie_factors = learn.model.i_weight.weight\n",
    "idx = dls.classes['movie'].o2i['22208']\n",
    "distances = nn.CosineSimilarity(dim=1)(movie_factors, movie_factors[idx][None])\n",
    "idx = distances.argsort(descending=True)[:1]\n",
    "dls.classes['movie'][idx]"
   ]
  },
  {
   "cell_type": "code",
   "execution_count": null,
   "metadata": {},
   "outputs": [],
   "source": []
  }
 ],
 "metadata": {
  "kernelspec": {
   "display_name": "Python 3",
   "language": "python",
   "name": "python3"
  },
  "language_info": {
   "codemirror_mode": {
    "name": "ipython",
    "version": 3
   },
   "file_extension": ".py",
   "mimetype": "text/x-python",
   "name": "python",
   "nbconvert_exporter": "python",
   "pygments_lexer": "ipython3",
   "version": "3.8.3-final"
  }
 },
 "nbformat": 4,
 "nbformat_minor": 4
}