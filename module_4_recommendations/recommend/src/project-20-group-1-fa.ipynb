{
 "cells": [
  {
   "cell_type": "markdown",
   "execution_count": null,
   "metadata": {
    "papermill": {
     "duration": 0.055199,
     "end_time": "2020-09-04T15:26:46.618975",
     "exception": false,
     "start_time": "2020-09-04T15:26:46.563776",
     "status": "completed"
    },
    "tags": []
   },
   "source": [
    "# Подготовка данных"
   ]
  },
  {
   "cell_type": "code",
   "execution_count": 1,
   "metadata": {
    "_cell_guid": "b1076dfc-b9ad-4769-8c92-a6c4dae69d19",
    "_uuid": "8f2839f25d086af736a60e9eeb907d3b93b6e0e5",
    "execution": {
     "iopub.execute_input": "2020-09-04T15:26:46.734887Z",
     "iopub.status.busy": "2020-09-04T15:26:46.733991Z",
     "iopub.status.idle": "2020-09-04T15:27:42.843383Z",
     "shell.execute_reply": "2020-09-04T15:27:42.842635Z"
    },
    "papermill": {
     "duration": 56.172277,
     "end_time": "2020-09-04T15:27:42.843547",
     "exception": false,
     "start_time": "2020-09-04T15:26:46.671270",
     "status": "completed"
    },
    "tags": []
   },
   "outputs": [
    {
     "name": "stdout",
     "output_type": "stream",
     "text": [
      "/kaggle/input/recommendationsv4/test.csv\n",
      "/kaggle/input/recommendationsv4/sample_submission.csv\n",
      "/kaggle/input/recommendationsv4/meta_Grocery_and_Gourmet_Food.json\n",
      "/kaggle/input/recommendationsv4/train.csv\n"
     ]
    },
    {
     "name": "stderr",
     "output_type": "stream",
     "text": [
      "/opt/conda/lib/python3.7/site-packages/IPython/core/interactiveshell.py:3063: DtypeWarning: Columns (8) have mixed types.Specify dtype option on import or set low_memory=False.\n",
      "  interactivity=interactivity, compiler=compiler, result=result)\n",
      "/opt/conda/lib/python3.7/site-packages/IPython/core/interactiveshell.py:3063: DtypeWarning: Columns (5) have mixed types.Specify dtype option on import or set low_memory=False.\n",
      "  interactivity=interactivity, compiler=compiler, result=result)\n"
     ]
    }
   ],
   "source": [
    "import numpy as np\n",
    "import pandas as pd\n",
    "from collections import Counter\n",
    "import json\n",
    "import re\n",
    "\n",
    "import os\n",
    "for dirname, _, filenames in os.walk('/kaggle/input'):\n",
    "    for filename in filenames:\n",
    "        print(os.path.join(dirname, filename))\n",
    "\n",
    "# Загружаем датасеты\n",
    "train = pd.read_csv('/kaggle/input/recommendationsv4/train.csv')\n",
    "test = pd.read_csv('/kaggle/input/recommendationsv4/test.csv')\n",
    "submission = pd.read_csv('/kaggle/input/recommendationsv4/sample_submission.csv')\n",
    "\n",
    "# Постройчно прочитаем json с метаданными и положим результат в датасет \"meta\"\n",
    "with open('/kaggle/input/recommendationsv4/meta_Grocery_and_Gourmet_Food.json') as f:\n",
    "    meta_list = []\n",
    "    for line in f.readlines():\n",
    "        meta_list.append(json.loads(line))\n",
    "        \n",
    "meta = pd.DataFrame(meta_list)\n",
    "\n",
    "# Удалим дубликаты из тренировочного датасета\n",
    "train.drop_duplicates(inplace = True)\n",
    "\n",
    "# Объединим тренировочный датасет и данные из meta по идентификатору asin (Amazon Standard Identification Number)\n",
    "df_new_train = pd.merge(train, meta, on='asin')\n",
    "#df_new_test = pd.merge(test, meta, on='asin')"
   ]
  },
  {
   "cell_type": "markdown",
   "execution_count": null,
   "metadata": {
    "papermill": {
     "duration": 0.05129,
     "end_time": "2020-09-04T15:27:42.948309",
     "exception": false,
     "start_time": "2020-09-04T15:27:42.897019",
     "status": "completed"
    },
    "tags": []
   },
   "source": [
    "Посмотрим для начала на тестовый и тренировочный датасеты"
   ]
  },
  {
   "cell_type": "code",
   "execution_count": 2,
   "metadata": {
    "execution": {
     "iopub.execute_input": "2020-09-04T15:27:43.063625Z",
     "iopub.status.busy": "2020-09-04T15:27:43.062834Z",
     "iopub.status.idle": "2020-09-04T15:27:43.924272Z",
     "shell.execute_reply": "2020-09-04T15:27:43.924952Z"
    },
    "papermill": {
     "duration": 0.924791,
     "end_time": "2020-09-04T15:27:43.925203",
     "exception": false,
     "start_time": "2020-09-04T15:27:43.000412",
     "status": "completed"
    },
    "tags": []
   },
   "outputs": [
    {
     "name": "stdout",
     "output_type": "stream",
     "text": [
      "<class 'pandas.core.frame.DataFrame'>\n",
      "Int64Index: 828935 entries, 0 to 857894\n",
      "Data columns (total 14 columns):\n",
      " #   Column          Non-Null Count   Dtype  \n",
      "---  ------          --------------   -----  \n",
      " 0   overall         828935 non-null  float64\n",
      " 1   verified        828935 non-null  bool   \n",
      " 2   reviewTime      828935 non-null  object \n",
      " 3   asin            828935 non-null  object \n",
      " 4   reviewerName    828771 non-null  object \n",
      " 5   reviewText      828661 non-null  object \n",
      " 6   summary         828769 non-null  object \n",
      " 7   unixReviewTime  828935 non-null  int64  \n",
      " 8   vote            115991 non-null  object \n",
      " 9   style           429265 non-null  object \n",
      " 10  image           7026 non-null    object \n",
      " 11  userid          828935 non-null  int64  \n",
      " 12  itemid          828935 non-null  int64  \n",
      " 13  rating          828935 non-null  float64\n",
      "dtypes: bool(1), float64(2), int64(3), object(8)\n",
      "memory usage: 89.3+ MB\n",
      "<class 'pandas.core.frame.DataFrame'>\n",
      "RangeIndex: 285965 entries, 0 to 285964\n",
      "Data columns (total 11 columns):\n",
      " #   Column          Non-Null Count   Dtype \n",
      "---  ------          --------------   ----- \n",
      " 0   verified        285965 non-null  bool  \n",
      " 1   reviewTime      285965 non-null  object\n",
      " 2   asin            285965 non-null  object\n",
      " 3   reviewerName    285918 non-null  object\n",
      " 4   unixReviewTime  285965 non-null  int64 \n",
      " 5   vote            39462 non-null   object\n",
      " 6   style           147680 non-null  object\n",
      " 7   image           2368 non-null    object\n",
      " 8   userid          285965 non-null  int64 \n",
      " 9   itemid          285965 non-null  int64 \n",
      " 10  Id              285965 non-null  int64 \n",
      "dtypes: bool(1), int64(4), object(6)\n",
      "memory usage: 22.1+ MB\n"
     ]
    }
   ],
   "source": [
    "train.info()\n",
    "test.info()"
   ]
  },
  {
   "cell_type": "markdown",
   "execution_count": null,
   "metadata": {
    "papermill": {
     "duration": 0.061426,
     "end_time": "2020-09-04T15:27:44.041842",
     "exception": false,
     "start_time": "2020-09-04T15:27:43.980416",
     "status": "completed"
    },
    "tags": []
   },
   "source": [
    "Видим, что в тренировочном датасете на три столбца больше:\n",
    "* присутствует overall - оценка по пятибальной шкале\n",
    "* присутствует reviewText - текст отзыва\n",
    "* присутствует summary - краткое содержание отзыва\n",
    "* присутствует rating - целевая переманная\n",
    "* отсутствует Id"
   ]
  },
  {
   "cell_type": "markdown",
   "execution_count": null,
   "metadata": {
    "papermill": {
     "duration": 0.054332,
     "end_time": "2020-09-04T15:27:44.154731",
     "exception": false,
     "start_time": "2020-09-04T15:27:44.100399",
     "status": "completed"
    },
    "tags": []
   },
   "source": [
    "Создадим копию расширенного датасета df_new, чтобы каждый раз заново не загружать данные, если что-то испортим."
   ]
  },
  {
   "cell_type": "code",
   "execution_count": 3,
   "metadata": {
    "execution": {
     "iopub.execute_input": "2020-09-04T15:27:44.276364Z",
     "iopub.status.busy": "2020-09-04T15:27:44.275468Z",
     "iopub.status.idle": "2020-09-04T15:27:45.875166Z",
     "shell.execute_reply": "2020-09-04T15:27:45.874113Z"
    },
    "papermill": {
     "duration": 1.663011,
     "end_time": "2020-09-04T15:27:45.875362",
     "exception": false,
     "start_time": "2020-09-04T15:27:44.212351",
     "status": "completed"
    },
    "tags": []
   },
   "outputs": [],
   "source": [
    "df = df_new_train.copy()\n",
    "#df_test = df_new_test.copy()"
   ]
  },
  {
   "cell_type": "markdown",
   "execution_count": null,
   "metadata": {
    "papermill": {
     "duration": 0.052273,
     "end_time": "2020-09-04T15:27:45.982884",
     "exception": false,
     "start_time": "2020-09-04T15:27:45.930611",
     "status": "completed"
    },
    "tags": []
   },
   "source": [
    "# EDA"
   ]
  },
  {
   "cell_type": "markdown",
   "execution_count": null,
   "metadata": {
    "papermill": {
     "duration": 0.051797,
     "end_time": "2020-09-04T15:27:46.150610",
     "exception": false,
     "start_time": "2020-09-04T15:27:46.098813",
     "status": "completed"
    },
    "tags": []
   },
   "source": [
    "Посмотрим на датасет"
   ]
  },
  {
   "cell_type": "code",
   "execution_count": 4,
   "metadata": {
    "execution": {
     "iopub.execute_input": "2020-09-04T15:27:46.289432Z",
     "iopub.status.busy": "2020-09-04T15:27:46.288578Z",
     "iopub.status.idle": "2020-09-04T15:27:46.315509Z",
     "shell.execute_reply": "2020-09-04T15:27:46.314638Z"
    },
    "papermill": {
     "duration": 0.112652,
     "end_time": "2020-09-04T15:27:46.315642",
     "exception": false,
     "start_time": "2020-09-04T15:27:46.202990",
     "status": "completed"
    },
    "tags": []
   },
   "outputs": [
    {
     "data": {
      "text/html": [
       "<div>\n",
       "<style scoped>\n",
       "    .dataframe tbody tr th:only-of-type {\n",
       "        vertical-align: middle;\n",
       "    }\n",
       "\n",
       "    .dataframe tbody tr th {\n",
       "        vertical-align: top;\n",
       "    }\n",
       "\n",
       "    .dataframe thead th {\n",
       "        text-align: right;\n",
       "    }\n",
       "</style>\n",
       "<table border=\"1\" class=\"dataframe\">\n",
       "  <thead>\n",
       "    <tr style=\"text-align: right;\">\n",
       "      <th></th>\n",
       "      <th>overall</th>\n",
       "      <th>verified</th>\n",
       "      <th>reviewTime</th>\n",
       "      <th>asin</th>\n",
       "      <th>reviewerName</th>\n",
       "      <th>reviewText</th>\n",
       "      <th>summary</th>\n",
       "      <th>unixReviewTime</th>\n",
       "      <th>vote</th>\n",
       "      <th>style</th>\n",
       "      <th>...</th>\n",
       "      <th>main_cat</th>\n",
       "      <th>price</th>\n",
       "      <th>also_buy</th>\n",
       "      <th>image_y</th>\n",
       "      <th>date</th>\n",
       "      <th>feature</th>\n",
       "      <th>details</th>\n",
       "      <th>similar_item</th>\n",
       "      <th>tech1</th>\n",
       "      <th>fit</th>\n",
       "    </tr>\n",
       "  </thead>\n",
       "  <tbody>\n",
       "    <tr>\n",
       "      <th>0</th>\n",
       "      <td>5.0</td>\n",
       "      <td>True</td>\n",
       "      <td>10 4, 2016</td>\n",
       "      <td>B01CPNIEQG</td>\n",
       "      <td>Heather</td>\n",
       "      <td>These are my FAVORITE spices in my collection....</td>\n",
       "      <td>Must Add to your Spice kitchen!</td>\n",
       "      <td>1475539200</td>\n",
       "      <td>NaN</td>\n",
       "      <td>NaN</td>\n",
       "      <td>...</td>\n",
       "      <td>Grocery</td>\n",
       "      <td>$9.95</td>\n",
       "      <td>[B01DGZ2B48, B01EZ489AO, B01DH795LM, B01EYW2LC...</td>\n",
       "      <td>[https://images-na.ssl-images-amazon.com/image...</td>\n",
       "      <td>NaN</td>\n",
       "      <td>NaN</td>\n",
       "      <td>\\n      &lt;div class=\"content\"&gt;\\n\\n\\n\\n\\n\\n\\n&lt;ul...</td>\n",
       "      <td>NaN</td>\n",
       "      <td>NaN</td>\n",
       "      <td>NaN</td>\n",
       "    </tr>\n",
       "    <tr>\n",
       "      <th>1</th>\n",
       "      <td>5.0</td>\n",
       "      <td>False</td>\n",
       "      <td>03 31, 2017</td>\n",
       "      <td>B01CPNIEQG</td>\n",
       "      <td>Tina McClain</td>\n",
       "      <td>Love this seasoning on chicken! The flavor is ...</td>\n",
       "      <td>Love all their seasoning!!</td>\n",
       "      <td>1490918400</td>\n",
       "      <td>NaN</td>\n",
       "      <td>NaN</td>\n",
       "      <td>...</td>\n",
       "      <td>Grocery</td>\n",
       "      <td>$9.95</td>\n",
       "      <td>[B01DGZ2B48, B01EZ489AO, B01DH795LM, B01EYW2LC...</td>\n",
       "      <td>[https://images-na.ssl-images-amazon.com/image...</td>\n",
       "      <td>NaN</td>\n",
       "      <td>NaN</td>\n",
       "      <td>\\n      &lt;div class=\"content\"&gt;\\n\\n\\n\\n\\n\\n\\n&lt;ul...</td>\n",
       "      <td>NaN</td>\n",
       "      <td>NaN</td>\n",
       "      <td>NaN</td>\n",
       "    </tr>\n",
       "    <tr>\n",
       "      <th>2</th>\n",
       "      <td>3.0</td>\n",
       "      <td>True</td>\n",
       "      <td>03 11, 2017</td>\n",
       "      <td>B01CPNIEQG</td>\n",
       "      <td>Ella</td>\n",
       "      <td>Ummm....interesting spice blend, but not reall...</td>\n",
       "      <td>It's not a bad taste, but they really shouldn'...</td>\n",
       "      <td>1489190400</td>\n",
       "      <td>4</td>\n",
       "      <td>NaN</td>\n",
       "      <td>...</td>\n",
       "      <td>Grocery</td>\n",
       "      <td>$9.95</td>\n",
       "      <td>[B01DGZ2B48, B01EZ489AO, B01DH795LM, B01EYW2LC...</td>\n",
       "      <td>[https://images-na.ssl-images-amazon.com/image...</td>\n",
       "      <td>NaN</td>\n",
       "      <td>NaN</td>\n",
       "      <td>\\n      &lt;div class=\"content\"&gt;\\n\\n\\n\\n\\n\\n\\n&lt;ul...</td>\n",
       "      <td>NaN</td>\n",
       "      <td>NaN</td>\n",
       "      <td>NaN</td>\n",
       "    </tr>\n",
       "    <tr>\n",
       "      <th>3</th>\n",
       "      <td>5.0</td>\n",
       "      <td>False</td>\n",
       "      <td>05 18, 2016</td>\n",
       "      <td>B01CPNIEQG</td>\n",
       "      <td>A. Yeager</td>\n",
       "      <td>I have loved adobo seasoning for years. Once I...</td>\n",
       "      <td>I have loved adobo seasoning for years</td>\n",
       "      <td>1463529600</td>\n",
       "      <td>NaN</td>\n",
       "      <td>NaN</td>\n",
       "      <td>...</td>\n",
       "      <td>Grocery</td>\n",
       "      <td>$9.95</td>\n",
       "      <td>[B01DGZ2B48, B01EZ489AO, B01DH795LM, B01EYW2LC...</td>\n",
       "      <td>[https://images-na.ssl-images-amazon.com/image...</td>\n",
       "      <td>NaN</td>\n",
       "      <td>NaN</td>\n",
       "      <td>\\n      &lt;div class=\"content\"&gt;\\n\\n\\n\\n\\n\\n\\n&lt;ul...</td>\n",
       "      <td>NaN</td>\n",
       "      <td>NaN</td>\n",
       "      <td>NaN</td>\n",
       "    </tr>\n",
       "    <tr>\n",
       "      <th>4</th>\n",
       "      <td>5.0</td>\n",
       "      <td>False</td>\n",
       "      <td>05 18, 2016</td>\n",
       "      <td>B01CPNIEQG</td>\n",
       "      <td>LuvstoShop</td>\n",
       "      <td>I love this blend. It makes my hashbrowns! So ...</td>\n",
       "      <td>Five Stars</td>\n",
       "      <td>1463529600</td>\n",
       "      <td>NaN</td>\n",
       "      <td>NaN</td>\n",
       "      <td>...</td>\n",
       "      <td>Grocery</td>\n",
       "      <td>$9.95</td>\n",
       "      <td>[B01DGZ2B48, B01EZ489AO, B01DH795LM, B01EYW2LC...</td>\n",
       "      <td>[https://images-na.ssl-images-amazon.com/image...</td>\n",
       "      <td>NaN</td>\n",
       "      <td>NaN</td>\n",
       "      <td>\\n      &lt;div class=\"content\"&gt;\\n\\n\\n\\n\\n\\n\\n&lt;ul...</td>\n",
       "      <td>NaN</td>\n",
       "      <td>NaN</td>\n",
       "      <td>NaN</td>\n",
       "    </tr>\n",
       "  </tbody>\n",
       "</table>\n",
       "<p>5 rows × 30 columns</p>\n",
       "</div>"
      ],
      "text/plain": [
       "   overall  verified   reviewTime        asin  reviewerName  \\\n",
       "0      5.0      True   10 4, 2016  B01CPNIEQG       Heather   \n",
       "1      5.0     False  03 31, 2017  B01CPNIEQG  Tina McClain   \n",
       "2      3.0      True  03 11, 2017  B01CPNIEQG          Ella   \n",
       "3      5.0     False  05 18, 2016  B01CPNIEQG     A. Yeager   \n",
       "4      5.0     False  05 18, 2016  B01CPNIEQG    LuvstoShop   \n",
       "\n",
       "                                          reviewText  \\\n",
       "0  These are my FAVORITE spices in my collection....   \n",
       "1  Love this seasoning on chicken! The flavor is ...   \n",
       "2  Ummm....interesting spice blend, but not reall...   \n",
       "3  I have loved adobo seasoning for years. Once I...   \n",
       "4  I love this blend. It makes my hashbrowns! So ...   \n",
       "\n",
       "                                             summary  unixReviewTime vote  \\\n",
       "0                    Must Add to your Spice kitchen!      1475539200  NaN   \n",
       "1                         Love all their seasoning!!      1490918400  NaN   \n",
       "2  It's not a bad taste, but they really shouldn'...      1489190400    4   \n",
       "3             I have loved adobo seasoning for years      1463529600  NaN   \n",
       "4                                         Five Stars      1463529600  NaN   \n",
       "\n",
       "  style  ... main_cat  price  \\\n",
       "0   NaN  ...  Grocery  $9.95   \n",
       "1   NaN  ...  Grocery  $9.95   \n",
       "2   NaN  ...  Grocery  $9.95   \n",
       "3   NaN  ...  Grocery  $9.95   \n",
       "4   NaN  ...  Grocery  $9.95   \n",
       "\n",
       "                                            also_buy  \\\n",
       "0  [B01DGZ2B48, B01EZ489AO, B01DH795LM, B01EYW2LC...   \n",
       "1  [B01DGZ2B48, B01EZ489AO, B01DH795LM, B01EYW2LC...   \n",
       "2  [B01DGZ2B48, B01EZ489AO, B01DH795LM, B01EYW2LC...   \n",
       "3  [B01DGZ2B48, B01EZ489AO, B01DH795LM, B01EYW2LC...   \n",
       "4  [B01DGZ2B48, B01EZ489AO, B01DH795LM, B01EYW2LC...   \n",
       "\n",
       "                                             image_y date feature  \\\n",
       "0  [https://images-na.ssl-images-amazon.com/image...  NaN     NaN   \n",
       "1  [https://images-na.ssl-images-amazon.com/image...  NaN     NaN   \n",
       "2  [https://images-na.ssl-images-amazon.com/image...  NaN     NaN   \n",
       "3  [https://images-na.ssl-images-amazon.com/image...  NaN     NaN   \n",
       "4  [https://images-na.ssl-images-amazon.com/image...  NaN     NaN   \n",
       "\n",
       "                                             details similar_item tech1  fit  \n",
       "0  \\n      <div class=\"content\">\\n\\n\\n\\n\\n\\n\\n<ul...          NaN   NaN  NaN  \n",
       "1  \\n      <div class=\"content\">\\n\\n\\n\\n\\n\\n\\n<ul...          NaN   NaN  NaN  \n",
       "2  \\n      <div class=\"content\">\\n\\n\\n\\n\\n\\n\\n<ul...          NaN   NaN  NaN  \n",
       "3  \\n      <div class=\"content\">\\n\\n\\n\\n\\n\\n\\n<ul...          NaN   NaN  NaN  \n",
       "4  \\n      <div class=\"content\">\\n\\n\\n\\n\\n\\n\\n<ul...          NaN   NaN  NaN  \n",
       "\n",
       "[5 rows x 30 columns]"
      ]
     },
     "execution_count": 4,
     "metadata": {},
     "output_type": "execute_result"
    }
   ],
   "source": [
    "df.head(5)"
   ]
  },
  {
   "cell_type": "code",
   "execution_count": 5,
   "metadata": {
    "execution": {
     "iopub.execute_input": "2020-09-04T15:27:46.429135Z",
     "iopub.status.busy": "2020-09-04T15:27:46.428327Z",
     "iopub.status.idle": "2020-09-04T15:27:48.638503Z",
     "shell.execute_reply": "2020-09-04T15:27:48.639483Z"
    },
    "papermill": {
     "duration": 2.270538,
     "end_time": "2020-09-04T15:27:48.639668",
     "exception": false,
     "start_time": "2020-09-04T15:27:46.369130",
     "status": "completed"
    },
    "tags": []
   },
   "outputs": [
    {
     "name": "stdout",
     "output_type": "stream",
     "text": [
      "<class 'pandas.core.frame.DataFrame'>\n",
      "Int64Index: 847593 entries, 0 to 847592\n",
      "Data columns (total 30 columns):\n",
      " #   Column          Non-Null Count   Dtype  \n",
      "---  ------          --------------   -----  \n",
      " 0   overall         847593 non-null  float64\n",
      " 1   verified        847593 non-null  bool   \n",
      " 2   reviewTime      847593 non-null  object \n",
      " 3   asin            847593 non-null  object \n",
      " 4   reviewerName    847425 non-null  object \n",
      " 5   reviewText      847315 non-null  object \n",
      " 6   summary         847426 non-null  object \n",
      " 7   unixReviewTime  847593 non-null  int64  \n",
      " 8   vote            118861 non-null  object \n",
      " 9   style           440351 non-null  object \n",
      " 10  image_x         7138 non-null    object \n",
      " 11  userid          847593 non-null  int64  \n",
      " 12  itemid          847593 non-null  int64  \n",
      " 13  rating          847593 non-null  float64\n",
      " 14  category        847593 non-null  object \n",
      " 15  description     776098 non-null  object \n",
      " 16  title           847593 non-null  object \n",
      " 17  brand           841489 non-null  object \n",
      " 18  rank            812995 non-null  object \n",
      " 19  also_view       463371 non-null  object \n",
      " 20  main_cat        846638 non-null  object \n",
      " 21  price           588972 non-null  object \n",
      " 22  also_buy        726858 non-null  object \n",
      " 23  image_y         755354 non-null  object \n",
      " 24  date            12087 non-null   object \n",
      " 25  feature         142734 non-null  object \n",
      " 26  details         832985 non-null  object \n",
      " 27  similar_item    1138 non-null    object \n",
      " 28  tech1           4372 non-null    object \n",
      " 29  fit             0 non-null       object \n",
      "dtypes: bool(1), float64(2), int64(3), object(24)\n",
      "memory usage: 194.8+ MB\n"
     ]
    }
   ],
   "source": [
    "df.info()"
   ]
  },
  {
   "cell_type": "markdown",
   "execution_count": null,
   "metadata": {
    "papermill": {
     "duration": 0.057095,
     "end_time": "2020-09-04T15:27:48.751521",
     "exception": false,
     "start_time": "2020-09-04T15:27:48.694426",
     "status": "completed"
    },
    "tags": []
   },
   "source": [
    "Всего 30 признаков. 1 бинарный, 5 числовых и 24 категориальных. Пройдемся по признакам."
   ]
  },
  {
   "cell_type": "markdown",
   "execution_count": null,
   "metadata": {
    "papermill": {
     "duration": 0.055352,
     "end_time": "2020-09-04T15:27:48.861007",
     "exception": false,
     "start_time": "2020-09-04T15:27:48.805655",
     "status": "completed"
    },
    "tags": []
   },
   "source": [
    "Напишем функцию, которая выдаст нам необходимую информацию для первичного анализа признака."
   ]
  },
  {
   "cell_type": "code",
   "execution_count": 6,
   "metadata": {
    "execution": {
     "iopub.execute_input": "2020-09-04T15:27:48.981622Z",
     "iopub.status.busy": "2020-09-04T15:27:48.980431Z",
     "iopub.status.idle": "2020-09-04T15:27:48.983595Z",
     "shell.execute_reply": "2020-09-04T15:27:48.984201Z"
    },
    "papermill": {
     "duration": 0.068617,
     "end_time": "2020-09-04T15:27:48.984371",
     "exception": false,
     "start_time": "2020-09-04T15:27:48.915754",
     "status": "completed"
    },
    "tags": []
   },
   "outputs": [],
   "source": [
    "# Функция без гистограммы\n",
    "def col_info(ys):\n",
    "    print('Количество пропусков: {},'.format(ys.isnull().sum()))\n",
    "    print('{},'.format(ys.describe()))\n",
    "    print('Распределение:\\n{},'.format(ys.value_counts()))\n",
    "\n",
    "# Функция с гистограммой\n",
    "def col_info_hist(ys):\n",
    "    print('Количество пропусков: {},'.format(ys.isnull().sum()))\n",
    "    print('{},'.format(ys.describe()))\n",
    "    print('Распределение:\\n{},'.format(ys.value_counts()))\n",
    "    ys.hist()"
   ]
  },
  {
   "cell_type": "markdown",
   "execution_count": null,
   "metadata": {
    "papermill": {
     "duration": 0.05516,
     "end_time": "2020-09-04T15:27:49.102771",
     "exception": false,
     "start_time": "2020-09-04T15:27:49.047611",
     "status": "completed"
    },
    "tags": []
   },
   "source": [
    "## Overall"
   ]
  },
  {
   "cell_type": "code",
   "execution_count": 7,
   "metadata": {
    "execution": {
     "iopub.execute_input": "2020-09-04T15:27:49.224554Z",
     "iopub.status.busy": "2020-09-04T15:27:49.223648Z",
     "iopub.status.idle": "2020-09-04T15:27:49.629828Z",
     "shell.execute_reply": "2020-09-04T15:27:49.629062Z"
    },
    "papermill": {
     "duration": 0.46919,
     "end_time": "2020-09-04T15:27:49.629993",
     "exception": false,
     "start_time": "2020-09-04T15:27:49.160803",
     "status": "completed"
    },
    "tags": []
   },
   "outputs": [
    {
     "name": "stdout",
     "output_type": "stream",
     "text": [
      "Количество пропусков: 0,\n",
      "count    847593.000000\n",
      "mean          4.441068\n",
      "std           1.065026\n",
      "min           1.000000\n",
      "25%           4.000000\n",
      "50%           5.000000\n",
      "75%           5.000000\n",
      "max           5.000000\n",
      "Name: overall, dtype: float64,\n",
      "Распределение:\n",
      "5.0    607524\n",
      "4.0    111868\n",
      "3.0     59795\n",
      "1.0     37071\n",
      "2.0     31335\n",
      "Name: overall, dtype: int64,\n"
     ]
    },
    {
     "data": {
      "image/png": "[encoded data removed]",
      "text/plain": [
       "<Figure size 432x288 with 1 Axes>"
      ]
     },
     "metadata": {
      "needs_background": "light"
     },
     "output_type": "display_data"
    }
   ],
   "source": [
    "col_info_hist(df.overall)"
   ]
  },
  {
   "cell_type": "markdown",
   "execution_count": null,
   "metadata": {
    "papermill": {
     "duration": 0.054532,
     "end_time": "2020-09-04T15:27:49.738262",
     "exception": false,
     "start_time": "2020-09-04T15:27:49.683730",
     "status": "completed"
    },
    "tags": []
   },
   "source": [
    "Похоже на оценку по пятибальной шкале. Подавляющее большинство - пятерки. Данного признака нет в тестовой выборке, но мы можем использовать его для анализа других признаков.[](http://)"
   ]
  },
  {
   "cell_type": "code",
   "execution_count": 8,
   "metadata": {
    "execution": {
     "iopub.execute_input": "2020-09-04T15:27:49.852582Z",
     "iopub.status.busy": "2020-09-04T15:27:49.851700Z",
     "iopub.status.idle": "2020-09-04T15:27:49.861985Z",
     "shell.execute_reply": "2020-09-04T15:27:49.861209Z"
    },
    "papermill": {
     "duration": 0.069329,
     "end_time": "2020-09-04T15:27:49.862138",
     "exception": false,
     "start_time": "2020-09-04T15:27:49.792809",
     "status": "completed"
    },
    "tags": []
   },
   "outputs": [],
   "source": [
    "df['overall']=df['overall'].astype('int32')"
   ]
  },
  {
   "cell_type": "markdown",
   "execution_count": null,
   "metadata": {
    "papermill": {
     "duration": 0.054793,
     "end_time": "2020-09-04T15:27:49.970911",
     "exception": false,
     "start_time": "2020-09-04T15:27:49.916118",
     "status": "completed"
    },
    "tags": []
   },
   "source": [
    "## verified"
   ]
  },
  {
   "cell_type": "code",
   "execution_count": 9,
   "metadata": {
    "execution": {
     "iopub.execute_input": "2020-09-04T15:27:50.093804Z",
     "iopub.status.busy": "2020-09-04T15:27:50.092967Z",
     "iopub.status.idle": "2020-09-04T15:27:50.128788Z",
     "shell.execute_reply": "2020-09-04T15:27:50.127623Z"
    },
    "papermill": {
     "duration": 0.097332,
     "end_time": "2020-09-04T15:27:50.128961",
     "exception": false,
     "start_time": "2020-09-04T15:27:50.031629",
     "status": "completed"
    },
    "tags": []
   },
   "outputs": [
    {
     "name": "stdout",
     "output_type": "stream",
     "text": [
      "Количество пропусков: 0,\n",
      "count     847593\n",
      "unique         2\n",
      "top         True\n",
      "freq      736369\n",
      "Name: verified, dtype: object,\n",
      "Распределение:\n",
      "True     736369\n",
      "False    111224\n",
      "Name: verified, dtype: int64,\n"
     ]
    }
   ],
   "source": [
    "col_info(df.verified)"
   ]
  },
  {
   "cell_type": "markdown",
   "execution_count": null,
   "metadata": {
    "papermill": {
     "duration": 0.054615,
     "end_time": "2020-09-04T15:27:50.237849",
     "exception": false,
     "start_time": "2020-09-04T15:27:50.183234",
     "status": "completed"
    },
    "tags": []
   },
   "source": [
    "Данный признак скорее всего означает, что либо комментарий, либо аккаунт пользователя подтвержден. Пропусков нет.\n",
    "Заменим значения на 1 и 0."
   ]
  },
  {
   "cell_type": "code",
   "execution_count": 10,
   "metadata": {
    "execution": {
     "iopub.execute_input": "2020-09-04T15:27:50.360958Z",
     "iopub.status.busy": "2020-09-04T15:27:50.360113Z",
     "iopub.status.idle": "2020-09-04T15:27:50.464275Z",
     "shell.execute_reply": "2020-09-04T15:27:50.463421Z"
    },
    "papermill": {
     "duration": 0.169776,
     "end_time": "2020-09-04T15:27:50.464409",
     "exception": false,
     "start_time": "2020-09-04T15:27:50.294633",
     "status": "completed"
    },
    "tags": []
   },
   "outputs": [],
   "source": [
    "dic_verified = {\n",
    "    True: 1,\n",
    "    False: 0\n",
    "}\n",
    "df['verified'] = df['verified'].map(dic_verified)\n",
    "#df_test['verified'] = df_test['verified'].map(dic_verified)"
   ]
  },
  {
   "cell_type": "markdown",
   "execution_count": null,
   "metadata": {
    "papermill": {
     "duration": 0.056461,
     "end_time": "2020-09-04T15:27:50.575196",
     "exception": false,
     "start_time": "2020-09-04T15:27:50.518735",
     "status": "completed"
    },
    "tags": []
   },
   "source": [
    "Посмотрим, как влияет признак verified на среднюю оценку."
   ]
  },
  {
   "cell_type": "code",
   "execution_count": 11,
   "metadata": {
    "execution": {
     "iopub.execute_input": "2020-09-04T15:27:50.694670Z",
     "iopub.status.busy": "2020-09-04T15:27:50.693732Z",
     "iopub.status.idle": "2020-09-04T15:27:51.677370Z",
     "shell.execute_reply": "2020-09-04T15:27:51.676559Z"
    },
    "papermill": {
     "duration": 1.047034,
     "end_time": "2020-09-04T15:27:51.677502",
     "exception": false,
     "start_time": "2020-09-04T15:27:50.630468",
     "status": "completed"
    },
    "tags": []
   },
   "outputs": [
    {
     "name": "stdout",
     "output_type": "stream",
     "text": [
      "Средняя оценка при значении verified = 1:  4.479455273103566\n",
      "Средняя оценка при значении verified = 0:  4.186920089189384\n"
     ]
    },
    {
     "data": {
      "text/plain": [
       "<matplotlib.axes._subplots.AxesSubplot at 0x7f01ad038d10>"
      ]
     },
     "execution_count": 11,
     "metadata": {},
     "output_type": "execute_result"
    },
    {
     "data": {
      "image/png": "[encoded data removed]",
      "text/plain": [
       "<Figure size 432x288 with 1 Axes>"
      ]
     },
     "metadata": {
      "needs_background": "light"
     },
     "output_type": "display_data"
    }
   ],
   "source": [
    "print('Средняя оценка при значении verified = 1: ',df[df.verified == 1].overall.mean())\n",
    "df['overall'][df['verified'] == 1].hist(bins=10)\n",
    "print('Средняя оценка при значении verified = 0: ',df[df.verified == 0].overall.mean())\n",
    "df['overall'][df['verified'] == 0].hist(bins=10)"
   ]
  },
  {
   "cell_type": "markdown",
   "execution_count": null,
   "metadata": {
    "papermill": {
     "duration": 0.052961,
     "end_time": "2020-09-04T15:27:51.785051",
     "exception": false,
     "start_time": "2020-09-04T15:27:51.732090",
     "status": "completed"
    },
    "tags": []
   },
   "source": [
    "Видим, что средняя оценка товаров с признаком verified = 1 выше, но в целом распределение оценок похожее."
   ]
  },
  {
   "cell_type": "markdown",
   "execution_count": null,
   "metadata": {
    "papermill": {
     "duration": 0.05442,
     "end_time": "2020-09-04T15:27:51.892786",
     "exception": false,
     "start_time": "2020-09-04T15:27:51.838366",
     "status": "completed"
    },
    "tags": []
   },
   "source": [
    "## reviewTime"
   ]
  },
  {
   "cell_type": "code",
   "execution_count": 12,
   "metadata": {
    "execution": {
     "iopub.execute_input": "2020-09-04T15:27:52.120236Z",
     "iopub.status.busy": "2020-09-04T15:27:52.008813Z",
     "iopub.status.idle": "2020-09-04T15:27:52.815167Z",
     "shell.execute_reply": "2020-09-04T15:27:52.813626Z"
    },
    "papermill": {
     "duration": 0.866659,
     "end_time": "2020-09-04T15:27:52.815351",
     "exception": false,
     "start_time": "2020-09-04T15:27:51.948692",
     "status": "completed"
    },
    "tags": []
   },
   "outputs": [
    {
     "name": "stdout",
     "output_type": "stream",
     "text": [
      "Количество пропусков: 0,\n",
      "count         847593\n",
      "unique          4580\n",
      "top       03 1, 2016\n",
      "freq             941\n",
      "Name: reviewTime, dtype: object,\n",
      "Распределение:\n",
      "03 1, 2016     941\n",
      "07 14, 2016    873\n",
      "01 20, 2016    783\n",
      "06 3, 2015     783\n",
      "02 20, 2016    767\n",
      "              ... \n",
      "06 4, 2006       1\n",
      "04 18, 2005      1\n",
      "02 4, 2006       1\n",
      "03 5, 2006       1\n",
      "06 29, 2006      1\n",
      "Name: reviewTime, Length: 4580, dtype: int64,\n"
     ]
    }
   ],
   "source": [
    "col_info(df.reviewTime)"
   ]
  },
  {
   "cell_type": "markdown",
   "execution_count": null,
   "metadata": {
    "papermill": {
     "duration": 0.053824,
     "end_time": "2020-09-04T15:27:52.924988",
     "exception": false,
     "start_time": "2020-09-04T15:27:52.871164",
     "status": "completed"
    },
    "tags": []
   },
   "source": [
    "Дата отзыва. Эта информация есть в колонке unixReviewTime в более удобном формате. Удалим данный столбец."
   ]
  },
  {
   "cell_type": "code",
   "execution_count": 13,
   "metadata": {
    "execution": {
     "iopub.execute_input": "2020-09-04T15:27:53.149707Z",
     "iopub.status.busy": "2020-09-04T15:27:53.053609Z",
     "iopub.status.idle": "2020-09-04T15:27:53.374498Z",
     "shell.execute_reply": "2020-09-04T15:27:53.373739Z"
    },
    "papermill": {
     "duration": 0.395081,
     "end_time": "2020-09-04T15:27:53.374665",
     "exception": false,
     "start_time": "2020-09-04T15:27:52.979584",
     "status": "completed"
    },
    "tags": []
   },
   "outputs": [],
   "source": [
    "df = df.drop(['reviewTime'], axis=1)\n",
    "#df_test = df_test.drop(['reviewTime'], axis=1)"
   ]
  },
  {
   "cell_type": "markdown",
   "execution_count": null,
   "metadata": {
    "papermill": {
     "duration": 0.054906,
     "end_time": "2020-09-04T15:27:53.484055",
     "exception": false,
     "start_time": "2020-09-04T15:27:53.429149",
     "status": "completed"
    },
    "tags": []
   },
   "source": [
    "## reviewerName"
   ]
  },
  {
   "cell_type": "code",
   "execution_count": 14,
   "metadata": {
    "execution": {
     "iopub.execute_input": "2020-09-04T15:27:53.738429Z",
     "iopub.status.busy": "2020-09-04T15:27:53.737640Z",
     "iopub.status.idle": "2020-09-04T15:27:55.078390Z",
     "shell.execute_reply": "2020-09-04T15:27:55.077735Z"
    },
    "papermill": {
     "duration": 1.540017,
     "end_time": "2020-09-04T15:27:55.078526",
     "exception": false,
     "start_time": "2020-09-04T15:27:53.538509",
     "status": "completed"
    },
    "tags": []
   },
   "outputs": [
    {
     "name": "stdout",
     "output_type": "stream",
     "text": [
      "Количество пропусков: 168,\n",
      "count              847425\n",
      "unique             101207\n",
      "top       Amazon Customer\n",
      "freq                31346\n",
      "Name: reviewerName, dtype: object,\n",
      "Распределение:\n",
      "Amazon Customer          31346\n",
      "Kindle Customer           6128\n",
      "Linda                      729\n",
      "John                       714\n",
      "David                      606\n",
      "                         ...  \n",
      "elia21                       1\n",
      "Eileen Plainville .ma        1\n",
      "Osama Al Tarsha              1\n",
      "Werner L. Kosanke            1\n",
      "Fivebirds                    1\n",
      "Name: reviewerName, Length: 101207, dtype: int64,\n"
     ]
    }
   ],
   "source": [
    "col_info(df.reviewerName)"
   ]
  },
  {
   "cell_type": "markdown",
   "execution_count": null,
   "metadata": {
    "papermill": {
     "duration": 0.054294,
     "end_time": "2020-09-04T15:27:55.187228",
     "exception": false,
     "start_time": "2020-09-04T15:27:55.132934",
     "status": "completed"
    },
    "tags": []
   },
   "source": [
    "Видим, что довольно много отзывов с Амазона и Киндла. 180 пропусков. Проверим, один userid у Amazon Customer, или одному имени пользователя может соответствовать несколько userid."
   ]
  },
  {
   "cell_type": "code",
   "execution_count": 15,
   "metadata": {
    "execution": {
     "iopub.execute_input": "2020-09-04T15:27:55.476046Z",
     "iopub.status.busy": "2020-09-04T15:27:55.474898Z",
     "iopub.status.idle": "2020-09-04T15:27:55.556381Z",
     "shell.execute_reply": "2020-09-04T15:27:55.556953Z"
    },
    "papermill": {
     "duration": 0.315233,
     "end_time": "2020-09-04T15:27:55.557132",
     "exception": false,
     "start_time": "2020-09-04T15:27:55.241899",
     "status": "completed"
    },
    "tags": []
   },
   "outputs": [
    {
     "data": {
      "text/plain": [
       "7477      91\n",
       "1330      60\n",
       "24035     55\n",
       "8027      53\n",
       "15752     44\n",
       "          ..\n",
       "73871      1\n",
       "115807     1\n",
       "58045      1\n",
       "62767      1\n",
       "65437      1\n",
       "Name: userid, Length: 5329, dtype: int64"
      ]
     },
     "execution_count": 15,
     "metadata": {},
     "output_type": "execute_result"
    }
   ],
   "source": [
    "df[df.reviewerName=='Amazon Customer'].userid.value_counts()"
   ]
  },
  {
   "cell_type": "markdown",
   "execution_count": null,
   "metadata": {
    "papermill": {
     "duration": 0.053833,
     "end_time": "2020-09-04T15:27:55.665052",
     "exception": false,
     "start_time": "2020-09-04T15:27:55.611219",
     "status": "completed"
    },
    "tags": []
   },
   "source": [
    "В таком случае, имя пользователя нам не нужно. Удалим столбец."
   ]
  },
  {
   "cell_type": "code",
   "execution_count": 16,
   "metadata": {
    "execution": {
     "iopub.execute_input": "2020-09-04T15:27:55.912328Z",
     "iopub.status.busy": "2020-09-04T15:27:55.789518Z",
     "iopub.status.idle": "2020-09-04T15:27:56.267317Z",
     "shell.execute_reply": "2020-09-04T15:27:56.267885Z"
    },
    "papermill": {
     "duration": 0.54794,
     "end_time": "2020-09-04T15:27:56.268092",
     "exception": false,
     "start_time": "2020-09-04T15:27:55.720152",
     "status": "completed"
    },
    "tags": []
   },
   "outputs": [],
   "source": [
    "df = df.drop(['reviewerName'], axis=1)\n",
    "#df_test = df_test.drop(['reviewerName'], axis=1)"
   ]
  },
  {
   "cell_type": "markdown",
   "execution_count": null,
   "metadata": {
    "papermill": {
     "duration": 0.053985,
     "end_time": "2020-09-04T15:27:56.376702",
     "exception": false,
     "start_time": "2020-09-04T15:27:56.322717",
     "status": "completed"
    },
    "tags": []
   },
   "source": [
    "## reviewText"
   ]
  },
  {
   "cell_type": "code",
   "execution_count": 17,
   "metadata": {
    "execution": {
     "iopub.execute_input": "2020-09-04T15:27:56.685329Z",
     "iopub.status.busy": "2020-09-04T15:27:56.684487Z",
     "iopub.status.idle": "2020-09-04T15:27:56.692661Z",
     "shell.execute_reply": "2020-09-04T15:27:56.691969Z"
    },
    "papermill": {
     "duration": 0.261591,
     "end_time": "2020-09-04T15:27:56.692802",
     "exception": false,
     "start_time": "2020-09-04T15:27:56.431211",
     "status": "completed"
    },
    "tags": []
   },
   "outputs": [
    {
     "name": "stdout",
     "output_type": "stream",
     "text": [
      "Количество пропусков: 278,\n"
     ]
    }
   ],
   "source": [
    "print('Количество пропусков: {},'.format(df.reviewText.isnull().sum()))"
   ]
  },
  {
   "cell_type": "markdown",
   "execution_count": null,
   "metadata": {
    "papermill": {
     "duration": 0.054866,
     "end_time": "2020-09-04T15:27:56.802443",
     "exception": false,
     "start_time": "2020-09-04T15:27:56.747577",
     "status": "completed"
    },
    "tags": []
   },
   "source": [
    "Посмотрим на пример отзыва"
   ]
  },
  {
   "cell_type": "code",
   "execution_count": 18,
   "metadata": {
    "execution": {
     "iopub.execute_input": "2020-09-04T15:27:56.920998Z",
     "iopub.status.busy": "2020-09-04T15:27:56.919819Z",
     "iopub.status.idle": "2020-09-04T15:27:56.958885Z",
     "shell.execute_reply": "2020-09-04T15:27:56.958088Z"
    },
    "papermill": {
     "duration": 0.102155,
     "end_time": "2020-09-04T15:27:56.959019",
     "exception": false,
     "start_time": "2020-09-04T15:27:56.856864",
     "status": "completed"
    },
    "tags": []
   },
   "outputs": [
    {
     "data": {
      "text/plain": [
       "\"What's not to love, its Swiss Miss Hot Cocoa, not much to say. It is delicious, not the healthiest thing in the world but its chocolate. I have it every morning in my coffee with a bit of milk, it is how I treat myself in the A.M.\\n\\nLove this stuff and always have!!!\""
      ]
     },
     "execution_count": 18,
     "metadata": {},
     "output_type": "execute_result"
    }
   ],
   "source": [
    "df.reviewText[25]"
   ]
  },
  {
   "cell_type": "markdown",
   "execution_count": null,
   "metadata": {
    "papermill": {
     "duration": 0.055296,
     "end_time": "2020-09-04T15:27:57.074208",
     "exception": false,
     "start_time": "2020-09-04T15:27:57.018912",
     "status": "completed"
    },
    "tags": []
   },
   "source": [
    "Выделим из всех отзывов наиболее часто встречающиеся слова."
   ]
  },
  {
   "cell_type": "markdown",
   "execution_count": null,
   "metadata": {
    "papermill": {
     "duration": 0.054409,
     "end_time": "2020-09-04T15:27:57.183166",
     "exception": false,
     "start_time": "2020-09-04T15:27:57.128757",
     "status": "completed"
    },
    "tags": []
   },
   "source": [
    "ВНИМАНИЕ!!! Весь код, который закомменчен ниже в ноутбуке рабочий, в результате генерируется большое количество dummy-переменных. На этапе тестирования код закомментирован для скорости, при желании добавить новые фичи уберите комментарии."
   ]
  },
  {
   "cell_type": "code",
   "execution_count": 19,
   "metadata": {
    "execution": {
     "iopub.execute_input": "2020-09-04T15:27:57.302230Z",
     "iopub.status.busy": "2020-09-04T15:27:57.301108Z",
     "iopub.status.idle": "2020-09-04T15:27:57.305257Z",
     "shell.execute_reply": "2020-09-04T15:27:57.305854Z"
    },
    "papermill": {
     "duration": 0.06722,
     "end_time": "2020-09-04T15:27:57.306007",
     "exception": false,
     "start_time": "2020-09-04T15:27:57.238787",
     "status": "completed"
    },
    "tags": []
   },
   "outputs": [
    {
     "data": {
      "text/plain": [
       "'\\n# Зададим переменной количество наиболее частов встречающихся слов, которое хотим оставить\\nN_WORDS = 200\\n\\n# Приведем значения к str\\ndf[\\'reviewText\\']=df[\\'reviewText\\'].astype(\\'str\\')\\n# Разбиваем reviewText на список слов, предварительно приводим текст к нижнему регистру\\ndf[\\'reviewText\\']=df[\\'reviewText\\'].apply(lambda x: re.sub(\"[^\\\\w]\", \" \",  x.lower()).split())\\n                                        \\n# Создаем пустой список, в который будут добавляться все слова\\nall_words = []\\n\\n# Добавляем слова каждой записи в общий список\\nfor words in df.reviewText:\\n    # разбиваем текст на слова, предварительно приводим к нижнему регистру\\n    all_words.extend(words)\\n\\n# Считаем частоту слов в датасете\\ncnt = Counter()\\nfor word in all_words:\\n    cnt[word] +=1\\n    \\n#Оставим топ N_WORDS слов\\ntop_words = []\\nfor i in range (0, len(cnt.most_common(N_WORDS))):\\n    words = cnt.most_common(N_WORDS)[i][0]\\n    top_words.append(words)\\n    \\n# Удаляем дубликаты из all_words\\nall_words = list(dict.fromkeys(all_words))\\n\\nprint(\\'Всего слов \\', len(all_words))\\nprint(\\'Топ\\', N_WORDS, \\'слов: \\',top_words)'"
      ]
     },
     "execution_count": 19,
     "metadata": {},
     "output_type": "execute_result"
    }
   ],
   "source": [
    "'''\n",
    "# Зададим переменной количество наиболее частов встречающихся слов, которое хотим оставить\n",
    "N_WORDS = 200\n",
    "\n",
    "# Приведем значения к str\n",
    "df['reviewText']=df['reviewText'].astype('str')\n",
    "# Разбиваем reviewText на список слов, предварительно приводим текст к нижнему регистру\n",
    "df['reviewText']=df['reviewText'].apply(lambda x: re.sub(\"[^\\w]\", \" \",  x.lower()).split())\n",
    "                                        \n",
    "# Создаем пустой список, в который будут добавляться все слова\n",
    "all_words = []\n",
    "\n",
    "# Добавляем слова каждой записи в общий список\n",
    "for words in df.reviewText:\n",
    "    # разбиваем текст на слова, предварительно приводим к нижнему регистру\n",
    "    all_words.extend(words)\n",
    "\n",
    "# Считаем частоту слов в датасете\n",
    "cnt = Counter()\n",
    "for word in all_words:\n",
    "    cnt[word] +=1\n",
    "    \n",
    "#Оставим топ N_WORDS слов\n",
    "top_words = []\n",
    "for i in range (0, len(cnt.most_common(N_WORDS))):\n",
    "    words = cnt.most_common(N_WORDS)[i][0]\n",
    "    top_words.append(words)\n",
    "    \n",
    "# Удаляем дубликаты из all_words\n",
    "all_words = list(dict.fromkeys(all_words))\n",
    "\n",
    "print('Всего слов ', len(all_words))\n",
    "print('Топ', N_WORDS, 'слов: ',top_words)'''"
   ]
  },
  {
   "cell_type": "markdown",
   "execution_count": null,
   "metadata": {
    "papermill": {
     "duration": 0.054359,
     "end_time": "2020-09-04T15:27:57.415550",
     "exception": false,
     "start_time": "2020-09-04T15:27:57.361191",
     "status": "completed"
    },
    "tags": []
   },
   "source": [
    "Среди самых частых слов много предлогов и артиклей. Отберем вручную список из 50 значимых по нашему мнению слов."
   ]
  },
  {
   "cell_type": "code",
   "execution_count": 20,
   "metadata": {
    "execution": {
     "iopub.execute_input": "2020-09-04T15:27:57.536567Z",
     "iopub.status.busy": "2020-09-04T15:27:57.535783Z",
     "iopub.status.idle": "2020-09-04T15:27:57.539550Z",
     "shell.execute_reply": "2020-09-04T15:27:57.538892Z"
    },
    "papermill": {
     "duration": 0.069711,
     "end_time": "2020-09-04T15:27:57.539676",
     "exception": false,
     "start_time": "2020-09-04T15:27:57.469965",
     "status": "completed"
    },
    "tags": []
   },
   "outputs": [],
   "source": [
    "top_word_list = [\n",
    "    'good',\n",
    "    'great',\n",
    "    'like',\n",
    "    'so',\n",
    "    'taste',\n",
    "    'very',\n",
    "    'flavor',\n",
    "    'love',\n",
    "    'tea',\n",
    "    'product',\n",
    "    'coffee',\n",
    "    'more',\n",
    "    'really',\n",
    "    'price',\n",
    "    'much',\n",
    "    'buy',\n",
    "    'best',\n",
    "    'make',\n",
    "    'time',\n",
    "    'sugar',\n",
    "    'little',\n",
    "    'delicious',\n",
    "    'only',\n",
    "    'chocolate',\n",
    "    'better',\n",
    "    'again',\n",
    "    'well',\n",
    "    'nice',\n",
    "    'tastes',\n",
    "    'sweet',\n",
    "    'fresh',\n",
    "    'favorite',\n",
    "    'eat',\n",
    "    'cup',\n",
    "    'now',\n",
    "    'quality',\n",
    "    'tasty',\n",
    "    'salt',\n",
    "    'organic',\n",
    "    'brand',\n",
    "    'flavors',\n",
    "    'oil',\n",
    "    'perfect',\n",
    "    'first',\n",
    "    'order',\n",
    "    'many',\n",
    "    'box',\n",
    "    'mix',\n",
    "    'always',\n",
    "    'hot',\n",
    "]"
   ]
  },
  {
   "cell_type": "markdown",
   "execution_count": null,
   "metadata": {
    "papermill": {
     "duration": 0.054325,
     "end_time": "2020-09-04T15:27:57.648462",
     "exception": false,
     "start_time": "2020-09-04T15:27:57.594137",
     "status": "completed"
    },
    "tags": []
   },
   "source": [
    "Далее мы можем оставить только самые популярные слова и создать на их основе dummy-переменные.\n",
    "\n",
    "**Я пока что закомментировал создание dummy-переменных для самых частых слов. Если хотите с ними обучить модель, то код ниже рабочий**"
   ]
  },
  {
   "cell_type": "code",
   "execution_count": 21,
   "metadata": {
    "execution": {
     "iopub.execute_input": "2020-09-04T15:27:57.806745Z",
     "iopub.status.busy": "2020-09-04T15:27:57.805584Z",
     "iopub.status.idle": "2020-09-04T15:27:57.810332Z",
     "shell.execute_reply": "2020-09-04T15:27:57.809600Z"
    },
    "papermill": {
     "duration": 0.065439,
     "end_time": "2020-09-04T15:27:57.810455",
     "exception": false,
     "start_time": "2020-09-04T15:27:57.745016",
     "status": "completed"
    },
    "tags": []
   },
   "outputs": [
    {
     "data": {
      "text/plain": [
       "\"# Напишем функцию, которая будет оставлять в списке только слова из top_word_list, остальные удалит\\ndef leave_top_words(words):\\n    top_words = []\\n    for word in words:\\n        if word in top_word_list:\\n            top_words.append(word)\\n    x = top_words\\n    return x\\n\\n# Применим функцию к датасету, оставим только слова из top_word_list в столбце reviewText\\ndf['reviewText'] = df['reviewText'].apply(lambda x: leave_top_words(x))\\n\\n\\n# Создание dummy-переменных на основе слов из top_word_list\\n\\n# Функция для отображения категорий в записи\\ndef find_item(cell):\\n    if item in cell:\\n        return 1\\n    return 0\\n\\n# Cоздаем столбцы со словами из top_word_list и заполняем 0 или 1\\nfor item in top_word_list:\\n    column_name = 'reviewText_' + item\\n    df[column_name] = df['reviewText'].apply(find_item)\""
      ]
     },
     "execution_count": 21,
     "metadata": {},
     "output_type": "execute_result"
    }
   ],
   "source": [
    "'''# Напишем функцию, которая будет оставлять в списке только слова из top_word_list, остальные удалит\n",
    "def leave_top_words(words):\n",
    "    top_words = []\n",
    "    for word in words:\n",
    "        if word in top_word_list:\n",
    "            top_words.append(word)\n",
    "    x = top_words\n",
    "    return x\n",
    "\n",
    "# Применим функцию к датасету, оставим только слова из top_word_list в столбце reviewText\n",
    "df['reviewText'] = df['reviewText'].apply(lambda x: leave_top_words(x))\n",
    "\n",
    "\n",
    "# Создание dummy-переменных на основе слов из top_word_list\n",
    "\n",
    "# Функция для отображения категорий в записи\n",
    "def find_item(cell):\n",
    "    if item in cell:\n",
    "        return 1\n",
    "    return 0\n",
    "\n",
    "# Cоздаем столбцы со словами из top_word_list и заполняем 0 или 1\n",
    "for item in top_word_list:\n",
    "    column_name = 'reviewText_' + item\n",
    "    df[column_name] = df['reviewText'].apply(find_item)'''"
   ]
  },
  {
   "cell_type": "markdown",
   "execution_count": null,
   "metadata": {
    "papermill": {
     "duration": 0.061517,
     "end_time": "2020-09-04T15:27:57.933864",
     "exception": false,
     "start_time": "2020-09-04T15:27:57.872347",
     "status": "completed"
    },
    "tags": []
   },
   "source": [
    "Поздно заметил, что данного признака нет в тестовой выборке, но было жалко удалять труд. Хорошо, что наработки понадобились дальше.\n",
    "Удалим столбец."
   ]
  },
  {
   "cell_type": "code",
   "execution_count": 22,
   "metadata": {
    "execution": {
     "iopub.execute_input": "2020-09-04T15:27:58.338748Z",
     "iopub.status.busy": "2020-09-04T15:27:58.071865Z",
     "iopub.status.idle": "2020-09-04T15:27:58.490412Z",
     "shell.execute_reply": "2020-09-04T15:27:58.490983Z"
    },
    "papermill": {
     "duration": 0.496865,
     "end_time": "2020-09-04T15:27:58.491199",
     "exception": false,
     "start_time": "2020-09-04T15:27:57.994334",
     "status": "completed"
    },
    "tags": []
   },
   "outputs": [],
   "source": [
    "# Удалим столбец reviewText\n",
    "df = df.drop(['reviewText'], axis=1)"
   ]
  },
  {
   "cell_type": "markdown",
   "execution_count": null,
   "metadata": {
    "papermill": {
     "duration": 0.05672,
     "end_time": "2020-09-04T15:27:58.604487",
     "exception": false,
     "start_time": "2020-09-04T15:27:58.547767",
     "status": "completed"
    },
    "tags": []
   },
   "source": [
    "## summary"
   ]
  },
  {
   "cell_type": "code",
   "execution_count": 23,
   "metadata": {
    "execution": {
     "iopub.execute_input": "2020-09-04T15:27:58.724741Z",
     "iopub.status.busy": "2020-09-04T15:27:58.723778Z",
     "iopub.status.idle": "2020-09-04T15:27:58.728809Z",
     "shell.execute_reply": "2020-09-04T15:27:58.727935Z"
    },
    "papermill": {
     "duration": 0.06798,
     "end_time": "2020-09-04T15:27:58.728946",
     "exception": false,
     "start_time": "2020-09-04T15:27:58.660966",
     "status": "completed"
    },
    "tags": []
   },
   "outputs": [
    {
     "data": {
      "text/plain": [
       "'Classic hot chocolate'"
      ]
     },
     "execution_count": 23,
     "metadata": {},
     "output_type": "execute_result"
    }
   ],
   "source": [
    "df.summary[25]"
   ]
  },
  {
   "cell_type": "markdown",
   "execution_count": null,
   "metadata": {
    "papermill": {
     "duration": 0.056947,
     "end_time": "2020-09-04T15:27:58.842821",
     "exception": false,
     "start_time": "2020-09-04T15:27:58.785874",
     "status": "completed"
    },
    "tags": []
   },
   "source": [
    "Данного признака нет в тестовом датасете. Удалим столбец."
   ]
  },
  {
   "cell_type": "code",
   "execution_count": 24,
   "metadata": {
    "execution": {
     "iopub.execute_input": "2020-09-04T15:27:58.973845Z",
     "iopub.status.busy": "2020-09-04T15:27:58.973015Z",
     "iopub.status.idle": "2020-09-04T15:27:59.349246Z",
     "shell.execute_reply": "2020-09-04T15:27:59.348329Z"
    },
    "papermill": {
     "duration": 0.448495,
     "end_time": "2020-09-04T15:27:59.349388",
     "exception": false,
     "start_time": "2020-09-04T15:27:58.900893",
     "status": "completed"
    },
    "tags": []
   },
   "outputs": [],
   "source": [
    "df = df.drop(['summary'], axis=1)"
   ]
  },
  {
   "cell_type": "markdown",
   "execution_count": null,
   "metadata": {
    "papermill": {
     "duration": 0.057717,
     "end_time": "2020-09-04T15:27:59.465520",
     "exception": false,
     "start_time": "2020-09-04T15:27:59.407803",
     "status": "completed"
    },
    "tags": []
   },
   "source": [
    "## asin"
   ]
  },
  {
   "cell_type": "markdown",
   "execution_count": null,
   "metadata": {
    "papermill": {
     "duration": 0.056702,
     "end_time": "2020-09-04T15:27:59.580784",
     "exception": false,
     "start_time": "2020-09-04T15:27:59.524082",
     "status": "completed"
    },
    "tags": []
   },
   "source": [
    "идентификатор для модели нам не нужен, но у нас есть признаки also_buy и similar_item, для которых он может понадобиться. Пока оставим."
   ]
  },
  {
   "cell_type": "code",
   "execution_count": 25,
   "metadata": {
    "execution": {
     "iopub.execute_input": "2020-09-04T15:27:59.805763Z",
     "iopub.status.busy": "2020-09-04T15:27:59.804887Z",
     "iopub.status.idle": "2020-09-04T15:28:00.520861Z",
     "shell.execute_reply": "2020-09-04T15:28:00.519808Z"
    },
    "papermill": {
     "duration": 0.884342,
     "end_time": "2020-09-04T15:28:00.521092",
     "exception": false,
     "start_time": "2020-09-04T15:27:59.636750",
     "status": "completed"
    },
    "tags": []
   },
   "outputs": [
    {
     "name": "stdout",
     "output_type": "stream",
     "text": [
      "Количество пропусков: 0,\n",
      "count         847593\n",
      "unique         41302\n",
      "top       B00BUKL666\n",
      "freq            5430\n",
      "Name: asin, dtype: object,\n",
      "Распределение:\n",
      "B00BUKL666    5430\n",
      "B00D3M2QP4    4733\n",
      "B008QMX2SG    4611\n",
      "B0001LO3FG    4252\n",
      "B00R7PWK7W    2449\n",
      "              ... \n",
      "B004VLVQGQ       1\n",
      "B0010AR1C4       1\n",
      "B006V79H9Q       1\n",
      "B00CXXCUI2       1\n",
      "B000VK6NJG       1\n",
      "Name: asin, Length: 41302, dtype: int64,\n"
     ]
    }
   ],
   "source": [
    "col_info(df.asin)"
   ]
  },
  {
   "cell_type": "markdown",
   "execution_count": null,
   "metadata": {
    "papermill": {
     "duration": 0.058523,
     "end_time": "2020-09-04T15:28:00.636312",
     "exception": false,
     "start_time": "2020-09-04T15:28:00.577789",
     "status": "completed"
    },
    "tags": []
   },
   "source": [
    "Видим, что всего у нас 41302 различных продукта."
   ]
  },
  {
   "cell_type": "markdown",
   "execution_count": null,
   "metadata": {
    "papermill": {
     "duration": 0.055335,
     "end_time": "2020-09-04T15:28:00.747593",
     "exception": false,
     "start_time": "2020-09-04T15:28:00.692258",
     "status": "completed"
    },
    "tags": []
   },
   "source": [
    "В дальнейшем мы этот признак не используем т.к. пока не придумали как использовать признаки also_view и also_buy, для которых asin скорее всего понадобится.\n",
    "Пока что удалим."
   ]
  },
  {
   "cell_type": "code",
   "execution_count": 26,
   "metadata": {
    "execution": {
     "iopub.execute_input": "2020-09-04T15:28:01.109841Z",
     "iopub.status.busy": "2020-09-04T15:28:00.874449Z",
     "iopub.status.idle": "2020-09-04T15:28:01.226111Z",
     "shell.execute_reply": "2020-09-04T15:28:01.225294Z"
    },
    "papermill": {
     "duration": 0.422727,
     "end_time": "2020-09-04T15:28:01.226242",
     "exception": false,
     "start_time": "2020-09-04T15:28:00.803515",
     "status": "completed"
    },
    "tags": []
   },
   "outputs": [],
   "source": [
    "df = df.drop(['asin'], axis=1)\n",
    "# df_test = df_test.drop(['asin'], axis=1)"
   ]
  },
  {
   "cell_type": "markdown",
   "execution_count": null,
   "metadata": {
    "papermill": {
     "duration": 0.055932,
     "end_time": "2020-09-04T15:28:01.338814",
     "exception": false,
     "start_time": "2020-09-04T15:28:01.282882",
     "status": "completed"
    },
    "tags": []
   },
   "source": [
    "## unixReviewTime"
   ]
  },
  {
   "cell_type": "code",
   "execution_count": 27,
   "metadata": {
    "execution": {
     "iopub.execute_input": "2020-09-04T15:28:01.456660Z",
     "iopub.status.busy": "2020-09-04T15:28:01.455846Z",
     "iopub.status.idle": "2020-09-04T15:28:01.516293Z",
     "shell.execute_reply": "2020-09-04T15:28:01.515250Z"
    },
    "papermill": {
     "duration": 0.121749,
     "end_time": "2020-09-04T15:28:01.516527",
     "exception": false,
     "start_time": "2020-09-04T15:28:01.394778",
     "status": "completed"
    },
    "tags": []
   },
   "outputs": [
    {
     "name": "stdout",
     "output_type": "stream",
     "text": [
      "Количество пропусков: 0,\n",
      "count    8.475930e+05\n",
      "mean     1.441914e+09\n",
      "std      5.992384e+07\n",
      "min      9.657792e+08\n",
      "25%      1.412122e+09\n",
      "50%      1.449360e+09\n",
      "75%      1.485130e+09\n",
      "max      1.538438e+09\n",
      "Name: unixReviewTime, dtype: float64,\n",
      "Распределение:\n",
      "1456790400    941\n",
      "1468454400    873\n",
      "1433289600    783\n",
      "1453248000    783\n",
      "1455926400    767\n",
      "             ... \n",
      "1113782400      1\n",
      "1132444800      1\n",
      "1167609600      1\n",
      "1105142400      1\n",
      "1155081600      1\n",
      "Name: unixReviewTime, Length: 4580, dtype: int64,\n"
     ]
    }
   ],
   "source": [
    "col_info(df.unixReviewTime)"
   ]
  },
  {
   "cell_type": "markdown",
   "execution_count": null,
   "metadata": {
    "papermill": {
     "duration": 0.055465,
     "end_time": "2020-09-04T15:28:01.629113",
     "exception": false,
     "start_time": "2020-09-04T15:28:01.573648",
     "status": "completed"
    },
    "tags": []
   },
   "source": [
    "Пропусков нет. Посмотрим, как изменялись оценки со временем."
   ]
  },
  {
   "cell_type": "code",
   "execution_count": 28,
   "metadata": {
    "execution": {
     "iopub.execute_input": "2020-09-04T15:28:01.750327Z",
     "iopub.status.busy": "2020-09-04T15:28:01.749547Z",
     "iopub.status.idle": "2020-09-04T15:28:04.402105Z",
     "shell.execute_reply": "2020-09-04T15:28:04.401443Z"
    },
    "papermill": {
     "duration": 2.717187,
     "end_time": "2020-09-04T15:28:04.402238",
     "exception": false,
     "start_time": "2020-09-04T15:28:01.685051",
     "status": "completed"
    },
    "tags": []
   },
   "outputs": [
    {
     "data": {
      "text/plain": [
       "<matplotlib.axes._subplots.AxesSubplot at 0x7f01ac5080d0>"
      ]
     },
     "execution_count": 28,
     "metadata": {},
     "output_type": "execute_result"
    },
    {
     "data": {
      "image/png": "[encoded data removed]",
      "text/plain": [
       "<Figure size 432x288 with 1 Axes>"
      ]
     },
     "metadata": {
      "needs_background": "light"
     },
     "output_type": "display_data"
    }
   ],
   "source": [
    "df.unixReviewTime.hist(bins=100)\n",
    "df[df.overall == 5].unixReviewTime.hist(bins=100)\n",
    "df[df.overall == 4].unixReviewTime.hist(bins=100)\n",
    "df[df.overall == 3].unixReviewTime.hist(bins=100)\n",
    "df[df.overall == 1].unixReviewTime.hist(bins=100)\n",
    "df[df.overall == 2].unixReviewTime.hist(bins=100)"
   ]
  },
  {
   "cell_type": "markdown",
   "execution_count": null,
   "metadata": {
    "papermill": {
     "duration": 0.057023,
     "end_time": "2020-09-04T15:28:04.515642",
     "exception": false,
     "start_time": "2020-09-04T15:28:04.458619",
     "status": "completed"
    },
    "tags": []
   },
   "source": [
    "Посмотрим, на распределение отзывов по датам, приведя даты к удобному виду."
   ]
  },
  {
   "cell_type": "code",
   "execution_count": 29,
   "metadata": {
    "execution": {
     "iopub.execute_input": "2020-09-04T15:28:04.639462Z",
     "iopub.status.busy": "2020-09-04T15:28:04.638661Z",
     "iopub.status.idle": "2020-09-04T15:28:04.694515Z",
     "shell.execute_reply": "2020-09-04T15:28:04.693476Z"
    },
    "papermill": {
     "duration": 0.1226,
     "end_time": "2020-09-04T15:28:04.694681",
     "exception": false,
     "start_time": "2020-09-04T15:28:04.572081",
     "status": "completed"
    },
    "tags": []
   },
   "outputs": [
    {
     "name": "stdout",
     "output_type": "stream",
     "text": [
      "Самый первый отзыв: 2000-08-09 00:00:00\n",
      "25 квантиль: 2014-10-01 00:00:00\n",
      "50 квантиль: 2015-12-06 00:00:00\n",
      "75 квантиль: 2017-01-23 00:00:00\n",
      "Последний отзыв: 2018-10-02 00:00:00\n"
     ]
    }
   ],
   "source": [
    "from datetime import datetime\n",
    "tsmin = df.unixReviewTime.min()\n",
    "ts25 = int(df.unixReviewTime.quantile(0.25))\n",
    "ts50 = int(df.unixReviewTime.quantile(0.50))\n",
    "ts75 = int(df.unixReviewTime.quantile(0.75))\n",
    "tsmax = df.unixReviewTime.max()\n",
    "print('Самый первый отзыв:', datetime.utcfromtimestamp(tsmin).strftime('%Y-%m-%d %H:%M:%S'))\n",
    "print('25 квантиль:', datetime.utcfromtimestamp(ts25).strftime('%Y-%m-%d %H:%M:%S'))\n",
    "print('50 квантиль:', datetime.utcfromtimestamp(ts50).strftime('%Y-%m-%d %H:%M:%S'))\n",
    "print('75 квантиль:', datetime.utcfromtimestamp(ts75).strftime('%Y-%m-%d %H:%M:%S'))\n",
    "print('Последний отзыв:', datetime.utcfromtimestamp(tsmax).strftime('%Y-%m-%d %H:%M:%S'))"
   ]
  },
  {
   "cell_type": "markdown",
   "execution_count": null,
   "metadata": {
    "papermill": {
     "duration": 0.056092,
     "end_time": "2020-09-04T15:28:04.807844",
     "exception": false,
     "start_time": "2020-09-04T15:28:04.751752",
     "status": "completed"
    },
    "tags": []
   },
   "source": [
    "Создадим категории в зависимости от даты написания отзыва"
   ]
  },
  {
   "cell_type": "code",
   "execution_count": 30,
   "metadata": {
    "execution": {
     "iopub.execute_input": "2020-09-04T15:28:04.930619Z",
     "iopub.status.busy": "2020-09-04T15:28:04.929755Z",
     "iopub.status.idle": "2020-09-04T15:28:05.627655Z",
     "shell.execute_reply": "2020-09-04T15:28:05.626873Z"
    },
    "papermill": {
     "duration": 0.763016,
     "end_time": "2020-09-04T15:28:05.627789",
     "exception": false,
     "start_time": "2020-09-04T15:28:04.864773",
     "status": "completed"
    },
    "tags": []
   },
   "outputs": [],
   "source": [
    "# Создадим 3 категории в зависимости от даты написания\n",
    "def cat_date(x):\n",
    "    if x <= ts25: x = 'old'\n",
    "    elif ts25 < x <= ts50: x = 'middle_old'\n",
    "    elif ts50 < x <= ts75: x = 'middle_new'\n",
    "    elif ts75 < x: x = 'new'\n",
    "    return x      \n",
    "\n",
    "# Заменим значения в столбце на категории\n",
    "df['unixReviewTime'] = df['unixReviewTime'].apply(lambda x: cat_date(x))\n",
    "# df_test['unixReviewTime'] = df_test['unixReviewTime'].apply(lambda x: cat_date(x))"
   ]
  },
  {
   "cell_type": "markdown",
   "execution_count": null,
   "metadata": {
    "papermill": {
     "duration": 0.058049,
     "end_time": "2020-09-04T15:28:05.742470",
     "exception": false,
     "start_time": "2020-09-04T15:28:05.684421",
     "status": "completed"
    },
    "tags": []
   },
   "source": [
    "Создание dummy-переменных сделаем позже."
   ]
  },
  {
   "cell_type": "markdown",
   "execution_count": null,
   "metadata": {
    "papermill": {
     "duration": 0.056581,
     "end_time": "2020-09-04T15:28:05.856156",
     "exception": false,
     "start_time": "2020-09-04T15:28:05.799575",
     "status": "completed"
    },
    "tags": []
   },
   "source": [
    "## vote"
   ]
  },
  {
   "cell_type": "code",
   "execution_count": 31,
   "metadata": {
    "execution": {
     "iopub.execute_input": "2020-09-04T15:28:06.087274Z",
     "iopub.status.busy": "2020-09-04T15:28:06.086112Z",
     "iopub.status.idle": "2020-09-04T15:28:06.659966Z",
     "shell.execute_reply": "2020-09-04T15:28:06.659328Z"
    },
    "papermill": {
     "duration": 0.746868,
     "end_time": "2020-09-04T15:28:06.660137",
     "exception": false,
     "start_time": "2020-09-04T15:28:05.913269",
     "status": "completed"
    },
    "tags": []
   },
   "outputs": [
    {
     "name": "stdout",
     "output_type": "stream",
     "text": [
      "Количество пропусков: 728732,\n",
      "count     118861.0\n",
      "unique       477.0\n",
      "top            2.0\n",
      "freq       30774.0\n",
      "Name: vote, dtype: float64,\n",
      "Распределение:\n",
      "2.0      30774\n",
      "3.0      15336\n",
      "2        13786\n",
      "4.0       8893\n",
      "3         6969\n",
      "         ...  \n",
      "122.0        1\n",
      "414.0        1\n",
      "120.0        1\n",
      "425.0        1\n",
      "360.0        1\n",
      "Name: vote, Length: 477, dtype: int64,\n"
     ]
    }
   ],
   "source": [
    "col_info(df.vote)"
   ]
  },
  {
   "cell_type": "code",
   "execution_count": 32,
   "metadata": {
    "execution": {
     "iopub.execute_input": "2020-09-04T15:28:06.970377Z",
     "iopub.status.busy": "2020-09-04T15:28:06.967359Z",
     "iopub.status.idle": "2020-09-04T15:28:06.975425Z",
     "shell.execute_reply": "2020-09-04T15:28:06.974561Z"
    },
    "papermill": {
     "duration": 0.256883,
     "end_time": "2020-09-04T15:28:06.975571",
     "exception": false,
     "start_time": "2020-09-04T15:28:06.718688",
     "status": "completed"
    },
    "tags": []
   },
   "outputs": [
    {
     "data": {
      "text/plain": [
       "array([nan, 4.0, 5.0, 8.0, '7', 7.0, 3.0, 2.0, '28', '2', '4', 6.0, '3',\n",
       "       '30', '14', '8', '6', '17', '5', '142', '21', '16', 9.0, 15.0,\n",
       "       12.0, 18.0, 404.0, 22.0, 10.0, '22', 13.0, 136.0, '18', '12', '34',\n",
       "       '69', '10', '48', '20', 11.0, 14.0, 133.0, 16.0, 36.0, 31.0, 117.0,\n",
       "       17.0, 29.0, 37.0, '39', '9', '11', '27', 172.0, 251.0, '41', 52.0,\n",
       "       38.0, 27.0, '15', '61', '38', 25.0, 127.0, '36', 28.0, 61.0, 24.0,\n",
       "       49.0, 51.0, 19.0, 20.0, '13', 74.0, 121.0, 45.0, 33.0, 266.0, '44',\n",
       "       '232', '25', 47.0, 138.0, 176.0, 75.0, 30.0, '42', 128.0, '24',\n",
       "       '184', '624', 40.0, 272.0, 881.0, 53.0, 21.0, 43.0, 184.0, '35',\n",
       "       35.0, 23.0, 39.0, 227.0, 42.0, 507.0, 59.0, 114.0, 87.0, 55.0,\n",
       "       26.0, '19', 41.0, '82', 143.0, 73.0, 187.0, 66.0, '45', 56.0, '76',\n",
       "       112.0, 57.0, '115', '75', '33', '50', 50.0, 68.0, 54.0, 63.0, '47',\n",
       "       '43', 108.0, 185.0, '302', 208.0, '59', 269.0, 78.0, 103.0, '26',\n",
       "       148.0, 160.0, '80', 32.0, 71.0, 130.0, 85.0, '52', '123', 62.0,\n",
       "       95.0, 44.0, 115.0, 603.0, 82.0, 34.0, '55', 88.0, '176', 232.0,\n",
       "       '86', '132', '37', 67.0, '119', '70', '85', 48.0, '54', 296.0,\n",
       "       '560', '29', 91.0, '46', 203.0, 360.0, 857.0, 107.0, '679', 679.0,\n",
       "       146.0, '32', '31', '89', '60', 94.0, 46.0, '77', '23', 129.0,\n",
       "       '122', '40', '223', 100.0, '121', 65.0, '53', '101', 64.0, 255.0,\n",
       "       116.0, 171.0, 276.0, 186.0, '186', 190.0, 531.0, '68', 166.0,\n",
       "       '1,157', 123.0, 435.0, '516', '416', '173', '92', 92.0, 195.0,\n",
       "       '342', 576.0, 202.0, '264', 752.0, 264.0, 181.0, 199.0, 362.0,\n",
       "       198.0, 60.0, '112', 680.0, '1,626', 268.0, 150.0, '218', 278.0,\n",
       "       '91', 111.0, 89.0, '428', 83.0, 295.0, 224.0, '88', '155', '62',\n",
       "       '144', '157', '58', 216.0, 358.0, 102.0, '66', 934.0, 79.0, '146',\n",
       "       145.0, 164.0, '202', 118.0, 96.0, 93.0, 72.0, '148', '56', '49',\n",
       "       '64', 170.0, '72', '300', '296', '716', 259.0, 300.0, 119.0, 58.0,\n",
       "       '65', '205', 205.0, '159', 126.0, '107', 101.0, '81', 179.0, '139',\n",
       "       139.0, 77.0, '251', '143', 110.0, 134.0, 122.0, '57', 173.0, '110',\n",
       "       '84', 81.0, 86.0, '135', 273.0, 580.0, 156.0, '460', 165.0, 226.0,\n",
       "       265.0, '109', '228', '163', '181', '250', 158.0, '230', '180',\n",
       "       214.0, 70.0, 247.0, '71', '97', 69.0, '51', 125.0, '111', '102',\n",
       "       '74', 76.0, 113.0, '136', '120', '1,491', '79', '87', 167.0, '195',\n",
       "       '104', 594.0, 99.0, '117', '278', '363', '154', '131', 414.0, '96',\n",
       "       242.0, 80.0, '98', 402.0, 206.0, 387.0, '93', 90.0, '257', 84.0,\n",
       "       194.0, 377.0, 327.0, '189', 98.0, '172', 104.0, 193.0, 142.0,\n",
       "       124.0, 241.0, 191.0, 222.0, '1,383', '170', '188', 246.0, '78',\n",
       "       254.0, 238.0, '116', '83', 346.0, 144.0, '187', '113', 109.0,\n",
       "       175.0, '265', '118', '1,060', 316.0, 225.0, '240', '67', 240.0,\n",
       "       275.0, '343', '126', '127', '392', 149.0, '63', '128', '94', '106',\n",
       "       '105', 359.0, '95', 168.0, 263.0, '334', '309', 105.0, 577.0,\n",
       "       824.0, '152', 644.0, 159.0, 375.0, 192.0, 393.0, 132.0, 106.0,\n",
       "       '129', 369.0, 197.0, 147.0, 351.0, 290.0, 425.0, 180.0, '926',\n",
       "       '289', 289.0, 239.0, 188.0, '710', 317.0, '125', '385', 154.0,\n",
       "       '622', 141.0, '349', 817.0, '588', 220.0, 97.0, 157.0, '164',\n",
       "       '133', 310.0, 304.0, 140.0, '171', 229.0, '99', '169', 659.0,\n",
       "       363.0, '73', '221', '141', 217.0, 209.0, 211.0, '375', 291.0,\n",
       "       '150', 131.0, 210.0, 373.0, '174', '284', '151', '331', '712',\n",
       "       '145', 120.0, '193', '153'], dtype=object)"
      ]
     },
     "execution_count": 32,
     "metadata": {},
     "output_type": "execute_result"
    }
   ],
   "source": [
    "df.vote.unique()"
   ]
  },
  {
   "cell_type": "markdown",
   "execution_count": null,
   "metadata": {
    "papermill": {
     "duration": 0.058012,
     "end_time": "2020-09-04T15:28:07.095528",
     "exception": false,
     "start_time": "2020-09-04T15:28:07.037516",
     "status": "completed"
    },
    "tags": []
   },
   "source": [
    "Скорее всего, данные признак показывает количество голосов, отданных за отзыв.\n",
    "Видим, что в значениях числа через запятую, с нулём и без нуля. Также видим большое количество пропусков. \n",
    "Скорее всего, за эти отзывы никто не проголосовал, что вполне естественно, и мы можем заменить пропуски на 0."
   ]
  },
  {
   "cell_type": "code",
   "execution_count": 33,
   "metadata": {
    "execution": {
     "iopub.execute_input": "2020-09-04T15:28:07.327921Z",
     "iopub.status.busy": "2020-09-04T15:28:07.327046Z",
     "iopub.status.idle": "2020-09-04T15:28:07.418267Z",
     "shell.execute_reply": "2020-09-04T15:28:07.418852Z"
    },
    "papermill": {
     "duration": 0.265671,
     "end_time": "2020-09-04T15:28:07.419038",
     "exception": false,
     "start_time": "2020-09-04T15:28:07.153367",
     "status": "completed"
    },
    "tags": []
   },
   "outputs": [],
   "source": [
    "# Заменим пропуски на 0\n",
    "df.vote = df.vote.fillna(0)\n",
    "# df_test.vote = df_test.vote.fillna(0)"
   ]
  },
  {
   "cell_type": "code",
   "execution_count": 34,
   "metadata": {
    "execution": {
     "iopub.execute_input": "2020-09-04T15:28:07.558259Z",
     "iopub.status.busy": "2020-09-04T15:28:07.557125Z",
     "iopub.status.idle": "2020-09-04T15:28:09.256422Z",
     "shell.execute_reply": "2020-09-04T15:28:09.255594Z"
    },
    "papermill": {
     "duration": 1.779122,
     "end_time": "2020-09-04T15:28:09.256551",
     "exception": false,
     "start_time": "2020-09-04T15:28:07.477429",
     "status": "completed"
    },
    "tags": []
   },
   "outputs": [
    {
     "data": {
      "text/plain": [
       "array([   0,    4,    5,    8,    7,    3,    2,   28,    6,   30,   14,\n",
       "         17,  142,   21,   16,    9,   15,   12,   18,  404,   22,   10,\n",
       "         13,  136,   34,   69,   48,   20,   11,  133,   36,   31,  117,\n",
       "         29,   37,   39,   27,  172,  251,   41,   52,   38,   61,   25,\n",
       "        127,   24,   49,   51,   19,   74,  121,   45,   33,  266,   44,\n",
       "        232,   47,  138,  176,   75,   42,  128,  184,  624,   40,  272,\n",
       "        881,   53,   43,   35,   23,  227,  507,   59,  114,   87,   55,\n",
       "         26,   82,  143,   73,  187,   66,   56,   76,  112,   57,  115,\n",
       "         50,   68,   54,   63,  108,  185,  302,  208,  269,   78,  103,\n",
       "        148,  160,   80,   32,   71,  130,   85,  123,   62,   95,  603,\n",
       "         88,   86,  132,   67,  119,   70,  296,  560,   91,   46,  203,\n",
       "        360,  857,  107,  679,  146,   89,   60,   94,   77,  129,  122,\n",
       "        223,  100,   65,  101,   64,  255,  116,  171,  276,  186,  190,\n",
       "        531,  166, 1157,  435,  516,  416,  173,   92,  195,  342,  576,\n",
       "        202,  264,  752,  181,  199,  362,  198,  680, 1626,  268,  150,\n",
       "        218,  278,  111,  428,   83,  295,  224,  155,  144,  157,   58,\n",
       "        216,  358,  102,  934,   79,  145,  164,  118,   96,   93,   72,\n",
       "        170,  300,  716,  259,  205,  159,  126,   81,  179,  139,  110,\n",
       "        134,   84,  135,  273,  580,  156,  460,  165,  226,  265,  109,\n",
       "        228,  163,  250,  158,  230,  180,  214,  247,   97,  125,  113,\n",
       "        120, 1491,  167,  104,  594,   99,  363,  154,  131,  414,  242,\n",
       "         98,  402,  206,  387,   90,  257,  194,  377,  327,  189,  193,\n",
       "        124,  241,  191,  222, 1383,  188,  246,  254,  238,  346,  175,\n",
       "       1060,  316,  225,  240,  275,  343,  392,  149,  106,  105,  359,\n",
       "        168,  263,  334,  309,  577,  824,  152,  644,  375,  192,  393,\n",
       "        369,  197,  147,  351,  290,  425,  926,  289,  239,  710,  317,\n",
       "        385,  622,  141,  349,  817,  588,  220,  310,  304,  140,  229,\n",
       "        169,  659,  221,  217,  209,  211,  291,  210,  373,  174,  284,\n",
       "        151,  331,  712,  153], dtype=int32)"
      ]
     },
     "execution_count": 34,
     "metadata": {},
     "output_type": "execute_result"
    }
   ],
   "source": [
    "# Удалим запятые\n",
    "df['vote'] = df['vote'].astype('str')\n",
    "df['vote'] = df['vote'].apply(lambda x: x.replace(',', ''))\n",
    "# Заменим пропуски на 0\n",
    "df['vote'] = df['vote'].apply(lambda x: x.replace('nan', '0'))\n",
    "df.vote = df.vote.fillna(0)\n",
    "# Приведем к int32\n",
    "df['vote'] = df['vote'].astype('float')\n",
    "df['vote'] = df['vote'].astype('int32')\n",
    "# Посмотрим на результат\n",
    "df.vote.unique()\n",
    "\n",
    "# # То же самое для тестового датасета\n",
    "# # Удалим запятые\n",
    "# df_test['vote'] = df_test['vote'].astype('str')\n",
    "# df_test['vote'] = df_test['vote'].apply(lambda x: x.replace(',', ''))\n",
    "# # Заменим пропуски на 0\n",
    "# df_test['vote'] = df_test['vote'].apply(lambda x: x.replace('nan', '0'))\n",
    "# df_test.vote = df_test.vote.fillna(0)\n",
    "# # Приведем к int32\n",
    "# df_test['vote'] = df_test['vote'].astype('float')\n",
    "# df_test['vote'] = df_test['vote'].astype('int32')"
   ]
  },
  {
   "cell_type": "markdown",
   "execution_count": null,
   "metadata": {
    "papermill": {
     "duration": 0.058163,
     "end_time": "2020-09-04T15:28:09.373137",
     "exception": false,
     "start_time": "2020-09-04T15:28:09.314974",
     "status": "completed"
    },
    "tags": []
   },
   "source": [
    "Сделаем признак категориальным. Выделим 3 категории по количеству голосов."
   ]
  },
  {
   "cell_type": "code",
   "execution_count": 35,
   "metadata": {
    "execution": {
     "iopub.execute_input": "2020-09-04T15:28:09.498265Z",
     "iopub.status.busy": "2020-09-04T15:28:09.497421Z",
     "iopub.status.idle": "2020-09-04T15:28:09.949466Z",
     "shell.execute_reply": "2020-09-04T15:28:09.948791Z"
    },
    "papermill": {
     "duration": 0.518095,
     "end_time": "2020-09-04T15:28:09.949594",
     "exception": false,
     "start_time": "2020-09-04T15:28:09.431499",
     "status": "completed"
    },
    "tags": []
   },
   "outputs": [],
   "source": [
    "# Создадим 3 категории по количеству голосов\n",
    "def cat_vote(x):\n",
    "    if x < 10: x = 'low'\n",
    "    elif 10 <= x <= 100: x = 'middle'\n",
    "    elif 100 < x: x = 'high'\n",
    "    return x      \n",
    "\n",
    "# Заменим значения в столбце на категории\n",
    "df['vote'] = df['vote'].apply(lambda x: cat_vote(x))\n",
    "# df_test['vote'] = df_test['vote'].apply(lambda x: cat_vote(x))"
   ]
  },
  {
   "cell_type": "markdown",
   "execution_count": null,
   "metadata": {
    "papermill": {
     "duration": 0.059787,
     "end_time": "2020-09-04T15:28:10.067525",
     "exception": false,
     "start_time": "2020-09-04T15:28:10.007738",
     "status": "completed"
    },
    "tags": []
   },
   "source": [
    "dummy-переменные создадим после EDA"
   ]
  },
  {
   "cell_type": "markdown",
   "execution_count": null,
   "metadata": {
    "papermill": {
     "duration": 0.057059,
     "end_time": "2020-09-04T15:28:10.182979",
     "exception": false,
     "start_time": "2020-09-04T15:28:10.125920",
     "status": "completed"
    },
    "tags": []
   },
   "source": [
    "# style"
   ]
  },
  {
   "cell_type": "code",
   "execution_count": 36,
   "metadata": {
    "execution": {
     "iopub.execute_input": "2020-09-04T15:28:10.382931Z",
     "iopub.status.busy": "2020-09-04T15:28:10.382134Z",
     "iopub.status.idle": "2020-09-04T15:28:10.911723Z",
     "shell.execute_reply": "2020-09-04T15:28:10.910738Z"
    },
    "papermill": {
     "duration": 0.671133,
     "end_time": "2020-09-04T15:28:10.911920",
     "exception": false,
     "start_time": "2020-09-04T15:28:10.240787",
     "status": "completed"
    },
    "tags": []
   },
   "outputs": [
    {
     "name": "stdout",
     "output_type": "stream",
     "text": [
      "Количество пропусков: 407242,\n",
      "count                      440351\n",
      "unique                      25892\n",
      "top       {'Size:': ' Pack of 1'}\n",
      "freq                         4856\n",
      "Name: style, dtype: object,\n",
      "Распределение:\n",
      "{'Size:': ' Pack of 1'}                                                        4856\n",
      "{'Package Quantity:': ' 1'}                                                    4526\n",
      "{'Package Type:': ' Standard Packaging'}                                       3898\n",
      "{'Size:': ' 1 Pack'}                                                           3848\n",
      "{'Size:': ' 24 Count'}                                                         3640\n",
      "                                                                               ... \n",
      "{'Size:': ' 1-Ounce Bags (Pack of 72)', 'Flavor:': ' Sea Salted'}                 1\n",
      "{'Flavor:': ' Classe'}                                                            1\n",
      "{'Size:': ' 10 oz', 'Flavor:': ' Latte'}                                          1\n",
      "{'Size:': ' 8 Ounce', 'Flavor:': ' Alderwood Smoke'}                              1\n",
      "{'Size:': ' 0.32-Ounce Squares (Pack of 36)', 'Flavor:': ' Milk Chocolate'}       1\n",
      "Name: style, Length: 25892, dtype: int64,\n"
     ]
    }
   ],
   "source": [
    "col_info(df['style'])"
   ]
  },
  {
   "cell_type": "markdown",
   "execution_count": null,
   "metadata": {
    "papermill": {
     "duration": 0.064091,
     "end_time": "2020-09-04T15:28:11.040817",
     "exception": false,
     "start_time": "2020-09-04T15:28:10.976726",
     "status": "completed"
    },
    "tags": []
   },
   "source": [
    "Видим словарь из размера упаковки и вкуса. Скорее всего, отсюда можно что-то полезное выделить, но но пропусков больше половины. Займемся если останется время."
   ]
  },
  {
   "cell_type": "code",
   "execution_count": 37,
   "metadata": {
    "execution": {
     "iopub.execute_input": "2020-09-04T15:28:11.735939Z",
     "iopub.status.busy": "2020-09-04T15:28:11.439375Z",
     "iopub.status.idle": "2020-09-04T15:28:12.250530Z",
     "shell.execute_reply": "2020-09-04T15:28:12.249853Z"
    },
    "papermill": {
     "duration": 1.146253,
     "end_time": "2020-09-04T15:28:12.250674",
     "exception": false,
     "start_time": "2020-09-04T15:28:11.104421",
     "status": "completed"
    },
    "tags": []
   },
   "outputs": [],
   "source": [
    "df = df.drop(['style'], axis=1)\n",
    "# df_test = df_test.drop(['style'], axis=1)"
   ]
  },
  {
   "cell_type": "markdown",
   "execution_count": null,
   "metadata": {
    "papermill": {
     "duration": 0.056998,
     "end_time": "2020-09-04T15:28:12.365360",
     "exception": false,
     "start_time": "2020-09-04T15:28:12.308362",
     "status": "completed"
    },
    "tags": []
   },
   "source": [
    "## image_x"
   ]
  },
  {
   "cell_type": "markdown",
   "execution_count": null,
   "metadata": {
    "papermill": {
     "duration": 0.057003,
     "end_time": "2020-09-04T15:28:12.480136",
     "exception": false,
     "start_time": "2020-09-04T15:28:12.423133",
     "status": "completed"
    },
    "tags": []
   },
   "source": [
    "Ссылки на картинки. Удалим столбец."
   ]
  },
  {
   "cell_type": "code",
   "execution_count": 38,
   "metadata": {
    "execution": {
     "iopub.execute_input": "2020-09-04T15:28:12.614191Z",
     "iopub.status.busy": "2020-09-04T15:28:12.612947Z",
     "iopub.status.idle": "2020-09-04T15:28:12.915821Z",
     "shell.execute_reply": "2020-09-04T15:28:12.915108Z"
    },
    "papermill": {
     "duration": 0.37461,
     "end_time": "2020-09-04T15:28:12.915945",
     "exception": false,
     "start_time": "2020-09-04T15:28:12.541335",
     "status": "completed"
    },
    "tags": []
   },
   "outputs": [],
   "source": [
    "df = df.drop(['image_x'], axis=1)\n",
    "# df_test = df_test.drop(['image_x'], axis=1)"
   ]
  },
  {
   "cell_type": "markdown",
   "execution_count": null,
   "metadata": {
    "papermill": {
     "duration": 0.059691,
     "end_time": "2020-09-04T15:28:13.033197",
     "exception": false,
     "start_time": "2020-09-04T15:28:12.973506",
     "status": "completed"
    },
    "tags": []
   },
   "source": [
    "## userid"
   ]
  },
  {
   "cell_type": "code",
   "execution_count": 39,
   "metadata": {
    "execution": {
     "iopub.execute_input": "2020-09-04T15:28:13.156719Z",
     "iopub.status.busy": "2020-09-04T15:28:13.155526Z",
     "iopub.status.idle": "2020-09-04T15:28:13.225684Z",
     "shell.execute_reply": "2020-09-04T15:28:13.224815Z"
    },
    "papermill": {
     "duration": 0.134064,
     "end_time": "2020-09-04T15:28:13.225846",
     "exception": false,
     "start_time": "2020-09-04T15:28:13.091782",
     "status": "completed"
    },
    "tags": []
   },
   "outputs": [
    {
     "name": "stdout",
     "output_type": "stream",
     "text": [
      "Количество пропусков: 0,\n",
      "count    847593.000000\n",
      "mean      53756.091163\n",
      "std       37211.809152\n",
      "min           0.000000\n",
      "25%       20347.000000\n",
      "50%       48581.000000\n",
      "75%       84723.000000\n",
      "max      127495.000000\n",
      "Name: userid, dtype: float64,\n",
      "Распределение:\n",
      "842      427\n",
      "17987    317\n",
      "355      302\n",
      "2024     296\n",
      "2809     279\n",
      "        ... \n",
      "66068      1\n",
      "71046      1\n",
      "90602      1\n",
      "37414      1\n",
      "77032      1\n",
      "Name: userid, Length: 127448, dtype: int64,\n"
     ]
    }
   ],
   "source": [
    "col_info(df.userid)"
   ]
  },
  {
   "cell_type": "markdown",
   "execution_count": null,
   "metadata": {
    "papermill": {
     "duration": 0.057604,
     "end_time": "2020-09-04T15:28:13.345198",
     "exception": false,
     "start_time": "2020-09-04T15:28:13.287594",
     "status": "completed"
    },
    "tags": []
   },
   "source": [
    "ID пользователя. Пропусков нет, идем дальше."
   ]
  },
  {
   "cell_type": "markdown",
   "execution_count": null,
   "metadata": {
    "papermill": {
     "duration": 0.057614,
     "end_time": "2020-09-04T15:28:13.460625",
     "exception": false,
     "start_time": "2020-09-04T15:28:13.403011",
     "status": "completed"
    },
    "tags": []
   },
   "source": [
    "## itemid"
   ]
  },
  {
   "cell_type": "code",
   "execution_count": 40,
   "metadata": {
    "execution": {
     "iopub.execute_input": "2020-09-04T15:28:13.585694Z",
     "iopub.status.busy": "2020-09-04T15:28:13.584661Z",
     "iopub.status.idle": "2020-09-04T15:28:13.633170Z",
     "shell.execute_reply": "2020-09-04T15:28:13.631575Z"
    },
    "papermill": {
     "duration": 0.11389,
     "end_time": "2020-09-04T15:28:13.633363",
     "exception": false,
     "start_time": "2020-09-04T15:28:13.519473",
     "status": "completed"
    },
    "tags": []
   },
   "outputs": [
    {
     "name": "stdout",
     "output_type": "stream",
     "text": [
      "Количество пропусков: 0,\n",
      "count    847593.00000\n",
      "mean      17090.10489\n",
      "std       11584.74670\n",
      "min           0.00000\n",
      "25%        6478.00000\n",
      "50%       16108.00000\n",
      "75%       26719.00000\n",
      "max       41319.00000\n",
      "Name: itemid, dtype: float64,\n",
      "Распределение:\n",
      "22208    5430\n",
      "23540    4733\n",
      "24556    4611\n",
      "379      4252\n",
      "32046    2449\n",
      "         ... \n",
      "38965       1\n",
      "23635       1\n",
      "34272       1\n",
      "39917       1\n",
      "38902       1\n",
      "Name: itemid, Length: 41302, dtype: int64,\n"
     ]
    }
   ],
   "source": [
    "col_info(df.itemid)"
   ]
  },
  {
   "cell_type": "markdown",
   "execution_count": null,
   "metadata": {
    "papermill": {
     "duration": 0.058608,
     "end_time": "2020-09-04T15:28:13.750566",
     "exception": false,
     "start_time": "2020-09-04T15:28:13.691958",
     "status": "completed"
    },
    "tags": []
   },
   "source": [
    "Проверим, если в тестовом и тренировочном датасетах пропущенные id. Это может быть проблемой при предсказании с помощьюу LightFM c item_features."
   ]
  },
  {
   "cell_type": "code",
   "execution_count": 41,
   "metadata": {
    "execution": {
     "iopub.execute_input": "2020-09-04T15:28:13.874742Z",
     "iopub.status.busy": "2020-09-04T15:28:13.873497Z",
     "iopub.status.idle": "2020-09-04T15:28:13.887632Z",
     "shell.execute_reply": "2020-09-04T15:28:13.888253Z"
    },
    "papermill": {
     "duration": 0.079707,
     "end_time": "2020-09-04T15:28:13.888433",
     "exception": false,
     "start_time": "2020-09-04T15:28:13.808726",
     "status": "completed"
    },
    "tags": []
   },
   "outputs": [
    {
     "name": "stdout",
     "output_type": "stream",
     "text": [
      "Количество уникальных itemid в тренировочном датасете: 41302\n",
      "Максимальный itemid в тренировочном датасете: 41320\n"
     ]
    }
   ],
   "source": [
    "print('Количество уникальных itemid в тренировочном датасете:',len(df.itemid.unique()))\n",
    "print('Максимальный itemid в тренировочном датасете:',df.itemid.max()+1)\n",
    "# print('Количество уникальных itemid в тестовом датасете:',len(df_test.itemid.unique()))\n",
    "# print('Максимальный itemid в тестовом датасете:',df_test.itemid.max()+1)"
   ]
  },
  {
   "cell_type": "markdown",
   "execution_count": null,
   "metadata": {
    "papermill": {
     "duration": 0.061879,
     "end_time": "2020-09-04T15:28:14.008732",
     "exception": false,
     "start_time": "2020-09-04T15:28:13.946853",
     "status": "completed"
    },
    "tags": []
   },
   "source": [
    "Видим, что есть пропущенные itemid. Подумаем, что с этим делать после eda."
   ]
  },
  {
   "cell_type": "code",
   "execution_count": 42,
   "metadata": {
    "execution": {
     "iopub.execute_input": "2020-09-04T15:28:14.147194Z",
     "iopub.status.busy": "2020-09-04T15:28:14.137248Z",
     "iopub.status.idle": "2020-09-04T15:28:14.166199Z",
     "shell.execute_reply": "2020-09-04T15:28:14.165557Z"
    },
    "papermill": {
     "duration": 0.097105,
     "end_time": "2020-09-04T15:28:14.166379",
     "exception": false,
     "start_time": "2020-09-04T15:28:14.069274",
     "status": "completed"
    },
    "tags": []
   },
   "outputs": [
    {
     "data": {
      "text/html": [
       "<div>\n",
       "<style scoped>\n",
       "    .dataframe tbody tr th:only-of-type {\n",
       "        vertical-align: middle;\n",
       "    }\n",
       "\n",
       "    .dataframe tbody tr th {\n",
       "        vertical-align: top;\n",
       "    }\n",
       "\n",
       "    .dataframe thead th {\n",
       "        text-align: right;\n",
       "    }\n",
       "</style>\n",
       "<table border=\"1\" class=\"dataframe\">\n",
       "  <thead>\n",
       "    <tr style=\"text-align: right;\">\n",
       "      <th></th>\n",
       "      <th>overall</th>\n",
       "      <th>verified</th>\n",
       "      <th>unixReviewTime</th>\n",
       "      <th>vote</th>\n",
       "      <th>userid</th>\n",
       "      <th>itemid</th>\n",
       "      <th>rating</th>\n",
       "      <th>category</th>\n",
       "      <th>description</th>\n",
       "      <th>title</th>\n",
       "      <th>...</th>\n",
       "      <th>main_cat</th>\n",
       "      <th>price</th>\n",
       "      <th>also_buy</th>\n",
       "      <th>image_y</th>\n",
       "      <th>date</th>\n",
       "      <th>feature</th>\n",
       "      <th>details</th>\n",
       "      <th>similar_item</th>\n",
       "      <th>tech1</th>\n",
       "      <th>fit</th>\n",
       "    </tr>\n",
       "  </thead>\n",
       "  <tbody>\n",
       "    <tr>\n",
       "      <th>0</th>\n",
       "      <td>5</td>\n",
       "      <td>1</td>\n",
       "      <td>middle_new</td>\n",
       "      <td>low</td>\n",
       "      <td>102179</td>\n",
       "      <td>37138</td>\n",
       "      <td>1.0</td>\n",
       "      <td>[Grocery &amp; Gourmet Food, Herbs, Spices &amp; Seaso...</td>\n",
       "      <td>[Adobo seasoning (known as adobo seco) is a ve...</td>\n",
       "      <td>Primal Palate Organic Spices Adobo Seasoning, ...</td>\n",
       "      <td>...</td>\n",
       "      <td>Grocery</td>\n",
       "      <td>$9.95</td>\n",
       "      <td>[B01DGZ2B48, B01EZ489AO, B01DH795LM, B01EYW2LC...</td>\n",
       "      <td>[https://images-na.ssl-images-amazon.com/image...</td>\n",
       "      <td>NaN</td>\n",
       "      <td>NaN</td>\n",
       "      <td>\\n      &lt;div class=\"content\"&gt;\\n\\n\\n\\n\\n\\n\\n&lt;ul...</td>\n",
       "      <td>NaN</td>\n",
       "      <td>NaN</td>\n",
       "      <td>NaN</td>\n",
       "    </tr>\n",
       "  </tbody>\n",
       "</table>\n",
       "<p>1 rows × 23 columns</p>\n",
       "</div>"
      ],
      "text/plain": [
       "   overall  verified unixReviewTime vote  userid  itemid  rating  \\\n",
       "0        5         1     middle_new  low  102179   37138     1.0   \n",
       "\n",
       "                                            category  \\\n",
       "0  [Grocery & Gourmet Food, Herbs, Spices & Seaso...   \n",
       "\n",
       "                                         description  \\\n",
       "0  [Adobo seasoning (known as adobo seco) is a ve...   \n",
       "\n",
       "                                               title  ... main_cat  price  \\\n",
       "0  Primal Palate Organic Spices Adobo Seasoning, ...  ...  Grocery  $9.95   \n",
       "\n",
       "                                            also_buy  \\\n",
       "0  [B01DGZ2B48, B01EZ489AO, B01DH795LM, B01EYW2LC...   \n",
       "\n",
       "                                             image_y date feature  \\\n",
       "0  [https://images-na.ssl-images-amazon.com/image...  NaN     NaN   \n",
       "\n",
       "                                             details similar_item tech1  fit  \n",
       "0  \\n      <div class=\"content\">\\n\\n\\n\\n\\n\\n\\n<ul...          NaN   NaN  NaN  \n",
       "\n",
       "[1 rows x 23 columns]"
      ]
     },
     "execution_count": 42,
     "metadata": {},
     "output_type": "execute_result"
    }
   ],
   "source": [
    "df.head(1)"
   ]
  },
  {
   "cell_type": "markdown",
   "execution_count": null,
   "metadata": {
    "papermill": {
     "duration": 0.058515,
     "end_time": "2020-09-04T15:28:14.283968",
     "exception": false,
     "start_time": "2020-09-04T15:28:14.225453",
     "status": "completed"
    },
    "tags": []
   },
   "source": [
    "ID товара. Пропусков нет."
   ]
  },
  {
   "cell_type": "markdown",
   "execution_count": null,
   "metadata": {
    "papermill": {
     "duration": 0.05884,
     "end_time": "2020-09-04T15:28:14.402019",
     "exception": false,
     "start_time": "2020-09-04T15:28:14.343179",
     "status": "completed"
    },
    "tags": []
   },
   "source": [
    "## rating"
   ]
  },
  {
   "cell_type": "code",
   "execution_count": 43,
   "metadata": {
    "execution": {
     "iopub.execute_input": "2020-09-04T15:28:14.536800Z",
     "iopub.status.busy": "2020-09-04T15:28:14.535986Z",
     "iopub.status.idle": "2020-09-04T15:28:14.593167Z",
     "shell.execute_reply": "2020-09-04T15:28:14.592331Z"
    },
    "papermill": {
     "duration": 0.129684,
     "end_time": "2020-09-04T15:28:14.593298",
     "exception": false,
     "start_time": "2020-09-04T15:28:14.463614",
     "status": "completed"
    },
    "tags": []
   },
   "outputs": [
    {
     "name": "stdout",
     "output_type": "stream",
     "text": [
      "Количество пропусков: 0,\n",
      "count    847593.000000\n",
      "mean          0.848747\n",
      "std           0.358296\n",
      "min           0.000000\n",
      "25%           1.000000\n",
      "50%           1.000000\n",
      "75%           1.000000\n",
      "max           1.000000\n",
      "Name: rating, dtype: float64,\n",
      "Распределение:\n",
      "1.0    719392\n",
      "0.0    128201\n",
      "Name: rating, dtype: int64,\n"
     ]
    }
   ],
   "source": [
    "col_info(df.rating)"
   ]
  },
  {
   "cell_type": "markdown",
   "execution_count": null,
   "metadata": {
    "papermill": {
     "duration": 0.05803,
     "end_time": "2020-09-04T15:28:14.710358",
     "exception": false,
     "start_time": "2020-09-04T15:28:14.652328",
     "status": "completed"
    },
    "tags": []
   },
   "source": [
    "Целевая переменная. Здесь всего 2 значения - понравился пользователю товар или нет.\n",
    "Посмотрим, как этот признак зависит от оценки."
   ]
  },
  {
   "cell_type": "code",
   "execution_count": 44,
   "metadata": {
    "execution": {
     "iopub.execute_input": "2020-09-04T15:28:14.835889Z",
     "iopub.status.busy": "2020-09-04T15:28:14.834822Z",
     "iopub.status.idle": "2020-09-04T15:28:15.296858Z",
     "shell.execute_reply": "2020-09-04T15:28:15.294962Z"
    },
    "papermill": {
     "duration": 0.527479,
     "end_time": "2020-09-04T15:28:15.297431",
     "exception": false,
     "start_time": "2020-09-04T15:28:14.769952",
     "status": "completed"
    },
    "tags": []
   },
   "outputs": [
    {
     "name": "stdout",
     "output_type": "stream",
     "text": [
      "Оценки при rating = 0:\n",
      " 3    59795\n",
      "1    37071\n",
      "2    31335\n",
      "Name: overall, dtype: int64\n",
      "Оценки при rating = 1:\n",
      " 5    607524\n",
      "4    111868\n",
      "Name: overall, dtype: int64\n"
     ]
    }
   ],
   "source": [
    "print('Оценки при rating = 0:\\n', df[df.rating == 0].overall.value_counts())\n",
    "print('Оценки при rating = 1:\\n', df[df.rating == 1].overall.value_counts())"
   ]
  },
  {
   "cell_type": "markdown",
   "execution_count": null,
   "metadata": {
    "papermill": {
     "duration": 0.060347,
     "end_time": "2020-09-04T15:28:15.419909",
     "exception": false,
     "start_time": "2020-09-04T15:28:15.359562",
     "status": "completed"
    },
    "tags": []
   },
   "source": [
    "При оценках 4 или 5 считаем, что товар понравился. 1,2 или 3 - не понравился."
   ]
  },
  {
   "cell_type": "markdown",
   "execution_count": null,
   "metadata": {
    "papermill": {
     "duration": 0.060492,
     "end_time": "2020-09-04T15:28:15.539509",
     "exception": false,
     "start_time": "2020-09-04T15:28:15.479017",
     "status": "completed"
    },
    "tags": []
   },
   "source": [
    "## category"
   ]
  },
  {
   "cell_type": "code",
   "execution_count": 45,
   "metadata": {
    "execution": {
     "iopub.execute_input": "2020-09-04T15:28:15.669049Z",
     "iopub.status.busy": "2020-09-04T15:28:15.667999Z",
     "iopub.status.idle": "2020-09-04T15:28:15.672748Z",
     "shell.execute_reply": "2020-09-04T15:28:15.671903Z"
    },
    "papermill": {
     "duration": 0.070241,
     "end_time": "2020-09-04T15:28:15.672878",
     "exception": false,
     "start_time": "2020-09-04T15:28:15.602637",
     "status": "completed"
    },
    "tags": []
   },
   "outputs": [
    {
     "data": {
      "text/plain": [
       "['Grocery & Gourmet Food', 'Beverages', 'Coffee, Tea & Cocoa', 'Cocoa']"
      ]
     },
     "execution_count": 45,
     "metadata": {},
     "output_type": "execute_result"
    }
   ],
   "source": [
    "df.category[25]"
   ]
  },
  {
   "cell_type": "markdown",
   "execution_count": null,
   "metadata": {
    "papermill": {
     "duration": 0.059131,
     "end_time": "2020-09-04T15:28:15.795187",
     "exception": false,
     "start_time": "2020-09-04T15:28:15.736056",
     "status": "completed"
    },
    "tags": []
   },
   "source": [
    "Видим в данном признаке список категорий, к которй относится товар.\n",
    "Посмотрим, сколько всего категорий и выделим самые популярные."
   ]
  },
  {
   "cell_type": "code",
   "execution_count": 46,
   "metadata": {
    "execution": {
     "iopub.execute_input": "2020-09-04T15:28:15.921343Z",
     "iopub.status.busy": "2020-09-04T15:28:15.920054Z",
     "iopub.status.idle": "2020-09-04T15:28:15.924800Z",
     "shell.execute_reply": "2020-09-04T15:28:15.925424Z"
    },
    "papermill": {
     "duration": 0.07154,
     "end_time": "2020-09-04T15:28:15.925599",
     "exception": false,
     "start_time": "2020-09-04T15:28:15.854059",
     "status": "completed"
    },
    "tags": []
   },
   "outputs": [
    {
     "data": {
      "text/plain": [
       "\"# Зададим переменной количество категорий\\nN_CATS = 500\\n\\n# Создаем пустой список, в который будут добавляться все категории\\nall_categories = []\\n\\n# Добавляем категории каждой записи в общий список\\nfor category in df.category:\\n    all_categories.extend(category)\\n\\n# Считаем частоту категорий в датасете\\ncnt = Counter()\\nfor word in all_categories:\\n    cnt[word] +=1\\n    \\n#Оставим топ N_CATS категорий\\ntop_cat = []\\nfor i in range (0, len(cnt.most_common(N_CATS))):\\n    cat = cnt.most_common(N_CATS)[i][0]\\n    top_cat.append(cat)\\n    \\n# Удаляем дубликаты из all_categories\\nall_categories = list(dict.fromkeys(all_categories))\\n\\nprint('Всего категорий: ', len(all_categories))\\nprint('Топ', N_CATS, 'категорий: ',top_cat)\""
      ]
     },
     "execution_count": 46,
     "metadata": {},
     "output_type": "execute_result"
    }
   ],
   "source": [
    "'''# Зададим переменной количество категорий\n",
    "N_CATS = 500\n",
    "\n",
    "# Создаем пустой список, в который будут добавляться все категории\n",
    "all_categories = []\n",
    "\n",
    "# Добавляем категории каждой записи в общий список\n",
    "for category in df.category:\n",
    "    all_categories.extend(category)\n",
    "\n",
    "# Считаем частоту категорий в датасете\n",
    "cnt = Counter()\n",
    "for word in all_categories:\n",
    "    cnt[word] +=1\n",
    "    \n",
    "#Оставим топ N_CATS категорий\n",
    "top_cat = []\n",
    "for i in range (0, len(cnt.most_common(N_CATS))):\n",
    "    cat = cnt.most_common(N_CATS)[i][0]\n",
    "    top_cat.append(cat)\n",
    "    \n",
    "# Удаляем дубликаты из all_categories\n",
    "all_categories = list(dict.fromkeys(all_categories))\n",
    "\n",
    "print('Всего категорий: ', len(all_categories))\n",
    "print('Топ', N_CATS, 'категорий: ',top_cat)'''"
   ]
  },
  {
   "cell_type": "markdown",
   "execution_count": null,
   "metadata": {
    "papermill": {
     "duration": 0.059832,
     "end_time": "2020-09-04T15:28:16.091092",
     "exception": false,
     "start_time": "2020-09-04T15:28:16.031260",
     "status": "completed"
    },
    "tags": []
   },
   "source": [
    "Далее мы можем оставить только самые популярные категории и создать на их основе dummy-переменные.\n",
    "\n",
    "**Я пока что закомментировал создание dummy-переменных для топовых категорий. Если хотите с ними обучить модель, то код ниже рабочий**"
   ]
  },
  {
   "cell_type": "code",
   "execution_count": 47,
   "metadata": {
    "execution": {
     "iopub.execute_input": "2020-09-04T15:28:16.217896Z",
     "iopub.status.busy": "2020-09-04T15:28:16.216730Z",
     "iopub.status.idle": "2020-09-04T15:28:16.221529Z",
     "shell.execute_reply": "2020-09-04T15:28:16.220905Z"
    },
    "papermill": {
     "duration": 0.070897,
     "end_time": "2020-09-04T15:28:16.221659",
     "exception": false,
     "start_time": "2020-09-04T15:28:16.150762",
     "status": "completed"
    },
    "tags": []
   },
   "outputs": [
    {
     "data": {
      "text/plain": [
       "\"# Напишем функцию, которая будет оставлять только топовые категории в списке, остальные удалит\\ndef top_category(categories):\\n    top_categories = []\\n    for category in categories:\\n        if category in top_cat:\\n            top_categories.append(category)\\n    x = top_categories\\n    return x\\n\\n# Применим функцию к датасету, оставим только топовые категории в стольце category\\ndf['category'] = df['category'].apply(lambda x: top_category(x))\\n\\n\\n# Создание dummy-переменных на основе топовых категорий \\n\\n# Функция для отображения категорий в записи\\ndef find_item(cell):\\n    if item in cell:\\n        return 1\\n    return 0\\n\\n# Cоздаем столбцы с категориями и заполняем 0 или 1\\nfor item in top_cat:\\n    column_name = 'category' + item\\n    df[column_name] = df['category'].apply(find_item)\""
      ]
     },
     "execution_count": 47,
     "metadata": {},
     "output_type": "execute_result"
    }
   ],
   "source": [
    "'''# Напишем функцию, которая будет оставлять только топовые категории в списке, остальные удалит\n",
    "def top_category(categories):\n",
    "    top_categories = []\n",
    "    for category in categories:\n",
    "        if category in top_cat:\n",
    "            top_categories.append(category)\n",
    "    x = top_categories\n",
    "    return x\n",
    "\n",
    "# Применим функцию к датасету, оставим только топовые категории в стольце category\n",
    "df['category'] = df['category'].apply(lambda x: top_category(x))\n",
    "\n",
    "\n",
    "# Создание dummy-переменных на основе топовых категорий \n",
    "\n",
    "# Функция для отображения категорий в записи\n",
    "def find_item(cell):\n",
    "    if item in cell:\n",
    "        return 1\n",
    "    return 0\n",
    "\n",
    "# Cоздаем столбцы с категориями и заполняем 0 или 1\n",
    "for item in top_cat:\n",
    "    column_name = 'category' + item\n",
    "    df[column_name] = df['category'].apply(find_item)'''"
   ]
  },
  {
   "cell_type": "code",
   "execution_count": 48,
   "metadata": {
    "execution": {
     "iopub.execute_input": "2020-09-04T15:28:16.559778Z",
     "iopub.status.busy": "2020-09-04T15:28:16.357457Z",
     "iopub.status.idle": "2020-09-04T15:28:16.563633Z",
     "shell.execute_reply": "2020-09-04T15:28:16.564196Z"
    },
    "papermill": {
     "duration": 0.282528,
     "end_time": "2020-09-04T15:28:16.564361",
     "exception": false,
     "start_time": "2020-09-04T15:28:16.281833",
     "status": "completed"
    },
    "tags": []
   },
   "outputs": [],
   "source": [
    "# Удалим столбец с категориями\n",
    "df = df.drop(['category'], axis = 1)\n",
    "# df_test = df_test.drop(['category'], axis = 1)"
   ]
  },
  {
   "cell_type": "markdown",
   "execution_count": null,
   "metadata": {
    "papermill": {
     "duration": 0.060365,
     "end_time": "2020-09-04T15:28:16.685330",
     "exception": false,
     "start_time": "2020-09-04T15:28:16.624965",
     "status": "completed"
    },
    "tags": []
   },
   "source": [
    "## description"
   ]
  },
  {
   "cell_type": "code",
   "execution_count": 49,
   "metadata": {
    "execution": {
     "iopub.execute_input": "2020-09-04T15:28:16.814836Z",
     "iopub.status.busy": "2020-09-04T15:28:16.813698Z",
     "iopub.status.idle": "2020-09-04T15:28:16.818739Z",
     "shell.execute_reply": "2020-09-04T15:28:16.818137Z"
    },
    "papermill": {
     "duration": 0.070643,
     "end_time": "2020-09-04T15:28:16.818867",
     "exception": false,
     "start_time": "2020-09-04T15:28:16.748224",
     "status": "completed"
    },
    "tags": []
   },
   "outputs": [
    {
     "data": {
      "text/plain": [
       "['Torani Vanilla Syrup, Sugar Free, 25.4 Fl Oz',\n",
       " 'Statements regarding dietary supplements have not been evaluated by the FDA and are not intended to diagnose, treat, cure, or prevent any disease or health condition.']"
      ]
     },
     "execution_count": 49,
     "metadata": {},
     "output_type": "execute_result"
    }
   ],
   "source": [
    "df.description[115]"
   ]
  },
  {
   "cell_type": "markdown",
   "execution_count": null,
   "metadata": {
    "papermill": {
     "duration": 0.059394,
     "end_time": "2020-09-04T15:28:16.939013",
     "exception": false,
     "start_time": "2020-09-04T15:28:16.879619",
     "status": "completed"
    },
    "tags": []
   },
   "source": [
    "Cделаем то же самое, что мы делали для признака reviewText: найдем самые часто встречающиеся слова, оставим только их и подготовимся к созданию dummy-переменных."
   ]
  },
  {
   "cell_type": "code",
   "execution_count": 50,
   "metadata": {
    "execution": {
     "iopub.execute_input": "2020-09-04T15:28:17.071652Z",
     "iopub.status.busy": "2020-09-04T15:28:17.070798Z",
     "iopub.status.idle": "2020-09-04T15:28:17.075139Z",
     "shell.execute_reply": "2020-09-04T15:28:17.074422Z"
    },
    "papermill": {
     "duration": 0.074206,
     "end_time": "2020-09-04T15:28:17.075264",
     "exception": false,
     "start_time": "2020-09-04T15:28:17.001058",
     "status": "completed"
    },
    "tags": []
   },
   "outputs": [
    {
     "data": {
      "text/plain": [
       "'# Зададим переменной количество наиболее частов встречающихся слов, которое хотим оставить\\nN_WORDS = 200\\n\\n# Сейчас в поле description список строк. Приведем к единой строке.\\ndf[\\'description\\']=df[\\'description\\'].astype(\\'str\\')\\n\\n# Разбиваем description на список слов, предварительно приводим текст к нижнему регистру\\ndf[\\'description\\']=df[\\'description\\'].apply(lambda x: re.sub(\"[^\\\\w]\", \" \",  x.lower()).split())\\n                                        \\n# Создаем пустой список, в который будут добавляться все слова\\nall_words = []\\n\\n# Добавляем слова каждой записи в общий список\\nfor words in df[\\'description\\']:\\n    # разбиваем текст на слова, предварительно приводим к нижнему регистру\\n    all_words.extend(words)\\n\\n# Считаем частоту слов в датасете\\ncnt = Counter()\\nfor word in all_words:\\n    cnt[word] +=1\\n    \\n#Оставим топ N_WORDS слов\\ntop_words = []\\nfor i in range (0, len(cnt.most_common(N_WORDS))):\\n    words = cnt.most_common(N_WORDS)[i][0]\\n    top_words.append(words)\\n    \\n# Удаляем дубликаты из all_words\\nall_words = list(dict.fromkeys(all_words))\\n\\nprint(\\'Всего слов \\', len(all_words))\\nprint(\\'Топ\\', N_WORDS, \\'слов: \\',top_words)'"
      ]
     },
     "execution_count": 50,
     "metadata": {},
     "output_type": "execute_result"
    }
   ],
   "source": [
    "'''# Зададим переменной количество наиболее частов встречающихся слов, которое хотим оставить\n",
    "N_WORDS = 200\n",
    "\n",
    "# Сейчас в поле description список строк. Приведем к единой строке.\n",
    "df['description']=df['description'].astype('str')\n",
    "\n",
    "# Разбиваем description на список слов, предварительно приводим текст к нижнему регистру\n",
    "df['description']=df['description'].apply(lambda x: re.sub(\"[^\\w]\", \" \",  x.lower()).split())\n",
    "                                        \n",
    "# Создаем пустой список, в который будут добавляться все слова\n",
    "all_words = []\n",
    "\n",
    "# Добавляем слова каждой записи в общий список\n",
    "for words in df['description']:\n",
    "    # разбиваем текст на слова, предварительно приводим к нижнему регистру\n",
    "    all_words.extend(words)\n",
    "\n",
    "# Считаем частоту слов в датасете\n",
    "cnt = Counter()\n",
    "for word in all_words:\n",
    "    cnt[word] +=1\n",
    "    \n",
    "#Оставим топ N_WORDS слов\n",
    "top_words = []\n",
    "for i in range (0, len(cnt.most_common(N_WORDS))):\n",
    "    words = cnt.most_common(N_WORDS)[i][0]\n",
    "    top_words.append(words)\n",
    "    \n",
    "# Удаляем дубликаты из all_words\n",
    "all_words = list(dict.fromkeys(all_words))\n",
    "\n",
    "print('Всего слов ', len(all_words))\n",
    "print('Топ', N_WORDS, 'слов: ',top_words)'''"
   ]
  },
  {
   "cell_type": "markdown",
   "execution_count": null,
   "metadata": {
    "papermill": {
     "duration": 0.059415,
     "end_time": "2020-09-04T15:28:17.194966",
     "exception": false,
     "start_time": "2020-09-04T15:28:17.135551",
     "status": "completed"
    },
    "tags": []
   },
   "source": [
    "Среди самых частых слов много предлогов и артиклей. Отберем вручную список из 50 значимых по нашему мнению слов."
   ]
  },
  {
   "cell_type": "code",
   "execution_count": 51,
   "metadata": {
    "execution": {
     "iopub.execute_input": "2020-09-04T15:28:17.326809Z",
     "iopub.status.busy": "2020-09-04T15:28:17.325966Z",
     "iopub.status.idle": "2020-09-04T15:28:17.329331Z",
     "shell.execute_reply": "2020-09-04T15:28:17.329888Z"
    },
    "papermill": {
     "duration": 0.074497,
     "end_time": "2020-09-04T15:28:17.330078",
     "exception": false,
     "start_time": "2020-09-04T15:28:17.255581",
     "status": "completed"
    },
    "tags": []
   },
   "outputs": [],
   "source": [
    "top_word_list = [\n",
    "    'health',\n",
    "    'treat',\n",
    "    'intended',\n",
    "    'disease',\n",
    "    'prevent',\n",
    "    'cure',\n",
    "    'dietary',\n",
    "    'diagnose',\n",
    "    'evaluated',\n",
    "    'statements',\n",
    "    'condition',\n",
    "    'supplements',\n",
    "    'fda',\n",
    "    'organic',\n",
    "    'flavor',\n",
    "    'tea',\n",
    "    'natural',\n",
    "    'sugar',\n",
    "    'salt',\n",
    "    'water',\n",
    "    'oil',\n",
    "    'coffee',\n",
    "    'ingredients',\n",
    "    'milk',\n",
    "    'free',\n",
    "    'products',\n",
    "    'chocolate',\n",
    "    'taste',\n",
    "    'cup',\n",
    "    'delicious',\n",
    "    'quality',\n",
    "    'flavors',\n",
    "    'soy',\n",
    "    'food',\n",
    "    'flour',\n",
    "    'acid',\n",
    "    'wheat', \n",
    "    'great',\n",
    "    'powder',\n",
    "    'corn',\n",
    "    'nuts',\n",
    "    'rice',\n",
    "    'protein',\n",
    "    'coconut',\n",
    "    'gluten',\n",
    "    'butter',\n",
    "    'syrup',\n",
    "    'blend',\n",
    "    'high',\n",
    "    'best'\n",
    "]"
   ]
  },
  {
   "cell_type": "markdown",
   "execution_count": null,
   "metadata": {
    "papermill": {
     "duration": 0.059456,
     "end_time": "2020-09-04T15:28:17.449713",
     "exception": false,
     "start_time": "2020-09-04T15:28:17.390257",
     "status": "completed"
    },
    "tags": []
   },
   "source": [
    "Далее мы можем оставить только самые популярные слова и создать на их основе dummy-переменные.\n",
    "\n",
    "**Я пока что закомментировал создание dummy-переменных для самых частых слов. Если хотите с ними обучить модель, то код ниже рабочий**"
   ]
  },
  {
   "cell_type": "code",
   "execution_count": 52,
   "metadata": {
    "execution": {
     "iopub.execute_input": "2020-09-04T15:28:17.581511Z",
     "iopub.status.busy": "2020-09-04T15:28:17.580472Z",
     "iopub.status.idle": "2020-09-04T15:28:17.585261Z",
     "shell.execute_reply": "2020-09-04T15:28:17.585845Z"
    },
    "papermill": {
     "duration": 0.076234,
     "end_time": "2020-09-04T15:28:17.586011",
     "exception": false,
     "start_time": "2020-09-04T15:28:17.509777",
     "status": "completed"
    },
    "tags": []
   },
   "outputs": [
    {
     "data": {
      "text/plain": [
       "\"# Напишем функцию, которая будет оставлять в списке только слова из top_word_list, остальные удалит\\ndef leave_top_words(words):\\n    top_words = []\\n    for word in words:\\n        if word in top_word_list:\\n            top_words.append(word)\\n    x = top_words\\n    return x\\n\\n# Применим функцию к датасету, оставим только слова из top_word_list в столбце description\\ndf['description'] = df['description'].apply(lambda x: leave_top_words(x))\\n\\n\\n# Создание dummy-переменных на основе слов из top_word_list\\n\\n# Функция для отображения категорий в записи\\ndef find_item(cell):\\n    if item in cell:\\n        return 1\\n    return 0\\n\\n# Cоздаем столбцы со словами из top_word_list и заполняем 0 или 1\\nfor item in top_word_list:\\n    column_name = 'description' + item\\n    df[column_name] = df['description'].apply(find_item)\""
      ]
     },
     "execution_count": 52,
     "metadata": {},
     "output_type": "execute_result"
    }
   ],
   "source": [
    "'''# Напишем функцию, которая будет оставлять в списке только слова из top_word_list, остальные удалит\n",
    "def leave_top_words(words):\n",
    "    top_words = []\n",
    "    for word in words:\n",
    "        if word in top_word_list:\n",
    "            top_words.append(word)\n",
    "    x = top_words\n",
    "    return x\n",
    "\n",
    "# Применим функцию к датасету, оставим только слова из top_word_list в столбце description\n",
    "df['description'] = df['description'].apply(lambda x: leave_top_words(x))\n",
    "\n",
    "\n",
    "# Создание dummy-переменных на основе слов из top_word_list\n",
    "\n",
    "# Функция для отображения категорий в записи\n",
    "def find_item(cell):\n",
    "    if item in cell:\n",
    "        return 1\n",
    "    return 0\n",
    "\n",
    "# Cоздаем столбцы со словами из top_word_list и заполняем 0 или 1\n",
    "for item in top_word_list:\n",
    "    column_name = 'description' + item\n",
    "    df[column_name] = df['description'].apply(find_item)'''"
   ]
  },
  {
   "cell_type": "code",
   "execution_count": 53,
   "metadata": {
    "execution": {
     "iopub.execute_input": "2020-09-04T15:28:17.897468Z",
     "iopub.status.busy": "2020-09-04T15:28:17.720821Z",
     "iopub.status.idle": "2020-09-04T15:28:17.984837Z",
     "shell.execute_reply": "2020-09-04T15:28:17.985447Z"
    },
    "papermill": {
     "duration": 0.338994,
     "end_time": "2020-09-04T15:28:17.985621",
     "exception": false,
     "start_time": "2020-09-04T15:28:17.646627",
     "status": "completed"
    },
    "tags": []
   },
   "outputs": [],
   "source": [
    "df = df.drop(['description'], axis = 1)\n",
    "# df_test = df_test.drop(['description'], axis = 1)"
   ]
  },
  {
   "cell_type": "markdown",
   "execution_count": null,
   "metadata": {
    "papermill": {
     "duration": 0.060354,
     "end_time": "2020-09-04T15:28:18.111973",
     "exception": false,
     "start_time": "2020-09-04T15:28:18.051619",
     "status": "completed"
    },
    "tags": []
   },
   "source": [
    "## title"
   ]
  },
  {
   "cell_type": "code",
   "execution_count": 54,
   "metadata": {
    "execution": {
     "iopub.execute_input": "2020-09-04T15:28:18.240779Z",
     "iopub.status.busy": "2020-09-04T15:28:18.239629Z",
     "iopub.status.idle": "2020-09-04T15:28:18.244749Z",
     "shell.execute_reply": "2020-09-04T15:28:18.243993Z"
    },
    "papermill": {
     "duration": 0.072126,
     "end_time": "2020-09-04T15:28:18.244876",
     "exception": false,
     "start_time": "2020-09-04T15:28:18.172750",
     "status": "completed"
    },
    "tags": []
   },
   "outputs": [
    {
     "data": {
      "text/plain": [
       "'Torani Syrup, Sugar Free Vanilla, 25.4 oz'"
      ]
     },
     "execution_count": 54,
     "metadata": {},
     "output_type": "execute_result"
    }
   ],
   "source": [
    "df.title[115]"
   ]
  },
  {
   "cell_type": "markdown",
   "execution_count": null,
   "metadata": {
    "papermill": {
     "duration": 0.065183,
     "end_time": "2020-09-04T15:28:18.370389",
     "exception": false,
     "start_time": "2020-09-04T15:28:18.305206",
     "status": "completed"
    },
    "tags": []
   },
   "source": [
    "Видим, что title частично содержится в description. Удалим данный признак."
   ]
  },
  {
   "cell_type": "code",
   "execution_count": 55,
   "metadata": {
    "execution": {
     "iopub.execute_input": "2020-09-04T15:28:18.690792Z",
     "iopub.status.busy": "2020-09-04T15:28:18.506312Z",
     "iopub.status.idle": "2020-09-04T15:28:18.772475Z",
     "shell.execute_reply": "2020-09-04T15:28:18.771808Z"
    },
    "papermill": {
     "duration": 0.341062,
     "end_time": "2020-09-04T15:28:18.772612",
     "exception": false,
     "start_time": "2020-09-04T15:28:18.431550",
     "status": "completed"
    },
    "tags": []
   },
   "outputs": [],
   "source": [
    "df = df.drop(['title'], axis = 1)\n",
    "# df_test = df_test.drop(['title'], axis = 1)"
   ]
  },
  {
   "cell_type": "markdown",
   "execution_count": null,
   "metadata": {
    "papermill": {
     "duration": 0.061573,
     "end_time": "2020-09-04T15:28:18.894726",
     "exception": false,
     "start_time": "2020-09-04T15:28:18.833153",
     "status": "completed"
    },
    "tags": []
   },
   "source": [
    "## brand"
   ]
  },
  {
   "cell_type": "code",
   "execution_count": 56,
   "metadata": {
    "execution": {
     "iopub.execute_input": "2020-09-04T15:28:19.124522Z",
     "iopub.status.busy": "2020-09-04T15:28:19.123356Z",
     "iopub.status.idle": "2020-09-04T15:28:19.748597Z",
     "shell.execute_reply": "2020-09-04T15:28:19.747651Z"
    },
    "papermill": {
     "duration": 0.792502,
     "end_time": "2020-09-04T15:28:19.748775",
     "exception": false,
     "start_time": "2020-09-04T15:28:18.956273",
     "status": "completed"
    },
    "tags": []
   },
   "outputs": [
    {
     "name": "stdout",
     "output_type": "stream",
     "text": [
      "Количество пропусков: 6104,\n",
      "count     841489\n",
      "unique      8866\n",
      "top         KIND\n",
      "freq       22506\n",
      "Name: brand, dtype: object,\n",
      "Распределение:\n",
      "KIND                           22506\n",
      "Bob's Red Mill                 13061\n",
      "Twinings                       11182\n",
      "Planters                       10384\n",
      "Frontier                        6926\n",
      "                               ...  \n",
      "Cocktail Rx                        1\n",
      "Boboli                             1\n",
      "Brooks                             1\n",
      "Coco Lite Muligrn Pop Cakes        1\n",
      "Peanut Butter Americano            1\n",
      "Name: brand, Length: 8866, dtype: int64,\n"
     ]
    }
   ],
   "source": [
    "col_info(df.brand)"
   ]
  },
  {
   "cell_type": "markdown",
   "execution_count": null,
   "metadata": {
    "papermill": {
     "duration": 0.060529,
     "end_time": "2020-09-04T15:28:19.870807",
     "exception": false,
     "start_time": "2020-09-04T15:28:19.810278",
     "status": "completed"
    },
    "tags": []
   },
   "source": [
    "Пропусков относительно не много. 8866 разных производителей. Можно выделить самых известных и сделать для них dummy-переменные, как мы делали для других категориальных признаков."
   ]
  },
  {
   "cell_type": "code",
   "execution_count": 57,
   "metadata": {
    "execution": {
     "iopub.execute_input": "2020-09-04T15:28:20.002391Z",
     "iopub.status.busy": "2020-09-04T15:28:20.001177Z",
     "iopub.status.idle": "2020-09-04T15:28:20.008556Z",
     "shell.execute_reply": "2020-09-04T15:28:20.007813Z"
    },
    "papermill": {
     "duration": 0.075933,
     "end_time": "2020-09-04T15:28:20.008697",
     "exception": false,
     "start_time": "2020-09-04T15:28:19.932764",
     "status": "completed"
    },
    "tags": []
   },
   "outputs": [
    {
     "data": {
      "text/plain": [
       "\"# Зададим переменной количество производителей\\nN_BRANDS = 50\\n\\n# Приведем к str\\ndf['brand']=df['brand'].astype('str')\\n\\n# Создаем пустой список, в который будут добавляться все производители\\nall_brands = []\\n\\n# Добавляем производителя из каждой записи в общий список\\nfor brand in df.brand:\\n    all_brands.append(brand)\\n\\n# Считаем количество производителей в датасете\\ncnt = Counter()\\nfor word in all_brands:\\n    cnt[word] +=1\\n    \\n#Оставим топ N_BRANDS производителей\\ntop_brand = []\\nfor i in range (0, len(cnt.most_common(N_BRANDS))):\\n    br = cnt.most_common(N_BRANDS)[i][0]\\n    top_brand.append(br)\\n    \\n# Удаляем дубликаты из all_brands\\nall_brands = list(dict.fromkeys(all_brands))\\n\\nprint('Всего производителей: ', len(all_brands))\\nprint('Топ', N_BRANDS, 'производителей: ',top_brand)\""
      ]
     },
     "execution_count": 57,
     "metadata": {},
     "output_type": "execute_result"
    }
   ],
   "source": [
    "'''# Зададим переменной количество производителей\n",
    "N_BRANDS = 50\n",
    "\n",
    "# Приведем к str\n",
    "df['brand']=df['brand'].astype('str')\n",
    "\n",
    "# Создаем пустой список, в который будут добавляться все производители\n",
    "all_brands = []\n",
    "\n",
    "# Добавляем производителя из каждой записи в общий список\n",
    "for brand in df.brand:\n",
    "    all_brands.append(brand)\n",
    "\n",
    "# Считаем количество производителей в датасете\n",
    "cnt = Counter()\n",
    "for word in all_brands:\n",
    "    cnt[word] +=1\n",
    "    \n",
    "#Оставим топ N_BRANDS производителей\n",
    "top_brand = []\n",
    "for i in range (0, len(cnt.most_common(N_BRANDS))):\n",
    "    br = cnt.most_common(N_BRANDS)[i][0]\n",
    "    top_brand.append(br)\n",
    "    \n",
    "# Удаляем дубликаты из all_brands\n",
    "all_brands = list(dict.fromkeys(all_brands))\n",
    "\n",
    "print('Всего производителей: ', len(all_brands))\n",
    "print('Топ', N_BRANDS, 'производителей: ',top_brand)'''"
   ]
  },
  {
   "cell_type": "markdown",
   "execution_count": null,
   "metadata": {
    "papermill": {
     "duration": 0.061021,
     "end_time": "2020-09-04T15:28:20.133148",
     "exception": false,
     "start_time": "2020-09-04T15:28:20.072127",
     "status": "completed"
    },
    "tags": []
   },
   "source": [
    "Далее мы можем оставить только самых популярных производителей и создать на их основе dummy-переменные.\n",
    "\n",
    "**Я пока что закомментировал создание dummy-переменных для топовых категорий. Если хотите с ними обучить модель, то код ниже рабочий**"
   ]
  },
  {
   "cell_type": "code",
   "execution_count": 58,
   "metadata": {
    "execution": {
     "iopub.execute_input": "2020-09-04T15:28:20.265971Z",
     "iopub.status.busy": "2020-09-04T15:28:20.264780Z",
     "iopub.status.idle": "2020-09-04T15:28:20.269637Z",
     "shell.execute_reply": "2020-09-04T15:28:20.268920Z"
    },
    "papermill": {
     "duration": 0.073531,
     "end_time": "2020-09-04T15:28:20.269770",
     "exception": false,
     "start_time": "2020-09-04T15:28:20.196239",
     "status": "completed"
    },
    "tags": []
   },
   "outputs": [
    {
     "data": {
      "text/plain": [
       "\"# Напишем функцию, которая будет оставлять только топовых производителей, остальных удалит\\ndef leave_top_brand(brands):\\n    top_brands = []\\n    for brand in brands:\\n        if brand in top_brand:\\n            top_brands.append(brand)\\n    x = top_brands\\n    return x\\n\\n# Применим функцию к датасету, оставим только топовых производителей в стольце brand\\ndf['brand'] = df['brand'].apply(lambda x: leave_top_brand(x))\\n\\n\\n# Создание dummy-переменных на основе топовых производителей \\n\\n# Функция для отображения производителей в записи\\ndef find_item(cell):\\n    if item in cell:\\n        return 1\\n    return 0\\n\\n# Cоздаем столбцы с производителями и заполняем 0 или 1\\nfor item in top_brand:\\n    column_name = 'brand_' + item\\n    df[column_name] = df['brand'].apply(find_item)\""
      ]
     },
     "execution_count": 58,
     "metadata": {},
     "output_type": "execute_result"
    }
   ],
   "source": [
    "'''# Напишем функцию, которая будет оставлять только топовых производителей, остальных удалит\n",
    "def leave_top_brand(brands):\n",
    "    top_brands = []\n",
    "    for brand in brands:\n",
    "        if brand in top_brand:\n",
    "            top_brands.append(brand)\n",
    "    x = top_brands\n",
    "    return x\n",
    "\n",
    "# Применим функцию к датасету, оставим только топовых производителей в стольце brand\n",
    "df['brand'] = df['brand'].apply(lambda x: leave_top_brand(x))\n",
    "\n",
    "\n",
    "# Создание dummy-переменных на основе топовых производителей \n",
    "\n",
    "# Функция для отображения производителей в записи\n",
    "def find_item(cell):\n",
    "    if item in cell:\n",
    "        return 1\n",
    "    return 0\n",
    "\n",
    "# Cоздаем столбцы с производителями и заполняем 0 или 1\n",
    "for item in top_brand:\n",
    "    column_name = 'brand_' + item\n",
    "    df[column_name] = df['brand'].apply(find_item)'''"
   ]
  },
  {
   "cell_type": "code",
   "execution_count": 59,
   "metadata": {
    "execution": {
     "iopub.execute_input": "2020-09-04T15:28:20.407934Z",
     "iopub.status.busy": "2020-09-04T15:28:20.407100Z",
     "iopub.status.idle": "2020-09-04T15:28:20.611007Z",
     "shell.execute_reply": "2020-09-04T15:28:20.610179Z"
    },
    "papermill": {
     "duration": 0.279234,
     "end_time": "2020-09-04T15:28:20.611160",
     "exception": false,
     "start_time": "2020-09-04T15:28:20.331926",
     "status": "completed"
    },
    "tags": []
   },
   "outputs": [],
   "source": [
    "df = df.drop(['brand'], axis = 1)\n",
    "# df_test = df_test.drop(['brand'], axis = 1)"
   ]
  },
  {
   "cell_type": "markdown",
   "execution_count": null,
   "metadata": {
    "papermill": {
     "duration": 0.062397,
     "end_time": "2020-09-04T15:28:20.736141",
     "exception": false,
     "start_time": "2020-09-04T15:28:20.673744",
     "status": "completed"
    },
    "tags": []
   },
   "source": [
    "## rank"
   ]
  },
  {
   "cell_type": "code",
   "execution_count": 60,
   "metadata": {
    "execution": {
     "iopub.execute_input": "2020-09-04T15:28:20.962934Z",
     "iopub.status.busy": "2020-09-04T15:28:20.961799Z",
     "iopub.status.idle": "2020-09-04T15:28:20.969904Z",
     "shell.execute_reply": "2020-09-04T15:28:20.969138Z"
    },
    "papermill": {
     "duration": 0.172347,
     "end_time": "2020-09-04T15:28:20.970050",
     "exception": false,
     "start_time": "2020-09-04T15:28:20.797703",
     "status": "completed"
    },
    "tags": []
   },
   "outputs": [
    {
     "name": "stdout",
     "output_type": "stream",
     "text": [
      "Количество пропусков: 34598,\n"
     ]
    }
   ],
   "source": [
    "print('Количество пропусков: {},'.format(df['rank'].isnull().sum()))"
   ]
  },
  {
   "cell_type": "markdown",
   "execution_count": null,
   "metadata": {
    "papermill": {
     "duration": 0.065978,
     "end_time": "2020-09-04T15:28:21.104329",
     "exception": false,
     "start_time": "2020-09-04T15:28:21.038351",
     "status": "completed"
    },
    "tags": []
   },
   "source": [
    "Посмотрим, как выглядят значения"
   ]
  },
  {
   "cell_type": "code",
   "execution_count": 61,
   "metadata": {
    "execution": {
     "iopub.execute_input": "2020-09-04T15:28:21.236204Z",
     "iopub.status.busy": "2020-09-04T15:28:21.235163Z",
     "iopub.status.idle": "2020-09-04T15:28:21.240576Z",
     "shell.execute_reply": "2020-09-04T15:28:21.239741Z"
    },
    "papermill": {
     "duration": 0.074701,
     "end_time": "2020-09-04T15:28:21.240717",
     "exception": false,
     "start_time": "2020-09-04T15:28:21.166016",
     "status": "completed"
    },
    "tags": []
   },
   "outputs": [
    {
     "data": {
      "text/plain": [
       "'19,771inGroceryGourmetFood('"
      ]
     },
     "execution_count": 61,
     "metadata": {},
     "output_type": "execute_result"
    }
   ],
   "source": [
    "df['rank'][1]"
   ]
  },
  {
   "cell_type": "markdown",
   "execution_count": null,
   "metadata": {
    "papermill": {
     "duration": 0.063572,
     "end_time": "2020-09-04T15:28:21.367086",
     "exception": false,
     "start_time": "2020-09-04T15:28:21.303514",
     "status": "completed"
    },
    "tags": []
   },
   "source": [
    "Приведем значения данного признака к единому числовому виду"
   ]
  },
  {
   "cell_type": "code",
   "execution_count": 62,
   "metadata": {
    "execution": {
     "iopub.execute_input": "2020-09-04T15:28:21.506580Z",
     "iopub.status.busy": "2020-09-04T15:28:21.505423Z",
     "iopub.status.idle": "2020-09-04T15:28:29.373587Z",
     "shell.execute_reply": "2020-09-04T15:28:29.372692Z"
    },
    "papermill": {
     "duration": 7.943064,
     "end_time": "2020-09-04T15:28:29.373827",
     "exception": false,
     "start_time": "2020-09-04T15:28:21.430763",
     "status": "completed"
    },
    "tags": []
   },
   "outputs": [
    {
     "name": "stdout",
     "output_type": "stream",
     "text": [
      "Количество пропусков: 0,\n",
      "count    8.475930e+05\n",
      "mean     6.676660e+05\n",
      "std      2.289290e+06\n",
      "min      4.000000e+00\n",
      "25%      1.094000e+04\n",
      "50%      4.999900e+04\n",
      "75%      1.799160e+05\n",
      "max      9.999999e+06\n",
      "Name: rank, dtype: float64,\n",
      "Распределение:\n",
      "9999999    47163\n",
      "18          7421\n",
      "4575        4733\n",
      "2949        4611\n",
      "142261      4252\n",
      "           ...  \n",
      "1169810        1\n",
      "784450         1\n",
      "293005         1\n",
      "265756         1\n",
      "643797         1\n",
      "Name: rank, Length: 35977, dtype: int64,\n"
     ]
    }
   ],
   "source": [
    "# Приведем все к str\n",
    "df['rank'] = df['rank'].astype('str')\n",
    "# Удалим все значения кроме числовых\n",
    "df['rank'] = df['rank'].apply(lambda x: re.sub('\\D', '', x))\n",
    "# Заменим пропуски на высокий ранг (предположим, что чем ниже ранг, тем лучше)\n",
    "df['rank'] = df['rank'].apply(lambda x: 9999999 if x == '' else x)\n",
    "df['rank'] = df['rank'].astype('float')\n",
    "# Остаются какие-то большие значения, заменим их на высокий ранг\n",
    "df['rank'] = df['rank'].apply(lambda x: 9999999 if x > 9999999 else x)\n",
    "df['rank'] = df['rank'].astype('int32')\n",
    "# Посмотрим на результат\n",
    "col_info(df['rank'])\n",
    "\n",
    "\n",
    "# # Аналогичная процедура для тестового датасета\n",
    "# # Приведем все к str\n",
    "# df_test['rank'] = df_test['rank'].astype('str')\n",
    "# # Удалим все значения кроме числовых\n",
    "# df_test['rank'] = df_test['rank'].apply(lambda x: re.sub('\\D', '', x))\n",
    "# # Заменим пропуски на высокий ранг (предположим, что чем ниже ранг, тем лучше)\n",
    "# df_test['rank'] = df_test['rank'].apply(lambda x: 9999999 if x == '' else x)\n",
    "# df_test['rank'] = df_test['rank'].astype('float')\n",
    "# # Остаются какие-то большие значения, заменим их на высокий ранг\n",
    "# df_test['rank'] = df_test['rank'].apply(lambda x: 9999999 if x > 9999999 else x)\n",
    "# df_test['rank'] = df_test['rank'].astype('int32')"
   ]
  },
  {
   "cell_type": "markdown",
   "execution_count": null,
   "metadata": {
    "papermill": {
     "duration": 0.061496,
     "end_time": "2020-09-04T15:28:29.497793",
     "exception": false,
     "start_time": "2020-09-04T15:28:29.436297",
     "status": "completed"
    },
    "tags": []
   },
   "source": [
    "Заменим значения на категории. Создание dummy-переменных сделаем после EDA"
   ]
  },
  {
   "cell_type": "code",
   "execution_count": 63,
   "metadata": {
    "execution": {
     "iopub.execute_input": "2020-09-04T15:28:29.716141Z",
     "iopub.status.busy": "2020-09-04T15:28:29.715323Z",
     "iopub.status.idle": "2020-09-04T15:28:30.353792Z",
     "shell.execute_reply": "2020-09-04T15:28:30.354390Z"
    },
    "papermill": {
     "duration": 0.733016,
     "end_time": "2020-09-04T15:28:30.354573",
     "exception": false,
     "start_time": "2020-09-04T15:28:29.621557",
     "status": "completed"
    },
    "tags": []
   },
   "outputs": [],
   "source": [
    "# Создадим 3 категории рангов\n",
    "def cat_rank(x):\n",
    "    if x < 1093: x = 'high'\n",
    "    elif 1093 <= x <= 18000: x = 'middle'\n",
    "    elif 18000 < x: x = 'low'\n",
    "    return x      \n",
    "\n",
    "# Заменим значения в столбце на категории\n",
    "df['rank'] = df['rank'].apply(lambda x: cat_rank(x))\n",
    "# df_test['rank'] = df_test['rank'].apply(lambda x: cat_rank(x))"
   ]
  },
  {
   "cell_type": "markdown",
   "execution_count": null,
   "metadata": {
    "papermill": {
     "duration": 0.062528,
     "end_time": "2020-09-04T15:28:30.479625",
     "exception": false,
     "start_time": "2020-09-04T15:28:30.417097",
     "status": "completed"
    },
    "tags": []
   },
   "source": [
    "## also_view"
   ]
  },
  {
   "cell_type": "code",
   "execution_count": 64,
   "metadata": {
    "execution": {
     "iopub.execute_input": "2020-09-04T15:28:30.612648Z",
     "iopub.status.busy": "2020-09-04T15:28:30.611756Z",
     "iopub.status.idle": "2020-09-04T15:28:30.616337Z",
     "shell.execute_reply": "2020-09-04T15:28:30.615555Z"
    },
    "papermill": {
     "duration": 0.07453,
     "end_time": "2020-09-04T15:28:30.616469",
     "exception": false,
     "start_time": "2020-09-04T15:28:30.541939",
     "status": "completed"
    },
    "tags": []
   },
   "outputs": [
    {
     "data": {
      "text/plain": [
       "['B006K3UC86', 'B000WGB3OY']"
      ]
     },
     "execution_count": 64,
     "metadata": {},
     "output_type": "execute_result"
    }
   ],
   "source": [
    "df.also_view[127]"
   ]
  },
  {
   "cell_type": "markdown",
   "execution_count": null,
   "metadata": {
    "papermill": {
     "duration": 0.062416,
     "end_time": "2020-09-04T15:28:30.741125",
     "exception": false,
     "start_time": "2020-09-04T15:28:30.678709",
     "status": "completed"
    },
    "tags": []
   },
   "source": [
    "Видим список других товаров в виде asin."
   ]
  },
  {
   "cell_type": "markdown",
   "execution_count": null,
   "metadata": {
    "papermill": {
     "duration": 0.061798,
     "end_time": "2020-09-04T15:28:30.864424",
     "exception": false,
     "start_time": "2020-09-04T15:28:30.802626",
     "status": "completed"
    },
    "tags": []
   },
   "source": [
    "В качестве идеи: \n",
    "* так же как мы делали для категорий, посчитать количество упоминаний каждого товара\n",
    "* сделать числовой признак in_also_view, в котором будет указано, сколько каждый товар упоминается в других товарах в also_view\n",
    "\n",
    "* сделать как с категориями - dummy-переменные для само часто упоминаемых в also_view товарах\n",
    "\n",
    "Однако мы уже явно выбиваемся за отведенные на задание 8 часов. Удалим признак."
   ]
  },
  {
   "cell_type": "code",
   "execution_count": 65,
   "metadata": {
    "execution": {
     "iopub.execute_input": "2020-09-04T15:28:30.998466Z",
     "iopub.status.busy": "2020-09-04T15:28:30.997066Z",
     "iopub.status.idle": "2020-09-04T15:28:31.535143Z",
     "shell.execute_reply": "2020-09-04T15:28:31.534477Z"
    },
    "papermill": {
     "duration": 0.607939,
     "end_time": "2020-09-04T15:28:31.535282",
     "exception": false,
     "start_time": "2020-09-04T15:28:30.927343",
     "status": "completed"
    },
    "tags": []
   },
   "outputs": [],
   "source": [
    "df = df.drop(['also_view'], axis = 1)\n",
    "# df_test = df_test.drop(['also_view'], axis = 1)"
   ]
  },
  {
   "cell_type": "markdown",
   "execution_count": null,
   "metadata": {
    "papermill": {
     "duration": 0.063153,
     "end_time": "2020-09-04T15:28:31.661936",
     "exception": false,
     "start_time": "2020-09-04T15:28:31.598783",
     "status": "completed"
    },
    "tags": []
   },
   "source": [
    "## main_cat"
   ]
  },
  {
   "cell_type": "code",
   "execution_count": 66,
   "metadata": {
    "execution": {
     "iopub.execute_input": "2020-09-04T15:28:31.891769Z",
     "iopub.status.busy": "2020-09-04T15:28:31.890913Z",
     "iopub.status.idle": "2020-09-04T15:28:32.499225Z",
     "shell.execute_reply": "2020-09-04T15:28:32.499800Z"
    },
    "papermill": {
     "duration": 0.775603,
     "end_time": "2020-09-04T15:28:32.499975",
     "exception": false,
     "start_time": "2020-09-04T15:28:31.724372",
     "status": "completed"
    },
    "tags": []
   },
   "outputs": [
    {
     "name": "stdout",
     "output_type": "stream",
     "text": [
      "Количество пропусков: 955,\n",
      "count      846638\n",
      "unique         17\n",
      "top       Grocery\n",
      "freq       802613\n",
      "Name: main_cat, dtype: object,\n",
      "Распределение:\n",
      "Grocery                      802613\n",
      "Health & Personal Care        31705\n",
      "Amazon Home                    7383\n",
      "All Beauty                     1522\n",
      "Sports & Outdoors              1322\n",
      "Industrial & Scientific         902\n",
      "Office Products                 631\n",
      "Toys & Games                    304\n",
      "Pet Supplies                    125\n",
      "Tools & Home Improvement         53\n",
      "Baby                             34\n",
      "Arts, Crafts & Sewing            19\n",
      "Home Audio & Theater              9\n",
      "Camera & Photo                    8\n",
      "Software                          3\n",
      "Musical Instruments               3\n",
      "Cell Phones & Accessories         2\n",
      "Name: main_cat, dtype: int64,\n"
     ]
    }
   ],
   "source": [
    "col_info(df.main_cat)"
   ]
  },
  {
   "cell_type": "markdown",
   "execution_count": null,
   "metadata": {
    "papermill": {
     "duration": 0.063599,
     "end_time": "2020-09-04T15:28:32.626999",
     "exception": false,
     "start_time": "2020-09-04T15:28:32.563400",
     "status": "completed"
    },
    "tags": []
   },
   "source": [
    "Избавимся от пропусков. dummy-переменные для категорий создадим после EDA."
   ]
  },
  {
   "cell_type": "code",
   "execution_count": 67,
   "metadata": {
    "execution": {
     "iopub.execute_input": "2020-09-04T15:28:32.857709Z",
     "iopub.status.busy": "2020-09-04T15:28:32.856542Z",
     "iopub.status.idle": "2020-09-04T15:28:32.899569Z",
     "shell.execute_reply": "2020-09-04T15:28:32.898830Z"
    },
    "papermill": {
     "duration": 0.210094,
     "end_time": "2020-09-04T15:28:32.899706",
     "exception": false,
     "start_time": "2020-09-04T15:28:32.689612",
     "status": "completed"
    },
    "tags": []
   },
   "outputs": [],
   "source": [
    "# Заменим пропуски на категорию \"Other\"\n",
    "df.main_cat = df.main_cat.fillna('Other')\n",
    "# df_test.main_cat = df_test.main_cat.fillna('Other')"
   ]
  },
  {
   "cell_type": "markdown",
   "execution_count": null,
   "metadata": {
    "papermill": {
     "duration": 0.065458,
     "end_time": "2020-09-04T15:28:33.028355",
     "exception": false,
     "start_time": "2020-09-04T15:28:32.962897",
     "status": "completed"
    },
    "tags": []
   },
   "source": [
    "## price"
   ]
  },
  {
   "cell_type": "code",
   "execution_count": 68,
   "metadata": {
    "execution": {
     "iopub.execute_input": "2020-09-04T15:28:33.240045Z",
     "iopub.status.busy": "2020-09-04T15:28:33.239233Z",
     "iopub.status.idle": "2020-09-04T15:28:33.727178Z",
     "shell.execute_reply": "2020-09-04T15:28:33.726043Z"
    },
    "papermill": {
     "duration": 0.636016,
     "end_time": "2020-09-04T15:28:33.727375",
     "exception": false,
     "start_time": "2020-09-04T15:28:33.091359",
     "status": "completed"
    },
    "tags": []
   },
   "outputs": [
    {
     "name": "stdout",
     "output_type": "stream",
     "text": [
      "Количество пропусков: 258621,\n",
      "count     588972\n",
      "unique      4601\n",
      "top       $14.99\n",
      "freq       14241\n",
      "Name: price, dtype: object,\n",
      "Распределение:\n",
      "$14.99              14241\n",
      "$13.67              10660\n",
      "$19.99               9043\n",
      "$14.79               5632\n",
      "$15.53               5561\n",
      "                    ...  \n",
      "$62.24                  2\n",
      "$6.93                   1\n",
      "$44.14                  1\n",
      "$19.99 - $295.00        1\n",
      "$35.16                  1\n",
      "Name: price, Length: 4601, dtype: int64,\n"
     ]
    }
   ],
   "source": [
    "col_info(df.price)"
   ]
  },
  {
   "cell_type": "markdown",
   "execution_count": null,
   "metadata": {
    "papermill": {
     "duration": 0.062216,
     "end_time": "2020-09-04T15:28:33.858768",
     "exception": false,
     "start_time": "2020-09-04T15:28:33.796552",
     "status": "completed"
    },
    "tags": []
   },
   "source": [
    "У нас довольно много пропусков и есть диапозоны цен, например 19.99-295.00.\n",
    "Заменим такие значения и пропуски на среднее значение.\n",
    "Чтобы найти среднее значение, создадим вспомогательный датасет, удалим в нем пропуски в столбце price и посчитаем среднее."
   ]
  },
  {
   "cell_type": "code",
   "execution_count": 69,
   "metadata": {
    "execution": {
     "iopub.execute_input": "2020-09-04T15:28:33.995300Z",
     "iopub.status.busy": "2020-09-04T15:28:33.994336Z",
     "iopub.status.idle": "2020-09-04T15:28:36.995611Z",
     "shell.execute_reply": "2020-09-04T15:28:36.994701Z"
    },
    "papermill": {
     "duration": 3.073908,
     "end_time": "2020-09-04T15:28:36.995758",
     "exception": false,
     "start_time": "2020-09-04T15:28:33.921850",
     "status": "completed"
    },
    "tags": []
   },
   "outputs": [
    {
     "name": "stdout",
     "output_type": "stream",
     "text": [
      "Количество пропусков: 0,\n",
      "count    585001.000000\n",
      "mean       2069.952270\n",
      "std        1754.135664\n",
      "min           1.000000\n",
      "25%        1155.000000\n",
      "50%        1691.000000\n",
      "75%        2599.000000\n",
      "max       99900.000000\n",
      "Name: price, dtype: float64,\n",
      "Распределение:\n",
      "1499.0    14241\n",
      "1367.0    10660\n",
      "1999.0     9043\n",
      "1479.0     5632\n",
      "1553.0     5561\n",
      "          ...  \n",
      "2504.0        2\n",
      "2848.0        2\n",
      "693.0         1\n",
      "4414.0        1\n",
      "3516.0        1\n",
      "Name: price, Length: 4527, dtype: int64,\n"
     ]
    }
   ],
   "source": [
    "# Скопируем датасет\n",
    "df_price = df.copy()\n",
    "# Избавимся от пропусков\n",
    "df_price = df_price[df_price.price.isna() == False]\n",
    "df_price = df_price[df_price.price != '']\n",
    "# Приведем все к str\n",
    "df_price['price'] = df_price['price'].astype('str')\n",
    "# Удалим все значения кроме числовых\n",
    "df_price['price'] = df_price['price'].apply(lambda x: re.sub('\\D', '', x))\n",
    "# Переведем во float\n",
    "df_price['price'] = df_price['price'].astype('float')\n",
    "# Удалим все, что дороже 9999$ т.к. это, скорее всего, ошибка\n",
    "df_price = df_price[df_price.price < 999999]\n",
    "# Посмотрим на результат\n",
    "col_info(df_price.price)"
   ]
  },
  {
   "cell_type": "markdown",
   "execution_count": null,
   "metadata": {
    "papermill": {
     "duration": 0.06293,
     "end_time": "2020-09-04T15:28:37.126474",
     "exception": false,
     "start_time": "2020-09-04T15:28:37.063544",
     "status": "completed"
    },
    "tags": []
   },
   "source": [
    "На вид все ОК. Теперь мы можем сделать похожую процедуру для основного датасета, заменив нулевые значения и диапазоны цен на среднюю цену."
   ]
  },
  {
   "cell_type": "code",
   "execution_count": 70,
   "metadata": {
    "execution": {
     "iopub.execute_input": "2020-09-04T15:28:37.266618Z",
     "iopub.status.busy": "2020-09-04T15:28:37.264992Z",
     "iopub.status.idle": "2020-09-04T15:28:41.211781Z",
     "shell.execute_reply": "2020-09-04T15:28:41.210706Z"
    },
    "papermill": {
     "duration": 4.021667,
     "end_time": "2020-09-04T15:28:41.212020",
     "exception": false,
     "start_time": "2020-09-04T15:28:37.190353",
     "status": "completed"
    },
    "tags": []
   },
   "outputs": [
    {
     "name": "stdout",
     "output_type": "stream",
     "text": [
      "Количество пропусков: 0,\n",
      "count    847593.000000\n",
      "mean       2069.967057\n",
      "std        1457.295712\n",
      "min           1.000000\n",
      "25%        1398.000000\n",
      "50%        2070.000000\n",
      "75%        2112.000000\n",
      "max       99900.000000\n",
      "Name: price, dtype: float64,\n",
      "Распределение:\n",
      "2070    262805\n",
      "1499     14241\n",
      "1367     10660\n",
      "1999      9043\n",
      "1479      5632\n",
      "         ...  \n",
      "3552         2\n",
      "4906         2\n",
      "693          1\n",
      "3516         1\n",
      "4414         1\n",
      "Name: price, Length: 4527, dtype: int64,\n"
     ]
    }
   ],
   "source": [
    "# Чтобы каждый раз не считать среднее значение, используем переменную\n",
    "df_price_mean = df_price.price.mean()\n",
    "# Приведем все к str\n",
    "df['price'] = df['price'].astype('str')\n",
    "# Удалим все значения кроме числовых\n",
    "df['price'] = df['price'].apply(lambda x: re.sub('\\D', '', x))\n",
    "# Заменим пропуски на среднее значение\n",
    "df['price'] = df['price'].apply(lambda x: round(df_price_mean, 0) if x == '' else x)\n",
    "# Приведем к float\n",
    "df['price'] = df['price'].astype('float')\n",
    "# Заменим большие значения на средние\n",
    "df['price'] = df['price'].apply(lambda x: round(df_price_mean, 0) if x > 999999 else x)\n",
    "# Приведем к int32\n",
    "df['price'] = df['price'].astype('int32')\n",
    "# Смотрим на результат\n",
    "col_info(df.price)\n",
    "\n",
    "# # Аналогично для тестового датасета\n",
    "# # Приведем все к str\n",
    "# df_test['price'] = df_test['price'].astype('str')\n",
    "# # Удалим все значения кроме числовых\n",
    "# df_test['price'] = df_test['price'].apply(lambda x: re.sub('\\D', '', x))\n",
    "# # Заменим пропуски на среднее значение\n",
    "# df_test['price'] = df_test['price'].apply(lambda x: round(df_price_mean, 0) if x == '' else x)\n",
    "# # Приведем к float\n",
    "# df_test['price'] = df_test['price'].astype('float')\n",
    "# # Заменим большие значения на средние\n",
    "# df_test['price'] = df_test['price'].apply(lambda x: round(df_price_mean, 0) if x > 999999 else x)\n",
    "# # Приведем к int32\n",
    "# df_test['price'] = df_test['price'].astype('int32')"
   ]
  },
  {
   "cell_type": "markdown",
   "execution_count": null,
   "metadata": {
    "papermill": {
     "duration": 0.062646,
     "end_time": "2020-09-04T15:28:41.339422",
     "exception": false,
     "start_time": "2020-09-04T15:28:41.276776",
     "status": "completed"
    },
    "tags": []
   },
   "source": [
    "Поделим цены на 3 категории и создадим dummy-переменные"
   ]
  },
  {
   "cell_type": "code",
   "execution_count": 71,
   "metadata": {
    "execution": {
     "iopub.execute_input": "2020-09-04T15:28:41.475186Z",
     "iopub.status.busy": "2020-09-04T15:28:41.474342Z",
     "iopub.status.idle": "2020-09-04T15:28:42.074413Z",
     "shell.execute_reply": "2020-09-04T15:28:42.074975Z"
    },
    "papermill": {
     "duration": 0.672229,
     "end_time": "2020-09-04T15:28:42.075164",
     "exception": false,
     "start_time": "2020-09-04T15:28:41.402935",
     "status": "completed"
    },
    "tags": []
   },
   "outputs": [],
   "source": [
    "def cat_price(x):\n",
    "    if x < 1397: x = 'low'\n",
    "    elif 1397 <= x <= 2099: x = 'middle'\n",
    "    elif 2099 < x: x = 'high'\n",
    "    return x      \n",
    "\n",
    "df['price'] = df['price'].apply(lambda x: cat_price(x))\n",
    "# df_test['price'] = df_test['price'].apply(lambda x: cat_price(x))"
   ]
  },
  {
   "cell_type": "markdown",
   "execution_count": null,
   "metadata": {
    "papermill": {
     "duration": 0.064154,
     "end_time": "2020-09-04T15:28:42.202528",
     "exception": false,
     "start_time": "2020-09-04T15:28:42.138374",
     "status": "completed"
    },
    "tags": []
   },
   "source": [
    "Cоздадим dummy-переменные после EDA"
   ]
  },
  {
   "cell_type": "markdown",
   "execution_count": null,
   "metadata": {
    "papermill": {
     "duration": 0.06379,
     "end_time": "2020-09-04T15:28:42.330853",
     "exception": false,
     "start_time": "2020-09-04T15:28:42.267063",
     "status": "completed"
    },
    "tags": []
   },
   "source": [
    "## also_buy"
   ]
  },
  {
   "cell_type": "code",
   "execution_count": 72,
   "metadata": {
    "execution": {
     "iopub.execute_input": "2020-09-04T15:28:42.462190Z",
     "iopub.status.busy": "2020-09-04T15:28:42.461421Z",
     "iopub.status.idle": "2020-09-04T15:28:42.465845Z",
     "shell.execute_reply": "2020-09-04T15:28:42.466471Z"
    },
    "papermill": {
     "duration": 0.073133,
     "end_time": "2020-09-04T15:28:42.466634",
     "exception": false,
     "start_time": "2020-09-04T15:28:42.393501",
     "status": "completed"
    },
    "tags": []
   },
   "outputs": [
    {
     "name": "stdout",
     "output_type": "stream",
     "text": [
      "['B001FBKO4U', 'B00BJ9URYA', 'B00451ZJB0', 'B0017TMTFM', 'B005H0H6VO', 'B003VTLR5Y', 'B004AJNTTG', 'B00281PIBA', 'B009GJFBOG', 'B00ESMAR4K', 'B0797BZK8L', 'B0030LILPM', 'B00284TRPA', 'B00FZW1B3I', 'B008YX9DBM', 'B000YUOY30', 'B07D83WGWN', 'B079TR46SP', 'B00I5I2ZYI', 'B00006IDJX', 'B00WT4ZC12', 'B00286KM8E', 'B00CAC6XBG', 'B002W90JJY', 'B01N65U0R6', 'B004JUZ502', 'B00GEG40KA', 'B076D91YKH', 'B0010XVRXK', 'B001UBLV1K', 'B00IZC4ZJC', 'B00BKUULEO', 'B0023XKXEA', 'B079K6ZQMJ', 'B00KO3O1BC', 'B00HT91ZPY', 'B00F2PD92O', 'B00BFUFYZK', 'B007JKN0R4', 'B01FF96B94', 'B072DVZRN1', 'B01N6CKOXH', 'B007ZNE5WE', 'B00UII9OEC', 'B0040ZFAQ0', 'B0040ZOVTW', 'B0019QW0CU', 'B00284TOOY', 'B002SQJI98', 'B076MBL7PS', 'B071HM5WC9', 'B004NG8DFQ', 'B00ICT73A6', 'B01LYHE49W', 'B004E2O5T2', 'B008GVJ9S4', 'B00196T0LE', 'B00O3IQJ2I', 'B008O7LUQY', 'B0745HFZLV', 'B076TP8D8X', 'B0016BS29S', 'B001IZG8D4', 'B00XTS39EE', 'B00J0EKV3I', 'B01IPCE0A0', 'B0038ZWUKC', 'B000FOIYS6', 'B0040ZFRSQ', 'B00F2PCKQK', 'B001GM60LE', 'B072FVQNWM', 'B00QSR9PRI', 'B001FA1KJO', 'B003ODXI86', 'B002UQSSHO', 'B004YK2KSM', 'B010OVK234', 'B009LT7LT4', 'B008P731LK', 'B001FVPAOE', 'B005IP06PG', 'B00F3SQBVQ', 'B00HS6FSBA', 'B06XQ2K9TZ', 'B00NGWYBGS', 'B0085SN7J0', 'B0006SW71G', 'B072LVBJHF', 'B008R6LOBS', 'B0018191SM', 'B0040ZOVQA', 'B001E4S6TI', 'B00PPLXMZO']\n"
     ]
    }
   ],
   "source": [
    "print(df.also_buy[25])"
   ]
  },
  {
   "cell_type": "markdown",
   "execution_count": null,
   "metadata": {
    "papermill": {
     "duration": 0.063254,
     "end_time": "2020-09-04T15:28:42.592975",
     "exception": false,
     "start_time": "2020-09-04T15:28:42.529721",
     "status": "completed"
    },
    "tags": []
   },
   "source": [
    "аналогично also_view. Есть идеи, что с этим сделать, но уже давно пора переходить к следующим этапам. Пока что удалим."
   ]
  },
  {
   "cell_type": "code",
   "execution_count": 73,
   "metadata": {
    "execution": {
     "iopub.execute_input": "2020-09-04T15:28:42.728214Z",
     "iopub.status.busy": "2020-09-04T15:28:42.727349Z",
     "iopub.status.idle": "2020-09-04T15:28:43.202917Z",
     "shell.execute_reply": "2020-09-04T15:28:43.202213Z"
    },
    "papermill": {
     "duration": 0.545309,
     "end_time": "2020-09-04T15:28:43.203066",
     "exception": false,
     "start_time": "2020-09-04T15:28:42.657757",
     "status": "completed"
    },
    "tags": []
   },
   "outputs": [],
   "source": [
    "df = df.drop(['also_buy'], axis = 1)\n",
    "# df_test = df_test.drop(['also_buy'], axis = 1)"
   ]
  },
  {
   "cell_type": "markdown",
   "execution_count": null,
   "metadata": {
    "papermill": {
     "duration": 0.062508,
     "end_time": "2020-09-04T15:28:43.328713",
     "exception": false,
     "start_time": "2020-09-04T15:28:43.266205",
     "status": "completed"
    },
    "tags": []
   },
   "source": [
    "## image_y"
   ]
  },
  {
   "cell_type": "code",
   "execution_count": 74,
   "metadata": {
    "execution": {
     "iopub.execute_input": "2020-09-04T15:28:43.462162Z",
     "iopub.status.busy": "2020-09-04T15:28:43.461267Z",
     "iopub.status.idle": "2020-09-04T15:28:43.466500Z",
     "shell.execute_reply": "2020-09-04T15:28:43.465790Z"
    },
    "papermill": {
     "duration": 0.075042,
     "end_time": "2020-09-04T15:28:43.466628",
     "exception": false,
     "start_time": "2020-09-04T15:28:43.391586",
     "status": "completed"
    },
    "tags": []
   },
   "outputs": [
    {
     "data": {
      "text/plain": [
       "['https://images-na.ssl-images-amazon.com/images/I/51gJ78gwiuL._SS40_.jpg',\n",
       " 'https://images-na.ssl-images-amazon.com/images/I/51Atu6eGDGL._SS40_.jpg',\n",
       " 'https://images-na.ssl-images-amazon.com/images/I/51IVforY1EL._SS40_.jpg',\n",
       " 'https://images-na.ssl-images-amazon.com/images/I/51TVXVBrfbL._SS40_.jpg',\n",
       " 'https://images-na.ssl-images-amazon.com/images/I/51Prc170IBL._SS40_.jpg',\n",
       " 'https://images-na.ssl-images-amazon.com/images/I/316wiuQhBFL._SS40_.jpg']"
      ]
     },
     "execution_count": 74,
     "metadata": {},
     "output_type": "execute_result"
    }
   ],
   "source": [
    "df.image_y[0]"
   ]
  },
  {
   "cell_type": "markdown",
   "execution_count": null,
   "metadata": {
    "papermill": {
     "duration": 0.063172,
     "end_time": "2020-09-04T15:28:43.593519",
     "exception": false,
     "start_time": "2020-09-04T15:28:43.530347",
     "status": "completed"
    },
    "tags": []
   },
   "source": [
    "Картинки - удаляем"
   ]
  },
  {
   "cell_type": "code",
   "execution_count": 75,
   "metadata": {
    "execution": {
     "iopub.execute_input": "2020-09-04T15:28:43.736291Z",
     "iopub.status.busy": "2020-09-04T15:28:43.735501Z",
     "iopub.status.idle": "2020-09-04T15:28:43.892009Z",
     "shell.execute_reply": "2020-09-04T15:28:43.891332Z"
    },
    "papermill": {
     "duration": 0.233946,
     "end_time": "2020-09-04T15:28:43.892171",
     "exception": false,
     "start_time": "2020-09-04T15:28:43.658225",
     "status": "completed"
    },
    "tags": []
   },
   "outputs": [],
   "source": [
    "df = df.drop(['image_y'], axis = 1)\n",
    "# df_test = df_test.drop(['image_y'], axis = 1)"
   ]
  },
  {
   "cell_type": "markdown",
   "execution_count": null,
   "metadata": {
    "papermill": {
     "duration": 0.069396,
     "end_time": "2020-09-04T15:28:44.025275",
     "exception": false,
     "start_time": "2020-09-04T15:28:43.955879",
     "status": "completed"
    },
    "tags": []
   },
   "source": [
    "## date"
   ]
  },
  {
   "cell_type": "code",
   "execution_count": 76,
   "metadata": {
    "execution": {
     "iopub.execute_input": "2020-09-04T15:28:44.208771Z",
     "iopub.status.busy": "2020-09-04T15:28:44.207969Z",
     "iopub.status.idle": "2020-09-04T15:28:44.428580Z",
     "shell.execute_reply": "2020-09-04T15:28:44.429470Z"
    },
    "papermill": {
     "duration": 0.338237,
     "end_time": "2020-09-04T15:28:44.429721",
     "exception": false,
     "start_time": "2020-09-04T15:28:44.091484",
     "status": "completed"
    },
    "tags": []
   },
   "outputs": [
    {
     "name": "stdout",
     "output_type": "stream",
     "text": [
      "Количество пропусков: 835506,\n",
      "count               12087\n",
      "unique                417\n",
      "top       January 1, 2006\n",
      "freq                  561\n",
      "Name: date, dtype: object,\n",
      "Распределение:\n",
      "January 1, 2006      561\n",
      "May 5, 2003          428\n",
      "October 29, 2003     424\n",
      "January 7, 2008      372\n",
      "March 10, 2004       294\n",
      "                    ... \n",
      "December 22, 2007      2\n",
      "October 30, 2014       2\n",
      "January 18, 2008       1\n",
      "February 21, 2015      1\n",
      "February 13, 2008      1\n",
      "Name: date, Length: 417, dtype: int64,\n"
     ]
    }
   ],
   "source": [
    "col_info(df.date)"
   ]
  },
  {
   "cell_type": "markdown",
   "execution_count": null,
   "metadata": {
    "papermill": {
     "duration": 0.064175,
     "end_time": "2020-09-04T15:28:44.558712",
     "exception": false,
     "start_time": "2020-09-04T15:28:44.494537",
     "status": "completed"
    },
    "tags": []
   },
   "source": [
    "Очень много пропусков, удаляем"
   ]
  },
  {
   "cell_type": "code",
   "execution_count": 77,
   "metadata": {
    "execution": {
     "iopub.execute_input": "2020-09-04T15:28:44.702552Z",
     "iopub.status.busy": "2020-09-04T15:28:44.701661Z",
     "iopub.status.idle": "2020-09-04T15:28:44.823551Z",
     "shell.execute_reply": "2020-09-04T15:28:44.824150Z"
    },
    "papermill": {
     "duration": 0.200834,
     "end_time": "2020-09-04T15:28:44.824335",
     "exception": false,
     "start_time": "2020-09-04T15:28:44.623501",
     "status": "completed"
    },
    "tags": []
   },
   "outputs": [],
   "source": [
    "df = df.drop(['date'], axis = 1)\n",
    "# df_test = df_test.drop(['date'], axis = 1)"
   ]
  },
  {
   "cell_type": "markdown",
   "execution_count": null,
   "metadata": {
    "papermill": {
     "duration": 0.064057,
     "end_time": "2020-09-04T15:28:44.953220",
     "exception": false,
     "start_time": "2020-09-04T15:28:44.889163",
     "status": "completed"
    },
    "tags": []
   },
   "source": [
    "## feature"
   ]
  },
  {
   "cell_type": "code",
   "execution_count": 78,
   "metadata": {
    "execution": {
     "iopub.execute_input": "2020-09-04T15:28:45.143920Z",
     "iopub.status.busy": "2020-09-04T15:28:45.143121Z",
     "iopub.status.idle": "2020-09-04T15:28:45.150307Z",
     "shell.execute_reply": "2020-09-04T15:28:45.149378Z"
    },
    "papermill": {
     "duration": 0.129932,
     "end_time": "2020-09-04T15:28:45.150491",
     "exception": false,
     "start_time": "2020-09-04T15:28:45.020559",
     "status": "completed"
    },
    "tags": []
   },
   "outputs": [
    {
     "name": "stdout",
     "output_type": "stream",
     "text": [
      "Количество пропусков: 704859,\n"
     ]
    }
   ],
   "source": [
    "print('Количество пропусков: {},'.format(df.feature.isnull().sum()))"
   ]
  },
  {
   "cell_type": "markdown",
   "execution_count": null,
   "metadata": {
    "papermill": {
     "duration": 0.063515,
     "end_time": "2020-09-04T15:28:45.279702",
     "exception": false,
     "start_time": "2020-09-04T15:28:45.216187",
     "status": "completed"
    },
    "tags": []
   },
   "source": [
    "Очень много пропусков, удаляем"
   ]
  },
  {
   "cell_type": "code",
   "execution_count": 79,
   "metadata": {
    "execution": {
     "iopub.execute_input": "2020-09-04T15:28:45.456443Z",
     "iopub.status.busy": "2020-09-04T15:28:45.421086Z",
     "iopub.status.idle": "2020-09-04T15:28:45.551042Z",
     "shell.execute_reply": "2020-09-04T15:28:45.550260Z"
    },
    "papermill": {
     "duration": 0.207477,
     "end_time": "2020-09-04T15:28:45.551176",
     "exception": false,
     "start_time": "2020-09-04T15:28:45.343699",
     "status": "completed"
    },
    "tags": []
   },
   "outputs": [],
   "source": [
    "df = df.drop(['feature'], axis = 1)\n",
    "# df_test = df_test.drop(['feature'], axis = 1)"
   ]
  },
  {
   "cell_type": "markdown",
   "execution_count": null,
   "metadata": {
    "papermill": {
     "duration": 0.064829,
     "end_time": "2020-09-04T15:28:45.679717",
     "exception": false,
     "start_time": "2020-09-04T15:28:45.614888",
     "status": "completed"
    },
    "tags": []
   },
   "source": [
    "## details"
   ]
  },
  {
   "cell_type": "code",
   "execution_count": 80,
   "metadata": {
    "execution": {
     "iopub.execute_input": "2020-09-04T15:28:45.815186Z",
     "iopub.status.busy": "2020-09-04T15:28:45.814176Z",
     "iopub.status.idle": "2020-09-04T15:28:45.818867Z",
     "shell.execute_reply": "2020-09-04T15:28:45.818256Z"
    },
    "papermill": {
     "duration": 0.074855,
     "end_time": "2020-09-04T15:28:45.818993",
     "exception": false,
     "start_time": "2020-09-04T15:28:45.744138",
     "status": "completed"
    },
    "tags": []
   },
   "outputs": [
    {
     "data": {
      "text/plain": [
       "'\\n\\n\\n\\n\\n\\n    <div class=\"disclaim\">Size: <strong>60-0.73 oz Envelopes</strong></div>\\n\\n\\n\\n\\n          <div class=\"content\">\\n\\n\\n\\n\\n\\n\\n<ul>\\n\\n\\n\\n\\n\\n\\n\\n\\n\\n\\n\\n\\n\\n                                                                                \\n\\n\\n\\n\\n\\n\\n\\n\\n\\n\\n<li><b>Shipping Weight:</b> 3.4 pounds (<a href=\"/gp/help/seller/shipping.html/ref=dp_pd_shipping?ie=UTF8&amp;asin=B006F63M8U&amp;seller=A2QKP54IWSP4U9\">View shipping rates and policies</a>)</li>\\n\\n\\n\\n\\n\\n\\n\\n\\n\\n\\n\\n\\n\\n\\n\\n\\n\\n<li><b>ASIN: </b>B006F63M8U</li>\\n\\n\\n\\n\\n\\n\\n  <li><b>UPC:</b> 070920474373</li>\\n\\n\\n\\n\\n\\n\\n\\n\\n\\n\\n\\n\\n\\n\\n\\n\\n\\n\\n\\n\\n\\n\\n\\n\\n\\n\\n\\n\\n\\n\\n\\n\\n\\n\\n\\n\\n\\n\\n\\n\\n\\n\\n  \\n  \\n\\n\\n\\n\\n\\n\\n\\n\\n\\n\\n\\n\\n\\n\\n\\n\\n\\n\\n\\n\\n\\n\\n\\n\\n\\n\\n\\n<li><b>Average Customer Review:</b> \\n\\n\\n\\n\\n<span class=\"dpProductDetailB006F63M8U\">\\n  <span class=\"a-declarative\" data-action=\"a-popover\" data-a-popover=\"{&quot;closeButton&quot;:&quot;false&quot;,&quot;max-width&quot;:&quot;700&quot;,&quot;position&quot;:&quot;triggerBottom&quot;,&quot;url&quot;:&quot;/review/widgets/average-customer-review/popover/ref=acr_dpproductdetail_popover?ie=UTF8&amp;asin=B006F63M8U&amp;contextId=dpProductDetail&amp;ref=acr_dpproductdetail_popover&quot;}\">\\n    <a href=\"javascript:void(0)\" class=\"a-popover-trigger a-declarative\">\\n      <a class=\"a-link-normal a-text-normal\" href=\"https://www.amazon.com/product-reviews/B006F63M8U/ref=acr_dpproductdetail_text?ie=UTF8&showViewpoints=1\">\\n        <i class=\"a-icon a-icon-star a-star-4-5\"><span class=\"a-icon-alt\">4.4 out of 5 stars</span></i>\\n      </a>\\n    <i class=\"a-icon a-icon-popover\"></i></a>\\n  </span>\\n  <span class=\"a-letter-space\"></span>\\n  <span class=\"a-size-small\">\\n    <a class=\"a-link-normal\" href=\"https://www.amazon.com/product-reviews/B006F63M8U/ref=acr_dpproductdetail_text?ie=UTF8&showViewpoints=1\">\\n      254 customer reviews\\n    </a>\\n  </span>\\n</span>\\n\\n\\n\\n\\n\\n\\n\\n\\n\\n\\n</li>\\n\\n\\n\\n\\n\\n\\n\\n\\n\\n\\n\\n\\n\\n\\n\\n\\n\\n\\n\\n\\n\\n\\n\\n\\n\\n\\n\\n\\n<li id=\"SalesRank\">\\n<b>Amazon Best Sellers Rank:</b> \\n\\n\\n\\n\\n\\n\\n\\n\\n\\n\\n\\n\\n\\n\\n\\n\\n\\n\\n\\n\\n\\n\\n#5,591 in Grocery & Gourmet Food (<a href=\"https://www.amazon.com/gp/bestsellers/grocery/ref=pd_dp_ts_grocery_1\">See Top 100 in Grocery & Gourmet Food</a>)\\n \\n\\n\\n\\n\\n\\n\\n\\n\\n\\n\\n\\n\\n\\n\\n\\n\\n\\n\\n\\n\\n\\n\\n\\n\\n\\n\\n\\n<style type=\"text/css\">\\n.zg_hrsr { margin: 0; padding: 0; list-style-type: none; }\\n.zg_hrsr_item { margin: 0 0 0 10px; }\\n.zg_hrsr_rank { display: inline-block; width: 80px; text-align: right; }\\n</style>\\n\\n<ul class=\"zg_hrsr\">\\n    <li class=\"zg_hrsr_item\">\\n    <span class=\"zg_hrsr_rank\">#21</span>\\n    <span class=\"zg_hrsr_ladder\">in&nbsp;<a href=\"https://www.amazon.com/gp/bestsellers/grocery/ref=pd_zg_hrsr_grocery_1_1\">Grocery & Gourmet Food</a> &gt; <a href=\"https://www.amazon.com/gp/bestsellers/grocery/16310231/ref=pd_zg_hrsr_grocery_1_2\">Beverages</a> &gt; <a href=\"https://www.amazon.com/gp/bestsellers/grocery/16521305011/ref=pd_zg_hrsr_grocery_1_3\">Coffee, Tea & Cocoa</a> &gt; <b><a href=\"https://www.amazon.com/gp/bestsellers/grocery/16318161/ref=pd_zg_hrsr_grocery_1_4_last\">Cocoa</a></b></span>\\n    </li>\\n</ul>\\n\\n</li>\\n\\n\\n\\n\\n\\n\\t\\t\\n\\t\\n\\t\\t\\n\\t\\n\\t\\t\\n\\t\\n\\t\\t\\t\\n\\t\\t\\t\\n\\t\\t\\t\\n     \\t    \\n            \\n            \\n            \\n            \\n            \\n            <P><div class=\"bucket\">    <script>\\n    P.now(\"A\",\"tellMeMoreLinkData\").execute(function(A,tellMeMoreLinkData){\\n        if(typeof tellMeMoreLinkData !== \\'undefined\\'){\\n            A.state(\\'lowerPricePopoverData\\',{\"trigger\":\"ns_836CZERA45JNC8YZEQ51_13581_1_hmd_pricing_feedback_trigger_product-detail\",\"destination\":\"/gp/pdp/pf/pricingFeedbackForm.html/ref=_pfdpb?ie=UTF8&%2AVersion%2A=1&%2Aentries%2A=0&ASIN=B006F63M8U&PREFIX=ns_836CZERA45JNC8YZEQ51_13581_2_&WDG=grocery_display_on_website&dpRequestId=836CZERA45JNC8YZEQ51&from=product-detail&storeID=groceryencodeURI(\\'&originalURI=\\' + window.location.pathname)\",\"url\":\"/gp/pdp/pf/pricingFeedbackForm.html/ref=_pfdpb?ie=UTF8&%2AVersion%2A=1&%2Aentries%2A=0&ASIN=B006F63M8U&PREFIX=ns_836CZERA45JNC8YZEQ51_13581_2_&WDG=grocery_display_on_website&dpRequestId=836CZERA45JNC8YZEQ51&from=product-detail&storeID=grocery\",\"nsPrefix\":\"ns_836CZERA45JNC8YZEQ51_13581_2_\",\"path\":\"encodeURI(\\'&originalURI=\\' + window.location.pathname)\",\"title\":\"Tell Us About a Lower Price\"});\\n            return {\\n                   key:\"pricing-fbW\",\\n                   method: function(){\\n                                     return {\"trigger\":\"ns_836CZERA45JNC8YZEQ51_13581_1_hmd_pricing_feedback_trigger_product-detail\",\"destination\":\"/gp/pdp/pf/pricingFeedbackForm.html/ref=_pfdpb?ie=UTF8&%2AVersion%2A=1&%2Aentries%2A=0&ASIN=B006F63M8U&PREFIX=ns_836CZERA45JNC8YZEQ51_13581_2_&WDG=grocery_display_on_website&dpRequestId=836CZERA45JNC8YZEQ51&from=product-detail&storeID=groceryencodeURI(\\'&originalURI=\\' + window.location.pathname)\",\"url\":\"/gp/pdp/pf/pricingFeedbackForm.html/ref=_pfdpb?ie=UTF8&%2AVersion%2A=1&%2Aentries%2A=0&ASIN=B006F63M8U&PREFIX=ns_836CZERA45JNC8YZEQ51_13581_2_&WDG=grocery_display_on_website&dpRequestId=836CZERA45JNC8YZEQ51&from=product-detail&storeID=grocery\",\"nsPrefix\":\"ns_836CZERA45JNC8YZEQ51_13581_2_\",\"path\":\"encodeURI(\\'&originalURI=\\' + window.location.pathname)\",\"title\":\"Tell Us About a Lower Price\"};\\n                                     }\\n                   }\\n        }\\n        else{\\n                P.when(\"A\").register(\"tellMeMoreLinkData\",function(A){\\n                    A.state(\\'lowerPricePopoverData\\',{\"trigger\":\"ns_836CZERA45JNC8YZEQ51_13581_1_hmd_pricing_feedback_trigger_product-detail\",\"destination\":\"/gp/pdp/pf/pricingFeedbackForm.html/ref=_pfdpb?ie=UTF8&%2AVersion%2A=1&%2Aentries%2A=0&ASIN=B006F63M8U&PREFIX=ns_836CZERA45JNC8YZEQ51_13581_2_&WDG=grocery_display_on_website&dpRequestId=836CZERA45JNC8YZEQ51&from=product-detail&storeID=groceryencodeURI(\\'&originalURI=\\' + window.location.pathname)\",\"url\":\"/gp/pdp/pf/pricingFeedbackForm.html/ref=_pfdpb?ie=UTF8&%2AVersion%2A=1&%2Aentries%2A=0&ASIN=B006F63M8U&PREFIX=ns_836CZERA45JNC8YZEQ51_13581_2_&WDG=grocery_display_on_website&dpRequestId=836CZERA45JNC8YZEQ51&from=product-detail&storeID=grocery\",\"nsPrefix\":\"ns_836CZERA45JNC8YZEQ51_13581_2_\",\"path\":\"encodeURI(\\'&originalURI=\\' + window.location.pathname)\",\"title\":\"Tell Us About a Lower Price\"});\\n                    return {\\n                           key:\"pricing-fbW\",\\n                           method: function(){\\n                                             return {\"trigger\":\"ns_836CZERA45JNC8YZEQ51_13581_1_hmd_pricing_feedback_trigger_product-detail\",\"destination\":\"/gp/pdp/pf/pricingFeedbackForm.html/ref=_pfdpb?ie=UTF8&%2AVersion%2A=1&%2Aentries%2A=0&ASIN=B006F63M8U&PREFIX=ns_836CZERA45JNC8YZEQ51_13581_2_&WDG=grocery_display_on_website&dpRequestId=836CZERA45JNC8YZEQ51&from=product-detail&storeID=groceryencodeURI(\\'&originalURI=\\' + window.location.pathname)\",\"url\":\"/gp/pdp/pf/pricingFeedbackForm.html/ref=_pfdpb?ie=UTF8&%2AVersion%2A=1&%2Aentries%2A=0&ASIN=B006F63M8U&PREFIX=ns_836CZERA45JNC8YZEQ51_13581_2_&WDG=grocery_display_on_website&dpRequestId=836CZERA45JNC8YZEQ51&from=product-detail&storeID=grocery\",\"nsPrefix\":\"ns_836CZERA45JNC8YZEQ51_13581_2_\",\"path\":\"encodeURI(\\'&originalURI=\\' + window.location.pathname)\",\"title\":\"Tell Us About a Lower Price\"};\\n                                             }\\n                           }\\n\\t\\t\\t    });\\n            }\\n    });\\n    </script>\\nWould you like to <b><a href=\"#\" id=\"ns_836CZERA45JNC8YZEQ51_13581_1_hmd_pricing_feedback_trigger_product-detail\">tell us about a lower price</a></b>?</div></P>\\n\\n\\n\\n</ul>\\n</div>\\n    '"
      ]
     },
     "execution_count": 80,
     "metadata": {},
     "output_type": "execute_result"
    }
   ],
   "source": [
    "df.details[25]"
   ]
  },
  {
   "cell_type": "markdown",
   "execution_count": null,
   "metadata": {
    "papermill": {
     "duration": 0.063702,
     "end_time": "2020-09-04T15:28:45.947295",
     "exception": false,
     "start_time": "2020-09-04T15:28:45.883593",
     "status": "completed"
    },
    "tags": []
   },
   "source": [
    "Похоже на информацию, собранную с других колонок. Удалим."
   ]
  },
  {
   "cell_type": "code",
   "execution_count": 81,
   "metadata": {
    "execution": {
     "iopub.execute_input": "2020-09-04T15:28:46.093633Z",
     "iopub.status.busy": "2020-09-04T15:28:46.092775Z",
     "iopub.status.idle": "2020-09-04T15:28:46.189725Z",
     "shell.execute_reply": "2020-09-04T15:28:46.188915Z"
    },
    "papermill": {
     "duration": 0.177773,
     "end_time": "2020-09-04T15:28:46.189867",
     "exception": false,
     "start_time": "2020-09-04T15:28:46.012094",
     "status": "completed"
    },
    "tags": []
   },
   "outputs": [],
   "source": [
    "df = df.drop(['details'], axis = 1)\n",
    "# df_test = df_test.drop(['details'], axis = 1)"
   ]
  },
  {
   "cell_type": "markdown",
   "execution_count": null,
   "metadata": {
    "papermill": {
     "duration": 0.063977,
     "end_time": "2020-09-04T15:28:46.318723",
     "exception": false,
     "start_time": "2020-09-04T15:28:46.254746",
     "status": "completed"
    },
    "tags": []
   },
   "source": [
    "## similar_item"
   ]
  },
  {
   "cell_type": "code",
   "execution_count": 82,
   "metadata": {
    "execution": {
     "iopub.execute_input": "2020-09-04T15:28:46.497057Z",
     "iopub.status.busy": "2020-09-04T15:28:46.496206Z",
     "iopub.status.idle": "2020-09-04T15:28:46.502785Z",
     "shell.execute_reply": "2020-09-04T15:28:46.502127Z"
    },
    "papermill": {
     "duration": 0.120001,
     "end_time": "2020-09-04T15:28:46.502908",
     "exception": false,
     "start_time": "2020-09-04T15:28:46.382907",
     "status": "completed"
    },
    "tags": []
   },
   "outputs": [
    {
     "name": "stdout",
     "output_type": "stream",
     "text": [
      "Количество пропусков: 846455,\n"
     ]
    }
   ],
   "source": [
    "print('Количество пропусков: {},'.format(df.similar_item.isnull().sum()))"
   ]
  },
  {
   "cell_type": "markdown",
   "execution_count": null,
   "metadata": {
    "papermill": {
     "duration": 0.063862,
     "end_time": "2020-09-04T15:28:46.632793",
     "exception": false,
     "start_time": "2020-09-04T15:28:46.568931",
     "status": "completed"
    },
    "tags": []
   },
   "source": [
    "Много пропусков. Возможно, отсюда можно что-то достать. Пока удалим."
   ]
  },
  {
   "cell_type": "code",
   "execution_count": 83,
   "metadata": {
    "execution": {
     "iopub.execute_input": "2020-09-04T15:28:46.868622Z",
     "iopub.status.busy": "2020-09-04T15:28:46.839272Z",
     "iopub.status.idle": "2020-09-04T15:28:46.871870Z",
     "shell.execute_reply": "2020-09-04T15:28:46.872605Z"
    },
    "papermill": {
     "duration": 0.175068,
     "end_time": "2020-09-04T15:28:46.872768",
     "exception": false,
     "start_time": "2020-09-04T15:28:46.697700",
     "status": "completed"
    },
    "tags": []
   },
   "outputs": [],
   "source": [
    "df = df.drop(['similar_item'], axis = 1)\n",
    "# df_test = df_test.drop(['similar_item'], axis = 1)"
   ]
  },
  {
   "cell_type": "markdown",
   "execution_count": null,
   "metadata": {
    "papermill": {
     "duration": 0.065215,
     "end_time": "2020-09-04T15:28:47.002954",
     "exception": false,
     "start_time": "2020-09-04T15:28:46.937739",
     "status": "completed"
    },
    "tags": []
   },
   "source": [
    "## tech1"
   ]
  },
  {
   "cell_type": "code",
   "execution_count": 84,
   "metadata": {
    "execution": {
     "iopub.execute_input": "2020-09-04T15:28:47.182085Z",
     "iopub.status.busy": "2020-09-04T15:28:47.181282Z",
     "iopub.status.idle": "2020-09-04T15:28:47.188388Z",
     "shell.execute_reply": "2020-09-04T15:28:47.187455Z"
    },
    "papermill": {
     "duration": 0.12078,
     "end_time": "2020-09-04T15:28:47.188557",
     "exception": false,
     "start_time": "2020-09-04T15:28:47.067777",
     "status": "completed"
    },
    "tags": []
   },
   "outputs": [
    {
     "name": "stdout",
     "output_type": "stream",
     "text": [
      "Количество пропусков: 843221,\n"
     ]
    }
   ],
   "source": [
    "print('Количество пропусков: {},'.format(df.tech1.isnull().sum()))"
   ]
  },
  {
   "cell_type": "markdown",
   "execution_count": null,
   "metadata": {
    "papermill": {
     "duration": 0.064782,
     "end_time": "2020-09-04T15:28:47.319302",
     "exception": false,
     "start_time": "2020-09-04T15:28:47.254520",
     "status": "completed"
    },
    "tags": []
   },
   "source": [
    "Много пропусков. Возможно, отсюда можно что-то достать. Пока удалим."
   ]
  },
  {
   "cell_type": "code",
   "execution_count": 85,
   "metadata": {
    "execution": {
     "iopub.execute_input": "2020-09-04T15:28:47.465883Z",
     "iopub.status.busy": "2020-09-04T15:28:47.464065Z",
     "iopub.status.idle": "2020-09-04T15:28:47.537787Z",
     "shell.execute_reply": "2020-09-04T15:28:47.538393Z"
    },
    "papermill": {
     "duration": 0.154182,
     "end_time": "2020-09-04T15:28:47.538567",
     "exception": false,
     "start_time": "2020-09-04T15:28:47.384385",
     "status": "completed"
    },
    "tags": []
   },
   "outputs": [],
   "source": [
    "df = df.drop(['tech1'], axis = 1)\n",
    "# df_test = df_test.drop(['tech1'], axis = 1)"
   ]
  },
  {
   "cell_type": "markdown",
   "execution_count": null,
   "metadata": {
    "papermill": {
     "duration": 0.064835,
     "end_time": "2020-09-04T15:28:47.668226",
     "exception": false,
     "start_time": "2020-09-04T15:28:47.603391",
     "status": "completed"
    },
    "tags": []
   },
   "source": [
    "## fit"
   ]
  },
  {
   "cell_type": "code",
   "execution_count": 86,
   "metadata": {
    "execution": {
     "iopub.execute_input": "2020-09-04T15:28:47.845494Z",
     "iopub.status.busy": "2020-09-04T15:28:47.844412Z",
     "iopub.status.idle": "2020-09-04T15:28:48.058506Z",
     "shell.execute_reply": "2020-09-04T15:28:48.059384Z"
    },
    "papermill": {
     "duration": 0.326955,
     "end_time": "2020-09-04T15:28:48.059560",
     "exception": false,
     "start_time": "2020-09-04T15:28:47.732605",
     "status": "completed"
    },
    "tags": []
   },
   "outputs": [
    {
     "name": "stdout",
     "output_type": "stream",
     "text": [
      "Количество пропусков: 847593,\n",
      "count       0\n",
      "unique      0\n",
      "top       NaN\n",
      "freq      NaN\n",
      "Name: fit, dtype: object,\n",
      "Распределение:\n",
      "Series([], Name: fit, dtype: int64),\n"
     ]
    }
   ],
   "source": [
    "col_info(df.fit)"
   ]
  },
  {
   "cell_type": "code",
   "execution_count": 87,
   "metadata": {
    "execution": {
     "iopub.execute_input": "2020-09-04T15:28:48.207403Z",
     "iopub.status.busy": "2020-09-04T15:28:48.205467Z",
     "iopub.status.idle": "2020-09-04T15:28:48.270674Z",
     "shell.execute_reply": "2020-09-04T15:28:48.269888Z"
    },
    "papermill": {
     "duration": 0.14631,
     "end_time": "2020-09-04T15:28:48.270798",
     "exception": false,
     "start_time": "2020-09-04T15:28:48.124488",
     "status": "completed"
    },
    "tags": []
   },
   "outputs": [],
   "source": [
    "df = df.drop(['fit'], axis = 1)\n",
    "# df_test = df_test.drop(['fit'], axis = 1)"
   ]
  },
  {
   "cell_type": "markdown",
   "execution_count": null,
   "metadata": {
    "papermill": {
     "duration": 0.06762,
     "end_time": "2020-09-04T15:28:48.404738",
     "exception": false,
     "start_time": "2020-09-04T15:28:48.337118",
     "status": "completed"
    },
    "tags": []
   },
   "source": [
    "## Посмотрим на результат"
   ]
  },
  {
   "cell_type": "code",
   "execution_count": 88,
   "metadata": {
    "execution": {
     "iopub.execute_input": "2020-09-04T15:28:48.542307Z",
     "iopub.status.busy": "2020-09-04T15:28:48.541525Z",
     "iopub.status.idle": "2020-09-04T15:28:49.024678Z",
     "shell.execute_reply": "2020-09-04T15:28:49.023806Z"
    },
    "papermill": {
     "duration": 0.553846,
     "end_time": "2020-09-04T15:28:49.024840",
     "exception": false,
     "start_time": "2020-09-04T15:28:48.470994",
     "status": "completed"
    },
    "tags": []
   },
   "outputs": [
    {
     "name": "stdout",
     "output_type": "stream",
     "text": [
      "<class 'pandas.core.frame.DataFrame'>\n",
      "Int64Index: 847593 entries, 0 to 847592\n",
      "Data columns (total 10 columns):\n",
      " #   Column          Non-Null Count   Dtype  \n",
      "---  ------          --------------   -----  \n",
      " 0   overall         847593 non-null  int32  \n",
      " 1   verified        847593 non-null  int64  \n",
      " 2   unixReviewTime  847593 non-null  object \n",
      " 3   vote            847593 non-null  object \n",
      " 4   userid          847593 non-null  int64  \n",
      " 5   itemid          847593 non-null  int64  \n",
      " 6   rating          847593 non-null  float64\n",
      " 7   rank            847593 non-null  object \n",
      " 8   main_cat        847593 non-null  object \n",
      " 9   price           847593 non-null  object \n",
      "dtypes: float64(1), int32(1), int64(3), object(5)\n",
      "memory usage: 107.9+ MB\n"
     ]
    }
   ],
   "source": [
    "df.info()\n",
    "# df_test.info()"
   ]
  },
  {
   "cell_type": "code",
   "execution_count": 89,
   "metadata": {
    "execution": {
     "iopub.execute_input": "2020-09-04T15:28:49.164473Z",
     "iopub.status.busy": "2020-09-04T15:28:49.163501Z",
     "iopub.status.idle": "2020-09-04T15:28:49.167927Z",
     "shell.execute_reply": "2020-09-04T15:28:49.167179Z"
    },
    "papermill": {
     "duration": 0.076197,
     "end_time": "2020-09-04T15:28:49.168071",
     "exception": false,
     "start_time": "2020-09-04T15:28:49.091874",
     "status": "completed"
    },
    "tags": []
   },
   "outputs": [
    {
     "data": {
      "text/plain": [
       "Index(['overall', 'verified', 'unixReviewTime', 'vote', 'userid', 'itemid',\n",
       "       'rating', 'rank', 'main_cat', 'price'],\n",
       "      dtype='object')"
      ]
     },
     "execution_count": 89,
     "metadata": {},
     "output_type": "execute_result"
    }
   ],
   "source": [
    "df.columns"
   ]
  },
  {
   "cell_type": "markdown",
   "execution_count": null,
   "metadata": {
    "papermill": {
     "duration": 0.064982,
     "end_time": "2020-09-04T15:28:49.299788",
     "exception": false,
     "start_time": "2020-09-04T15:28:49.234806",
     "status": "completed"
    },
    "tags": []
   },
   "source": [
    "Мы видим, что осталось обработать 10 категориальных признаков, из которых \n",
    "* 3 шт. (userid, itemid, rating) мы не трогаем\n",
    "* признак overall отсутствует в тестовом датасете\n",
    "* а для остальных 6 (verified, unixReviewTime, vote, rank, main_cat, price) можем сделать dummy-переменные."
   ]
  },
  {
   "cell_type": "markdown",
   "execution_count": null,
   "metadata": {
    "papermill": {
     "duration": 0.065596,
     "end_time": "2020-09-04T15:28:49.431527",
     "exception": false,
     "start_time": "2020-09-04T15:28:49.365931",
     "status": "completed"
    },
    "tags": []
   },
   "source": [
    "# Анализ категориальных признаков"
   ]
  },
  {
   "cell_type": "markdown",
   "execution_count": null,
   "metadata": {
    "papermill": {
     "duration": 0.065735,
     "end_time": "2020-09-04T15:28:49.562911",
     "exception": false,
     "start_time": "2020-09-04T15:28:49.497176",
     "status": "completed"
    },
    "tags": []
   },
   "source": [
    "Все признаки у нас категориальные и использовать корреляционный анализ не получится. Однако можно посмотреть, различаются ли распределения рейтинга в зависимости от значения этих переменных. Это можно сделать, например, с помощью box-plot или KDE-plot (график показывает плотность распределения переменных).\n",
    "\n",
    "Номинативные переменные, которые осталось рассмотреть: ."
   ]
  },
  {
   "cell_type": "code",
   "execution_count": 90,
   "metadata": {
    "execution": {
     "iopub.execute_input": "2020-09-04T15:28:49.701049Z",
     "iopub.status.busy": "2020-09-04T15:28:49.700209Z",
     "iopub.status.idle": "2020-09-04T15:28:50.650786Z",
     "shell.execute_reply": "2020-09-04T15:28:50.649785Z"
    },
    "papermill": {
     "duration": 1.022503,
     "end_time": "2020-09-04T15:28:50.650931",
     "exception": false,
     "start_time": "2020-09-04T15:28:49.628428",
     "status": "completed"
    },
    "tags": []
   },
   "outputs": [],
   "source": [
    "import matplotlib.pyplot as plt\n",
    "import seaborn as sns\n",
    "from itertools import combinations\n",
    "from scipy.stats import ttest_ind"
   ]
  },
  {
   "cell_type": "code",
   "execution_count": 91,
   "metadata": {
    "execution": {
     "iopub.execute_input": "2020-09-04T15:28:50.793917Z",
     "iopub.status.busy": "2020-09-04T15:28:50.793066Z",
     "iopub.status.idle": "2020-09-04T15:28:50.796000Z",
     "shell.execute_reply": "2020-09-04T15:28:50.796571Z"
    },
    "papermill": {
     "duration": 0.078532,
     "end_time": "2020-09-04T15:28:50.796744",
     "exception": false,
     "start_time": "2020-09-04T15:28:50.718212",
     "status": "completed"
    },
    "tags": []
   },
   "outputs": [],
   "source": [
    "def get_boxplot(column):\n",
    "    fig, ax = plt.subplots(figsize = (14, 4))\n",
    "    sns.boxplot(x=column, y='overall', \n",
    "                data=df.loc[df.loc[:, column].isin(df.loc[:, column].value_counts().index[:10])],\n",
    "               ax=ax)\n",
    "    plt.xticks(rotation=45)\n",
    "    ax.set_title('Boxplot for ' + column)\n",
    "    plt.show()"
   ]
  },
  {
   "cell_type": "code",
   "execution_count": 92,
   "metadata": {
    "execution": {
     "iopub.execute_input": "2020-09-04T15:28:50.947081Z",
     "iopub.status.busy": "2020-09-04T15:28:50.945915Z",
     "iopub.status.idle": "2020-09-04T15:28:55.986880Z",
     "shell.execute_reply": "2020-09-04T15:28:55.986150Z"
    },
    "papermill": {
     "duration": 5.124191,
     "end_time": "2020-09-04T15:28:55.986999",
     "exception": false,
     "start_time": "2020-09-04T15:28:50.862808",
     "status": "completed"
    },
    "tags": []
   },
   "outputs": [
    {
     "data": {
      "image/png": "[encoded data removed]",
      "text/plain": [
       "<Figure size 1008x288 with 1 Axes>"
      ]
     },
     "metadata": {
      "needs_background": "light"
     },
     "output_type": "display_data"
    },
    {
     "data": {
      "image/png": "[encoded data removed]",
      "text/plain": [
       "<Figure size 1008x288 with 1 Axes>"
      ]
     },
     "metadata": {
      "needs_background": "light"
     },
     "output_type": "display_data"
    },
    {
     "data": {
      "image/png": "[encoded data removed]",
      "text/plain": [
       "<Figure size 1008x288 with 1 Axes>"
      ]
     },
     "metadata": {
      "needs_background": "light"
     },
     "output_type": "display_data"
    },
    {
     "data": {
      "image/png": "[encoded data removed]",
      "text/plain": [
       "<Figure size 1008x288 with 1 Axes>"
      ]
     },
     "metadata": {
      "needs_background": "light"
     },
     "output_type": "display_data"
    },
    {
     "data": {
      "image/png": "[encoded data removed]",
      "text/plain": [
       "<Figure size 1008x288 with 1 Axes>"
      ]
     },
     "metadata": {
      "needs_background": "light"
     },
     "output_type": "display_data"
    },
    {
     "data": {
      "image/png": "[encoded data removed]",
      "text/plain": [
       "<Figure size 1008x288 with 1 Axes>"
      ]
     },
     "metadata": {
      "needs_background": "light"
     },
     "output_type": "display_data"
    }
   ],
   "source": [
    "for col in ['verified', 'unixReviewTime', 'vote', 'rank', 'main_cat', 'price']:\n",
    "    get_boxplot(col)"
   ]
  },
  {
   "cell_type": "markdown",
   "execution_count": null,
   "metadata": {
    "papermill": {
     "duration": 0.068455,
     "end_time": "2020-09-04T15:28:56.128171",
     "exception": false,
     "start_time": "2020-09-04T15:28:56.059716",
     "status": "completed"
    },
    "tags": []
   },
   "source": [
    "По графикам сильных различий не видно. Однако графики являются лишь вспомогательным инструментом, настоящую значимость различий может помочь распознать статистика. Проверим, есть ли статистическая разница в распределении оценок по номинативным признакам, с помощью теста Стьюдента. Проверим нулевую гипотезу о том, что распределения оценок пользователей по различным параметрам неразличимы:"
   ]
  },
  {
   "cell_type": "code",
   "execution_count": 93,
   "metadata": {
    "execution": {
     "iopub.execute_input": "2020-09-04T15:28:56.274865Z",
     "iopub.status.busy": "2020-09-04T15:28:56.273900Z",
     "iopub.status.idle": "2020-09-04T15:28:56.277998Z",
     "shell.execute_reply": "2020-09-04T15:28:56.277386Z"
    },
    "papermill": {
     "duration": 0.081605,
     "end_time": "2020-09-04T15:28:56.278150",
     "exception": false,
     "start_time": "2020-09-04T15:28:56.196545",
     "status": "completed"
    },
    "tags": []
   },
   "outputs": [],
   "source": [
    "def get_stat_dif(column):\n",
    "    cols = df.loc[:, column].value_counts().index[:10]\n",
    "    combinations_all = list(combinations(cols, 2))\n",
    "    for comb in combinations_all:\n",
    "        if ttest_ind(df.loc[df.loc[:, column] == comb[0], 'overall'], \n",
    "                        df.loc[df.loc[:, column] == comb[1], 'overall']).pvalue \\\n",
    "            <= 0.05/len(combinations_all): # Учли поправку Бонферони\n",
    "            print('Найдены статистически значимые различия для колонки', column)\n",
    "            break"
   ]
  },
  {
   "cell_type": "code",
   "execution_count": 94,
   "metadata": {
    "execution": {
     "iopub.execute_input": "2020-09-04T15:28:56.420344Z",
     "iopub.status.busy": "2020-09-04T15:28:56.419565Z",
     "iopub.status.idle": "2020-09-04T15:29:00.220646Z",
     "shell.execute_reply": "2020-09-04T15:29:00.219869Z"
    },
    "papermill": {
     "duration": 3.874833,
     "end_time": "2020-09-04T15:29:00.220774",
     "exception": false,
     "start_time": "2020-09-04T15:28:56.345941",
     "status": "completed"
    },
    "tags": []
   },
   "outputs": [
    {
     "name": "stdout",
     "output_type": "stream",
     "text": [
      "Найдены статистически значимые различия для колонки verified\n",
      "Найдены статистически значимые различия для колонки unixReviewTime\n",
      "Найдены статистически значимые различия для колонки vote\n",
      "Найдены статистически значимые различия для колонки rank\n",
      "Найдены статистически значимые различия для колонки main_cat\n",
      "Найдены статистически значимые различия для колонки price\n"
     ]
    }
   ],
   "source": [
    "for col in ['verified', 'unixReviewTime', 'vote', 'rank', 'main_cat', 'price']:\n",
    "    get_stat_dif(col)"
   ]
  },
  {
   "cell_type": "markdown",
   "execution_count": null,
   "metadata": {
    "papermill": {
     "duration": 0.069053,
     "end_time": "2020-09-04T15:29:00.358382",
     "exception": false,
     "start_time": "2020-09-04T15:29:00.289329",
     "status": "completed"
    },
    "tags": []
   },
   "source": [
    "Как мы видим, распределение оценок серьезно различается по всем шести параметрам."
   ]
  },
  {
   "cell_type": "markdown",
   "execution_count": null,
   "metadata": {
    "papermill": {
     "duration": 0.068041,
     "end_time": "2020-09-04T15:29:00.494851",
     "exception": false,
     "start_time": "2020-09-04T15:29:00.426810",
     "status": "completed"
    },
    "tags": []
   },
   "source": [
    "Удалим признак overall"
   ]
  },
  {
   "cell_type": "code",
   "execution_count": 95,
   "metadata": {
    "execution": {
     "iopub.execute_input": "2020-09-04T15:29:00.641677Z",
     "iopub.status.busy": "2020-09-04T15:29:00.640847Z",
     "iopub.status.idle": "2020-09-04T15:29:00.701382Z",
     "shell.execute_reply": "2020-09-04T15:29:00.701928Z"
    },
    "papermill": {
     "duration": 0.139079,
     "end_time": "2020-09-04T15:29:00.702119",
     "exception": false,
     "start_time": "2020-09-04T15:29:00.563040",
     "status": "completed"
    },
    "tags": []
   },
   "outputs": [],
   "source": [
    "df = df.drop('overall', axis=1)"
   ]
  },
  {
   "cell_type": "markdown",
   "execution_count": null,
   "metadata": {
    "papermill": {
     "duration": 0.076515,
     "end_time": "2020-09-04T15:29:00.847399",
     "exception": false,
     "start_time": "2020-09-04T15:29:00.770884",
     "status": "completed"
    },
    "tags": []
   },
   "source": [
    "# Создадим dummy-переменные"
   ]
  },
  {
   "cell_type": "markdown",
   "execution_count": null,
   "metadata": {
    "papermill": {
     "duration": 0.125261,
     "end_time": "2020-09-04T15:29:01.054898",
     "exception": false,
     "start_time": "2020-09-04T15:29:00.929637",
     "status": "completed"
    },
    "tags": []
   },
   "source": [
    "Для verified dummy-переменные не нужны т.к. там и так бинарные значения."
   ]
  },
  {
   "cell_type": "code",
   "execution_count": 96,
   "metadata": {
    "execution": {
     "iopub.execute_input": "2020-09-04T15:29:01.203653Z",
     "iopub.status.busy": "2020-09-04T15:29:01.202533Z",
     "iopub.status.idle": "2020-09-04T15:29:01.207392Z",
     "shell.execute_reply": "2020-09-04T15:29:01.206635Z"
    },
    "papermill": {
     "duration": 0.078854,
     "end_time": "2020-09-04T15:29:01.207519",
     "exception": false,
     "start_time": "2020-09-04T15:29:01.128665",
     "status": "completed"
    },
    "tags": []
   },
   "outputs": [
    {
     "data": {
      "text/plain": [
       "\"for column in ['unixReviewTime', 'vote', 'rank', 'main_cat', 'price']:\\n    dummies = pd.get_dummies(df[column], prefix = df[column].name)\\n    # Удаляем исходный столбец и добавляем dummies\\n    df = df.drop(df[column].name, axis=1).join(dummies)\""
      ]
     },
     "execution_count": 96,
     "metadata": {},
     "output_type": "execute_result"
    }
   ],
   "source": [
    "# В процессе изучения документации пришло осознание, что dummy-переменные делать не обязательно, мы будем делать нечто похожее при создании item_features.\n",
    "'''for column in ['unixReviewTime', 'vote', 'rank', 'main_cat', 'price']:\n",
    "    dummies = pd.get_dummies(df[column], prefix = df[column].name)\n",
    "    # Удаляем исходный столбец и добавляем dummies\n",
    "    df = df.drop(df[column].name, axis=1).join(dummies)'''"
   ]
  },
  {
   "cell_type": "code",
   "execution_count": 97,
   "metadata": {
    "execution": {
     "iopub.execute_input": "2020-09-04T15:29:01.350611Z",
     "iopub.status.busy": "2020-09-04T15:29:01.349742Z",
     "iopub.status.idle": "2020-09-04T15:29:01.354132Z",
     "shell.execute_reply": "2020-09-04T15:29:01.353392Z"
    },
    "papermill": {
     "duration": 0.078685,
     "end_time": "2020-09-04T15:29:01.354253",
     "exception": false,
     "start_time": "2020-09-04T15:29:01.275568",
     "status": "completed"
    },
    "tags": []
   },
   "outputs": [
    {
     "data": {
      "text/plain": [
       "Index(['verified', 'unixReviewTime', 'vote', 'userid', 'itemid', 'rating',\n",
       "       'rank', 'main_cat', 'price'],\n",
       "      dtype='object')"
      ]
     },
     "execution_count": 97,
     "metadata": {},
     "output_type": "execute_result"
    }
   ],
   "source": [
    "df.columns"
   ]
  },
  {
   "cell_type": "code",
   "execution_count": 98,
   "metadata": {
    "execution": {
     "iopub.execute_input": "2020-09-04T15:29:01.950127Z",
     "iopub.status.busy": "2020-09-04T15:29:01.949294Z",
     "iopub.status.idle": "2020-09-04T15:29:01.976498Z",
     "shell.execute_reply": "2020-09-04T15:29:01.975375Z"
    },
    "papermill": {
     "duration": 0.553917,
     "end_time": "2020-09-04T15:29:01.976689",
     "exception": false,
     "start_time": "2020-09-04T15:29:01.422772",
     "status": "completed"
    },
    "tags": []
   },
   "outputs": [
    {
     "name": "stdout",
     "output_type": "stream",
     "text": [
      "<class 'pandas.core.frame.DataFrame'>\n",
      "Int64Index: 847593 entries, 0 to 847592\n",
      "Data columns (total 9 columns):\n",
      " #   Column          Non-Null Count   Dtype  \n",
      "---  ------          --------------   -----  \n",
      " 0   verified        847593 non-null  int64  \n",
      " 1   unixReviewTime  847593 non-null  object \n",
      " 2   vote            847593 non-null  object \n",
      " 3   userid          847593 non-null  int64  \n",
      " 4   itemid          847593 non-null  int64  \n",
      " 5   rating          847593 non-null  float64\n",
      " 6   rank            847593 non-null  object \n",
      " 7   main_cat        847593 non-null  object \n",
      " 8   price           847593 non-null  object \n",
      "dtypes: float64(1), int64(3), object(5)\n",
      "memory usage: 104.7+ MB\n"
     ]
    }
   ],
   "source": [
    "df.info()"
   ]
  },
  {
   "cell_type": "markdown",
   "execution_count": null,
   "metadata": {
    "papermill": {
     "duration": 0.06966,
     "end_time": "2020-09-04T15:29:02.121278",
     "exception": false,
     "start_time": "2020-09-04T15:29:02.051618",
     "status": "completed"
    },
    "tags": []
   },
   "source": [
    "# Итоги EDA"
   ]
  },
  {
   "cell_type": "markdown",
   "execution_count": null,
   "metadata": {
    "papermill": {
     "duration": 0.069442,
     "end_time": "2020-09-04T15:29:02.260254",
     "exception": false,
     "start_time": "2020-09-04T15:29:02.190812",
     "status": "completed"
    },
    "tags": []
   },
   "source": [
    "Кратко напишем, что мы сделали с каждым признаком:"
   ]
  },
  {
   "cell_type": "markdown",
   "execution_count": null,
   "metadata": {
    "papermill": {
     "duration": 0.068474,
     "end_time": "2020-09-04T15:29:02.397970",
     "exception": false,
     "start_time": "2020-09-04T15:29:02.329496",
     "status": "completed"
    },
    "tags": []
   },
   "source": [
    "*  **overall**         - оценки от 1 до 5. Нет в тестовой выборке, использовали как вспомогательный признак для анализа.\n",
    "*  **verified**        - привели значения к 0 и 1\n",
    "*  **reviewTime**      - удалили признак т.к. есть unixReviewTime\n",
    "*  **asin**            - удалили признак т.к. не использовали, хотя наверное могли бы для also_buy, also_view, similar_item\n",
    "*  **reviewerName**    - удалили т.к. есть userid\n",
    "*  **reviewText**      - выдилили самые часто встречающиеся слова, сделали (все подготовили и закоментили для скорости) dummy-переменные. Но все оказалось зря т.к. признака нет в тестовой выборке\n",
    "*  **summary**         - удалили т.к. нет в тестовом датасете\n",
    "*  **unixReviewTime**  - сделали 4 категории в зависимости от даты отзыва, сделали dummy-переменные\n",
    "*  **vote**            - сделали 3 категории в зависимости от количества голосов, сделали dummy-переменные\n",
    "*  **style**           - удалили т.к. больше половины пропусков\n",
    "*  **image_x**         - удалили\n",
    "*  **userid**          - оставили для модели\n",
    "*  **itemid**          - оставили для модели\n",
    "*  **rating**          - оставили для модели - целевая переменная\n",
    "*  **category**        - выдилили самые часто встречающиеся категории, сделали (все подготовили и закоментили для скорости) dummy-переменные\n",
    "*  **description**     - выдилили самые часто встречающиеся слова, сделали (все подготовили и закоментили для скорости) dummy-переменные\n",
    "*  **title**           - удалили т.к. сильно похож на description\n",
    "*  **brand**           - выдилили самых часто встречающихся производителей, сделали (все подготовили и закоментили для скорости) dummy-переменные\n",
    "*  **rank**            - сделали 3 категории в зависимости от ранга, сделали dummy-переменные\n",
    "*  **also_view**       - удалили, но наверное можно было бы использовать\n",
    "*  **main_cat**        - сделали dummy-переменные\n",
    "*  **price**           - сделали 3 категории в зависимости от цены, сделали dummy-переменные\n",
    "*  **also_buy**        - удалили, но наверное можно было бы использовать\n",
    "*  **image_y**         - удалили\n",
    "*  **date**            - удалили\n",
    "*  **feature**         - удалили\n",
    "*  **details**         - удалили\n",
    "*  **similar_item**    - удалили, но наверное можно было бы использовать. Много пропусков.\n",
    "*  **tech1**           - удалили\n",
    "*  **fit**             - удалили"
   ]
  },
  {
   "cell_type": "markdown",
   "execution_count": null,
   "metadata": {
    "papermill": {
     "duration": 0.067616,
     "end_time": "2020-09-04T15:29:02.533866",
     "exception": false,
     "start_time": "2020-09-04T15:29:02.466250",
     "status": "completed"
    },
    "tags": []
   },
   "source": [
    "В итоге получили большое количество признаков, которые будем использовать в нашей модели."
   ]
  },
  {
   "cell_type": "markdown",
   "execution_count": null,
   "metadata": {
    "papermill": {
     "duration": 0.088866,
     "end_time": "2020-09-04T15:29:02.698768",
     "exception": false,
     "start_time": "2020-09-04T15:29:02.609902",
     "status": "completed"
    },
    "tags": []
   },
   "source": [
    "# Подготовка данных для модели"
   ]
  },
  {
   "cell_type": "markdown",
   "execution_count": null,
   "metadata": {
    "papermill": {
     "duration": 0.06968,
     "end_time": "2020-09-04T15:29:02.841044",
     "exception": false,
     "start_time": "2020-09-04T15:29:02.771364",
     "status": "completed"
    },
    "tags": []
   },
   "source": [
    "* Здесь гайд с объяснением\n",
    "https://towardsdatascience.com/how-i-would-explain-building-lightfm-hybrid-recommenders-to-a-5-year-old-b6ee18571309\n",
    "* Здесь ноутбук\n",
    "https://github.com/V-Sher/LightFm_HybridRecommenderSystem/blob/master/LightFM%20Worked%20Example.ipynb\n",
    "    "
   ]
  },
  {
   "cell_type": "markdown",
   "execution_count": null,
   "metadata": {
    "papermill": {
     "duration": 0.069237,
     "end_time": "2020-09-04T15:29:02.981112",
     "exception": false,
     "start_time": "2020-09-04T15:29:02.911875",
     "status": "completed"
    },
    "tags": []
   },
   "source": [
    "Считаем, что все сгенерированные фичи относятся к item. Подготовим датасеты."
   ]
  },
  {
   "cell_type": "code",
   "execution_count": 99,
   "metadata": {
    "execution": {
     "iopub.execute_input": "2020-09-04T15:29:03.127234Z",
     "iopub.status.busy": "2020-09-04T15:29:03.126422Z",
     "iopub.status.idle": "2020-09-04T15:29:03.159402Z",
     "shell.execute_reply": "2020-09-04T15:29:03.158698Z"
    },
    "papermill": {
     "duration": 0.107218,
     "end_time": "2020-09-04T15:29:03.159537",
     "exception": false,
     "start_time": "2020-09-04T15:29:03.052319",
     "status": "completed"
    },
    "tags": []
   },
   "outputs": [],
   "source": [
    "# Сохраним копию датасета, чтобы заново не прогонять ноутбук\n",
    "df_copy = df.copy()"
   ]
  },
  {
   "cell_type": "code",
   "execution_count": 100,
   "metadata": {
    "execution": {
     "iopub.execute_input": "2020-09-04T15:29:03.305420Z",
     "iopub.status.busy": "2020-09-04T15:29:03.304618Z",
     "iopub.status.idle": "2020-09-04T15:29:04.557100Z",
     "shell.execute_reply": "2020-09-04T15:29:04.556404Z"
    },
    "papermill": {
     "duration": 1.328267,
     "end_time": "2020-09-04T15:29:04.557230",
     "exception": false,
     "start_time": "2020-09-04T15:29:03.228963",
     "status": "completed"
    },
    "tags": []
   },
   "outputs": [],
   "source": [
    "df.itemid = df.itemid.astype(str)\n",
    "df.userid = df.itemid.astype(str)"
   ]
  },
  {
   "cell_type": "code",
   "execution_count": 101,
   "metadata": {
    "execution": {
     "iopub.execute_input": "2020-09-04T15:29:04.700930Z",
     "iopub.status.busy": "2020-09-04T15:29:04.699941Z",
     "iopub.status.idle": "2020-09-04T15:29:04.703390Z",
     "shell.execute_reply": "2020-09-04T15:29:04.702714Z"
    },
    "papermill": {
     "duration": 0.077085,
     "end_time": "2020-09-04T15:29:04.703523",
     "exception": false,
     "start_time": "2020-09-04T15:29:04.626438",
     "status": "completed"
    },
    "tags": []
   },
   "outputs": [],
   "source": [
    "#df = df_copy.copy()"
   ]
  },
  {
   "cell_type": "markdown",
   "execution_count": null,
   "metadata": {
    "papermill": {
     "duration": 0.068097,
     "end_time": "2020-09-04T15:29:04.840195",
     "exception": false,
     "start_time": "2020-09-04T15:29:04.772098",
     "status": "completed"
    },
    "tags": []
   },
   "source": [
    "Создадим два датасета. features  будет содержать itemid и фичи. В df оставим userid, itemid и rating."
   ]
  },
  {
   "cell_type": "code",
   "execution_count": 102,
   "metadata": {
    "execution": {
     "iopub.execute_input": "2020-09-04T15:29:04.985209Z",
     "iopub.status.busy": "2020-09-04T15:29:04.984401Z",
     "iopub.status.idle": "2020-09-04T15:29:05.270979Z",
     "shell.execute_reply": "2020-09-04T15:29:05.270331Z"
    },
    "papermill": {
     "duration": 0.362401,
     "end_time": "2020-09-04T15:29:05.271142",
     "exception": false,
     "start_time": "2020-09-04T15:29:04.908741",
     "status": "completed"
    },
    "tags": []
   },
   "outputs": [],
   "source": [
    "features = df.drop(['userid','rating'], axis=1)\n",
    "df = df[['userid','itemid','rating']]"
   ]
  },
  {
   "cell_type": "markdown",
   "execution_count": null,
   "metadata": {
    "papermill": {
     "duration": 0.06834,
     "end_time": "2020-09-04T15:29:05.408577",
     "exception": false,
     "start_time": "2020-09-04T15:29:05.340237",
     "status": "completed"
    },
    "tags": []
   },
   "source": [
    "Нам нужно вызвать метод fit, чтобы сообщить LightFM id пользователей, id продуктов, и дополнительные фичи пользователя или продукта. \n",
    "\n",
    "Мы передадим методу fit три параметра:\n",
    "\n",
    "    users: список всех пользователей\n",
    "    items: список всех продуктов\n",
    "    item_features: список дополнительных фичей продукта\n",
    "\n",
    "Передача списка пользователей и продуктов довольно проста - просто используем столбцы «userid» и «itemid» из df.\n",
    "\n",
    "Когда дело доходит до передачи item_features, я рекомендуется передать список, в котором каждый элемент имеет формат, подобный 'feature_name: feature_value'.\n",
    "\n",
    "Это означает, что наши item_features должны выглядеть примерно так:\n",
    "['feature1: 0', 'feature1: 1', 'feature2: 0', 'feature2: 1', 'feature3: 0', 'feature3: 1' ...].\n",
    "\n",
    "Этот список должен быть создан с учетом всех возможных пар feature_name, feature_value, которые могут встретиться в обучающем датасете. Например, для feature_name, равного verified, может быть два feature_value, а именно 0 и 1.\n",
    "\n",
    "Ниже небольшой фрагмент кода, который позволяет создать такой список (назовем его item_f):"
   ]
  },
  {
   "cell_type": "code",
   "execution_count": 103,
   "metadata": {
    "execution": {
     "iopub.execute_input": "2020-09-04T15:29:05.560143Z",
     "iopub.status.busy": "2020-09-04T15:29:05.559330Z",
     "iopub.status.idle": "2020-09-04T15:29:06.172940Z",
     "shell.execute_reply": "2020-09-04T15:29:06.172248Z"
    },
    "papermill": {
     "duration": 0.69579,
     "end_time": "2020-09-04T15:29:06.173110",
     "exception": false,
     "start_time": "2020-09-04T15:29:05.477320",
     "status": "completed"
    },
    "tags": []
   },
   "outputs": [
    {
     "name": "stdout",
     "output_type": "stream",
     "text": [
      "verified:1\n",
      "verified:0\n",
      "unixReviewTime:middle_new\n",
      "unixReviewTime:new\n",
      "unixReviewTime:middle_old\n",
      "unixReviewTime:old\n",
      "vote:low\n",
      "vote:middle\n",
      "vote:high\n",
      "rank:low\n",
      "rank:middle\n",
      "rank:high\n",
      "main_cat:Grocery\n",
      "main_cat:Health & Personal Care\n",
      "main_cat:Office Products\n",
      "main_cat:Sports & Outdoors\n",
      "main_cat:Amazon Home\n",
      "main_cat:Toys & Games\n",
      "main_cat:Other\n",
      "main_cat:Industrial & Scientific\n",
      "main_cat:All Beauty\n",
      "main_cat:Tools & Home Improvement\n",
      "main_cat:Baby\n",
      "main_cat:Pet Supplies\n",
      "main_cat:Home Audio & Theater\n",
      "main_cat:Arts, Crafts & Sewing\n",
      "main_cat:Camera & Photo\n",
      "main_cat:Cell Phones & Accessories\n",
      "main_cat:Software\n",
      "main_cat:Musical Instruments\n",
      "price:low\n",
      "price:middle\n",
      "price:high\n"
     ]
    }
   ],
   "source": [
    "item_f = []\n",
    "col = []\n",
    "unique_f1 = []\n",
    "for column in features.drop(['itemid'], axis=1):\n",
    "    col += [column]*len(features[column].unique())\n",
    "    unique_f1 += list(features[column].unique())\n",
    "for x,y in zip(col, unique_f1):\n",
    "    res = str(x)+ \":\" +str(y)\n",
    "    item_f.append(res)\n",
    "    print(res)"
   ]
  },
  {
   "cell_type": "markdown",
   "execution_count": null,
   "metadata": {
    "papermill": {
     "duration": 0.072967,
     "end_time": "2020-09-04T15:29:06.316725",
     "exception": false,
     "start_time": "2020-09-04T15:29:06.243758",
     "status": "completed"
    },
    "tags": []
   },
   "source": [
    "Вызовем метод fit для нашего датасета"
   ]
  },
  {
   "cell_type": "code",
   "execution_count": 104,
   "metadata": {
    "execution": {
     "iopub.execute_input": "2020-09-04T15:29:06.463548Z",
     "iopub.status.busy": "2020-09-04T15:29:06.462586Z",
     "iopub.status.idle": "2020-09-04T15:29:06.755610Z",
     "shell.execute_reply": "2020-09-04T15:29:06.754923Z"
    },
    "papermill": {
     "duration": 0.368668,
     "end_time": "2020-09-04T15:29:06.755736",
     "exception": false,
     "start_time": "2020-09-04T15:29:06.387068",
     "status": "completed"
    },
    "tags": []
   },
   "outputs": [],
   "source": [
    "from lightfm.data import Dataset\n",
    "# we call fit to supply userid, item id and user/item features\n",
    "dataset1 = Dataset()\n",
    "dataset1.fit(\n",
    "        df['userid'].unique(), # all the users\n",
    "        df['itemid'].unique(), # all the items\n",
    "        item_features = item_f\n",
    ")"
   ]
  },
  {
   "cell_type": "markdown",
   "execution_count": null,
   "metadata": {
    "papermill": {
     "duration": 0.0777,
     "end_time": "2020-09-04T15:29:06.903399",
     "exception": false,
     "start_time": "2020-09-04T15:29:06.825699",
     "status": "completed"
    },
    "tags": []
   },
   "source": [
    "Теперь, когда у нас есть готовый скелет датасета, мы готовы добавить в него фактические взаимодействия (interactions) и оценки (ratings)."
   ]
  },
  {
   "cell_type": "markdown",
   "execution_count": null,
   "metadata": {
    "papermill": {
     "duration": 0.071491,
     "end_time": "2020-09-04T15:29:07.045340",
     "exception": false,
     "start_time": "2020-09-04T15:29:06.973849",
     "status": "completed"
    },
    "tags": []
   },
   "source": [
    "# Building interactions - построение взаимодействий"
   ]
  },
  {
   "cell_type": "markdown",
   "execution_count": null,
   "metadata": {
    "papermill": {
     "duration": 0.068658,
     "end_time": "2020-09-04T15:29:07.182998",
     "exception": false,
     "start_time": "2020-09-04T15:29:07.114340",
     "status": "completed"
    },
    "tags": []
   },
   "source": [
    "Входные данные метода build_interactions - это итерация взаимодействий, где каждое взаимодействие представляет собой кортеж, содержащий три элемента:\n",
    "\n",
    "     пользователь\n",
    "     продукт\n",
    "     вес взаимодействия (опционально)\n",
    "\n",
    "Вес взаимодействия  означает, что если пользователь «u» взаимодействовал с элементом «i», насколько важно это взаимодействие. С точки зрения нашего примера, вес - это рейтинг, который у нас есть для каждой пары (пользователь, элемент)."
   ]
  },
  {
   "cell_type": "code",
   "execution_count": 105,
   "metadata": {
    "execution": {
     "iopub.execute_input": "2020-09-04T15:29:07.329736Z",
     "iopub.status.busy": "2020-09-04T15:29:07.328903Z",
     "iopub.status.idle": "2020-09-04T15:29:11.425492Z",
     "shell.execute_reply": "2020-09-04T15:29:11.424746Z"
    },
    "papermill": {
     "duration": 4.172256,
     "end_time": "2020-09-04T15:29:11.425629",
     "exception": false,
     "start_time": "2020-09-04T15:29:07.253373",
     "status": "completed"
    },
    "tags": []
   },
   "outputs": [],
   "source": [
    "# plugging in the interactions and their weights\n",
    "(interactions, weights) = dataset1.build_interactions([(x[0], x[1], x[2]) for x in df.values ])"
   ]
  },
  {
   "cell_type": "markdown",
   "execution_count": null,
   "metadata": {
    "papermill": {
     "duration": 0.069768,
     "end_time": "2020-09-04T15:29:11.565082",
     "exception": false,
     "start_time": "2020-09-04T15:29:11.495314",
     "status": "completed"
    },
    "tags": []
   },
   "source": [
    "Таким образом, матрица взаимодействий сообщает нам, взаимодействовал ли вообще пользователь с элементом, а матрица весов дает количественную оценку этого конкретного взаимодействия."
   ]
  },
  {
   "cell_type": "markdown",
   "execution_count": null,
   "metadata": {
    "papermill": {
     "duration": 0.069194,
     "end_time": "2020-09-04T15:29:11.705265",
     "exception": false,
     "start_time": "2020-09-04T15:29:11.636071",
     "status": "completed"
    },
    "tags": []
   },
   "source": [
    "Мы можем проверить, как выглядят эти две выходные матрицы. Поскольку это разреженные матрицы, мы можем использовать метод .todense (). В обеих матрицах строки - это пользователи, а столбцы - это элементы."
   ]
  },
  {
   "cell_type": "code",
   "execution_count": 106,
   "metadata": {
    "execution": {
     "iopub.execute_input": "2020-09-04T15:29:11.850927Z",
     "iopub.status.busy": "2020-09-04T15:29:11.850120Z",
     "iopub.status.idle": "2020-09-04T15:29:11.973236Z",
     "shell.execute_reply": "2020-09-04T15:29:11.972525Z"
    },
    "papermill": {
     "duration": 0.198089,
     "end_time": "2020-09-04T15:29:11.973366",
     "exception": false,
     "start_time": "2020-09-04T15:29:11.775277",
     "status": "completed"
    },
    "tags": []
   },
   "outputs": [
    {
     "data": {
      "text/plain": [
       "matrix([[  8,   0,   0, ...,   0,   0,   0],\n",
       "        [  0,  67,   0, ...,   0,   0,   0],\n",
       "        [  0,   0, 683, ...,   0,   0,   0],\n",
       "        ...,\n",
       "        [  0,   0,   0, ...,   1,   0,   0],\n",
       "        [  0,   0,   0, ...,   0,   1,   0],\n",
       "        [  0,   0,   0, ...,   0,   0,   1]], dtype=int32)"
      ]
     },
     "execution_count": 106,
     "metadata": {},
     "output_type": "execute_result"
    }
   ],
   "source": [
    "interactions.todense()"
   ]
  },
  {
   "cell_type": "code",
   "execution_count": 107,
   "metadata": {
    "execution": {
     "iopub.execute_input": "2020-09-04T15:29:12.122708Z",
     "iopub.status.busy": "2020-09-04T15:29:12.121845Z",
     "iopub.status.idle": "2020-09-04T15:29:12.379536Z",
     "shell.execute_reply": "2020-09-04T15:29:12.378869Z"
    },
    "papermill": {
     "duration": 0.334598,
     "end_time": "2020-09-04T15:29:12.379673",
     "exception": false,
     "start_time": "2020-09-04T15:29:12.045075",
     "status": "completed"
    },
    "tags": []
   },
   "outputs": [
    {
     "data": {
      "text/plain": [
       "matrix([[  7.,   0.,   0., ...,   0.,   0.,   0.],\n",
       "        [  0.,  62.,   0., ...,   0.,   0.,   0.],\n",
       "        [  0.,   0., 587., ...,   0.,   0.,   0.],\n",
       "        ...,\n",
       "        [  0.,   0.,   0., ...,   1.,   0.,   0.],\n",
       "        [  0.,   0.,   0., ...,   0.,   1.,   0.],\n",
       "        [  0.,   0.,   0., ...,   0.,   0.,   1.]], dtype=float32)"
      ]
     },
     "execution_count": 107,
     "metadata": {},
     "output_type": "execute_result"
    }
   ],
   "source": [
    "weights.todense()"
   ]
  },
  {
   "cell_type": "markdown",
   "execution_count": null,
   "metadata": {
    "papermill": {
     "duration": 0.071361,
     "end_time": "2020-09-04T15:29:12.521307",
     "exception": false,
     "start_time": "2020-09-04T15:29:12.449946",
     "status": "completed"
    },
    "tags": []
   },
   "source": [
    "# Строим Item Features"
   ]
  },
  {
   "cell_type": "markdown",
   "execution_count": null,
   "metadata": {
    "papermill": {
     "duration": 0.072059,
     "end_time": "2020-09-04T15:29:12.668646",
     "exception": false,
     "start_time": "2020-09-04T15:29:12.596587",
     "status": "completed"
    },
    "tags": []
   },
   "source": [
    "Метод build_item_features требует ввода в следующем формате:\n",
    "* [\n",
    "* (User1, [feature1, feature2, feature3, ....]),\n",
    "* (User2, [feature1, feature2, feature3, ....]),\n",
    "* (User3, [feature1, feature2, feature3, ....]),\n",
    "* .\n",
    "* .\n",
    "* ]\n",
    "\n",
    "     Здесь следует помнить одну очень важную вещь: feature1, feature2, feature3 и т.д. должны быть одним из элементов, присутствующих в списке item_features, который мы передали методу fit в начале.\n",
    "\n",
    "Вот как сейчас выглядит наш список item_features:\n",
    "[verified:1, verified:0, unixReviewTime:middle_new, unixReviewTime:new, unixReviewTime:middle_old ... ].\n",
    "\n",
    "\n",
    "Напишем код, который позволит создать список в требуемом формате:"
   ]
  },
  {
   "cell_type": "code",
   "execution_count": 108,
   "metadata": {
    "execution": {
     "iopub.execute_input": "2020-09-04T15:29:12.819621Z",
     "iopub.status.busy": "2020-09-04T15:29:12.818817Z",
     "iopub.status.idle": "2020-09-04T15:29:12.879780Z",
     "shell.execute_reply": "2020-09-04T15:29:12.878755Z"
    },
    "papermill": {
     "duration": 0.140532,
     "end_time": "2020-09-04T15:29:12.879950",
     "exception": false,
     "start_time": "2020-09-04T15:29:12.739418",
     "status": "completed"
    },
    "tags": []
   },
   "outputs": [
    {
     "name": "stdout",
     "output_type": "stream",
     "text": [
      "['verified:', 'unixReviewTime:', 'vote:', 'rank:', 'main_cat:', 'price:']\n"
     ]
    }
   ],
   "source": [
    "ll = []\n",
    "for column in features.drop(['itemid'], axis=1):\n",
    "    ll.append(column + ':')\n",
    "print(ll)"
   ]
  },
  {
   "cell_type": "code",
   "execution_count": 109,
   "metadata": {
    "execution": {
     "iopub.execute_input": "2020-09-04T15:29:13.032890Z",
     "iopub.status.busy": "2020-09-04T15:29:13.032020Z",
     "iopub.status.idle": "2020-09-04T15:29:13.035235Z",
     "shell.execute_reply": "2020-09-04T15:29:13.034481Z"
    },
    "papermill": {
     "duration": 0.085884,
     "end_time": "2020-09-04T15:29:13.035400",
     "exception": false,
     "start_time": "2020-09-04T15:29:12.949516",
     "status": "completed"
    },
    "tags": []
   },
   "outputs": [],
   "source": [
    "def feature_colon_value(my_list):\n",
    "    \"\"\"\n",
    "    Takes as input a list and prepends the columns names to respective values in the list.\n",
    "    For example: if my_list = [1,1,0,'del'],\n",
    "    resultant output = ['f1:1', 'f2:1', 'f3:0', 'loc:del']\n",
    "   \n",
    "    \"\"\"\n",
    "    result = []\n",
    "    aa = my_list\n",
    "    for x,y in zip(ll,aa):\n",
    "        res = str(x) +\"\"+ str(y)\n",
    "        result.append(res)\n",
    "    return result"
   ]
  },
  {
   "cell_type": "code",
   "execution_count": 110,
   "metadata": {
    "execution": {
     "iopub.execute_input": "2020-09-04T15:29:13.232405Z",
     "iopub.status.busy": "2020-09-04T15:29:13.231515Z",
     "iopub.status.idle": "2020-09-04T15:29:21.238926Z",
     "shell.execute_reply": "2020-09-04T15:29:21.238262Z"
    },
    "papermill": {
     "duration": 8.132583,
     "end_time": "2020-09-04T15:29:21.239076",
     "exception": false,
     "start_time": "2020-09-04T15:29:13.106493",
     "status": "completed"
    },
    "tags": []
   },
   "outputs": [],
   "source": [
    "ad_subset = features.drop(['itemid'], axis=1)\n",
    "ad_list = [x.tolist() for x in ad_subset.values]\n",
    "feature_list = []\n",
    "for item in ad_list:\n",
    "    feature_list.append(feature_colon_value(item))\n",
    "# Для того, чтобы посмотреть наглядный результат раскомментируйте следующую строку\n",
    "#print(f'Final output: {feature_list}')"
   ]
  },
  {
   "cell_type": "markdown",
   "execution_count": null,
   "metadata": {
    "papermill": {
     "duration": 0.069234,
     "end_time": "2020-09-04T15:29:21.378795",
     "exception": false,
     "start_time": "2020-09-04T15:29:21.309561",
     "status": "completed"
    },
    "tags": []
   },
   "source": [
    "Наконец, мы должны связать каждый элемент feature_list с соответствующими идентификаторами продуктов."
   ]
  },
  {
   "cell_type": "code",
   "execution_count": 111,
   "metadata": {
    "execution": {
     "iopub.execute_input": "2020-09-04T15:29:22.895761Z",
     "iopub.status.busy": "2020-09-04T15:29:22.894879Z",
     "iopub.status.idle": "2020-09-04T15:29:22.898604Z",
     "shell.execute_reply": "2020-09-04T15:29:22.897784Z"
    },
    "papermill": {
     "duration": 1.450805,
     "end_time": "2020-09-04T15:29:22.898742",
     "exception": false,
     "start_time": "2020-09-04T15:29:21.447937",
     "status": "completed"
    },
    "tags": []
   },
   "outputs": [],
   "source": [
    "item_tuple = list(zip(features.itemid, feature_list))\n",
    "# Для того, чтобы посмотреть наглядный результат раскомментируйте следующую строку\n",
    "#item_tuple"
   ]
  },
  {
   "cell_type": "markdown",
   "execution_count": null,
   "metadata": {
    "papermill": {
     "duration": 0.072272,
     "end_time": "2020-09-04T15:29:23.040780",
     "exception": false,
     "start_time": "2020-09-04T15:29:22.968508",
     "status": "completed"
    },
    "tags": []
   },
   "source": [
    "Мы получили желаемый вид для ввода данных для метода build_item_features. Вызовем этот метод."
   ]
  },
  {
   "cell_type": "code",
   "execution_count": 112,
   "metadata": {
    "execution": {
     "iopub.execute_input": "2020-09-04T15:29:23.260380Z",
     "iopub.status.busy": "2020-09-04T15:29:23.223999Z",
     "iopub.status.idle": "2020-09-04T15:29:36.290051Z",
     "shell.execute_reply": "2020-09-04T15:29:36.289233Z"
    },
    "papermill": {
     "duration": 13.177484,
     "end_time": "2020-09-04T15:29:36.290184",
     "exception": false,
     "start_time": "2020-09-04T15:29:23.112700",
     "status": "completed"
    },
    "tags": []
   },
   "outputs": [],
   "source": [
    "item_features = dataset1.build_item_features(item_tuple, normalize= False)\n",
    "# Для того, чтобы посмотреть наглядный результат раскомментируйте следующую строку\n",
    "# item_features.todense()"
   ]
  },
  {
   "cell_type": "markdown",
   "execution_count": null,
   "metadata": {
    "papermill": {
     "duration": 0.06995,
     "end_time": "2020-09-04T15:29:36.430586",
     "exception": false,
     "start_time": "2020-09-04T15:29:36.360636",
     "status": "completed"
    },
    "tags": []
   },
   "source": [
    "В приведенной выше матрице item_features строки - это продукты, а столбцы - это фичи продуктов. 1 присутствует всякий раз, когда у этого продукта есть эта конкретная  фича, присутствующая в тренировочном датасете."
   ]
  },
  {
   "cell_type": "markdown",
   "execution_count": null,
   "metadata": {
    "papermill": {
     "duration": 0.069661,
     "end_time": "2020-09-04T15:29:36.570630",
     "exception": false,
     "start_time": "2020-09-04T15:29:36.500969",
     "status": "completed"
    },
    "tags": []
   },
   "source": [
    "Создадим словари, с помощью которых по id в датасете LightFM мы сможем находить id в датасете df. "
   ]
  },
  {
   "cell_type": "code",
   "execution_count": 113,
   "metadata": {
    "execution": {
     "iopub.execute_input": "2020-09-04T15:29:36.718254Z",
     "iopub.status.busy": "2020-09-04T15:29:36.717224Z",
     "iopub.status.idle": "2020-09-04T15:29:36.720635Z",
     "shell.execute_reply": "2020-09-04T15:29:36.719861Z"
    },
    "papermill": {
     "duration": 0.079005,
     "end_time": "2020-09-04T15:29:36.720764",
     "exception": false,
     "start_time": "2020-09-04T15:29:36.641759",
     "status": "completed"
    },
    "tags": []
   },
   "outputs": [],
   "source": [
    "user_id_map, user_feature_map, item_id_map, item_feature_map = dataset1.mapping()\n",
    "# Для того, чтобы посмотреть наглядный результат раскомментируйте следующую строку\n",
    "# item_feature_map"
   ]
  },
  {
   "cell_type": "markdown",
   "execution_count": null,
   "metadata": {
    "papermill": {
     "duration": 0.069908,
     "end_time": "2020-09-04T15:29:36.862251",
     "exception": false,
     "start_time": "2020-09-04T15:29:36.792343",
     "status": "completed"
    },
    "tags": []
   },
   "source": [
    "# Обучаем модель"
   ]
  },
  {
   "cell_type": "code",
   "execution_count": 114,
   "metadata": {
    "execution": {
     "iopub.execute_input": "2020-09-04T15:29:37.015010Z",
     "iopub.status.busy": "2020-09-04T15:29:37.014190Z",
     "iopub.status.idle": "2020-09-04T15:29:37.077979Z",
     "shell.execute_reply": "2020-09-04T15:29:37.077184Z"
    },
    "papermill": {
     "duration": 0.144712,
     "end_time": "2020-09-04T15:29:37.078144",
     "exception": false,
     "start_time": "2020-09-04T15:29:36.933432",
     "status": "completed"
    },
    "tags": []
   },
   "outputs": [],
   "source": [
    "import scipy.sparse as sparse\n",
    "\n",
    "from lightfm import LightFM\n",
    "from lightfm.cross_validation import random_train_test_split\n",
    "from lightfm.evaluation import auc_score, precision_at_k, recall_at_k\n",
    "import sklearn\n",
    "from sklearn.model_selection import train_test_split"
   ]
  },
  {
   "cell_type": "code",
   "execution_count": 115,
   "metadata": {
    "execution": {
     "iopub.execute_input": "2020-09-04T15:29:37.229195Z",
     "iopub.status.busy": "2020-09-04T15:29:37.227908Z",
     "iopub.status.idle": "2020-09-04T15:29:54.376339Z",
     "shell.execute_reply": "2020-09-04T15:29:54.375664Z"
    },
    "papermill": {
     "duration": 17.226064,
     "end_time": "2020-09-04T15:29:54.376480",
     "exception": false,
     "start_time": "2020-09-04T15:29:37.150416",
     "status": "completed"
    },
    "tags": []
   },
   "outputs": [
    {
     "data": {
      "text/plain": [
       "<lightfm.lightfm.LightFM at 0x7efde8515450>"
      ]
     },
     "execution_count": 115,
     "metadata": {},
     "output_type": "execute_result"
    }
   ],
   "source": [
    "model = LightFM(loss='logistic')\n",
    "model.fit(interactions, # spase matrix representing whether user u and item i interacted\n",
    "      item_features= item_features, # we have built the sparse matrix above\n",
    "      sample_weight= weights, # spase matrix representing how much value to give to user u and item i inetraction: i.e ratings\n",
    "      epochs=10)"
   ]
  },
  {
   "cell_type": "markdown",
   "execution_count": null,
   "metadata": {
    "papermill": {
     "duration": 0.071492,
     "end_time": "2020-09-04T15:29:54.521125",
     "exception": false,
     "start_time": "2020-09-04T15:29:54.449633",
     "status": "completed"
    },
    "tags": []
   },
   "source": [
    "## Получим значение AUC"
   ]
  },
  {
   "cell_type": "code",
   "execution_count": 116,
   "metadata": {
    "execution": {
     "iopub.execute_input": "2020-09-04T15:29:54.673471Z",
     "iopub.status.busy": "2020-09-04T15:29:54.672005Z",
     "iopub.status.idle": "2020-09-04T15:29:54.675519Z",
     "shell.execute_reply": "2020-09-04T15:29:54.674832Z"
    },
    "papermill": {
     "duration": 0.082155,
     "end_time": "2020-09-04T15:29:54.675650",
     "exception": false,
     "start_time": "2020-09-04T15:29:54.593495",
     "status": "completed"
    },
    "tags": []
   },
   "outputs": [],
   "source": [
    "# Довольно долго считает, так что закомментируем\n",
    "# train_auc = auc_score(model,\n",
    "#                       interactions,\n",
    "#                       item_features=item_features\n",
    "#                      ).mean()\n",
    "# print('Hybrid training set AUC: %s' % train_auc)\n",
    "\n",
    "#Output:\n",
    "# Hybrid training set AUC: 0.8169904"
   ]
  },
  {
   "cell_type": "markdown",
   "execution_count": null,
   "metadata": {
    "papermill": {
     "duration": 0.071304,
     "end_time": "2020-09-04T15:29:54.821731",
     "exception": false,
     "start_time": "2020-09-04T15:29:54.750427",
     "status": "completed"
    },
    "tags": []
   },
   "source": [
    "# Предсказания c использованием item_features"
   ]
  },
  {
   "cell_type": "markdown",
   "execution_count": null,
   "metadata": {
    "papermill": {
     "duration": 0.073895,
     "end_time": "2020-09-04T15:29:54.972182",
     "exception": false,
     "start_time": "2020-09-04T15:29:54.898287",
     "status": "completed"
    },
    "tags": []
   },
   "source": [
    "Метод predict принимает три параметра на вход:\n",
    "\n",
    "*      мэппинги (отображения) id пользователей (например: для получения прогнозов для первого пользователя необходимо передать 0; для второго 1 и т. д.). Эти мэппинги доступны из словаря user_id_map.\n",
    "*      список id продуктов (опять же не itemid из датасета df, а мэппинги (отображение), которые доступны из item_id_map), для которых вы хотите получить рекомендации.\n",
    "*      item_features"
   ]
  },
  {
   "cell_type": "markdown",
   "execution_count": null,
   "metadata": {
    "papermill": {
     "duration": 0.074188,
     "end_time": "2020-09-04T15:29:55.129916",
     "exception": false,
     "start_time": "2020-09-04T15:29:55.055728",
     "status": "completed"
    },
    "tags": []
   },
   "source": [
    "Для начала попробуем предсказать на всем тренировочном датасете"
   ]
  },
  {
   "cell_type": "code",
   "execution_count": 117,
   "metadata": {
    "execution": {
     "iopub.execute_input": "2020-09-04T15:29:55.293187Z",
     "iopub.status.busy": "2020-09-04T15:29:55.290656Z",
     "iopub.status.idle": "2020-09-04T15:29:56.559178Z",
     "shell.execute_reply": "2020-09-04T15:29:56.558523Z"
    },
    "papermill": {
     "duration": 1.352893,
     "end_time": "2020-09-04T15:29:56.559313",
     "exception": false,
     "start_time": "2020-09-04T15:29:55.206420",
     "status": "completed"
    },
    "tags": []
   },
   "outputs": [],
   "source": [
    "user_ids = df.userid.apply(lambda x: user_id_map[x])\n",
    "item_ids = df.itemid.apply(lambda x: item_id_map[x])"
   ]
  },
  {
   "cell_type": "markdown",
   "execution_count": null,
   "metadata": {
    "papermill": {
     "duration": 0.072191,
     "end_time": "2020-09-04T15:29:56.703432",
     "exception": false,
     "start_time": "2020-09-04T15:29:56.631241",
     "status": "completed"
    },
    "tags": []
   },
   "source": [
    "При запуске расчета предсказаний упираемся в ограничения по оперативной памяти на kaggle."
   ]
  },
  {
   "cell_type": "code",
   "execution_count": 118,
   "metadata": {
    "execution": {
     "iopub.execute_input": "2020-09-04T15:29:56.852227Z",
     "iopub.status.busy": "2020-09-04T15:29:56.851139Z",
     "iopub.status.idle": "2020-09-04T15:29:56.854622Z",
     "shell.execute_reply": "2020-09-04T15:29:56.855197Z"
    },
    "papermill": {
     "duration": 0.079698,
     "end_time": "2020-09-04T15:29:56.855367",
     "exception": false,
     "start_time": "2020-09-04T15:29:56.775669",
     "status": "completed"
    },
    "tags": []
   },
   "outputs": [],
   "source": [
    "# Закомментируем расчет предсказаний\n",
    "# preds = model.predict(user_ids, item_ids, item_features)"
   ]
  },
  {
   "cell_type": "markdown",
   "execution_count": null,
   "metadata": {
    "papermill": {
     "duration": 0.070602,
     "end_time": "2020-09-04T15:29:56.997801",
     "exception": false,
     "start_time": "2020-09-04T15:29:56.927199",
     "status": "completed"
    },
    "tags": []
   },
   "source": [
    "Расчет roc_auc_score также закомментируем."
   ]
  },
  {
   "cell_type": "code",
   "execution_count": 119,
   "metadata": {
    "execution": {
     "iopub.execute_input": "2020-09-04T15:29:57.149312Z",
     "iopub.status.busy": "2020-09-04T15:29:57.148370Z",
     "iopub.status.idle": "2020-09-04T15:29:57.151689Z",
     "shell.execute_reply": "2020-09-04T15:29:57.150874Z"
    },
    "papermill": {
     "duration": 0.078839,
     "end_time": "2020-09-04T15:29:57.151817",
     "exception": false,
     "start_time": "2020-09-04T15:29:57.072978",
     "status": "completed"
    },
    "tags": []
   },
   "outputs": [],
   "source": [
    "#sklearn.metrics.roc_auc_score(df.rating,preds)"
   ]
  },
  {
   "cell_type": "markdown",
   "execution_count": null,
   "metadata": {
    "papermill": {
     "duration": 0.071398,
     "end_time": "2020-09-04T15:29:57.294785",
     "exception": false,
     "start_time": "2020-09-04T15:29:57.223387",
     "status": "completed"
    },
    "tags": []
   },
   "source": [
    "# Предсказания без использования item_features"
   ]
  },
  {
   "cell_type": "markdown",
   "execution_count": null,
   "metadata": {
    "papermill": {
     "duration": 0.070158,
     "end_time": "2020-09-04T15:29:57.435810",
     "exception": false,
     "start_time": "2020-09-04T15:29:57.365652",
     "status": "completed"
    },
    "tags": []
   },
   "source": [
    "Разделим тренировочный датасет на тренировочную и тестовую выборки"
   ]
  },
  {
   "cell_type": "code",
   "execution_count": 120,
   "metadata": {
    "execution": {
     "iopub.execute_input": "2020-09-04T15:29:57.585444Z",
     "iopub.status.busy": "2020-09-04T15:29:57.584622Z",
     "iopub.status.idle": "2020-09-04T15:29:58.405132Z",
     "shell.execute_reply": "2020-09-04T15:29:58.404308Z"
    },
    "papermill": {
     "duration": 0.898551,
     "end_time": "2020-09-04T15:29:58.405271",
     "exception": false,
     "start_time": "2020-09-04T15:29:57.506720",
     "status": "completed"
    },
    "tags": []
   },
   "outputs": [],
   "source": [
    "train_data, test_data = train_test_split(train,random_state=32, shuffle=True)\n"
   ]
  },
  {
   "cell_type": "markdown",
   "execution_count": null,
   "metadata": {
    "papermill": {
     "duration": 0.072652,
     "end_time": "2020-09-04T15:29:58.553374",
     "exception": false,
     "start_time": "2020-09-04T15:29:58.480722",
     "status": "completed"
    },
    "tags": []
   },
   "source": [
    "Чтобы работать с моделями в библиотеке LightFm, нам нужно создать разреженные матрицы. Мы будем хранить данные в формате COO (координатный формат представления данных). Вместо хранения всех значений, которые включают нулевые значения, мы будем хранить только ненулевые значения. В COO данные представлены в виде (строка, столбец, значение)."
   ]
  },
  {
   "cell_type": "code",
   "execution_count": 121,
   "metadata": {
    "execution": {
     "iopub.execute_input": "2020-09-04T15:29:58.704643Z",
     "iopub.status.busy": "2020-09-04T15:29:58.703817Z",
     "iopub.status.idle": "2020-09-04T15:29:58.715665Z",
     "shell.execute_reply": "2020-09-04T15:29:58.716292Z"
    },
    "papermill": {
     "duration": 0.090974,
     "end_time": "2020-09-04T15:29:58.716480",
     "exception": false,
     "start_time": "2020-09-04T15:29:58.625506",
     "status": "completed"
    },
    "tags": []
   },
   "outputs": [],
   "source": [
    "ratings_coo = sparse.coo_matrix((train_data['rating'].astype(int),\n",
    "                                 (train_data['userid'],\n",
    "                                  train_data['itemid'],)))"
   ]
  },
  {
   "cell_type": "markdown",
   "execution_count": null,
   "metadata": {
    "papermill": {
     "duration": 0.072103,
     "end_time": "2020-09-04T15:29:58.863393",
     "exception": false,
     "start_time": "2020-09-04T15:29:58.791290",
     "status": "completed"
    },
    "tags": []
   },
   "source": [
    "Обучим модель"
   ]
  },
  {
   "cell_type": "code",
   "execution_count": 122,
   "metadata": {
    "execution": {
     "iopub.execute_input": "2020-09-04T15:29:59.025744Z",
     "iopub.status.busy": "2020-09-04T15:29:59.024657Z",
     "iopub.status.idle": "2020-09-04T15:30:45.322420Z",
     "shell.execute_reply": "2020-09-04T15:30:45.323538Z"
    },
    "papermill": {
     "duration": 46.386954,
     "end_time": "2020-09-04T15:30:45.323784",
     "exception": false,
     "start_time": "2020-09-04T15:29:58.936830",
     "status": "completed"
    },
    "tags": []
   },
   "outputs": [],
   "source": [
    "LR = 0.089\n",
    "NUM_THREADS = 12 #число потоков\n",
    "NUM_COMPONENTS = 160 #число параметров вектора \n",
    "NUM_EPOCHS = 25 #число эпох обучения\n",
    "LEARNING_SCHEDULE = 'adagrad'\n",
    "LOSS_FUNCTION = 'logistic'\n",
    "RANDOM_STATE = 20\n",
    "\n",
    "model = LightFM(\n",
    "    learning_rate=LR,\n",
    "    loss=LOSS_FUNCTION,\n",
    "    no_components=NUM_COMPONENTS,\n",
    "    learning_schedule = LEARNING_SCHEDULE,\n",
    "    random_state = RANDOM_STATE\n",
    ")\n",
    "model = model.fit(\n",
    "    ratings_coo,\n",
    "    epochs=NUM_EPOCHS,\n",
    "    num_threads=NUM_THREADS\n",
    ")"
   ]
  },
  {
   "cell_type": "markdown",
   "execution_count": null,
   "metadata": {
    "papermill": {
     "duration": 0.071265,
     "end_time": "2020-09-04T15:30:45.510073",
     "exception": false,
     "start_time": "2020-09-04T15:30:45.438808",
     "status": "completed"
    },
    "tags": []
   },
   "source": [
    "Получим предсказания"
   ]
  },
  {
   "cell_type": "code",
   "execution_count": 123,
   "metadata": {
    "execution": {
     "iopub.execute_input": "2020-09-04T15:30:45.658261Z",
     "iopub.status.busy": "2020-09-04T15:30:45.657488Z",
     "iopub.status.idle": "2020-09-04T15:30:45.772242Z",
     "shell.execute_reply": "2020-09-04T15:30:45.771466Z"
    },
    "papermill": {
     "duration": 0.190754,
     "end_time": "2020-09-04T15:30:45.772376",
     "exception": false,
     "start_time": "2020-09-04T15:30:45.581622",
     "status": "completed"
    },
    "tags": []
   },
   "outputs": [],
   "source": [
    "preds = model.predict(test_data.userid.values,\n",
    "                      test_data.itemid.values)"
   ]
  },
  {
   "cell_type": "markdown",
   "execution_count": null,
   "metadata": {
    "papermill": {
     "duration": 0.071242,
     "end_time": "2020-09-04T15:30:45.916177",
     "exception": false,
     "start_time": "2020-09-04T15:30:45.844935",
     "status": "completed"
    },
    "tags": []
   },
   "source": [
    "Посчитаем метрику roc_auc_score"
   ]
  },
  {
   "cell_type": "code",
   "execution_count": 124,
   "metadata": {
    "execution": {
     "iopub.execute_input": "2020-09-04T15:30:46.113879Z",
     "iopub.status.busy": "2020-09-04T15:30:46.113124Z",
     "iopub.status.idle": "2020-09-04T15:30:46.203122Z",
     "shell.execute_reply": "2020-09-04T15:30:46.202302Z"
    },
    "papermill": {
     "duration": 0.214894,
     "end_time": "2020-09-04T15:30:46.203251",
     "exception": false,
     "start_time": "2020-09-04T15:30:45.988357",
     "status": "completed"
    },
    "tags": []
   },
   "outputs": [
    {
     "data": {
      "text/plain": [
       "0.7286966720316315"
      ]
     },
     "execution_count": 124,
     "metadata": {},
     "output_type": "execute_result"
    }
   ],
   "source": [
    "sklearn.metrics.roc_auc_score(test_data.rating,preds)\n"
   ]
  },
  {
   "cell_type": "markdown",
   "execution_count": null,
   "metadata": {
    "papermill": {
     "duration": 0.072512,
     "end_time": "2020-09-04T15:30:46.348279",
     "exception": false,
     "start_time": "2020-09-04T15:30:46.275767",
     "status": "completed"
    },
    "tags": []
   },
   "source": [
    "В качестве эксперимента создадим ещё одну модель, которую обучим на всем тренировочном датасете"
   ]
  },
  {
   "cell_type": "code",
   "execution_count": 125,
   "metadata": {
    "execution": {
     "iopub.execute_input": "2020-09-04T15:30:46.502676Z",
     "iopub.status.busy": "2020-09-04T15:30:46.501838Z",
     "iopub.status.idle": "2020-09-04T15:31:45.503609Z",
     "shell.execute_reply": "2020-09-04T15:31:45.505951Z"
    },
    "papermill": {
     "duration": 59.085542,
     "end_time": "2020-09-04T15:31:45.506216",
     "exception": false,
     "start_time": "2020-09-04T15:30:46.420674",
     "status": "completed"
    },
    "tags": []
   },
   "outputs": [],
   "source": [
    "# Создадим разреженную матрицу\n",
    "ratings_coo2 = sparse.coo_matrix((train['rating'].astype(int),\n",
    "                                 (train['userid'],\n",
    "                                  train['itemid'],)))\n",
    "\n",
    "# Обучим модель\n",
    "model2 = LightFM(\n",
    "    learning_rate=LR,\n",
    "    loss=LOSS_FUNCTION,\n",
    "    no_components=NUM_COMPONENTS,\n",
    "    learning_schedule = LEARNING_SCHEDULE,\n",
    "    random_state = RANDOM_STATE\n",
    ")\n",
    "model2 = model.fit(\n",
    "    ratings_coo2,\n",
    "    epochs=NUM_EPOCHS,\n",
    "    num_threads=NUM_THREADS\n",
    ")"
   ]
  },
  {
   "cell_type": "markdown",
   "execution_count": null,
   "metadata": {
    "papermill": {
     "duration": 0.070682,
     "end_time": "2020-09-04T15:31:45.695848",
     "exception": false,
     "start_time": "2020-09-04T15:31:45.625166",
     "status": "completed"
    },
    "tags": []
   },
   "source": [
    "# Предсказание на тестовом датасете"
   ]
  },
  {
   "cell_type": "markdown",
   "execution_count": null,
   "metadata": {
    "papermill": {
     "duration": 0.072227,
     "end_time": "2020-09-04T15:31:45.839416",
     "exception": false,
     "start_time": "2020-09-04T15:31:45.767189",
     "status": "completed"
    },
    "tags": []
   },
   "source": [
    "Получим предсказания на тестовом датасете"
   ]
  },
  {
   "cell_type": "code",
   "execution_count": 126,
   "metadata": {
    "execution": {
     "iopub.execute_input": "2020-09-04T15:31:45.989721Z",
     "iopub.status.busy": "2020-09-04T15:31:45.988874Z",
     "iopub.status.idle": "2020-09-04T15:31:46.310244Z",
     "shell.execute_reply": "2020-09-04T15:31:46.309321Z"
    },
    "papermill": {
     "duration": 0.398502,
     "end_time": "2020-09-04T15:31:46.310381",
     "exception": false,
     "start_time": "2020-09-04T15:31:45.911879",
     "status": "completed"
    },
    "tags": []
   },
   "outputs": [],
   "source": [
    "preds = model.predict(test.userid.values,\n",
    "                      test.itemid.values)\n",
    "preds2 = model2.predict(test.userid.values,\n",
    "                      test.itemid.values)"
   ]
  },
  {
   "cell_type": "markdown",
   "execution_count": null,
   "metadata": {
    "papermill": {
     "duration": 0.07054,
     "end_time": "2020-09-04T15:31:46.452471",
     "exception": false,
     "start_time": "2020-09-04T15:31:46.381931",
     "status": "completed"
    },
    "tags": []
   },
   "source": [
    "Нормализуем предсказания"
   ]
  },
  {
   "cell_type": "code",
   "execution_count": 127,
   "metadata": {
    "execution": {
     "iopub.execute_input": "2020-09-04T15:31:46.604190Z",
     "iopub.status.busy": "2020-09-04T15:31:46.602566Z",
     "iopub.status.idle": "2020-09-04T15:31:46.609310Z",
     "shell.execute_reply": "2020-09-04T15:31:46.610074Z"
    },
    "papermill": {
     "duration": 0.086267,
     "end_time": "2020-09-04T15:31:46.610248",
     "exception": false,
     "start_time": "2020-09-04T15:31:46.523981",
     "status": "completed"
    },
    "tags": []
   },
   "outputs": [],
   "source": [
    "normalized_preds = (preds - preds.min())/(preds - preds.min()).max()\n",
    "normalized_preds2 = (preds2 - preds2.min())/(preds2 - preds2.min()).max()"
   ]
  },
  {
   "cell_type": "markdown",
   "execution_count": null,
   "metadata": {
    "papermill": {
     "duration": 0.071519,
     "end_time": "2020-09-04T15:31:46.755069",
     "exception": false,
     "start_time": "2020-09-04T15:31:46.683550",
     "status": "completed"
    },
    "tags": []
   },
   "source": [
    "\n",
    "# Submission"
   ]
  },
  {
   "cell_type": "code",
   "execution_count": 128,
   "metadata": {
    "execution": {
     "iopub.execute_input": "2020-09-04T15:31:46.905229Z",
     "iopub.status.busy": "2020-09-04T15:31:46.904417Z",
     "iopub.status.idle": "2020-09-04T15:31:48.285728Z",
     "shell.execute_reply": "2020-09-04T15:31:48.285010Z"
    },
    "papermill": {
     "duration": 1.45885,
     "end_time": "2020-09-04T15:31:48.285862",
     "exception": false,
     "start_time": "2020-09-04T15:31:46.827012",
     "status": "completed"
    },
    "tags": []
   },
   "outputs": [],
   "source": [
    "submission['rating']= normalized_preds\n",
    "submission.to_csv('submission_split_log.csv', index=False)"
   ]
  },
  {
   "cell_type": "code",
   "execution_count": 129,
   "metadata": {
    "execution": {
     "iopub.execute_input": "2020-09-04T15:31:48.440778Z",
     "iopub.status.busy": "2020-09-04T15:31:48.439913Z",
     "iopub.status.idle": "2020-09-04T15:31:49.689334Z",
     "shell.execute_reply": "2020-09-04T15:31:49.688506Z"
    },
    "papermill": {
     "duration": 1.326663,
     "end_time": "2020-09-04T15:31:49.689466",
     "exception": false,
     "start_time": "2020-09-04T15:31:48.362803",
     "status": "completed"
    },
    "tags": []
   },
   "outputs": [],
   "source": [
    "submission['rating']= normalized_preds2\n",
    "submission.to_csv('submission_train_log.csv', index=False)"
   ]
  }
 ],
 "metadata": {
  "kernelspec": {
   "display_name": "Python 3",
   "language": "python",
   "name": "python3"
  },
  "language_info": {
   "codemirror_mode": {
    "name": "ipython",
    "version": 3
   },
   "file_extension": ".py",
   "mimetype": "text/x-python",
   "name": "python",
   "nbconvert_exporter": "python",
   "pygments_lexer": "ipython3",
   "version": "3.7.6"
  },
  "papermill": {
   "duration": 309.486243,
   "end_time": "2020-09-04T15:31:50.818876",
   "environment_variables": {},
   "exception": null,
   "input_path": "__notebook__.ipynb",
   "output_path": "__notebook__.ipynb",
   "parameters": {},
   "start_time": "2020-09-04T15:26:41.332633",
   "version": "2.1.0"
  }
 },
 "nbformat": 4,
 "nbformat_minor": 4
}
